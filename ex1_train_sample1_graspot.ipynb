{
 "cells": [
  {
   "cell_type": "code",
   "execution_count": 1,
   "id": "b1cdf688",
   "metadata": {},
   "outputs": [],
   "source": [
    "import warnings\n",
    "warnings.filterwarnings(\"ignore\")"
   ]
  },
  {
   "cell_type": "code",
   "execution_count": 2,
   "id": "2031c03c",
   "metadata": {},
   "outputs": [],
   "source": [
    "import anndata as ad\n",
    "import scanpy as sc\n",
    "import pandas as pd\n",
    "import numpy as np\n",
    "import scipy.sparse as sp\n",
    "import scipy.linalg\n",
    "import os\n",
    "\n",
    "import torch\n",
    "used_device = torch.device('cuda:0' if torch.cuda.is_available() else 'cpu')"
   ]
  },
  {
   "cell_type": "code",
   "execution_count": 3,
   "id": "2ef415e2",
   "metadata": {},
   "outputs": [],
   "source": [
    "from Graspot.ST_utils import Cal_Spatial_Net, mapping_accuracy_ot, mapping_accuracy_in, batch_entropy_mixing_score, silhouette, avg_silhouette_width_batch\n",
    "from Graspot.OT_utils import distance_matrix, unbalanced_ot\n",
    "from Graspot.train import norm_and_center_coordinates, train_Graspot, train_Graspot_Sub"
   ]
  },
  {
   "cell_type": "code",
   "execution_count": 4,
   "id": "5cace543",
   "metadata": {},
   "outputs": [
    {
     "name": "stdout",
     "output_type": "stream",
     "text": [
      "['151507', '151508']\n",
      "151507\n",
      "------Calculating spatial graph...\n",
      "The graph contains 24770 edges, 4226 cells.\n",
      "5.8613 neighbors per cell on average.\n",
      "151508\n",
      "------Calculating spatial graph...\n",
      "The graph contains 25698 edges, 4384 cells.\n",
      "5.8618 neighbors per cell on average.\n"
     ]
    }
   ],
   "source": [
    "import scipy.sparse as sp\n",
    "Batch_list = []\n",
    "adj_list = []\n",
    "section_ids = ['151507','151508']\n",
    "#section_ids = ['151673','151674']\n",
    "print(section_ids)\n",
    "\n",
    "for section_id in section_ids:\n",
    "    print(section_id)\n",
    "    input_dir = os.path.join('data/', section_id)\n",
    "    adata = sc.read_visium(path=input_dir, count_file=section_id + '_filtered_feature_bc_matrix.h5', load_images=True)\n",
    "    adata.var_names_make_unique(join=\"++\")\n",
    "\n",
    "    # read the annotation\n",
    "    Ann_df = pd.read_csv(os.path.join(input_dir, section_id + '_truth.txt'), sep='\\t', header=None, index_col=0)\n",
    "    Ann_df.columns = ['Ground Truth']\n",
    "    Ann_df[Ann_df.isna()] = \"unknown\"\n",
    "    adata.obs['Ground Truth'] = Ann_df.loc[adata.obs_names, 'Ground Truth'].astype('category')\n",
    "\n",
    "    # make spot name unique\n",
    "    adata.obs_names = [x+'_'+section_id for x in adata.obs_names]\n",
    "\n",
    "    # Constructing the spatial network\n",
    "    Cal_Spatial_Net(adata, rad_cutoff=150) # the spatial network are saved in adata.uns[‘adj’]\n",
    "    # STAligner.Stats_Spatial_Net(adata) # plot the number of spatial neighbors\n",
    "\n",
    "    # Normalization\n",
    "    sc.pp.highly_variable_genes(adata, flavor=\"seurat_v3\", n_top_genes=5000)\n",
    "    sc.pp.normalize_total(adata, target_sum=1e4)\n",
    "    sc.pp.log1p(adata)\n",
    "    adata = adata[:, adata.var['highly_variable']]\n",
    "\n",
    "    adj_list.append(adata.uns['adj'])\n",
    "    Batch_list.append(adata)"
   ]
  },
  {
   "cell_type": "code",
   "execution_count": 5,
   "id": "32cb2817",
   "metadata": {},
   "outputs": [],
   "source": [
    "import anndata as ad\n",
    "adata_concat = ad.concat(Batch_list, label=\"slice_name\", keys=section_ids)\n",
    "adata_concat.obs['Ground Truth'] = adata_concat.obs['Ground Truth'].astype('category')\n",
    "adata_concat.obs[\"batch_name\"] = adata_concat.obs[\"slice_name\"].astype('category')"
   ]
  },
  {
   "cell_type": "code",
   "execution_count": 6,
   "id": "63ecf1ec",
   "metadata": {},
   "outputs": [],
   "source": [
    "mapping_dict = {'Layer_1':1, 'Layer_2':2, 'Layer_3':3, 'Layer_4':4, 'Layer_5':5, 'Layer_6':6, 'WM':7}\n",
    "data1 = np.array(Batch_list[0].obs['Ground Truth'].map(mapping_dict))\n",
    "data2 = np.array(Batch_list[1].obs['Ground Truth'].map(mapping_dict))\n",
    "\n",
    "gamma = 0.5\n",
    "\n",
    "DM = np.ones((len(data1), len(data2)))\n",
    "for i in range(len(data1)):\n",
    "    for j in range(len(data2)):\n",
    "        if data1[i] == data2[j]:\n",
    "            DM[i][j] = gamma"
   ]
  },
  {
   "cell_type": "code",
   "execution_count": 6,
   "id": "baa7d483",
   "metadata": {},
   "outputs": [
    {
     "name": "stdout",
     "output_type": "stream",
     "text": [
      "STAligner(\n",
      "  (conv1): GATConv(2247, 512, heads=1)\n",
      "  (conv2): GATConv(512, 30, heads=1)\n",
      "  (conv3): GATConv(30, 512, heads=1)\n",
      "  (conv4): GATConv(512, 2247, heads=1)\n",
      ")\n",
      "Train with STAligner...\n"
     ]
    },
    {
     "name": "stderr",
     "output_type": "stream",
     "text": [
      "100%|█████████████████████████████████████████| 200/200 [13:25<00:00,  4.03s/it]\n"
     ]
    }
   ],
   "source": [
    "iter_comb = [(0, 1)]\n",
    "adata_concat, tran_list = train_Graspot(adata_concat, verbose=True, knn_neigh = 100, n_epochs = 200, iter_comb = iter_comb,\n",
    "                                                        Batch_list=Batch_list, initial = True, device='cpu')"
   ]
  },
  {
   "cell_type": "code",
   "execution_count": 7,
   "id": "5919c478",
   "metadata": {},
   "outputs": [
    {
     "data": {
      "text/plain": [
       "0.6904598824759769"
      ]
     },
     "execution_count": 7,
     "metadata": {},
     "output_type": "execute_result"
    }
   ],
   "source": [
    "batch_entropy_mixing_score(adata_concat.obsm['Graspot'],np.array(adata_concat.obs['batch_name']))\n",
    "#0.69"
   ]
  },
  {
   "cell_type": "code",
   "execution_count": 8,
   "id": "dc2f757e",
   "metadata": {},
   "outputs": [
    {
     "data": {
      "text/plain": [
       "0.5592027194797993"
      ]
     },
     "execution_count": 8,
     "metadata": {},
     "output_type": "execute_result"
    }
   ],
   "source": [
    "silhouette(adata_concat.obsm['Graspot'],np.array(adata_concat.obs['Ground Truth']))\n",
    "#0.56"
   ]
  },
  {
   "cell_type": "code",
   "execution_count": 9,
   "id": "99979069",
   "metadata": {},
   "outputs": [
    {
     "data": {
      "text/plain": [
       "0.8748842477798462"
      ]
     },
     "execution_count": 9,
     "metadata": {},
     "output_type": "execute_result"
    }
   ],
   "source": [
    "avg_silhouette_width_batch(adata_concat.obsm['Graspot'],np.array(adata_concat.obs['batch_name']),np.array(adata_concat.obs['Ground Truth']))\n",
    "#0.87"
   ]
  },
  {
   "cell_type": "code",
   "execution_count": 7,
   "id": "e0864ab0",
   "metadata": {},
   "outputs": [
    {
     "name": "stdout",
     "output_type": "stream",
     "text": [
      "STAligner(\n",
      "  (conv1): GATConv(2247, 512, heads=1)\n",
      "  (conv2): GATConv(512, 30, heads=1)\n",
      "  (conv3): GATConv(30, 512, heads=1)\n",
      "  (conv4): GATConv(512, 2247, heads=1)\n",
      ")\n",
      "Train with STAligner...\n"
     ]
    },
    {
     "name": "stderr",
     "output_type": "stream",
     "text": [
      "100%|█████████████████████████████████████████| 200/200 [13:42<00:00,  4.11s/it]\n"
     ]
    }
   ],
   "source": [
    "iter_comb = [(0, 1)]\n",
    "adata_concat, tran_list = train_Graspot(adata_concat, verbose=True, knn_neigh = 100, n_epochs = 200, iter_comb = iter_comb,\n",
    "                                                        Batch_list=Batch_list, initial = True, Couple=DM, device='cpu')"
   ]
  },
  {
   "cell_type": "code",
   "execution_count": 8,
   "id": "d72187b1",
   "metadata": {},
   "outputs": [
    {
     "name": "stdout",
     "output_type": "stream",
     "text": [
      "0.83078974\n"
     ]
    }
   ],
   "source": [
    "accuracy_ot=[]\n",
    "for iters,comb in enumerate(iter_comb):\n",
    "    i,j=comb[0],comb[1]\n",
    "    accuracy_ot.append(mapping_accuracy_ot(Batch_list[i].obs['Ground Truth'], Batch_list[j].obs['Ground Truth'], tran_list[iters].cpu().detach().numpy()))\n",
    "    print(mapping_accuracy_ot(Batch_list[i].obs['Ground Truth'], Batch_list[j].obs['Ground Truth'], tran_list[iters].cpu().detach().numpy()))"
   ]
  },
  {
   "cell_type": "code",
   "execution_count": 9,
   "id": "ccbe1c93",
   "metadata": {},
   "outputs": [
    {
     "name": "stdout",
     "output_type": "stream",
     "text": [
      "0.8291528632276385\n"
     ]
    }
   ],
   "source": [
    "accuracy_in=[]\n",
    "matching_plt=[]\n",
    "getMax_plt=[]\n",
    "for iters,comb in enumerate(iter_comb):\n",
    "    i,j=comb[0],comb[1]\n",
    "    result1 = pd.DataFrame(tran_list[iters].cpu().detach().numpy())\n",
    "    if tran_list[iters].shape[0] <= tran_list[iters].shape[1]:\n",
    "        matching_index = np.argmax(result1.to_numpy(),axis=1)\n",
    "        matching = np.array([np.arange(result1.shape[0]),matching_index])\n",
    "        getMax = np.zeros_like(tran_list[iters].cpu().detach().numpy())\n",
    "        #np.put_along_axis(getMax,tran_list[iters].cpu().detach().numpy().argmax(1)[:,None],1,axis=1)\n",
    "        for k in range(matching.shape[1]):\n",
    "            x = int(matching[:,k][0])\n",
    "            y = int(matching[:,k][1])\n",
    "            getMax[x][y] = 1\n",
    "        matching_plt.append(matching)\n",
    "        getMax_plt.append(getMax)\n",
    "    if tran_list[iters].shape[0] > tran_list[iters].shape[1]:\n",
    "        matching_index = np.argmax(result1.to_numpy(),axis=0)\n",
    "        matching = np.array([np.arange(result1.shape[1]),matching_index])\n",
    "        getMax = np.zeros_like(tran_list[iters].cpu().detach().numpy())\n",
    "        for k in range(matching.shape[1]):\n",
    "            x = int(matching[:,k][1])\n",
    "            y = int(matching[:,k][0])\n",
    "            getMax[x][y] = 1\n",
    "        matching_plt.append(matching)\n",
    "        getMax_plt.append(getMax)\n",
    "    \n",
    "    accuracy_in.append(mapping_accuracy_in(Batch_list[i].obs['Ground Truth'], Batch_list[j].obs['Ground Truth'], getMax))\n",
    "    print(mapping_accuracy_in(Batch_list[i].obs['Ground Truth'], Batch_list[j].obs['Ground Truth'], getMax))"
   ]
  },
  {
   "cell_type": "code",
   "execution_count": 10,
   "id": "99690601",
   "metadata": {},
   "outputs": [
    {
     "name": "stdout",
     "output_type": "stream",
     "text": [
      "0.7436846717349039\n"
     ]
    }
   ],
   "source": [
    "from sklearn.metrics.cluster import adjusted_rand_score\n",
    "#Batch_list[1].obs['Ground Truth'][matching_plt[0][1]]\n",
    "for iters,comb in enumerate(iter_comb):\n",
    "    i, j = comb[0], comb[1]\n",
    "    if tran_list[iters].shape[0] <= tran_list[iters].shape[1]:\n",
    "        print(adjusted_rand_score(Batch_list[i].obs['Ground Truth'],Batch_list[j].obs['Ground Truth'][matching_plt[iters][1]]))#第一个小第二个大\n",
    "    if tran_list[iters].shape[0] > tran_list[iters].shape[1]:\n",
    "        print(adjusted_rand_score(Batch_list[j].obs['Ground Truth'],Batch_list[i].obs['Ground Truth'][matching_plt[iters][1]]))#第一个小第二个大"
   ]
  },
  {
   "cell_type": "code",
   "execution_count": 18,
   "id": "6240d83e",
   "metadata": {},
   "outputs": [
    {
     "name": "stdout",
     "output_type": "stream",
     "text": [
      "['151508', '151509']\n",
      "151508\n",
      "------Calculating spatial graph...\n",
      "The graph contains 25698 edges, 4384 cells.\n",
      "5.8618 neighbors per cell on average.\n",
      "151509\n",
      "------Calculating spatial graph...\n",
      "The graph contains 28172 edges, 4789 cells.\n",
      "5.8826 neighbors per cell on average.\n"
     ]
    }
   ],
   "source": [
    "import scipy.sparse as sp\n",
    "Batch_list = []\n",
    "adj_list = []\n",
    "section_ids = ['151508','151509']\n",
    "#section_ids = ['151673','151674']\n",
    "print(section_ids)\n",
    "\n",
    "for section_id in section_ids:\n",
    "    print(section_id)\n",
    "    input_dir = os.path.join('data/', section_id)\n",
    "    adata = sc.read_visium(path=input_dir, count_file=section_id + '_filtered_feature_bc_matrix.h5', load_images=True)\n",
    "    adata.var_names_make_unique(join=\"++\")\n",
    "\n",
    "    # read the annotation\n",
    "    Ann_df = pd.read_csv(os.path.join(input_dir, section_id + '_truth.txt'), sep='\\t', header=None, index_col=0)\n",
    "    Ann_df.columns = ['Ground Truth']\n",
    "    Ann_df[Ann_df.isna()] = \"unknown\"\n",
    "    adata.obs['Ground Truth'] = Ann_df.loc[adata.obs_names, 'Ground Truth'].astype('category')\n",
    "\n",
    "    # make spot name unique\n",
    "    adata.obs_names = [x+'_'+section_id for x in adata.obs_names]\n",
    "\n",
    "    # Constructing the spatial network\n",
    "    Cal_Spatial_Net(adata, rad_cutoff=150) # the spatial network are saved in adata.uns[‘adj’]\n",
    "    # STAligner.Stats_Spatial_Net(adata) # plot the number of spatial neighbors\n",
    "\n",
    "    # Normalization\n",
    "    sc.pp.highly_variable_genes(adata, flavor=\"seurat_v3\", n_top_genes=5000)\n",
    "    sc.pp.normalize_total(adata, target_sum=1e4)\n",
    "    sc.pp.log1p(adata)\n",
    "    adata = adata[:, adata.var['highly_variable']]\n",
    "\n",
    "    adj_list.append(adata.uns['adj'])\n",
    "    Batch_list.append(adata)"
   ]
  },
  {
   "cell_type": "code",
   "execution_count": 19,
   "id": "50ebb25d",
   "metadata": {},
   "outputs": [],
   "source": [
    "import anndata as ad\n",
    "adata_concat = ad.concat(Batch_list, label=\"slice_name\", keys=section_ids)\n",
    "adata_concat.obs['Ground Truth'] = adata_concat.obs['Ground Truth'].astype('category')\n",
    "adata_concat.obs[\"batch_name\"] = adata_concat.obs[\"slice_name\"].astype('category')"
   ]
  },
  {
   "cell_type": "code",
   "execution_count": 20,
   "id": "eba370cc",
   "metadata": {},
   "outputs": [],
   "source": [
    "mapping_dict = {'Layer_1':1, 'Layer_2':2, 'Layer_3':3, 'Layer_4':4, 'Layer_5':5, 'Layer_6':6, 'WM':7}\n",
    "data1 = np.array(Batch_list[0].obs['Ground Truth'].map(mapping_dict))\n",
    "data2 = np.array(Batch_list[1].obs['Ground Truth'].map(mapping_dict))\n",
    "\n",
    "gamma = 0.5\n",
    "\n",
    "DM = np.ones((len(data1), len(data2)))\n",
    "for i in range(len(data1)):\n",
    "    for j in range(len(data2)):\n",
    "        if data1[i] == data2[j]:\n",
    "            DM[i][j] = gamma"
   ]
  },
  {
   "cell_type": "code",
   "execution_count": 27,
   "id": "52ccf281",
   "metadata": {},
   "outputs": [
    {
     "name": "stdout",
     "output_type": "stream",
     "text": [
      "STAligner(\n",
      "  (conv1): GATConv(2202, 512, heads=1)\n",
      "  (conv2): GATConv(512, 30, heads=1)\n",
      "  (conv3): GATConv(30, 512, heads=1)\n",
      "  (conv4): GATConv(512, 2202, heads=1)\n",
      ")\n",
      "Pretrain with STAGATE...\n"
     ]
    },
    {
     "name": "stderr",
     "output_type": "stream",
     "text": [
      "100%|█████████████████████████████████████████| 200/200 [02:28<00:00,  1.34it/s]\n"
     ]
    },
    {
     "name": "stdout",
     "output_type": "stream",
     "text": [
      "Train with STAligner...\n"
     ]
    },
    {
     "name": "stderr",
     "output_type": "stream",
     "text": [
      "100%|█████████████████████████████████████████| 200/200 [15:43<00:00,  4.72s/it]\n"
     ]
    }
   ],
   "source": [
    "iter_comb = [(0, 1)]\n",
    "adata_concat, tran_list = train_Graspot_Sub(adata_concat, verbose=True, knn_neigh = 100, n_epochs = 200, iter_comb = iter_comb,\n",
    "                                                        Batch_list=Batch_list, device='cpu')"
   ]
  },
  {
   "cell_type": "code",
   "execution_count": 28,
   "id": "c6502608",
   "metadata": {},
   "outputs": [
    {
     "data": {
      "text/plain": [
       "0.6896375522372031"
      ]
     },
     "execution_count": 28,
     "metadata": {},
     "output_type": "execute_result"
    }
   ],
   "source": [
    "batch_entropy_mixing_score(adata_concat.obsm['Graspot'],np.array(adata_concat.obs['batch_name']))\n",
    "#0.69"
   ]
  },
  {
   "cell_type": "code",
   "execution_count": 29,
   "id": "119b5048",
   "metadata": {},
   "outputs": [
    {
     "data": {
      "text/plain": [
       "0.47644619457423687"
      ]
     },
     "execution_count": 29,
     "metadata": {},
     "output_type": "execute_result"
    }
   ],
   "source": [
    "silhouette(adata_concat.obsm['Graspot'],np.array(adata_concat.obs['Ground Truth']))\n",
    "#0.48"
   ]
  },
  {
   "cell_type": "code",
   "execution_count": 30,
   "id": "3565d0d4",
   "metadata": {},
   "outputs": [
    {
     "data": {
      "text/plain": [
       "0.7775200009346008"
      ]
     },
     "execution_count": 30,
     "metadata": {},
     "output_type": "execute_result"
    }
   ],
   "source": [
    "avg_silhouette_width_batch(adata_concat.obsm['Graspot'],np.array(adata_concat.obs['batch_name']),np.array(adata_concat.obs['Ground Truth']))\n",
    "#0.77"
   ]
  },
  {
   "cell_type": "code",
   "execution_count": 21,
   "id": "e3a66216",
   "metadata": {},
   "outputs": [
    {
     "name": "stdout",
     "output_type": "stream",
     "text": [
      "STAligner(\n",
      "  (conv1): GATConv(2202, 512, heads=1)\n",
      "  (conv2): GATConv(512, 30, heads=1)\n",
      "  (conv3): GATConv(30, 512, heads=1)\n",
      "  (conv4): GATConv(512, 2202, heads=1)\n",
      ")\n",
      "Pretrain with STAGATE...\n"
     ]
    },
    {
     "name": "stderr",
     "output_type": "stream",
     "text": [
      "100%|█████████████████████████████████████████| 200/200 [02:34<00:00,  1.29it/s]\n"
     ]
    },
    {
     "name": "stdout",
     "output_type": "stream",
     "text": [
      "Train with STAligner...\n"
     ]
    },
    {
     "name": "stderr",
     "output_type": "stream",
     "text": [
      "100%|█████████████████████████████████████████| 200/200 [15:34<00:00,  4.67s/it]\n"
     ]
    }
   ],
   "source": [
    "iter_comb = [(0, 1)]\n",
    "adata_concat, tran_list = train_Graspot_Sub(adata_concat, verbose=True, knn_neigh = 100, n_epochs = 200, iter_comb = iter_comb,\n",
    "                                                        Batch_list=Batch_list, Couple=DM, device='cpu')"
   ]
  },
  {
   "cell_type": "code",
   "execution_count": 22,
   "id": "147797cd",
   "metadata": {},
   "outputs": [
    {
     "name": "stdout",
     "output_type": "stream",
     "text": [
      "0.77952147\n"
     ]
    }
   ],
   "source": [
    "#有prior\n",
    "accuracy_ot=[]\n",
    "for iters,comb in enumerate(iter_comb):\n",
    "    i,j=comb[0],comb[1]\n",
    "    accuracy_ot.append(mapping_accuracy_ot(Batch_list[i].obs['Ground Truth'], Batch_list[j].obs['Ground Truth'], tran_list[iters].cpu().detach().numpy()))\n",
    "    print(mapping_accuracy_ot(Batch_list[i].obs['Ground Truth'], Batch_list[j].obs['Ground Truth'], tran_list[iters].cpu().detach().numpy()))"
   ]
  },
  {
   "cell_type": "code",
   "execution_count": 23,
   "id": "35e771c4",
   "metadata": {},
   "outputs": [
    {
     "name": "stdout",
     "output_type": "stream",
     "text": [
      "0.771441605839416\n"
     ]
    }
   ],
   "source": [
    "#有prior\n",
    "accuracy_in=[]\n",
    "matching_plt=[]\n",
    "getMax_plt=[]\n",
    "for iters,comb in enumerate(iter_comb):\n",
    "    i,j=comb[0],comb[1]\n",
    "    result1 = pd.DataFrame(tran_list[iters].cpu().detach().numpy())\n",
    "    if tran_list[iters].shape[0] <= tran_list[iters].shape[1]:\n",
    "        matching_index = np.argmax(result1.to_numpy(),axis=1)\n",
    "        matching = np.array([np.arange(result1.shape[0]),matching_index])\n",
    "        getMax = np.zeros_like(tran_list[iters].cpu().detach().numpy())\n",
    "        #np.put_along_axis(getMax,tran_list[iters].cpu().detach().numpy().argmax(1)[:,None],1,axis=1)\n",
    "        for k in range(matching.shape[1]):\n",
    "            x = int(matching[:,k][0])\n",
    "            y = int(matching[:,k][1])\n",
    "            getMax[x][y] = 1\n",
    "        matching_plt.append(matching)\n",
    "        getMax_plt.append(getMax)\n",
    "    if tran_list[iters].shape[0] > tran_list[iters].shape[1]:\n",
    "        matching_index = np.argmax(result1.to_numpy(),axis=0)\n",
    "        matching = np.array([np.arange(result1.shape[1]),matching_index])\n",
    "        getMax = np.zeros_like(tran_list[iters].cpu().detach().numpy())\n",
    "        for k in range(matching.shape[1]):\n",
    "            x = int(matching[:,k][1])\n",
    "            y = int(matching[:,k][0])\n",
    "            getMax[x][y] = 1\n",
    "        matching_plt.append(matching)\n",
    "        getMax_plt.append(getMax)\n",
    "    \n",
    "    accuracy_in.append(mapping_accuracy_in(Batch_list[i].obs['Ground Truth'], Batch_list[j].obs['Ground Truth'], getMax))\n",
    "    print(mapping_accuracy_in(Batch_list[i].obs['Ground Truth'], Batch_list[j].obs['Ground Truth'], getMax))"
   ]
  },
  {
   "cell_type": "code",
   "execution_count": 24,
   "id": "d9db14a9",
   "metadata": {},
   "outputs": [
    {
     "name": "stdout",
     "output_type": "stream",
     "text": [
      "0.5717359473267548\n"
     ]
    }
   ],
   "source": [
    "#有prior\n",
    "from sklearn.metrics.cluster import adjusted_rand_score\n",
    "#Batch_list[1].obs['Ground Truth'][matching_plt[0][1]]\n",
    "for iters,comb in enumerate(iter_comb):\n",
    "    i, j = comb[0], comb[1]\n",
    "    if tran_list[iters].shape[0] <= tran_list[iters].shape[1]:\n",
    "        print(adjusted_rand_score(Batch_list[i].obs['Ground Truth'],Batch_list[j].obs['Ground Truth'][matching_plt[iters][1]]))#第一个小第二个大\n",
    "    if tran_list[iters].shape[0] > tran_list[iters].shape[1]:\n",
    "        print(adjusted_rand_score(Batch_list[j].obs['Ground Truth'],Batch_list[i].obs['Ground Truth'][matching_plt[iters][1]]))#第一个小第二个大"
   ]
  },
  {
   "cell_type": "code",
   "execution_count": 31,
   "id": "d84fff90",
   "metadata": {},
   "outputs": [
    {
     "name": "stdout",
     "output_type": "stream",
     "text": [
      "0.56969315\n"
     ]
    }
   ],
   "source": [
    "accuracy_ot=[]\n",
    "for iters,comb in enumerate(iter_comb):\n",
    "    i,j=comb[0],comb[1]\n",
    "    accuracy_ot.append(mapping_accuracy_ot(Batch_list[i].obs['Ground Truth'], Batch_list[j].obs['Ground Truth'], tran_list[iters].cpu().detach().numpy()))\n",
    "    print(mapping_accuracy_ot(Batch_list[i].obs['Ground Truth'], Batch_list[j].obs['Ground Truth'], tran_list[iters].cpu().detach().numpy()))"
   ]
  },
  {
   "cell_type": "code",
   "execution_count": 32,
   "id": "32ce8d59",
   "metadata": {},
   "outputs": [
    {
     "name": "stdout",
     "output_type": "stream",
     "text": [
      "0.5716240875912408\n"
     ]
    }
   ],
   "source": [
    "accuracy_in=[]\n",
    "matching_plt=[]\n",
    "getMax_plt=[]\n",
    "for iters,comb in enumerate(iter_comb):\n",
    "    i,j=comb[0],comb[1]\n",
    "    result1 = pd.DataFrame(tran_list[iters].cpu().detach().numpy())\n",
    "    if tran_list[iters].shape[0] < tran_list[iters].shape[1]:\n",
    "        matching_index = np.argmax(result1.to_numpy(),axis=1)\n",
    "        matching = np.array([np.arange(result1.shape[0]),matching_index])\n",
    "        getMax = np.zeros_like(tran_list[iters].cpu().detach().numpy())\n",
    "        #np.put_along_axis(getMax,tran_list[iters].cpu().detach().numpy().argmax(1)[:,None],1,axis=1)\n",
    "        for k in range(matching.shape[1]):\n",
    "            x = int(matching[:,k][0])\n",
    "            y = int(matching[:,k][1])\n",
    "            getMax[x][y] = 1\n",
    "        matching_plt.append(matching)\n",
    "        getMax_plt.append(getMax)\n",
    "    if tran_list[iters].shape[0] > tran_list[iters].shape[1]:\n",
    "        matching_index = np.argmax(result1.to_numpy(),axis=0)\n",
    "        matching = np.array([np.arange(result1.shape[1]),matching_index])\n",
    "        getMax = np.zeros_like(tran_list[iters].cpu().detach().numpy())\n",
    "        for k in range(matching.shape[1]):\n",
    "            x = int(matching[:,k][1])\n",
    "            y = int(matching[:,k][0])\n",
    "            getMax[x][y] = 1\n",
    "        matching_plt.append(matching)\n",
    "        getMax_plt.append(getMax)\n",
    "    \n",
    "    accuracy_in.append(mapping_accuracy_in(Batch_list[i].obs['Ground Truth'], Batch_list[j].obs['Ground Truth'], getMax))\n",
    "    print(mapping_accuracy_in(Batch_list[i].obs['Ground Truth'], Batch_list[j].obs['Ground Truth'], getMax))"
   ]
  },
  {
   "cell_type": "code",
   "execution_count": 33,
   "id": "9b56f370",
   "metadata": {},
   "outputs": [
    {
     "name": "stdout",
     "output_type": "stream",
     "text": [
      "0.356707833596431\n"
     ]
    }
   ],
   "source": [
    "from sklearn.metrics.cluster import adjusted_rand_score\n",
    "#Batch_list[1].obs['Ground Truth'][matching_plt[0][1]]\n",
    "for iters,comb in enumerate(iter_comb):\n",
    "    i, j = comb[0], comb[1]\n",
    "    if tran_list[iters].shape[0] <= tran_list[iters].shape[1]:\n",
    "        print(adjusted_rand_score(Batch_list[i].obs['Ground Truth'],Batch_list[j].obs['Ground Truth'][matching_plt[iters][1]]))#第一个小第二个大\n",
    "    if tran_list[iters].shape[0] > tran_list[iters].shape[1]:\n",
    "        print(adjusted_rand_score(Batch_list[j].obs['Ground Truth'],Batch_list[i].obs['Ground Truth'][matching_plt[iters][1]]))#第一个小第二个大"
   ]
  },
  {
   "cell_type": "code",
   "execution_count": 11,
   "id": "c7c66464",
   "metadata": {},
   "outputs": [
    {
     "name": "stdout",
     "output_type": "stream",
     "text": [
      "['151509', '151510']\n",
      "151509\n",
      "------Calculating spatial graph...\n",
      "The graph contains 28172 edges, 4789 cells.\n",
      "5.8826 neighbors per cell on average.\n",
      "151510\n",
      "------Calculating spatial graph...\n",
      "The graph contains 27198 edges, 4634 cells.\n",
      "5.8692 neighbors per cell on average.\n"
     ]
    }
   ],
   "source": [
    "import scipy.sparse as sp\n",
    "Batch_list = []\n",
    "adj_list = []\n",
    "section_ids = ['151509','151510']\n",
    "#section_ids = ['151673','151674']\n",
    "print(section_ids)\n",
    "\n",
    "for section_id in section_ids:\n",
    "    print(section_id)\n",
    "    input_dir = os.path.join('data/', section_id)\n",
    "    adata = sc.read_visium(path=input_dir, count_file=section_id + '_filtered_feature_bc_matrix.h5', load_images=True)\n",
    "    adata.var_names_make_unique(join=\"++\")\n",
    "\n",
    "    # read the annotation\n",
    "    Ann_df = pd.read_csv(os.path.join(input_dir, section_id + '_truth.txt'), sep='\\t', header=None, index_col=0)\n",
    "    Ann_df.columns = ['Ground Truth']\n",
    "    Ann_df[Ann_df.isna()] = \"unknown\"\n",
    "    adata.obs['Ground Truth'] = Ann_df.loc[adata.obs_names, 'Ground Truth'].astype('category')\n",
    "\n",
    "    # make spot name unique\n",
    "    adata.obs_names = [x+'_'+section_id for x in adata.obs_names]\n",
    "\n",
    "    # Constructing the spatial network\n",
    "    Cal_Spatial_Net(adata, rad_cutoff=150) # the spatial network are saved in adata.uns[‘adj’]\n",
    "    # STAligner.Stats_Spatial_Net(adata) # plot the number of spatial neighbors\n",
    "\n",
    "    # Normalization\n",
    "    sc.pp.highly_variable_genes(adata, flavor=\"seurat_v3\", n_top_genes=5000)\n",
    "    sc.pp.normalize_total(adata, target_sum=1e4)\n",
    "    sc.pp.log1p(adata)\n",
    "    adata = adata[:, adata.var['highly_variable']]\n",
    "\n",
    "    adj_list.append(adata.uns['adj'])\n",
    "    Batch_list.append(adata)"
   ]
  },
  {
   "cell_type": "code",
   "execution_count": 12,
   "id": "15fc2f28",
   "metadata": {},
   "outputs": [],
   "source": [
    "import anndata as ad\n",
    "adata_concat = ad.concat(Batch_list, label=\"slice_name\", keys=section_ids)\n",
    "adata_concat.obs['Ground Truth'] = adata_concat.obs['Ground Truth'].astype('category')\n",
    "adata_concat.obs[\"batch_name\"] = adata_concat.obs[\"slice_name\"].astype('category')"
   ]
  },
  {
   "cell_type": "code",
   "execution_count": 13,
   "id": "d1782551",
   "metadata": {},
   "outputs": [],
   "source": [
    "mapping_dict = {'Layer_1':1, 'Layer_2':2, 'Layer_3':3, 'Layer_4':4, 'Layer_5':5, 'Layer_6':6, 'WM':7}\n",
    "data1 = np.array(Batch_list[0].obs['Ground Truth'].map(mapping_dict))\n",
    "data2 = np.array(Batch_list[1].obs['Ground Truth'].map(mapping_dict))\n",
    "\n",
    "gamma = 0.5\n",
    "\n",
    "DM = np.ones((len(data1), len(data2)))\n",
    "for i in range(len(data1)):\n",
    "    for j in range(len(data2)):\n",
    "        if data1[i] == data2[j]:\n",
    "            DM[i][j] = gamma"
   ]
  },
  {
   "cell_type": "code",
   "execution_count": 21,
   "id": "3e9c0f2d",
   "metadata": {},
   "outputs": [
    {
     "name": "stdout",
     "output_type": "stream",
     "text": [
      "STAligner(\n",
      "  (conv1): GATConv(2356, 512, heads=1)\n",
      "  (conv2): GATConv(512, 30, heads=1)\n",
      "  (conv3): GATConv(30, 512, heads=1)\n",
      "  (conv4): GATConv(512, 2356, heads=1)\n",
      ")\n",
      "Train with STAligner...\n"
     ]
    },
    {
     "name": "stderr",
     "output_type": "stream",
     "text": [
      "100%|█████████████████████████████████████████| 200/200 [16:43<00:00,  5.02s/it]\n"
     ]
    }
   ],
   "source": [
    "iter_comb = [(0, 1)]\n",
    "adata_concat, tran_list = train_Graspot(adata_concat, verbose=True, knn_neigh = 100, n_epochs = 200, iter_comb = iter_comb,\n",
    "                                                        Batch_list=Batch_list, initial = True, device='cpu')"
   ]
  },
  {
   "cell_type": "code",
   "execution_count": 22,
   "id": "00e33c5e",
   "metadata": {},
   "outputs": [
    {
     "data": {
      "text/plain": [
       "0.6905071033776377"
      ]
     },
     "execution_count": 22,
     "metadata": {},
     "output_type": "execute_result"
    }
   ],
   "source": [
    "batch_entropy_mixing_score(adata_concat.obsm['Graspot'],np.array(adata_concat.obs['batch_name']))\n",
    "#0.69"
   ]
  },
  {
   "cell_type": "code",
   "execution_count": 23,
   "id": "954d7dc3",
   "metadata": {},
   "outputs": [
    {
     "data": {
      "text/plain": [
       "0.5860288143157959"
      ]
     },
     "execution_count": 23,
     "metadata": {},
     "output_type": "execute_result"
    }
   ],
   "source": [
    "silhouette(adata_concat.obsm['Graspot'],np.array(adata_concat.obs['Ground Truth']))\n",
    "#0.59"
   ]
  },
  {
   "cell_type": "code",
   "execution_count": 24,
   "id": "8f621154",
   "metadata": {},
   "outputs": [
    {
     "data": {
      "text/plain": [
       "0.8939626812934875"
      ]
     },
     "execution_count": 24,
     "metadata": {},
     "output_type": "execute_result"
    }
   ],
   "source": [
    "avg_silhouette_width_batch(adata_concat.obsm['Graspot'],np.array(adata_concat.obs['batch_name']),np.array(adata_concat.obs['Ground Truth']))\n",
    "#0.89"
   ]
  },
  {
   "cell_type": "code",
   "execution_count": 14,
   "id": "668938e5",
   "metadata": {},
   "outputs": [
    {
     "name": "stdout",
     "output_type": "stream",
     "text": [
      "STAligner(\n",
      "  (conv1): GATConv(2356, 512, heads=1)\n",
      "  (conv2): GATConv(512, 30, heads=1)\n",
      "  (conv3): GATConv(30, 512, heads=1)\n",
      "  (conv4): GATConv(512, 2356, heads=1)\n",
      ")\n",
      "Train with STAligner...\n"
     ]
    },
    {
     "name": "stderr",
     "output_type": "stream",
     "text": [
      "100%|█████████████████████████████████████████| 200/200 [16:34<00:00,  4.97s/it]\n"
     ]
    }
   ],
   "source": [
    "iter_comb = [(0, 1)]\n",
    "adata_concat, tran_list = train_Graspot(adata_concat, verbose=True, knn_neigh = 100, n_epochs = 200, iter_comb = iter_comb,\n",
    "                                                        Batch_list=Batch_list, initial = True, Couple=DM, device='cpu')"
   ]
  },
  {
   "cell_type": "code",
   "execution_count": 15,
   "id": "64d18ccc",
   "metadata": {},
   "outputs": [
    {
     "name": "stdout",
     "output_type": "stream",
     "text": [
      "0.85524666\n"
     ]
    }
   ],
   "source": [
    "accuracy_ot=[]\n",
    "for iters,comb in enumerate(iter_comb):\n",
    "    i,j=comb[0],comb[1]\n",
    "    accuracy_ot.append(mapping_accuracy_ot(Batch_list[i].obs['Ground Truth'], Batch_list[j].obs['Ground Truth'], tran_list[iters].cpu().detach().numpy()))\n",
    "    print(mapping_accuracy_ot(Batch_list[i].obs['Ground Truth'], Batch_list[j].obs['Ground Truth'], tran_list[iters].cpu().detach().numpy()))"
   ]
  },
  {
   "cell_type": "code",
   "execution_count": 16,
   "id": "0ceae1ae",
   "metadata": {},
   "outputs": [
    {
     "name": "stdout",
     "output_type": "stream",
     "text": [
      "0.853258523953388\n"
     ]
    }
   ],
   "source": [
    "accuracy_in=[]\n",
    "matching_plt=[]\n",
    "getMax_plt=[]\n",
    "for iters,comb in enumerate(iter_comb):\n",
    "    i,j=comb[0],comb[1]\n",
    "    result1 = pd.DataFrame(tran_list[iters].cpu().detach().numpy())\n",
    "    if tran_list[iters].shape[0] <= tran_list[iters].shape[1]:\n",
    "        matching_index = np.argmax(result1.to_numpy(),axis=1)\n",
    "        matching = np.array([np.arange(result1.shape[0]),matching_index])\n",
    "        getMax = np.zeros_like(tran_list[iters].cpu().detach().numpy())\n",
    "        #np.put_along_axis(getMax,tran_list[iters].cpu().detach().numpy().argmax(1)[:,None],1,axis=1)\n",
    "        for k in range(matching.shape[1]):\n",
    "            x = int(matching[:,k][0])\n",
    "            y = int(matching[:,k][1])\n",
    "            getMax[x][y] = 1\n",
    "        matching_plt.append(matching)\n",
    "        getMax_plt.append(getMax)\n",
    "    if tran_list[iters].shape[0] > tran_list[iters].shape[1]:\n",
    "        matching_index = np.argmax(result1.to_numpy(),axis=0)\n",
    "        matching = np.array([np.arange(result1.shape[1]),matching_index])\n",
    "        getMax = np.zeros_like(tran_list[iters].cpu().detach().numpy())\n",
    "        for k in range(matching.shape[1]):\n",
    "            x = int(matching[:,k][1])\n",
    "            y = int(matching[:,k][0])\n",
    "            getMax[x][y] = 1\n",
    "        matching_plt.append(matching)\n",
    "        getMax_plt.append(getMax)\n",
    "    \n",
    "    accuracy_in.append(mapping_accuracy_in(Batch_list[i].obs['Ground Truth'], Batch_list[j].obs['Ground Truth'], getMax))\n",
    "    print(mapping_accuracy_in(Batch_list[i].obs['Ground Truth'], Batch_list[j].obs['Ground Truth'], getMax))"
   ]
  },
  {
   "cell_type": "code",
   "execution_count": 17,
   "id": "60c001f5",
   "metadata": {},
   "outputs": [
    {
     "name": "stdout",
     "output_type": "stream",
     "text": [
      "0.7186730118454987\n"
     ]
    }
   ],
   "source": [
    "from sklearn.metrics.cluster import adjusted_rand_score\n",
    "#Batch_list[1].obs['Ground Truth'][matching_plt[0][1]]\n",
    "for iters,comb in enumerate(iter_comb):\n",
    "    i, j = comb[0], comb[1]\n",
    "    if tran_list[iters].shape[0] <= tran_list[iters].shape[1]:\n",
    "        print(adjusted_rand_score(Batch_list[i].obs['Ground Truth'],Batch_list[j].obs['Ground Truth'][matching_plt[iters][1]]))#第一个小第二个大\n",
    "    if tran_list[iters].shape[0] > tran_list[iters].shape[1]:\n",
    "        print(adjusted_rand_score(Batch_list[j].obs['Ground Truth'],Batch_list[i].obs['Ground Truth'][matching_plt[iters][1]]))#第一个小第二个大"
   ]
  },
  {
   "cell_type": "code",
   "execution_count": 4,
   "id": "712e528e",
   "metadata": {},
   "outputs": [
    {
     "name": "stdout",
     "output_type": "stream",
     "text": [
      "['151507', '151508', '151509', '151510']\n",
      "151507\n",
      "------Calculating spatial graph...\n",
      "The graph contains 24770 edges, 4226 cells.\n",
      "5.8613 neighbors per cell on average.\n",
      "151508\n",
      "------Calculating spatial graph...\n",
      "The graph contains 25698 edges, 4384 cells.\n",
      "5.8618 neighbors per cell on average.\n",
      "151509\n",
      "------Calculating spatial graph...\n",
      "The graph contains 28172 edges, 4789 cells.\n",
      "5.8826 neighbors per cell on average.\n",
      "151510\n",
      "------Calculating spatial graph...\n",
      "The graph contains 27198 edges, 4634 cells.\n",
      "5.8692 neighbors per cell on average.\n"
     ]
    }
   ],
   "source": [
    "import scipy.sparse as sp\n",
    "Batch_list = []\n",
    "adj_list = []\n",
    "section_ids = ['151507','151508','151509','151510']\n",
    "#section_ids = ['151673','151674']\n",
    "print(section_ids)\n",
    "\n",
    "for section_id in section_ids:\n",
    "    print(section_id)\n",
    "    input_dir = os.path.join('data/', section_id)\n",
    "    adata = sc.read_visium(path=input_dir, count_file=section_id + '_filtered_feature_bc_matrix.h5', load_images=True)\n",
    "    adata.var_names_make_unique(join=\"++\")\n",
    "\n",
    "    # read the annotation\n",
    "    Ann_df = pd.read_csv(os.path.join(input_dir, section_id + '_truth.txt'), sep='\\t', header=None, index_col=0)\n",
    "    Ann_df.columns = ['Ground Truth']\n",
    "    Ann_df[Ann_df.isna()] = \"unknown\"\n",
    "    adata.obs['Ground Truth'] = Ann_df.loc[adata.obs_names, 'Ground Truth'].astype('category')\n",
    "\n",
    "    # make spot name unique\n",
    "    adata.obs_names = [x+'_'+section_id for x in adata.obs_names]\n",
    "\n",
    "    # Constructing the spatial network\n",
    "    Cal_Spatial_Net(adata, rad_cutoff=150) # the spatial network are saved in adata.uns[‘adj’]\n",
    "    # STAligner.Stats_Spatial_Net(adata) # plot the number of spatial neighbors\n",
    "\n",
    "    # Normalization\n",
    "    sc.pp.highly_variable_genes(adata, flavor=\"seurat_v3\", n_top_genes=5000)\n",
    "    sc.pp.normalize_total(adata, target_sum=1e4)\n",
    "    sc.pp.log1p(adata)\n",
    "    adata = adata[:, adata.var['highly_variable']]\n",
    "\n",
    "    adj_list.append(adata.uns['adj'])\n",
    "    Batch_list.append(adata)"
   ]
  },
  {
   "cell_type": "code",
   "execution_count": 6,
   "id": "5c9c5220",
   "metadata": {},
   "outputs": [],
   "source": [
    "import anndata as ad\n",
    "adata_concat = ad.concat(Batch_list, label=\"slice_name\", keys=section_ids)\n",
    "adata_concat.obs['Ground Truth'] = adata_concat.obs['Ground Truth'].astype('category')\n",
    "adata_concat.obs[\"batch_name\"] = adata_concat.obs[\"slice_name\"].astype('category')"
   ]
  },
  {
   "cell_type": "code",
   "execution_count": 7,
   "id": "d46ad33a",
   "metadata": {},
   "outputs": [
    {
     "name": "stdout",
     "output_type": "stream",
     "text": [
      "STAligner(\n",
      "  (conv1): GATConv(1064, 512, heads=1)\n",
      "  (conv2): GATConv(512, 30, heads=1)\n",
      "  (conv3): GATConv(30, 512, heads=1)\n",
      "  (conv4): GATConv(512, 1064, heads=1)\n",
      ")\n",
      "Train with STAligner...\n"
     ]
    },
    {
     "name": "stderr",
     "output_type": "stream",
     "text": [
      "100%|████████████████████████████████████| 200/200 [12:24<00:00,  3.72s/it]\n",
      "100%|████████████████████████████████████| 200/200 [14:48<00:00,  4.44s/it]\n"
     ]
    }
   ],
   "source": [
    "iter_comb = [(0, 1), (2, 3)]\n",
    "adata_concat, tran_list = train_Graspot(adata_concat, verbose=True, knn_neigh = 100, n_epochs = 200, iter_comb = iter_comb,\n",
    "                                                        Batch_list=Batch_list, initial = True, device='cpu')\n",
    "#adata_concat, tran_list = train_Graspot_Sub(adata_concat, verbose=True, knn_neigh = 100, n_epochs = 200, iter_comb = iter_comb,\n",
    "                                                        #Batch_list=Batch_list,  initial = True, device=used_device)"
   ]
  },
  {
   "cell_type": "code",
   "execution_count": 8,
   "id": "73052e7a",
   "metadata": {},
   "outputs": [
    {
     "name": "stdout",
     "output_type": "stream",
     "text": [
      "0.8005708\n",
      "0.84505504\n"
     ]
    }
   ],
   "source": [
    "accuracy_ot=[]\n",
    "for iters,comb in enumerate(iter_comb):\n",
    "    i,j=comb[0],comb[1]\n",
    "    accuracy_ot.append(mapping_accuracy_ot(Batch_list[i].obs['Ground Truth'], Batch_list[j].obs['Ground Truth'], tran_list[iters].cpu().detach().numpy()))\n",
    "    print(mapping_accuracy_ot(Batch_list[i].obs['Ground Truth'], Batch_list[j].obs['Ground Truth'], tran_list[iters].cpu().detach().numpy()))"
   ]
  },
  {
   "cell_type": "code",
   "execution_count": 9,
   "id": "f46778ed",
   "metadata": {},
   "outputs": [
    {
     "name": "stdout",
     "output_type": "stream",
     "text": [
      "0.8024136299100805\n",
      "0.8452740612861459\n"
     ]
    }
   ],
   "source": [
    "accuracy_in=[]\n",
    "matching_plt=[]\n",
    "getMax_plt=[]\n",
    "for iters,comb in enumerate(iter_comb):\n",
    "    i,j=comb[0],comb[1]\n",
    "    result1 = pd.DataFrame(tran_list[iters].cpu().detach().numpy())\n",
    "    if tran_list[iters].shape[0] < tran_list[iters].shape[1]:\n",
    "        matching_index = np.argmax(result1.to_numpy(),axis=1)\n",
    "        matching = np.array([np.arange(result1.shape[0]),matching_index])\n",
    "        getMax = np.zeros_like(tran_list[iters].cpu().detach().numpy())\n",
    "        #np.put_along_axis(getMax,tran_list[iters].cpu().detach().numpy().argmax(1)[:,None],1,axis=1)\n",
    "        for k in range(matching.shape[1]):\n",
    "            x = int(matching[:,k][0])\n",
    "            y = int(matching[:,k][1])\n",
    "            getMax[x][y] = 1\n",
    "        matching_plt.append(matching)\n",
    "        getMax_plt.append(getMax)\n",
    "    if tran_list[iters].shape[0] > tran_list[iters].shape[1]:\n",
    "        matching_index = np.argmax(result1.to_numpy(),axis=0)\n",
    "        matching = np.array([np.arange(result1.shape[1]),matching_index])\n",
    "        getMax = np.zeros_like(tran_list[iters].cpu().detach().numpy())\n",
    "        for k in range(matching.shape[1]):\n",
    "            x = int(matching[:,k][1])\n",
    "            y = int(matching[:,k][0])\n",
    "            getMax[x][y] = 1\n",
    "        matching_plt.append(matching)\n",
    "        getMax_plt.append(getMax)\n",
    "    \n",
    "    accuracy_in.append(mapping_accuracy_in(Batch_list[i].obs['Ground Truth'], Batch_list[j].obs['Ground Truth'], getMax))\n",
    "    print(mapping_accuracy_in(Batch_list[i].obs['Ground Truth'], Batch_list[j].obs['Ground Truth'], getMax))"
   ]
  },
  {
   "cell_type": "code",
   "execution_count": 10,
   "id": "596ef002",
   "metadata": {},
   "outputs": [
    {
     "name": "stdout",
     "output_type": "stream",
     "text": [
      "0.7057775055437974\n",
      "0.7093921476892171\n"
     ]
    }
   ],
   "source": [
    "from sklearn.metrics.cluster import adjusted_rand_score\n",
    "#Batch_list[1].obs['Ground Truth'][matching_plt[0][1]]\n",
    "for iters,comb in enumerate(iter_comb):\n",
    "    i, j = comb[0], comb[1]\n",
    "    if tran_list[iters].shape[0] < tran_list[iters].shape[1]:\n",
    "        print(adjusted_rand_score(Batch_list[i].obs['Ground Truth'],Batch_list[j].obs['Ground Truth'][matching_plt[iters][1]]))#第一个小第二个大\n",
    "    if tran_list[iters].shape[0] > tran_list[iters].shape[1]:\n",
    "        print(adjusted_rand_score(Batch_list[j].obs['Ground Truth'],Batch_list[i].obs['Ground Truth'][matching_plt[iters][1]]))#第一个小第二个大"
   ]
  },
  {
   "cell_type": "code",
   "execution_count": 11,
   "id": "8a3bc14a",
   "metadata": {},
   "outputs": [
    {
     "name": "stdout",
     "output_type": "stream",
     "text": [
      "['151508', '151509']\n",
      "151508\n",
      "------Calculating spatial graph...\n",
      "The graph contains 25698 edges, 4384 cells.\n",
      "5.8618 neighbors per cell on average.\n",
      "151509\n",
      "------Calculating spatial graph...\n",
      "The graph contains 28172 edges, 4789 cells.\n",
      "5.8826 neighbors per cell on average.\n"
     ]
    }
   ],
   "source": [
    "import scipy.sparse as sp\n",
    "Batch_list = []\n",
    "adj_list = []\n",
    "section_ids = ['151508','151509']\n",
    "#section_ids = ['151673','151674']\n",
    "print(section_ids)\n",
    "\n",
    "for section_id in section_ids:\n",
    "    print(section_id)\n",
    "    input_dir = os.path.join('data/', section_id)\n",
    "    adata = sc.read_visium(path=input_dir, count_file=section_id + '_filtered_feature_bc_matrix.h5', load_images=True)\n",
    "    adata.var_names_make_unique(join=\"++\")\n",
    "\n",
    "    # read the annotation\n",
    "    Ann_df = pd.read_csv(os.path.join(input_dir, section_id + '_truth.txt'), sep='\\t', header=None, index_col=0)\n",
    "    Ann_df.columns = ['Ground Truth']\n",
    "    Ann_df[Ann_df.isna()] = \"unknown\"\n",
    "    adata.obs['Ground Truth'] = Ann_df.loc[adata.obs_names, 'Ground Truth'].astype('category')\n",
    "\n",
    "    # make spot name unique\n",
    "    adata.obs_names = [x+'_'+section_id for x in adata.obs_names]\n",
    "\n",
    "    # Constructing the spatial network\n",
    "    Cal_Spatial_Net(adata, rad_cutoff=150) # the spatial network are saved in adata.uns[‘adj’]\n",
    "    # STAligner.Stats_Spatial_Net(adata) # plot the number of spatial neighbors\n",
    "\n",
    "    # Normalization\n",
    "    sc.pp.highly_variable_genes(adata, flavor=\"seurat_v3\", n_top_genes=5000)\n",
    "    sc.pp.normalize_total(adata, target_sum=1e4)\n",
    "    sc.pp.log1p(adata)\n",
    "    adata = adata[:, adata.var['highly_variable']]\n",
    "\n",
    "    adj_list.append(adata.uns['adj'])\n",
    "    Batch_list.append(adata)"
   ]
  },
  {
   "cell_type": "code",
   "execution_count": 12,
   "id": "4e162e60",
   "metadata": {},
   "outputs": [],
   "source": [
    "import anndata as ad\n",
    "adata_concat = ad.concat(Batch_list, label=\"slice_name\", keys=section_ids)\n",
    "adata_concat.obs['Ground Truth'] = adata_concat.obs['Ground Truth'].astype('category')\n",
    "adata_concat.obs[\"batch_name\"] = adata_concat.obs[\"slice_name\"].astype('category')"
   ]
  },
  {
   "cell_type": "code",
   "execution_count": 13,
   "id": "86247811",
   "metadata": {},
   "outputs": [
    {
     "name": "stdout",
     "output_type": "stream",
     "text": [
      "STAligner(\n",
      "  (conv1): GATConv(2202, 512, heads=1)\n",
      "  (conv2): GATConv(512, 30, heads=1)\n",
      "  (conv3): GATConv(30, 512, heads=1)\n",
      "  (conv4): GATConv(512, 2202, heads=1)\n",
      ")\n",
      "Pretrain with STAGATE...\n"
     ]
    },
    {
     "name": "stderr",
     "output_type": "stream",
     "text": [
      "100%|████████████████████████████████████| 200/200 [02:31<00:00,  1.32it/s]\n"
     ]
    },
    {
     "name": "stdout",
     "output_type": "stream",
     "text": [
      "Train with STAligner...\n"
     ]
    },
    {
     "name": "stderr",
     "output_type": "stream",
     "text": [
      "100%|████████████████████████████████████| 200/200 [14:19<00:00,  4.30s/it]\n"
     ]
    }
   ],
   "source": [
    "iter_comb = [(0, 1)]\n",
    "adata_concat, tran_list = train_Graspot_Sub(adata_concat, verbose=True, knn_neigh = 100, n_epochs = 200, iter_comb = iter_comb,\n",
    "                                                        Batch_list=Batch_list, device='cpu')"
   ]
  },
  {
   "cell_type": "code",
   "execution_count": 14,
   "id": "e83803dc",
   "metadata": {},
   "outputs": [
    {
     "name": "stdout",
     "output_type": "stream",
     "text": [
      "0.56969315\n"
     ]
    }
   ],
   "source": [
    "accuracy_ot=[]\n",
    "for iters,comb in enumerate(iter_comb):\n",
    "    i,j=comb[0],comb[1]\n",
    "    accuracy_ot.append(mapping_accuracy_ot(Batch_list[i].obs['Ground Truth'], Batch_list[j].obs['Ground Truth'], tran_list[iters].cpu().detach().numpy()))\n",
    "    print(mapping_accuracy_ot(Batch_list[i].obs['Ground Truth'], Batch_list[j].obs['Ground Truth'], tran_list[iters].cpu().detach().numpy()))"
   ]
  },
  {
   "cell_type": "code",
   "execution_count": 15,
   "id": "9a5eb07e",
   "metadata": {},
   "outputs": [
    {
     "name": "stdout",
     "output_type": "stream",
     "text": [
      "0.5716240875912408\n"
     ]
    }
   ],
   "source": [
    "accuracy_in=[]\n",
    "matching_plt=[]\n",
    "getMax_plt=[]\n",
    "for iters,comb in enumerate(iter_comb):\n",
    "    i,j=comb[0],comb[1]\n",
    "    result1 = pd.DataFrame(tran_list[iters].cpu().detach().numpy())\n",
    "    if tran_list[iters].shape[0] < tran_list[iters].shape[1]:\n",
    "        matching_index = np.argmax(result1.to_numpy(),axis=1)\n",
    "        matching = np.array([np.arange(result1.shape[0]),matching_index])\n",
    "        getMax = np.zeros_like(tran_list[iters].cpu().detach().numpy())\n",
    "        #np.put_along_axis(getMax,tran_list[iters].cpu().detach().numpy().argmax(1)[:,None],1,axis=1)\n",
    "        for k in range(matching.shape[1]):\n",
    "            x = int(matching[:,k][0])\n",
    "            y = int(matching[:,k][1])\n",
    "            getMax[x][y] = 1\n",
    "        matching_plt.append(matching)\n",
    "        getMax_plt.append(getMax)\n",
    "    if tran_list[iters].shape[0] > tran_list[iters].shape[1]:\n",
    "        matching_index = np.argmax(result1.to_numpy(),axis=0)\n",
    "        matching = np.array([np.arange(result1.shape[1]),matching_index])\n",
    "        getMax = np.zeros_like(tran_list[iters].cpu().detach().numpy())\n",
    "        for k in range(matching.shape[1]):\n",
    "            x = int(matching[:,k][1])\n",
    "            y = int(matching[:,k][0])\n",
    "            getMax[x][y] = 1\n",
    "        matching_plt.append(matching)\n",
    "        getMax_plt.append(getMax)\n",
    "    \n",
    "    accuracy_in.append(mapping_accuracy_in(Batch_list[i].obs['Ground Truth'], Batch_list[j].obs['Ground Truth'], getMax))\n",
    "    print(mapping_accuracy_in(Batch_list[i].obs['Ground Truth'], Batch_list[j].obs['Ground Truth'], getMax))"
   ]
  },
  {
   "cell_type": "code",
   "execution_count": 16,
   "id": "5251f502",
   "metadata": {},
   "outputs": [
    {
     "name": "stdout",
     "output_type": "stream",
     "text": [
      "0.356707833596431\n"
     ]
    }
   ],
   "source": [
    "from sklearn.metrics.cluster import adjusted_rand_score\n",
    "#Batch_list[1].obs['Ground Truth'][matching_plt[0][1]]\n",
    "for iters,comb in enumerate(iter_comb):\n",
    "    i, j = comb[0], comb[1]\n",
    "    if tran_list[iters].shape[0] < tran_list[iters].shape[1]:\n",
    "        print(adjusted_rand_score(Batch_list[i].obs['Ground Truth'],Batch_list[j].obs['Ground Truth'][matching_plt[iters][1]]))#第一个小第二个大\n",
    "    if tran_list[iters].shape[0] > tran_list[iters].shape[1]:\n",
    "        print(adjusted_rand_score(Batch_list[j].obs['Ground Truth'],Batch_list[i].obs['Ground Truth'][matching_plt[iters][1]]))#第一个小第二个大"
   ]
  },
  {
   "cell_type": "code",
   "execution_count": 13,
   "id": "e908466f",
   "metadata": {},
   "outputs": [
    {
     "name": "stdout",
     "output_type": "stream",
     "text": [
      "0.5716240875912408\n"
     ]
    }
   ],
   "source": [
    "accuracy_in=[]\n",
    "for iters,comb in enumerate(iter_comb):\n",
    "    i,j=comb[0],comb[1]\n",
    "    result1 = pd.DataFrame(tran_list[iters].cpu().detach().numpy())\n",
    "    matching_index = np.argmax(result1.to_numpy(),axis=0)\n",
    "    matching = np.array([np.arange(result1.shape[1]),matching_index])\n",
    "    getMax = np.zeros_like(tran_list[iters].cpu().detach().numpy())\n",
    "    np.put_along_axis(getMax,tran_list[iters].cpu().detach().numpy().argmax(1)[:,None],1,axis=1)\n",
    "    \n",
    "    accuracy_in.append(mapping_accuracy_in(Batch_list[i].obs['Ground Truth'], Batch_list[j].obs['Ground Truth'], getMax))\n",
    "    print(mapping_accuracy_in(Batch_list[i].obs['Ground Truth'], Batch_list[j].obs['Ground Truth'], getMax))"
   ]
  }
 ],
 "metadata": {
  "kernelspec": {
   "display_name": "Python 3 (ipykernel)",
   "language": "python",
   "name": "python3"
  },
  "language_info": {
   "codemirror_mode": {
    "name": "ipython",
    "version": 3
   },
   "file_extension": ".py",
   "mimetype": "text/x-python",
   "name": "python",
   "nbconvert_exporter": "python",
   "pygments_lexer": "ipython3",
   "version": "3.8.16"
  }
 },
 "nbformat": 4,
 "nbformat_minor": 5
}
