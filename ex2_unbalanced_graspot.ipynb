{
 "cells": [
  {
   "cell_type": "code",
   "execution_count": 40,
   "id": "26d94236",
   "metadata": {},
   "outputs": [],
   "source": [
    "import warnings\n",
    "warnings.filterwarnings(\"ignore\")"
   ]
  },
  {
   "cell_type": "code",
   "execution_count": 41,
   "id": "8e42542f",
   "metadata": {},
   "outputs": [],
   "source": [
    "import anndata as ad\n",
    "import scanpy as sc\n",
    "import pandas as pd\n",
    "import numpy as np\n",
    "import scipy.sparse as sp\n",
    "import scipy.linalg\n",
    "import os\n",
    "\n",
    "import torch\n",
    "used_device = torch.device('cuda:0' if torch.cuda.is_available() else 'cpu')"
   ]
  },
  {
   "cell_type": "code",
   "execution_count": 42,
   "id": "cc39ad35",
   "metadata": {},
   "outputs": [],
   "source": [
    "from Graspot.ST_utils import Cal_Spatial_Net, mapping_accuracy_ot, mapping_accuracy_in, batch_entropy_mixing_score, silhouette, avg_silhouette_width_batch\n",
    "from Graspot.OT_utils import distance_matrix, unbalanced_ot, unbalanced_ot_parameter\n",
    "from Graspot.train import norm_and_center_coordinates, train_Graspot, train_Graspot_Sub, train_Graspot_Para"
   ]
  },
  {
   "cell_type": "code",
   "execution_count": 43,
   "id": "5081803e",
   "metadata": {},
   "outputs": [
    {
     "name": "stdout",
     "output_type": "stream",
     "text": [
      "151673\n",
      "------Calculating spatial graph...\n",
      "The graph contains 21124 edges, 3639 cells.\n",
      "5.8049 neighbors per cell on average.\n",
      "151674\n",
      "------Calculating spatial graph...\n",
      "The graph contains 21258 edges, 3673 cells.\n",
      "5.7876 neighbors per cell on average.\n",
      "151675\n",
      "------Calculating spatial graph...\n",
      "The graph contains 20762 edges, 3592 cells.\n",
      "5.7801 neighbors per cell on average.\n",
      "151676\n",
      "------Calculating spatial graph...\n",
      "The graph contains 20052 edges, 3460 cells.\n",
      "5.7954 neighbors per cell on average.\n"
     ]
    }
   ],
   "source": [
    "import scipy.sparse as sp\n",
    "Batch_list = []\n",
    "adj_list = []\n",
    "section_ids = ['151673','151674','151675','151676']\n",
    "\n",
    "for section_id in section_ids:\n",
    "    print(section_id)\n",
    "    input_dir = os.path.join('data/', section_id)\n",
    "    adata = sc.read_visium(path=input_dir, count_file=section_id + '_filtered_feature_bc_matrix.h5', load_images=True)\n",
    "    adata.var_names_make_unique(join=\"++\")\n",
    "\n",
    "    # read the annotation\n",
    "    Ann_df = pd.read_csv(os.path.join(input_dir, section_id + '_truth.txt'), sep='\\t', header=None, index_col=0)\n",
    "    Ann_df.columns = ['Ground Truth']\n",
    "    Ann_df[Ann_df.isna()] = \"unknown\"\n",
    "    adata.obs['Ground Truth'] = Ann_df.loc[adata.obs_names, 'Ground Truth'].astype('category')\n",
    "\n",
    "    # make spot name unique\n",
    "    adata.obs_names = [x+'_'+section_id for x in adata.obs_names]\n",
    "\n",
    "    # Constructing the spatial network\n",
    "    Cal_Spatial_Net(adata, rad_cutoff=150) # the spatial network are saved in adata.uns[‘adj’]\n",
    "    # STAligner.Stats_Spatial_Net(adata) # plot the number of spatial neighbors\n",
    "\n",
    "    # Normalization\n",
    "    sc.pp.highly_variable_genes(adata, flavor=\"seurat_v3\", n_top_genes=5000)\n",
    "    sc.pp.normalize_total(adata, target_sum=1e4)\n",
    "    sc.pp.log1p(adata)\n",
    "    adata = adata[:, adata.var['highly_variable']]\n",
    "\n",
    "    adj_list.append(adata.uns['adj'])\n",
    "    Batch_list.append(adata)"
   ]
  },
  {
   "cell_type": "code",
   "execution_count": 44,
   "id": "57a6e2cb",
   "metadata": {},
   "outputs": [],
   "source": [
    "#x轴左右分\n",
    "p3, p5, p7  = np.percentile(Batch_list[0].obsm['spatial'][:,0], [30,50,70]) \n",
    "p13, p15, p17  = np.percentile(Batch_list[1].obsm['spatial'][:,0], [30,50,70]) \n",
    "p23, p25, p27  = np.percentile(Batch_list[2].obsm['spatial'][:,0], [30,50,70]) \n",
    "p33, p35, p37  = np.percentile(Batch_list[3].obsm['spatial'][:,0], [30,50,70]) "
   ]
  },
  {
   "cell_type": "code",
   "execution_count": 5,
   "id": "693c2cda",
   "metadata": {},
   "outputs": [],
   "source": [
    "#y轴上下分 但是注意坐标轴零点在左上\n",
    "p3, p5, p7  = np.percentile(Batch_list[0].obsm['spatial'][:,1], [30,50,70]) \n",
    "p13, p15, p17  = np.percentile(Batch_list[1].obsm['spatial'][:,1], [30,50,70]) \n",
    "p23, p25, p27  = np.percentile(Batch_list[2].obsm['spatial'][:,1], [30,50,70]) \n",
    "p33, p35, p37  = np.percentile(Batch_list[3].obsm['spatial'][:,1], [30,50,70]) "
   ]
  },
  {
   "cell_type": "code",
   "execution_count": 45,
   "id": "9bf15e5d",
   "metadata": {},
   "outputs": [
    {
     "name": "stdout",
     "output_type": "stream",
     "text": [
      "------Calculating spatial graph...\n",
      "The graph contains 14730 edges, 2547 cells.\n",
      "5.7833 neighbors per cell on average.\n",
      "------Calculating spatial graph...\n",
      "The graph contains 14724 edges, 2547 cells.\n",
      "5.7809 neighbors per cell on average.\n",
      "------Calculating spatial graph...\n",
      "The graph contains 14850 edges, 2571 cells.\n",
      "5.7760 neighbors per cell on average.\n",
      "------Calculating spatial graph...\n",
      "The graph contains 14824 edges, 2571 cells.\n",
      "5.7658 neighbors per cell on average.\n",
      "------Calculating spatial graph...\n",
      "The graph contains 14586 edges, 2514 cells.\n",
      "5.8019 neighbors per cell on average.\n",
      "------Calculating spatial graph...\n",
      "The graph contains 14422 edges, 2514 cells.\n",
      "5.7367 neighbors per cell on average.\n",
      "------Calculating spatial graph...\n",
      "The graph contains 14000 edges, 2422 cells.\n",
      "5.7803 neighbors per cell on average.\n",
      "------Calculating spatial graph...\n",
      "The graph contains 13954 edges, 2422 cells.\n",
      "5.7614 neighbors per cell on average.\n"
     ]
    }
   ],
   "source": [
    "a1 = Batch_list[0][Batch_list[0].obsm['spatial'][:,0] > p3] \n",
    "Cal_Spatial_Net(a1, rad_cutoff=150)\n",
    "a2 = Batch_list[0][Batch_list[0].obsm['spatial'][:,0] < p7] \n",
    "Cal_Spatial_Net(a2, rad_cutoff=150)\n",
    "b1 = Batch_list[1][Batch_list[1].obsm['spatial'][:,0] > p13] \n",
    "Cal_Spatial_Net(b1, rad_cutoff=150)\n",
    "b2 = Batch_list[1][Batch_list[1].obsm['spatial'][:,0] < p17] \n",
    "Cal_Spatial_Net(b2, rad_cutoff=150)\n",
    "c1 = Batch_list[2][Batch_list[2].obsm['spatial'][:,0] > p23] \n",
    "Cal_Spatial_Net(c1, rad_cutoff=150)\n",
    "c2 = Batch_list[2][Batch_list[2].obsm['spatial'][:,0] < p27] \n",
    "Cal_Spatial_Net(c2, rad_cutoff=150)\n",
    "d1 = Batch_list[3][Batch_list[3].obsm['spatial'][:,0] > p33] \n",
    "Cal_Spatial_Net(d1, rad_cutoff=150)\n",
    "d2 = Batch_list[3][Batch_list[3].obsm['spatial'][:,0] < p37] \n",
    "Cal_Spatial_Net(d2, rad_cutoff=150)"
   ]
  },
  {
   "cell_type": "code",
   "execution_count": 6,
   "id": "d72e5281",
   "metadata": {},
   "outputs": [
    {
     "name": "stdout",
     "output_type": "stream",
     "text": [
      "------Calculating spatial graph...\n",
      "The graph contains 14770 edges, 2547 cells.\n",
      "5.7990 neighbors per cell on average.\n",
      "------Calculating spatial graph...\n",
      "The graph contains 14760 edges, 2547 cells.\n",
      "5.7951 neighbors per cell on average.\n",
      "------Calculating spatial graph...\n",
      "The graph contains 14882 edges, 2571 cells.\n",
      "5.7884 neighbors per cell on average.\n",
      "------Calculating spatial graph...\n",
      "The graph contains 14854 edges, 2571 cells.\n",
      "5.7775 neighbors per cell on average.\n",
      "------Calculating spatial graph...\n",
      "The graph contains 14574 edges, 2514 cells.\n",
      "5.7971 neighbors per cell on average.\n",
      "------Calculating spatial graph...\n",
      "The graph contains 14462 edges, 2514 cells.\n",
      "5.7526 neighbors per cell on average.\n",
      "------Calculating spatial graph...\n",
      "The graph contains 14040 edges, 2422 cells.\n",
      "5.7969 neighbors per cell on average.\n",
      "------Calculating spatial graph...\n",
      "The graph contains 13998 edges, 2422 cells.\n",
      "5.7795 neighbors per cell on average.\n"
     ]
    }
   ],
   "source": [
    "a1 = Batch_list[0][Batch_list[0].obsm['spatial'][:,1] > p3] \n",
    "Cal_Spatial_Net(a1, rad_cutoff=150)\n",
    "a2 = Batch_list[0][Batch_list[0].obsm['spatial'][:,1] < p7] \n",
    "Cal_Spatial_Net(a2, rad_cutoff=150)\n",
    "b1 = Batch_list[1][Batch_list[1].obsm['spatial'][:,1] > p13] \n",
    "Cal_Spatial_Net(b1, rad_cutoff=150)\n",
    "b2 = Batch_list[1][Batch_list[1].obsm['spatial'][:,1] < p17] \n",
    "Cal_Spatial_Net(b2, rad_cutoff=150)\n",
    "c1 = Batch_list[2][Batch_list[2].obsm['spatial'][:,1] > p23] \n",
    "Cal_Spatial_Net(c1, rad_cutoff=150)\n",
    "c2 = Batch_list[2][Batch_list[2].obsm['spatial'][:,1] < p27] \n",
    "Cal_Spatial_Net(c2, rad_cutoff=150)\n",
    "d1 = Batch_list[3][Batch_list[3].obsm['spatial'][:,1] > p33] \n",
    "Cal_Spatial_Net(d1, rad_cutoff=150)\n",
    "d2 = Batch_list[3][Batch_list[3].obsm['spatial'][:,1] < p37] \n",
    "Cal_Spatial_Net(d2, rad_cutoff=150)"
   ]
  },
  {
   "cell_type": "code",
   "execution_count": 8,
   "id": "31bf7f0f",
   "metadata": {},
   "outputs": [],
   "source": [
    "Whole_slice = Batch_list"
   ]
  },
  {
   "cell_type": "code",
   "execution_count": 33,
   "id": "e092a65e",
   "metadata": {},
   "outputs": [],
   "source": [
    "Batch_list = [Whole_slice[0],a2]\n",
    "section_ids = ['151673','151673_up']"
   ]
  },
  {
   "cell_type": "code",
   "execution_count": 17,
   "id": "29a82997",
   "metadata": {},
   "outputs": [],
   "source": [
    "Batch_list = [Whole_slice[0],a2]\n",
    "section_ids = ['151673','151673_left']"
   ]
  },
  {
   "cell_type": "code",
   "execution_count": 7,
   "id": "f6924f87",
   "metadata": {},
   "outputs": [],
   "source": [
    "Batch_list = [a2,a1]\n",
    "section_ids = ['151673_up','151673_down']"
   ]
  },
  {
   "cell_type": "code",
   "execution_count": 7,
   "id": "fdd570dd",
   "metadata": {},
   "outputs": [],
   "source": [
    "Batch_list = [a2,a1]\n",
    "section_ids = ['151673_left','151673_right']"
   ]
  },
  {
   "cell_type": "code",
   "execution_count": 9,
   "id": "8fe6045d",
   "metadata": {},
   "outputs": [],
   "source": [
    "Batch_list = [Whole_slice[0],a2]\n",
    "section_ids = ['151673','151673_up']"
   ]
  },
  {
   "cell_type": "code",
   "execution_count": 20,
   "id": "3e9264a3",
   "metadata": {},
   "outputs": [],
   "source": [
    "Batch_list = [b2,b1]\n",
    "section_ids = ['151674_left','151674_right']"
   ]
  },
  {
   "cell_type": "code",
   "execution_count": 33,
   "id": "ef67a69f",
   "metadata": {},
   "outputs": [],
   "source": [
    "Batch_list = [c2,c1]\n",
    "section_ids = ['151675_left','151675_right']"
   ]
  },
  {
   "cell_type": "code",
   "execution_count": 46,
   "id": "642685ce",
   "metadata": {},
   "outputs": [],
   "source": [
    "Batch_list = [d2,d1]\n",
    "section_ids = ['151676_left','151676_right']"
   ]
  },
  {
   "cell_type": "code",
   "execution_count": 43,
   "id": "d97e4610",
   "metadata": {},
   "outputs": [
    {
     "name": "stdout",
     "output_type": "stream",
     "text": [
      "gpu is available, using gpu.\n",
      "It.  |Loss        |Relative loss|Absolute loss\n",
      "------------------------------------------------\n",
      "    0|3.452189e+01|0.000000e+00|0.000000e+00\n",
      "    1|-9.849394e+01|1.350498e+00|1.330158e+02\n",
      "    2|-2.534859e+02|6.114422e-01|1.549920e+02\n",
      "    3|-2.791823e+02|9.204143e-02|2.569633e+01\n",
      "    4|-2.822205e+02|1.076548e-02|3.038239e+00\n",
      "    5|-2.825129e+02|1.034850e-03|2.923584e-01\n",
      "    6|-2.825970e+02|2.977277e-04|8.413696e-02\n",
      "    7|-2.825970e+02|0.000000e+00|0.000000e+00\n",
      "Runtime: 5.90604829788208\n"
     ]
    }
   ],
   "source": [
    "adata1 = Batch_list[0]\n",
    "adata2 = Batch_list[1]\n",
    "\n",
    "import ot\n",
    "import time\n",
    "import paste as pst\n",
    "alpha = 0.1\n",
    "start = time.time()\n",
    "#pi0 = pst.match_spots_using_spatial_heuristic(adata1.obsm['spatial'], adata2.obsm['spatial'], use_ot=True)\n",
    "#n1,n2=len(adata1.obsm['spatial']),len(adata2.obsm['spatial'])\n",
    "#dist = scipy.spatial.distance_matrix(adata1.obsm['spatial'],adata2.obsm['spatial'])\n",
    "#dist = scipy.spatial.distance_matrix(norm_and_center_coordinates(adata1.obsm['spatial']),norm_and_center_coordinates(adata2.obsm['spatial']))\n",
    "#pi0 = ot.emd(np.ones(n1)/n1, np.ones(n2)/n2, dist)\n",
    "pi0 = None\n",
    "pi12 = pst.pairwise_align(adata1, adata2, use_gpu=True, backend=ot.backend.TorchBackend(), \n",
    "                          alpha=alpha, G_init=pi0, norm=True, verbose=True)\n",
    "print('Runtime: ' + str(time.time() - start))\n",
    "run_time = str(time.time() - start)"
   ]
  },
  {
   "cell_type": "code",
   "execution_count": 34,
   "id": "0bd55417",
   "metadata": {},
   "outputs": [
    {
     "name": "stdout",
     "output_type": "stream",
     "text": [
      "gpu is available, using gpu.\n",
      "It.  |Loss        |Relative loss|Absolute loss\n",
      "------------------------------------------------\n",
      "    0|7.573287e+00|0.000000e+00|0.000000e+00\n",
      "    1|-4.308524e+01|1.175775e+00|5.065853e+01\n",
      "    2|-4.791478e+01|1.007944e-01|4.829540e+00\n",
      "    3|-4.826451e+01|7.246141e-03|3.497314e-01\n",
      "    4|-4.835126e+01|1.794241e-03|8.675385e-02\n",
      "    5|-4.838519e+01|7.010470e-04|3.392029e-02\n",
      "    6|-4.838519e+01|0.000000e+00|0.000000e+00\n",
      "Runtime: 6.2397918701171875\n"
     ]
    }
   ],
   "source": [
    "adata1 = Batch_list[0]\n",
    "adata2 = Batch_list[1]\n",
    "\n",
    "import ot\n",
    "import time\n",
    "import paste as pst\n",
    "alpha = 0.1\n",
    "start = time.time()\n",
    "#pi0 = pst.match_spots_using_spatial_heuristic(adata1.obsm['spatial'], adata2.obsm['spatial'], use_ot=True)\n",
    "n1,n2=len(adata1.obsm['spatial']),len(adata2.obsm['spatial'])\n",
    "dist = scipy.spatial.distance_matrix(adata1.obsm['spatial'],adata2.obsm['spatial'])\n",
    "#dist = scipy.spatial.distance_matrix(norm_and_center_coordinates(adata1.obsm['spatial']),norm_and_center_coordinates(adata2.obsm['spatial']))\n",
    "pi0 = ot.emd(np.ones(n1)/n1, np.ones(n2)/n2, dist)\n",
    "#pi0 = None\n",
    "pi12 = pst.pairwise_align(adata1, adata2, use_gpu=True, backend=ot.backend.TorchBackend(), \n",
    "                          alpha=alpha, G_init=pi0, norm=True, verbose=True)\n",
    "print('Runtime: ' + str(time.time() - start))\n",
    "run_time = str(time.time() - start)"
   ]
  },
  {
   "cell_type": "code",
   "execution_count": 44,
   "id": "110a11b8",
   "metadata": {},
   "outputs": [
    {
     "name": "stdout",
     "output_type": "stream",
     "text": [
      "0.44137025\n"
     ]
    }
   ],
   "source": [
    "iter_comb = [(0, 1)]\n",
    "accuracy_ot=[]\n",
    "for iters,comb in enumerate(iter_comb):\n",
    "    i,j=comb[0],comb[1]\n",
    "    accuracy_ot.append(mapping_accuracy_ot(Batch_list[i].obs['Ground Truth'], Batch_list[j].obs['Ground Truth'], pi12))\n",
    "    print(mapping_accuracy_ot(Batch_list[i].obs['Ground Truth'], Batch_list[j].obs['Ground Truth'], pi12))"
   ]
  },
  {
   "cell_type": "code",
   "execution_count": 45,
   "id": "59df2b69",
   "metadata": {},
   "outputs": [
    {
     "name": "stdout",
     "output_type": "stream",
     "text": [
      "0.44137076796036334\n"
     ]
    }
   ],
   "source": [
    "filter_num=0\n",
    "accuracy_in=[]\n",
    "getMax_plt=[]\n",
    "matching_plt_new=[]\n",
    "indexx=[]\n",
    "\n",
    "for iters,comb in enumerate(iter_comb):\n",
    "    i,j=comb[0],comb[1]\n",
    "    result1 = pd.DataFrame(pi12)\n",
    "    if pi12.shape[0] <= pi12.shape[1]:\n",
    "        matching_index = np.argmax(result1.to_numpy(),axis=1)\n",
    "        matching = np.array([np.arange(result1.shape[0]),matching_index])\n",
    "        getMax = np.zeros_like(pi12)\n",
    "        #np.put_along_axis(getMax,tran_list[iters].cpu().detach().numpy().argmax(1)[:,None],1,axis=1)\n",
    "        for k in range(matching.shape[1]):\n",
    "            x = int(matching[:,k][0])\n",
    "            y = int(matching[:,k][1])\n",
    "            if pi12[x][y] <=filter_num:\n",
    "                getMax[x][y] = 0\n",
    "            if pi12[x][y] >filter_num:\n",
    "                getMax[x][y] = 1\n",
    "                indexx.append(k)\n",
    "            #getMax[x][y] = 1\n",
    "        #matching_index_new = np.argmax(getMax,axis=1)\n",
    "        #matching_new = np.array([np.arange(len(matching_index_new)),matching_index_new])\n",
    "        #if getMax\n",
    "        matching_plt_new=matching[:,indexx]\n",
    "        getMax_plt.append(getMax)\n",
    "    if pi12.shape[0] > pi12.shape[1]:\n",
    "        matching_index = np.argmax(result1.to_numpy(),axis=0)\n",
    "        matching = np.array([np.arange(result1.shape[1]),matching_index])\n",
    "        getMax = np.zeros_like(pi12)\n",
    "        for k in range(matching.shape[1]):\n",
    "            x = int(matching[:,k][1])\n",
    "            y = int(matching[:,k][0])\n",
    "            if pi12[x][y] <=filter_num:\n",
    "                getMax[x][y] = 0\n",
    "            if pi12[x][y] >filter_num:\n",
    "                getMax[x][y] = 1\n",
    "                indexx.append(k)\n",
    "            #getMax[x][y] = 1\n",
    "        #matching_index_new = np.argmax(getMax,axis=1)\n",
    "        #matching_new = np.array([np.arange(len(matching_index_new)),matching_index_new])\n",
    "        matching_plt_new=matching[:,indexx]\n",
    "        getMax_plt.append(getMax)\n",
    "    \n",
    "    accuracy_in.append(mapping_accuracy_in(Batch_list[i].obs['Ground Truth'], Batch_list[j].obs['Ground Truth'], getMax))\n",
    "    print(mapping_accuracy_in(Batch_list[i].obs['Ground Truth'], Batch_list[j].obs['Ground Truth'], getMax))"
   ]
  },
  {
   "cell_type": "code",
   "execution_count": 46,
   "id": "3c21f56d",
   "metadata": {},
   "outputs": [
    {
     "name": "stdout",
     "output_type": "stream",
     "text": [
      "0.23759245242292146\n"
     ]
    }
   ],
   "source": [
    "from sklearn.metrics.cluster import adjusted_rand_score\n",
    "#Batch_list[1].obs['Ground Truth'][matching_plt[0][1]]\n",
    "if pi12.shape[0] <= pi12.shape[1]:\n",
    "    print(adjusted_rand_score(Batch_list[0].obs['Ground Truth'],Batch_list[1].obs['Ground Truth'][matching[1]]))#第一个小第二个大\n",
    "if pi12.shape[0] > pi12.shape[1]:\n",
    "    print(adjusted_rand_score(Batch_list[1].obs['Ground Truth'],Batch_list[0].obs['Ground Truth'][matching[1]]))#第一个小第二个大"
   ]
  },
  {
   "cell_type": "code",
   "execution_count": 47,
   "id": "9fa906fa",
   "metadata": {},
   "outputs": [
    {
     "name": "stdout",
     "output_type": "stream",
     "text": [
      "0.23759245242292146\n"
     ]
    }
   ],
   "source": [
    "from sklearn.metrics.cluster import adjusted_rand_score\n",
    "#Batch_list[1].obs['Ground Truth'][matching_plt[0][1]]\n",
    "if pi12.shape[0] <= pi12.shape[1]:\n",
    "    print(adjusted_rand_score(Batch_list[0].obs['Ground Truth'],Batch_list[1].obs['Ground Truth'][matching_plt_new[1]]))#第一个小第二个大\n",
    "if pi12.shape[0] > pi12.shape[1]:\n",
    "    print(adjusted_rand_score(Batch_list[1].obs['Ground Truth'],Batch_list[0].obs['Ground Truth'][matching_plt_new[1]]))#第一个小第二个大"
   ]
  },
  {
   "cell_type": "code",
   "execution_count": null,
   "id": "b607cf40",
   "metadata": {},
   "outputs": [],
   "source": [
    "#paste\n",
    "73 0.21\n",
    "74 0.20\n",
    "75 0.14\n",
    "76 0.24"
   ]
  },
  {
   "cell_type": "code",
   "execution_count": 13,
   "id": "145a07e7",
   "metadata": {},
   "outputs": [],
   "source": [
    "stat = []\n",
    "pi = pi12\n",
    "mapping_dict = {'Layer_1':1, 'Layer_2':2, 'Layer_3':3, 'Layer_4':4, 'Layer_5':5, 'Layer_6':6, 'WM':7}\n",
    "stat.append(np.sum(pi*(scipy.spatial.distance_matrix(np.matrix(Batch_list[0].obs['Ground Truth'].map(mapping_dict)).T,np.matrix(Batch_list[1].obs['Ground Truth'].map(mapping_dict)).T)==0)))\n",
    "stat.append(np.sum(pi*(scipy.spatial.distance_matrix(np.matrix(Batch_list[0].obs['Ground Truth'].map(mapping_dict)).T,np.matrix(Batch_list[1].obs['Ground Truth'].map(mapping_dict)).T)==1)))\n",
    "stat.append(np.sum(pi*(scipy.spatial.distance_matrix(np.matrix(Batch_list[0].obs['Ground Truth'].map(mapping_dict)).T,np.matrix(Batch_list[1].obs['Ground Truth'].map(mapping_dict)).T)==2)))\n",
    "stat.append(np.sum(pi*(scipy.spatial.distance_matrix(np.matrix(Batch_list[0].obs['Ground Truth'].map(mapping_dict)).T,np.matrix(Batch_list[1].obs['Ground Truth'].map(mapping_dict)).T)==3)))\n",
    "stat.append(np.sum(pi*(scipy.spatial.distance_matrix(np.matrix(Batch_list[0].obs['Ground Truth'].map(mapping_dict)).T,np.matrix(Batch_list[1].obs['Ground Truth'].map(mapping_dict)).T)==4)))\n",
    "stat.append(np.sum(pi*(scipy.spatial.distance_matrix(np.matrix(Batch_list[0].obs['Ground Truth'].map(mapping_dict)).T,np.matrix(Batch_list[1].obs['Ground Truth'].map(mapping_dict)).T)==5)))\n",
    "stat.append(np.sum(pi*(scipy.spatial.distance_matrix(np.matrix(Batch_list[0].obs['Ground Truth'].map(mapping_dict)).T,np.matrix(Batch_list[1].obs['Ground Truth'].map(mapping_dict)).T)==6)))"
   ]
  },
  {
   "cell_type": "code",
   "execution_count": 14,
   "id": "d275e86e",
   "metadata": {},
   "outputs": [
    {
     "data": {
      "text/plain": [
       "[0.4279525, 0.20298325, 0.2006275, 0.055751935, 0.08323513, 0.018453084, 0.0]"
      ]
     },
     "execution_count": 14,
     "metadata": {},
     "output_type": "execute_result"
    }
   ],
   "source": [
    "stat"
   ]
  },
  {
   "cell_type": "code",
   "execution_count": 39,
   "id": "72bd0469",
   "metadata": {},
   "outputs": [],
   "source": [
    "index1=[]\n",
    "series1 = Batch_list[0].obs['Ground Truth'] == 'Layer_1'\n",
    "for i in range(Batch_list[0].shape[0]):\n",
    "    if series1[i] == True:\n",
    "        index1.append(i)\n",
    "index1_1=[]\n",
    "series1_1 = Batch_list[1].obs['Ground Truth'] == 'Layer_1'\n",
    "for i in range(Batch_list[1].shape[0]):\n",
    "    if series1_1[i] == True:\n",
    "        index1_1.append(i)\n",
    "index2=[]\n",
    "series2 = Batch_list[0].obs['Ground Truth'] == 'Layer_2'\n",
    "for i in range(Batch_list[0].shape[0]):\n",
    "    if series2[i] == True:\n",
    "        index2.append(i)\n",
    "index2_1=[]\n",
    "series2_1 = Batch_list[1].obs['Ground Truth'] == 'Layer_2'\n",
    "for i in range(Batch_list[1].shape[0]):\n",
    "    if series2_1[i] == True:\n",
    "        index2_1.append(i)"
   ]
  },
  {
   "cell_type": "code",
   "execution_count": 50,
   "id": "331b8c23",
   "metadata": {},
   "outputs": [
    {
     "data": {
      "text/plain": [
       "0.075020604"
      ]
     },
     "execution_count": 50,
     "metadata": {},
     "output_type": "execute_result"
    }
   ],
   "source": [
    "a11pi12[index1][:,index1_1].sum()"
   ]
  },
  {
   "cell_type": "code",
   "execution_count": 47,
   "id": "5a629af3",
   "metadata": {},
   "outputs": [],
   "source": [
    "import anndata as ad\n",
    "adata_concat = ad.concat(Batch_list, label=\"slice_name\", keys=section_ids)\n",
    "adata_concat.obs['Ground Truth'] = adata_concat.obs['Ground Truth'].astype('category')\n",
    "adata_concat.obs[\"batch_name\"] = adata_concat.obs[\"slice_name\"].astype('category')"
   ]
  },
  {
   "cell_type": "code",
   "execution_count": 48,
   "id": "e3ca3b2a",
   "metadata": {},
   "outputs": [],
   "source": [
    "mapping_dict = {'Layer_1':1, 'Layer_2':2, 'Layer_3':3, 'Layer_4':4, 'Layer_5':5, 'Layer_6':6, 'WM':7}\n",
    "data1 = np.array(Batch_list[0].obs['Ground Truth'].map(mapping_dict))\n",
    "data2 = np.array(Batch_list[1].obs['Ground Truth'].map(mapping_dict))\n",
    "\n",
    "gamma = 0.5\n",
    "\n",
    "DM = np.ones((len(data1), len(data2)))\n",
    "for i in range(len(data1)):\n",
    "    for j in range(len(data2)):\n",
    "        if data1[i] == data2[j]:\n",
    "            DM[i][j] = gamma"
   ]
  },
  {
   "cell_type": "code",
   "execution_count": 45,
   "id": "19fa1785",
   "metadata": {},
   "outputs": [
    {
     "name": "stdout",
     "output_type": "stream",
     "text": [
      "STAligner(\n",
      "  (conv1): GATConv(5000, 512, heads=1)\n",
      "  (conv2): GATConv(512, 30, heads=1)\n",
      "  (conv3): GATConv(30, 512, heads=1)\n",
      "  (conv4): GATConv(512, 5000, heads=1)\n",
      ")\n",
      "Train with STAligner...\n"
     ]
    },
    {
     "name": "stderr",
     "output_type": "stream",
     "text": [
      "100%|█████████████████████████████████████████████████████████████████| 200/200 [00:28<00:00,  6.97it/s]\n"
     ]
    }
   ],
   "source": [
    "iter_comb = [(0, 1)]\n",
    "adata_concat, tran_list = train_Graspot_Para(adata_concat, verbose=True, knn_neigh = 100, n_epochs = 200, iter_comb = iter_comb,\n",
    "                                                        Batch_list=Batch_list, initial = True, Couple=None, device=used_device)"
   ]
  },
  {
   "cell_type": "code",
   "execution_count": 49,
   "id": "2960f107",
   "metadata": {},
   "outputs": [
    {
     "name": "stdout",
     "output_type": "stream",
     "text": [
      "STAligner(\n",
      "  (conv1): GATConv(5000, 512, heads=1)\n",
      "  (conv2): GATConv(512, 30, heads=1)\n",
      "  (conv3): GATConv(30, 512, heads=1)\n",
      "  (conv4): GATConv(512, 5000, heads=1)\n",
      ")\n",
      "Train with STAligner...\n"
     ]
    },
    {
     "name": "stderr",
     "output_type": "stream",
     "text": [
      "100%|█████████████████████████| 200/200 [00:30<00:00,  6.65it/s]\n"
     ]
    }
   ],
   "source": [
    "iter_comb = [(0, 1)]\n",
    "adata_concat, tran_list = train_Graspot_Para(adata_concat, verbose=True, knn_neigh = 100, n_epochs = 200, iter_comb = iter_comb,\n",
    "                                                        Batch_list=Batch_list, initial = True, Couple=DM, device=used_device)"
   ]
  },
  {
   "cell_type": "code",
   "execution_count": 20,
   "id": "aea59f17",
   "metadata": {},
   "outputs": [
    {
     "name": "stdout",
     "output_type": "stream",
     "text": [
      "adata_concat.shape:  (6186, 5000)\n"
     ]
    }
   ],
   "source": [
    "for section_id in range(len(section_ids)):\n",
    "    Batch_list[section_id].obs_names = [x+'_'+ str(section_id) for x in Batch_list[section_id].obs_names]\n",
    "adata_concat = ad.concat(Batch_list, label=\"slice_name\", keys=section_ids)\n",
    "#adj_concat_new = scipy.linalg.block_diag(adj_concat_new, np.asarray(adj_list_new[batch_id].todense()))\n",
    "adata_concat.obs['Ground Truth'] = adata_concat.obs['Ground Truth'].astype('category')\n",
    "adata_concat.obs[\"batch_name\"] = adata_concat.obs[\"slice_name\"].astype('category')\n",
    "#adata_concat.uns[\"adj\"] = adata_concat.uns[\"adj\"].astype('category')\n",
    "print('adata_concat.shape: ', adata_concat.shape)"
   ]
  },
  {
   "cell_type": "code",
   "execution_count": 21,
   "id": "3991d5b5",
   "metadata": {},
   "outputs": [],
   "source": [
    "adj_list_new = [Batch_list[0].uns['adj'], Batch_list[1].uns['adj']]\n",
    "adj_concat_new = np.asarray(adj_list_new[0].todense())\n",
    "#section_ids = ['151673_1','151673_2']\n",
    "for batch_id in range(1,len(section_ids)):\n",
    "    adj_concat_new = scipy.linalg.block_diag(adj_concat_new, np.asarray(adj_list_new[batch_id].todense()))\n",
    "adata_concat.uns['edgeList'] = np.nonzero(adj_concat_new)"
   ]
  },
  {
   "cell_type": "code",
   "execution_count": 22,
   "id": "f6b6ffc3",
   "metadata": {},
   "outputs": [
    {
     "name": "stdout",
     "output_type": "stream",
     "text": [
      "STAligner(\n",
      "  (conv1): GATConv(5000, 512, heads=1)\n",
      "  (conv2): GATConv(512, 30, heads=1)\n",
      "  (conv3): GATConv(30, 512, heads=1)\n",
      "  (conv4): GATConv(512, 5000, heads=1)\n",
      ")\n",
      "Pretrain with STAGATE...\n"
     ]
    },
    {
     "name": "stderr",
     "output_type": "stream",
     "text": [
      "100%|█████████████████████████████████████████████████████████████| 500/500 [00:28<00:00, 17.59it/s]\n"
     ]
    },
    {
     "name": "stdout",
     "output_type": "stream",
     "text": [
      "Train with STAligner...\n"
     ]
    },
    {
     "name": "stderr",
     "output_type": "stream",
     "text": [
      "\r",
      "  0%|                                                                       | 0/500 [00:00<?, ?it/s]"
     ]
    },
    {
     "name": "stdout",
     "output_type": "stream",
     "text": [
      "Update spot triplets at epoch 500\n"
     ]
    },
    {
     "name": "stderr",
     "output_type": "stream",
     "text": [
      " 20%|████████████▎                                                 | 99/500 [00:06<00:23, 17.12it/s]"
     ]
    },
    {
     "name": "stdout",
     "output_type": "stream",
     "text": [
      "Update spot triplets at epoch 600\n"
     ]
    },
    {
     "name": "stderr",
     "output_type": "stream",
     "text": [
      " 40%|████████████████████████▎                                    | 199/500 [00:13<00:17, 16.93it/s]"
     ]
    },
    {
     "name": "stdout",
     "output_type": "stream",
     "text": [
      "Update spot triplets at epoch 700\n"
     ]
    },
    {
     "name": "stderr",
     "output_type": "stream",
     "text": [
      " 60%|████████████████████████████████████▍                        | 299/500 [00:20<00:11, 16.95it/s]"
     ]
    },
    {
     "name": "stdout",
     "output_type": "stream",
     "text": [
      "Update spot triplets at epoch 800\n"
     ]
    },
    {
     "name": "stderr",
     "output_type": "stream",
     "text": [
      " 80%|████████████████████████████████████████████████▋            | 399/500 [00:27<00:06, 16.67it/s]"
     ]
    },
    {
     "name": "stdout",
     "output_type": "stream",
     "text": [
      "Update spot triplets at epoch 900\n"
     ]
    },
    {
     "name": "stderr",
     "output_type": "stream",
     "text": [
      "100%|█████████████████████████████████████████████████████████████| 500/500 [00:34<00:00, 14.69it/s]\n"
     ]
    }
   ],
   "source": [
    "import STAligner\n",
    "adata_concat = STAligner.train_STAligner(adata_concat, verbose=True, knn_neigh = 50, device=used_device)"
   ]
  },
  {
   "cell_type": "code",
   "execution_count": 23,
   "id": "ff77d249",
   "metadata": {},
   "outputs": [],
   "source": [
    "ds1 = adata_concat[adata_concat.obs['slice_name'] == '151673']\n",
    "ds2 = adata_concat[adata_concat.obs['slice_name'] == '151673_left']\n",
    "em1 = torch.tensor(ds1.obsm['STAligner'])\n",
    "em2 = torch.tensor(ds2.obsm['STAligner'])"
   ]
  },
  {
   "cell_type": "code",
   "execution_count": 24,
   "id": "4abe750a",
   "metadata": {},
   "outputs": [],
   "source": [
    "embds = [em1, em2]\n",
    "import faiss\n",
    "from typing import List, Mapping, Optional, Union\n",
    "from anndata import AnnData\n",
    "from sklearn.metrics.pairwise import euclidean_distances\n",
    "if embds[0].shape[0] < embds[1].shape[0]:\n",
    "    embd0 = embds[1]\n",
    "    embd1 = embds[0]\n",
    "    #adatas = adatas[::-1] if adatas is not None else None\n",
    "else:\n",
    "    embd0 = embds[0]\n",
    "    embd1 = embds[1]\n",
    "\n",
    "index = faiss.index_factory(embd1.shape[1], \"Flat\", faiss.METRIC_INNER_PRODUCT)\n",
    "embd0_np = embd0.detach().cpu().numpy() if torch.is_tensor(embd0) else embd0\n",
    "embd1_np = embd1.detach().cpu().numpy() if torch.is_tensor(embd1) else embd1\n",
    "embd0_np = embd0_np.copy().astype('float32')\n",
    "embd1_np = embd1_np.copy().astype('float32')\n",
    "faiss.normalize_L2(embd0_np)\n",
    "faiss.normalize_L2(embd1_np)\n",
    "index.add(embd0_np)\n",
    "distance, order = index.search(embd1_np, 1)"
   ]
  },
  {
   "cell_type": "code",
   "execution_count": 25,
   "id": "0befb91f",
   "metadata": {},
   "outputs": [
    {
     "data": {
      "text/plain": [
       "array([[   0,    1,    2, ..., 2544, 2545, 2546],\n",
       "       [   1,    2,    4, ..., 3636, 3637, 3638]])"
      ]
     },
     "execution_count": 25,
     "metadata": {},
     "output_type": "execute_result"
    }
   ],
   "source": [
    "best = np.array(order[:,0])\n",
    "matchs = np.array([range(order.shape[0]), best])\n",
    "matchs"
   ]
  },
  {
   "cell_type": "code",
   "execution_count": 26,
   "id": "3d6a906c",
   "metadata": {},
   "outputs": [],
   "source": [
    "getMax1 = np.zeros((len(em1),len(em2)))\n",
    "if len(em1) <= len(em2):\n",
    "    for i in range(matchs.shape[1]):\n",
    "        x = int(matchs[:,i][0])\n",
    "        y = int(matchs[:,i][1])\n",
    "        getMax1[x][y] = 1\n",
    "if len(em1) > len(em2):\n",
    "    for i in range(matchs.shape[1]):\n",
    "        x = int(matchs[:,i][1])\n",
    "        y = int(matchs[:,i][0])\n",
    "        getMax1[x][y] = 1"
   ]
  },
  {
   "cell_type": "code",
   "execution_count": 27,
   "id": "09b417c4",
   "metadata": {},
   "outputs": [
    {
     "data": {
      "text/plain": [
       "0.9996073812328229"
      ]
     },
     "execution_count": 27,
     "metadata": {},
     "output_type": "execute_result"
    }
   ],
   "source": [
    "mapping_accuracy_in(Batch_list[0].obs['Ground Truth'], Batch_list[1].obs['Ground Truth'], getMax1)"
   ]
  },
  {
   "cell_type": "code",
   "execution_count": 28,
   "id": "84f7003d",
   "metadata": {},
   "outputs": [
    {
     "data": {
      "text/plain": [
       "0.6307368025236436"
      ]
     },
     "execution_count": 28,
     "metadata": {},
     "output_type": "execute_result"
    }
   ],
   "source": [
    "batch_entropy_mixing_score(adata_concat.obsm['STAligner'],np.array(adata_concat.obs['batch_name']))"
   ]
  },
  {
   "cell_type": "code",
   "execution_count": 29,
   "id": "bdb52783",
   "metadata": {},
   "outputs": [
    {
     "data": {
      "text/plain": [
       "0.5126620195806026"
      ]
     },
     "execution_count": 29,
     "metadata": {},
     "output_type": "execute_result"
    }
   ],
   "source": [
    "silhouette(adata_concat.obsm['STAligner'],np.array(adata_concat.obs['batch_name']))"
   ]
  },
  {
   "cell_type": "code",
   "execution_count": 30,
   "id": "047dea8f",
   "metadata": {},
   "outputs": [
    {
     "data": {
      "text/plain": [
       "0.931670255959034"
      ]
     },
     "execution_count": 30,
     "metadata": {},
     "output_type": "execute_result"
    }
   ],
   "source": [
    "avg_silhouette_width_batch(adata_concat.obsm['STAligner'],np.array(adata_concat.obs['batch_name']),np.array(adata_concat.obs['Ground Truth']))"
   ]
  },
  {
   "cell_type": "code",
   "execution_count": 37,
   "id": "99fdd9c7",
   "metadata": {},
   "outputs": [],
   "source": [
    "adata_1 = adata_concat[adata_concat.obs['batch_name'] == '151673']\n",
    "adata_2 = adata_concat[adata_concat.obs['batch_name'] == '151673_right']"
   ]
  },
  {
   "cell_type": "code",
   "execution_count": 40,
   "id": "e408e654",
   "metadata": {},
   "outputs": [],
   "source": [
    "adata_concat_common = adata_concat[adata_concat.obsm['spatial'][:,1] < p7]\n",
    "#adata_1 = adata_concat[adata_concat.obs['batch_name'] == '151673']\n",
    "#adata_specific_1 = adata_1[adata_1.obsm['spatial'][:,0] > p7]\n",
    "adata_common_1 = adata_concat_common[adata_concat_common.obs['batch_name'] == '151673']\n",
    "#adata_2 = adata_concat[adata_concat.obs['batch_name'] == '151673_up']\n",
    "adata_common_2 = adata_concat_common[adata_concat_common.obs['batch_name'] == '151673_up']\n",
    "#adata_specific_2 = adata_2[adata_2.obsm['spatial'][:,1] > p7]"
   ]
  },
  {
   "cell_type": "code",
   "execution_count": 42,
   "id": "a6e64979",
   "metadata": {},
   "outputs": [],
   "source": [
    "fos1, fos2 = foscttm(adata_common_1.obsm['STAligner'],adata_common_2.obsm['STAligner'])"
   ]
  },
  {
   "cell_type": "code",
   "execution_count": 46,
   "id": "fff85820",
   "metadata": {},
   "outputs": [
    {
     "data": {
      "text/plain": [
       "1.7881341575398602e-05"
      ]
     },
     "execution_count": 46,
     "metadata": {},
     "output_type": "execute_result"
    }
   ],
   "source": [
    "np.mean(fos1)"
   ]
  },
  {
   "cell_type": "code",
   "execution_count": 45,
   "id": "9fd9a0a6",
   "metadata": {},
   "outputs": [
    {
     "data": {
      "text/plain": [
       "1.2640258699850737e-05"
      ]
     },
     "execution_count": 45,
     "metadata": {},
     "output_type": "execute_result"
    }
   ],
   "source": [
    "np.mean(fos2)"
   ]
  },
  {
   "cell_type": "code",
   "execution_count": null,
   "id": "f386b1fb",
   "metadata": {},
   "outputs": [],
   "source": [
    "import sklearn\n",
    "neighbor_conservation(adata_concat.X, adata_concat.obsm['STAligner'], np.array(adata_concat.obs['batch_name']))"
   ]
  },
  {
   "cell_type": "code",
   "execution_count": null,
   "id": "39135543",
   "metadata": {},
   "outputs": [],
   "source": [
    "import sklearn\n",
    "neighbor_conservation(adata_concat.obsm['STAGATE'], adata_concat.obsm['STAligner'], np.array(adata_concat.obs['batch_name']))"
   ]
  },
  {
   "cell_type": "code",
   "execution_count": 35,
   "id": "85eb0d1d",
   "metadata": {},
   "outputs": [
    {
     "data": {
      "image/png": "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",
      "text/plain": [
       "<Figure size 640x480 with 1 Axes>"
      ]
     },
     "metadata": {},
     "output_type": "display_data"
    },
    {
     "data": {
      "image/png": "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",
      "text/plain": [
       "<Figure size 640x480 with 1 Axes>"
      ]
     },
     "metadata": {},
     "output_type": "display_data"
    }
   ],
   "source": [
    "sc.pp.neighbors(adata_concat, use_rep='STAligner', n_neighbors=10)\n",
    "sc.tl.umap(adata_concat)\n",
    "sc.pl.umap(adata_concat, color='Ground Truth', title='Celltype')\n",
    "sc.pl.umap(adata_concat, color='slice_name', title='Batch_name')\n",
    "#sc.pl.umap(adata_concat, color='mclust', title='Clustering')"
   ]
  },
  {
   "cell_type": "code",
   "execution_count": 75,
   "id": "28eef30d",
   "metadata": {},
   "outputs": [
    {
     "data": {
      "text/plain": [
       "AnnData object with n_obs × n_vars = 5118 × 2341\n",
       "    obs: 'in_tissue', 'array_row', 'array_col', 'Ground Truth', 'slice_name', 'batch_name'\n",
       "    obsm: 'spatial', 'Graspot'"
      ]
     },
     "execution_count": 75,
     "metadata": {},
     "output_type": "execute_result"
    }
   ],
   "source": [
    "adata_concat"
   ]
  },
  {
   "cell_type": "code",
   "execution_count": 10,
   "id": "326c02e0",
   "metadata": {},
   "outputs": [],
   "source": [
    "adata_concat_common = adata_concat[np.logical_and(adata_concat.obsm['spatial'][:,1] > p3, adata_concat.obsm['spatial'][:,1] < p7)]\n",
    "adata_1 = adata_concat[adata_concat.obs['batch_name'] == '151673_up']\n",
    "adata_specific_1 = adata_1[adata_1.obsm['spatial'][:,1] < p3]\n",
    "adata_common_1 = adata_concat_common[adata_concat_common.obs['batch_name'] == '151673_up']\n",
    "adata_2 = adata_concat[adata_concat.obs['batch_name'] == '151673_down']\n",
    "adata_common_2 = adata_concat_common[adata_concat_common.obs['batch_name'] == '151673_down']\n",
    "adata_specific_2 = adata_2[adata_2.obsm['spatial'][:,1] > p7]"
   ]
  },
  {
   "cell_type": "code",
   "execution_count": 10,
   "id": "cd8183d6",
   "metadata": {},
   "outputs": [],
   "source": [
    "adata_concat_common = adata_concat[np.logical_and(adata_concat.obsm['spatial'][:,0] > p3, adata_concat.obsm['spatial'][:,0] < p7)]\n",
    "adata_1 = adata_concat[adata_concat.obs['batch_name'] == '151673_left']\n",
    "adata_specific_1 = adata_1[adata_1.obsm['spatial'][:,0] < p3]\n",
    "adata_common_1 = adata_concat_common[adata_concat_common.obs['batch_name'] == '151673_left']\n",
    "adata_2 = adata_concat[adata_concat.obs['batch_name'] == '151673_right']\n",
    "adata_common_2 = adata_concat_common[adata_concat_common.obs['batch_name'] == '151673_right']\n",
    "adata_specific_2 = adata_2[adata_2.obsm['spatial'][:,0] > p7]"
   ]
  },
  {
   "cell_type": "code",
   "execution_count": 33,
   "id": "8cb37156",
   "metadata": {},
   "outputs": [
    {
     "data": {
      "text/plain": [
       "AnnData object with n_obs × n_vars = 6186 × 5000\n",
       "    obs: 'in_tissue', 'array_row', 'array_col', 'Ground Truth', 'slice_name', 'batch_name'\n",
       "    uns: 'edgeList'\n",
       "    obsm: 'spatial', 'STAGATE', 'STAligner'"
      ]
     },
     "execution_count": 33,
     "metadata": {},
     "output_type": "execute_result"
    }
   ],
   "source": [
    "adata_concat"
   ]
  },
  {
   "cell_type": "code",
   "execution_count": 35,
   "id": "f3c4f6a5",
   "metadata": {},
   "outputs": [],
   "source": [
    "adata_concat_common = adata_concat[adata_concat.obsm['spatial'][:,0] < p7]\n",
    "#adata_1 = adata_concat[adata_concat.obs['batch_name'] == '151673']\n",
    "#adata_specific_1 = adata_1[adata_1.obsm['spatial'][:,0] > p7]\n",
    "adata_common_1 = adata_concat_common[adata_concat_common.obs['batch_name'] == '151673']\n",
    "#adata_2 = adata_concat[adata_concat.obs['batch_name'] == '151673_up']\n",
    "adata_common_2 = adata_concat_common[adata_concat_common.obs['batch_name'] == '151673_down']\n",
    "#adata_specific_2 = adata_2[adata_2.obsm['spatial'][:,1] > p7]"
   ]
  },
  {
   "cell_type": "code",
   "execution_count": 32,
   "id": "8a9b7566",
   "metadata": {},
   "outputs": [],
   "source": [
    "adata = adata_concat\n",
    "\n",
    "Batch_list_r = Batch_list\n",
    "for it in range(len(section_ids)):\n",
    "    Batch_list_r[it].obsm['Graspot'] = adata[adata.obs['batch_name'] == section_ids[it]].obsm['Graspot']"
   ]
  },
  {
   "cell_type": "code",
   "execution_count": 50,
   "id": "aa02658c",
   "metadata": {},
   "outputs": [
    {
     "name": "stdout",
     "output_type": "stream",
     "text": [
      "0.823614\n"
     ]
    }
   ],
   "source": [
    "#无prior\n",
    "accuracy_ot=[]\n",
    "for iters,comb in enumerate(iter_comb):\n",
    "    i,j=comb[0],comb[1]\n",
    "    accuracy_ot.append(mapping_accuracy_ot(Batch_list[i].obs['Ground Truth'], Batch_list[j].obs['Ground Truth'], tran_list[iters].cpu().detach().numpy()))\n",
    "    print(mapping_accuracy_ot(Batch_list[i].obs['Ground Truth'], Batch_list[j].obs['Ground Truth'], tran_list[iters].cpu().detach().numpy()))"
   ]
  },
  {
   "cell_type": "code",
   "execution_count": 51,
   "id": "a264482d",
   "metadata": {},
   "outputs": [
    {
     "name": "stdout",
     "output_type": "stream",
     "text": [
      "0.8732452518579686\n"
     ]
    }
   ],
   "source": [
    "filter_num=0\n",
    "accuracy_in=[]\n",
    "getMax_plt=[]\n",
    "matching_plt_new=[]\n",
    "indexx=[]\n",
    "\n",
    "for iters,comb in enumerate(iter_comb):\n",
    "    i,j=comb[0],comb[1]\n",
    "    result1 = pd.DataFrame(tran_list[iters].cpu().detach().numpy())\n",
    "    if tran_list[iters].shape[0] <= tran_list[iters].shape[1]:\n",
    "        matching_index = np.argmax(result1.to_numpy(),axis=1)\n",
    "        matching = np.array([np.arange(result1.shape[0]),matching_index])\n",
    "        getMax = np.zeros_like(tran_list[iters].cpu().detach().numpy())\n",
    "        #np.put_along_axis(getMax,tran_list[iters].cpu().detach().numpy().argmax(1)[:,None],1,axis=1)\n",
    "        for k in range(matching.shape[1]):\n",
    "            x = int(matching[:,k][0])\n",
    "            y = int(matching[:,k][1])\n",
    "            if tran_list[iters][x][y] <=filter_num:\n",
    "                getMax[x][y] = 0\n",
    "            if tran_list[iters][x][y] >filter_num:\n",
    "                getMax[x][y] = 1\n",
    "                indexx.append(k)\n",
    "            #getMax[x][y] = 1\n",
    "        #matching_index_new = np.argmax(getMax,axis=1)\n",
    "        #matching_new = np.array([np.arange(len(matching_index_new)),matching_index_new])\n",
    "        #if getMax\n",
    "        matching_plt_new=matching[:,indexx]\n",
    "        getMax_plt.append(getMax)\n",
    "    if tran_list[iters].shape[0] > tran_list[iters].shape[1]:\n",
    "        matching_index = np.argmax(result1.to_numpy(),axis=0)\n",
    "        matching = np.array([np.arange(result1.shape[1]),matching_index])\n",
    "        getMax = np.zeros_like(tran_list[iters].cpu().detach().numpy())\n",
    "        for k in range(matching.shape[1]):\n",
    "            x = int(matching[:,k][1])\n",
    "            y = int(matching[:,k][0])\n",
    "            if tran_list[iters][x][y] <=filter_num:\n",
    "                getMax[x][y] = 0\n",
    "            if tran_list[iters][x][y] >filter_num:\n",
    "                getMax[x][y] = 1\n",
    "                indexx.append(k)\n",
    "            #getMax[x][y] = 1\n",
    "        #matching_index_new = np.argmax(getMax,axis=1)\n",
    "        #matching_new = np.array([np.arange(len(matching_index_new)),matching_index_new])\n",
    "        matching_plt_new=matching[:,indexx]\n",
    "        getMax_plt.append(getMax)\n",
    "    \n",
    "    accuracy_in.append(mapping_accuracy_in(Batch_list[i].obs['Ground Truth'], Batch_list[j].obs['Ground Truth'], getMax))\n",
    "    print(mapping_accuracy_in(Batch_list[i].obs['Ground Truth'], Batch_list[j].obs['Ground Truth'], getMax))"
   ]
  },
  {
   "cell_type": "code",
   "execution_count": 52,
   "id": "c0a7f2b0",
   "metadata": {},
   "outputs": [
    {
     "name": "stdout",
     "output_type": "stream",
     "text": [
      "0.7796132129428903\n"
     ]
    }
   ],
   "source": [
    "from sklearn.metrics.cluster import adjusted_rand_score\n",
    "#Batch_list[1].obs['Ground Truth'][matching_plt[0][1]]\n",
    "if tran_list[iters].shape[0] <= tran_list[iters].shape[1]:\n",
    "    print(adjusted_rand_score(Batch_list[0].obs['Ground Truth'],Batch_list[1].obs['Ground Truth'][matching_plt_new[1]]))#第一个小第二个大\n",
    "if tran_list[iters].shape[0] > tran_list[iters].shape[1]:\n",
    "    print(adjusted_rand_score(Batch_list[1].obs['Ground Truth'],Batch_list[0].obs['Ground Truth'][matching_plt_new[1]]))#第一个小第二个大"
   ]
  },
  {
   "cell_type": "code",
   "execution_count": null,
   "id": "a605affb",
   "metadata": {},
   "outputs": [],
   "source": [
    "#151673 0.70\n",
    "#151674 0.71\n",
    "#151675 0.69\n",
    "#151676 0.68\n",
    "\n",
    "prior\n",
    "#151673 0.78\n",
    "#151674 0.78\n",
    "#151675 0.79\n",
    "#151676 0.78"
   ]
  },
  {
   "cell_type": "code",
   "execution_count": 15,
   "id": "458d8a2b",
   "metadata": {},
   "outputs": [],
   "source": [
    "stat1 = []\n",
    "pi = tran_list[iters].cpu().detach().numpy()\n",
    "mapping_dict = {'Layer_1':1, 'Layer_2':2, 'Layer_3':3, 'Layer_4':4, 'Layer_5':5, 'Layer_6':6, 'WM':7}\n",
    "stat1.append(np.sum(pi*(scipy.spatial.distance_matrix(np.matrix(Batch_list[0].obs['Ground Truth'].map(mapping_dict)).T,np.matrix(Batch_list[1].obs['Ground Truth'].map(mapping_dict)).T)==0)))\n",
    "stat1.append(np.sum(pi*(scipy.spatial.distance_matrix(np.matrix(Batch_list[0].obs['Ground Truth'].map(mapping_dict)).T,np.matrix(Batch_list[1].obs['Ground Truth'].map(mapping_dict)).T)==1)))\n",
    "stat1.append(np.sum(pi*(scipy.spatial.distance_matrix(np.matrix(Batch_list[0].obs['Ground Truth'].map(mapping_dict)).T,np.matrix(Batch_list[1].obs['Ground Truth'].map(mapping_dict)).T)==2)))\n",
    "stat1.append(np.sum(pi*(scipy.spatial.distance_matrix(np.matrix(Batch_list[0].obs['Ground Truth'].map(mapping_dict)).T,np.matrix(Batch_list[1].obs['Ground Truth'].map(mapping_dict)).T)==3)))\n",
    "stat1.append(np.sum(pi*(scipy.spatial.distance_matrix(np.matrix(Batch_list[0].obs['Ground Truth'].map(mapping_dict)).T,np.matrix(Batch_list[1].obs['Ground Truth'].map(mapping_dict)).T)==4)))\n",
    "stat1.append(np.sum(pi*(scipy.spatial.distance_matrix(np.matrix(Batch_list[0].obs['Ground Truth'].map(mapping_dict)).T,np.matrix(Batch_list[1].obs['Ground Truth'].map(mapping_dict)).T)==5)))\n",
    "stat1.append(np.sum(pi*(scipy.spatial.distance_matrix(np.matrix(Batch_list[0].obs['Ground Truth'].map(mapping_dict)).T,np.matrix(Batch_list[1].obs['Ground Truth'].map(mapping_dict)).T)==6)))"
   ]
  },
  {
   "cell_type": "code",
   "execution_count": 16,
   "id": "b0f34854",
   "metadata": {},
   "outputs": [
    {
     "data": {
      "text/plain": [
       "[0.88914585,\n",
       " 0.064725325,\n",
       " 0.025626384,\n",
       " 0.0074510323,\n",
       " 0.0009618003,\n",
       " 0.0035875067,\n",
       " 1.956e-42]"
      ]
     },
     "execution_count": 16,
     "metadata": {},
     "output_type": "execute_result"
    }
   ],
   "source": [
    "index = list(range(1,8))\n",
    "stat1"
   ]
  },
  {
   "cell_type": "code",
   "execution_count": 17,
   "id": "b51f6e60",
   "metadata": {},
   "outputs": [
    {
     "data": {
      "text/plain": [
       "8.687133015255009"
      ]
     },
     "execution_count": 17,
     "metadata": {},
     "output_type": "execute_result"
    }
   ],
   "source": [
    "stat1[0]/(sum(stat1)-stat1[0])"
   ]
  },
  {
   "cell_type": "code",
   "execution_count": 18,
   "id": "acb619aa",
   "metadata": {},
   "outputs": [
    {
     "data": {
      "text/plain": [
       "array([8.9677030e-01, 6.5280348e-02, 2.5846131e-02, 7.5149252e-03,\n",
       "       9.7004772e-04, 3.6182697e-03, 1.9730282e-42], dtype=float32)"
      ]
     },
     "execution_count": 18,
     "metadata": {},
     "output_type": "execute_result"
    }
   ],
   "source": [
    "stat1/sum(stat1)"
   ]
  },
  {
   "cell_type": "code",
   "execution_count": 27,
   "id": "c18155aa",
   "metadata": {},
   "outputs": [
    {
     "data": {
      "text/plain": [
       "[0.53067714, 0.33158073, 0.12644412, 0.003607043, 0.0, 0.0, 0.0]"
      ]
     },
     "execution_count": 27,
     "metadata": {},
     "output_type": "execute_result"
    }
   ],
   "source": [
    "index = list(range(1,8))\n",
    "stat"
   ]
  },
  {
   "cell_type": "code",
   "execution_count": 29,
   "id": "a82d63e9",
   "metadata": {},
   "outputs": [],
   "source": [
    "stat2 = [8.81774207e-01, 6.84330078e-02, 3.06662570e-02, 9.64946191e-03,\n",
    "       9.08404829e-03, 2.62012169e-04, 1.31006085e-04]"
   ]
  },
  {
   "cell_type": "code",
   "execution_count": 30,
   "id": "6edbd3a1",
   "metadata": {},
   "outputs": [],
   "source": [
    "stat3 = [9.13363761e-01, 6.07555618e-02, 2.31545710e-02, 2.21836552e-03,\n",
    "       5.07740597e-04, 0.00000000e+00, 0.00000000e+00]"
   ]
  },
  {
   "cell_type": "code",
   "execution_count": 49,
   "id": "ed078791",
   "metadata": {},
   "outputs": [],
   "source": [
    "stat5 = [0.8082221 , 0.06812452, 0.03962112, 0.02296575, 0.02954687,\n",
    "       0.00660037, 0.02491928]"
   ]
  },
  {
   "cell_type": "code",
   "execution_count": 47,
   "id": "f44407e5",
   "metadata": {},
   "outputs": [],
   "source": [
    "stat4 = [0.85009226, 0.0694186 , 0.03456831, 0.01282928, 0.0229641 ,\n",
    "       0.00302927, 0.00709818]"
   ]
  },
  {
   "cell_type": "code",
   "execution_count": 50,
   "id": "f31e9fab",
   "metadata": {},
   "outputs": [
    {
     "data": {
      "text/plain": [
       "<matplotlib.legend.Legend at 0x7fe6b4c4a1f0>"
      ]
     },
     "execution_count": 50,
     "metadata": {},
     "output_type": "execute_result"
    },
    {
     "data": {
      "image/png": "iVBORw0KGgoAAAANSUhEUgAAAiMAAAGdCAYAAADAAnMpAAAAOXRFWHRTb2Z0d2FyZQBNYXRwbG90bGliIHZlcnNpb24zLjcuMSwgaHR0cHM6Ly9tYXRwbG90bGliLm9yZy/bCgiHAAAACXBIWXMAAA9hAAAPYQGoP6dpAAB4iklEQVR4nO3deXxU1f3/8dedfbInZCMLa4CwyCJLQOpWUUSlaqtSwAUU2lKwKlYrFAXpV6m2WP0poiICtVKxVtC64IKiKGsCQRAIexIg+77Oen9/TDIkJIEEktwsn+fjcR8zc+fcez8zgvPmnnPPVVRVVRFCCCGE0IhO6wKEEEII0blJGBFCCCGEpiSMCCGEEEJTEkaEEEIIoSkJI0IIIYTQlIQRIYQQQmhKwogQQgghNCVhRAghhBCaMmhdQGO43W7OnDmDv78/iqJoXY4QQgghGkFVVUpKSoiKikKna/j8R7sII2fOnCE2NlbrMoQQQghxEdLT04mJiWnw/XYRRvz9/QHPhwkICNC4GiGEEEI0RnFxMbGxsd7f8Ya0izBS3TUTEBAgYUQIIYRoZy40xEIGsAohhBBCUxJGhBBCCKEpCSNCCCGE0FS7GDMihBCiYS6XC4fDoXUZohPS6/UYDIZLnnZDwogQQrRjpaWlnDp1ClVVtS5FdFI+Pj507doVk8l00fuQMCKEEO2Uy+Xi1KlT+Pj4EBYWJpNCilalqip2u52cnBxOnDhBnz59zjux2flIGBFCiHbK4XCgqiphYWFYrVatyxGdkNVqxWg0kpqait1ux2KxXNR+ZACrEEK0c3JGRGjpYs+G1NpHM9QhhBBCCHHRJIwIIYQQQlMSRoQQQgihKQkjQgghWtW0adNQFAVFUTCZTMTFxbF48WKcTqe3zfjx49Hr9ezatavO9jk5OcyaNYtu3bphNpuJjIxk/Pjx/PDDD2zevNm774aWzZs3s3r16nrfu9gBmOLSdO6raRJXwcktcMMzENBV62qEEKLTuPHGG1m1ahU2m41PP/2U2bNnYzQamTdvHmlpaWzdupU5c+bw1ltvMXLkyFrb/upXv8Jut7NmzRp69epFVlYWmzZtIi8vjxtvvJGMjAxv24ceeoji4mJWrVrlXRcSEsLJkycJCAggJSWl1r5lMLA2OncYSVoFGXuh301w2R1aVyOEEJdEVVUqHC5Njm016pv0Q159RgNg1qxZrF+/no8++oh58+axatUqbrnlFmbNmsXo0aN54YUXvJcuFxYWsmXLFjZv3szVV18NQPfu3Rk1apR339X7Bc+lpzabrda6aoqi1LtetL7OHUa6j/WEkbRtEkaEEO1ehcPFgKc+1+TYBxaPx8d08T8pVquVvLw8VFVl1apVLFu2jPj4eOLi4nj//fe55557APDz88PPz48NGzYwevRozGZzc30EoaFOPWbkL2o2N8ZEcSLte61LEUKITklVVb766is+//xzfv7zn/PVV19RXl7O+PHjAbj77rtZuXKlt73BYGD16tWsWbOGoKAgxo4dy/z58/nxxx+bfOyioiJvuKleJkyY0GyfTTRepz4zctxt47TRQFJROj3L88EnROuShBDiolmNeg4sHq/ZsZvi448/xs/PD4fDgdvtZsqUKSxatIgZM2YwadIkDAbPz9PkyZN57LHHOHbsGL179wY8Y0ZuvvlmtmzZwvbt2/nss894/vnnefPNN5k2bVqja/D392f37t21P4fMZKuJTh1GhkeNJjF3L4kWC3ekbYP4m7UuSQghLpqiKJfUVdKarr32WpYvX47JZCIqKgqDwUB+fj7r16/H4XCwfPlyb1uXy8Vbb73FM888411nsVi4/vrruf7663nyySeZMWMGCxcubFIY0el0xMXFNefHEhepU3fTjIgcAUCixYx68geNqxFCiM7D19eXuLg4unXr5j0L8s477xATE8PevXtJTk72LkuXLmX16tW4XA0Pzh0wYABlZWWtVb5oZu0jQreQIWFDMKAjy2DgdNr3xGhdkBBCdGIrV67kjjvuYNCgQbXWx8bGMm/ePDZu3Mjo0aO58847uf/++xk8eDD+/v4kJiby/PPPc+uttzbpeKqqkpmZWWd9eHh4s9xvRTRepw4jVoOVgSH92Jt/kMSS48TYSsDsr3VZQgjR6SQlJbF3715WrFhR573AwECuu+46Vq5cybhx40hISOAf//gHx44dw+FwEBsby8yZM5k/f36TjllcXEzXrnXnmMrIyJBLfluZoqqqqnURF1JcXExgYCBFRUUEBAQ0675fTHqRlftXcltJKX+58U2Iu65Z9y+EEC2lsrKSEydO0LNnT5k5VGjmfH8OG/v73enPQw2PGA54xo2Qtk3jaoQQQojOp9OHkWHhw9ChcMpoJDP1O63LEUIIITqdTh9G/Ex+9A/0XLuelH8IHJUaVySEEEJ0Lp0+jAAMj74CgESTDs7svkBrIYQQQjSnTh9GVFVlRLhn3EiSxQKpWzWuSAghhOhcOnUYOfPnP3Pkqqu4rKILCnDCZCT3pIwbEUIIIVpTpw4jjvRTuHJy0e85QB+/bgAk5f4ILqfGlQkhhBCdR6cOIz6jEwAo27GTEdFjAUgyAJlNv/ujEEIIIS5Opw4jvgmeMFK+c+fZ+UasMt+IEEII0Zo6dRixXnYZitWKKz+fIaUhABwxmSiScSNCCNHiMjMzeeihh4iLi8NisRAREcHYsWNZvnw55eXlWpd3XidPnkRRFJKTk7UupUPo1PemUUwmfIYNo2zrVox7DtHTpysnyjNIykri5243yI2ShBCiRRw/fpyxY8cSFBTEs88+y2WXXYbZbGbfvn288cYbREdH84tf/KLOdg6HA6PRqEHFoiV1+l9bn6qumrKdOxgRVTXfiM4BuSlaliWEEB3a73//ewwGA4mJidx1113079+fXr16ceutt/LJJ58wceJEABRFYfny5fziF7/A19eXZ555BpfLxQMPPEDPnj2xWq3069ePl156qdb+N2/ezKhRo/D19SUoKIixY8eSmpoKwKJFixg6dCivv/46sbGx+Pj4cNddd1FUVOTd3u12s3jxYmJiYjCbzQwdOpSNGzd63+/ZsycAw4YNQ1EUrrnmmhb+xjq2Th9GfKsGsZbvSmRExAgAkixmmW9ECNH+qCrYy7RZmnDP1by8PL744gtmz56Nr69vvW0URfE+X7RoEbfffjv79u3j/vvvx+12ExMTw3/+8x8OHDjAU089xfz583nvvfcAcDqd3HbbbVx99dX8+OOPbNu2jd/85je19nn06FHee+89/ve//7Fx40b27NnD73//e+/7L730EkuXLuXvf/87P/74I+PHj+cXv/gFR44cAWDnzp0AfPXVV2RkZPDBBx80/r+TqKNTd9MAWAYOROfri7uoiCFFQQAcMpkoOfkd/iMf0LY4IYRoCkc5PBulzbHnnwFT/cHiXEePHkVVVfr161drfWhoKJWVnltyzJ49m+eeew6AKVOmMH369Fptn376ae/znj17sm3bNt577z3uuusuiouLKSoq4pZbbqF3b8/tPvr3719r+8rKSv75z38SHR0NwMsvv8zNN9/M0qVLiYyM5O9//zt/+tOf+PWvfw3Ac889xzfffMOLL77IsmXLCAsLA6BLly5ERkY26nOLhnX6MyOKwYB1hOdKGsuPR4m1hOJWFJIzdjUp6QshhLg0O3fuJDk5mYEDB2Kz2bzrR4wYUaftsmXLGD58OGFhYfj5+fHGG2+QlpYGQEhICNOmTWP8+PFMnDiRl156iYyMjFrbd+vWzRtEAMaMGYPb7SYlJYXi4mLOnDnD2LFja20zduxYDh482JwfWVTp9GdGAHxHJVD27XeUb9/O8KmjST/xMYlqKVcWnISQnlqXJ4QQjWP08Zyh0OrYjRQXF4eiKKSk1B6b16tXLwCsVmut9ed25bz77rv88Y9/ZOnSpYwZMwZ/f3/+9re/sWPHDm+bVatW8Yc//IGNGzeybt06FixYwJdffsno0aOb+slEK+j0Z0bg7CDW8sRERkSMBCDRYpH5RoQQ7YuieLpKtFhqjMe4kC5dunD99dfzyiuvUFZW1uSP+cMPP3DFFVfw+9//nmHDhhEXF8exY8fqtBs2bBjz5s1j69atDBo0iLVr13rfS0tL48yZs8Ft+/bt6HQ6+vXrR0BAAFFRUfzwww91jjtgwAAATCYTAC6Xq8n1i7okjACW/vHoAgJwl5UxtCAAgANmE+Uy34gQQrSIV199FafTyYgRI1i3bh0HDx4kJSWFf/3rXxw6dAi9Xt/gtn369CExMZHPP/+cw4cP8+STT7Jr1y7v+ydOnGDevHls27aN1NRUvvjiC44cOVJr3IjFYuG+++5j7969bNmyhT/84Q/cdddd3vEfjz32GM899xzr1q0jJSWFJ554guTkZB566CEAwsPDsVqtbNy4kaysrFpX4oimk24aQNHr8Rk5ktJNm/D98QSR/kFk2gvZe3obY7QuTgghOqDevXuzZ88enn32WebNm8epU6cwm80MGDCAP/7xj7WubDnXb3/7W/bs2cOkSZNQFIXJkyfz+9//ns8++wwAHx8fDh06xJo1a8jLy6Nr167Mnj2b3/72t959xMXF8ctf/pKbbrqJ/Px8brnlFl599VXv+3/4wx8oKiri0UcfJTs7mwEDBvDRRx/Rp08fAAwGA//v//0/Fi9ezFNPPcWVV17J5s2bW+bL6gQUVW37ozSLi4sJDAykqKiIgICAFjlG/j//SdazS/AdO5bl9wTxcern/LagiDkP7AR/GSkthGh7KisrOXHiBD179sRisWhdTruxaNEiNmzYILOnNpPz/Tls7O93p++mKS+2o7rVs+NGdu9mRJhn5HaizDcihBBCtLiLCiPLli2jR48eWCwWEhISvJO/NOTFF1+kX79+WK1WYmNjeeSRR7zXkmtFVVU++HsSqx7/ntxTpZj79EEfHIxaUcHQPH8A9pnN2E5u0bROIYQQoqNrchhZt24dc+fOZeHChezevZshQ4Ywfvx4srOz622/du1annjiCRYuXMjBgwdZuXIl69atY/78+Zdc/KVQFAWzj+f+BukH81F0OnxGjQIgYH8aXQx+2HUK+079cL7dCCGEaGcWLVokXTRtTJPDyAsvvMDMmTOZPn06AwYM4LXXXsPHx4e33nqr3vZbt25l7NixTJkyhR49enDDDTcwefLkC55NaQ2x/YMBTxgB8EnwhJHynTsZEVnVVVOZAeX52hQohBBCdAJNCiN2u52kpCTGjRt3dgc6HePGjWPbtvrn5LjiiitISkryho/jx4/z6aefctNNNzV4HJvNRnFxca2lJcT2DwEg42gRTrsL36pxIxW7dzMyzPM8yWKG9B0N7kMIIYQQl6ZJYSQ3NxeXy0VERESt9REREWRmZta7zZQpU1i8eDE/+9nPMBqN9O7dm2uuuea83TRLliwhMDDQu8TGxjalzEYLivDBN8iMy+km42gRpl690IeFotrtDM3xzCa412zGIeNGhBBCiBbT4lfTbN68mWeffZZXX32V3bt388EHH/DJJ5/wl7/8pcFt5s2bR1FRkXdJT09vkdoURanVVaMoCr6jPGdEgn86RZDeSoVOx0/pEkaEEEKIltKkMBIaGoperycrK6vW+qysrAbvWvjkk09yzz33MGPGDC677DJuv/12nn32WZYsWYLb7a53G7PZTEBAQK2lpVR31aQfqjtu5PKwoQAklaSCrbTFahBCCCE6syaFEZPJxPDhw9m0aZN3ndvtZtOmTYwZU/9cpeXl5eh0tQ9TPc1vW5hvLSbeE0Zy00spL7afHTey90dGhXtuqJRoMcGpXQ3uQwghhBAXr8ndNHPnzmXFihWsWbOGgwcPMmvWLMrKypg+fToA9957L/PmzfO2nzhxIsuXL+fdd9/lxIkTfPnllzz55JNMnDjxvPceaC0+ASa6xPgBcColH2O3bhgiI8Hh4PJMz50j91jMuE5+r2WZQgghRIfV5HvTTJo0iZycHJ566ikyMzMZOnQoGzdu9A5qTUtLq3UmZMGCBSiKwoIFCzh9+jRhYWFMnDiRZ555pvk+xSWKjQ8m71Qppw4W0HdkJL4JCRR9+CEhB87gH26mBBuH0r5joNaFCiGEaHM2bdrEnDlz2L9/f5v4R3Zj/PrXv2bkyJE8+uijWpcCXOQA1jlz5pCamorNZmPHjh0kVHVtgGfA6urVq72vDQYDCxcu5OjRo1RUVJCWlsayZcsICgq61NqbjXfcyMF8VPXs1PAVO3cxLHQQAIlFR8Bp06xGIYToKKZNm4aiKCiKgslkIi4ujsWLF+N0Or1txo8fj16vr3U33mo5OTnMmjWLbt26YTabiYyMZPz48fzwww9s3rzZu++Glurfqfreq3lvlSVLljBy5Ej8/f0JDw/ntttuIyUlpU49jz/+OAsWLGixINLUWc8dDgeLFy+md+/eWCwWhgwZwsaNG2u1WbBgAc8880ybudtwp783DUDXPkHoDAqlBTYKs8rxrRrEWrF/PyO7VM03YtLDmT1alimEEB3GjTfeSEZGBkeOHOHRRx9l0aJF/O1vfwM8Z9i3bt3KnDlz6p1Q81e/+hV79uxhzZo1HD58mI8++ohrrrmGvLw8rrjiCjIyMrzLXXfd5T1W9XLFFVcAEBAQUGt9RkYGqamp3uN8++23zJ49m+3bt/Pll1/icDi44YYbKCsr87b5/vvvOXbsGL/61a9a5Htq6qzn4Akar7/+Oi+//DIHDhzgd7/7Hbfffjt79pz9DRs0aBC9e/fmX//6V4vU3WRqO1BUVKQCalFRUYsdY/0Lu9VXfrtJ3ft1uqqqqnrkunHqgX7x6o8frlYHrR6kjl3ZX3V9+7cWO74QQjRVRUWFeuDAAbWiokJVVVV1u91qmb1Mk8Xtdje67vvuu0+99dZba627/vrr1dGjR6uqqqqLFi1Sf/3rX6sHDx5UAwMD1fLycm+7goICFVA3b9580cdSVVVdtWqVGhgY2OiaVVVVs7OzVUD99ttvvetmz56t3nHHHbXaJScnq9dcc43q5+en+vv7q5dffrm6a9euJh2r2qhRo9TZs2d7X7tcLjUqKkpdsmRJg9t07dpVfeWVV2qt++Uvf6lOnTq11rqnn35a/dnPfnZRddV07p/Dmhr7+93kMSMdVWz/YE6nFJB+MJ/B18bgkzCKolOnCD2YgbWrgSI9HE3dTF/+qHWpQghRrwpnBQlrEy7csAXsmLIDH6PPRW9vtVrJy8tDVVVWrVrFsmXLiI+PJy4ujvfff5977rkHAD8/P/z8/NiwYQOjR4/GbDY310e4oOoujZCQEO+6LVu2MGXKlFrtpk6dyrBhw1i+fDl6vZ7k5GSMRs+90NLS0hgwYMB5jzN//nzmz5/vnfW85kUhF5r1HDyzmNfsbgLP9/v997UvxBg1ahTPPPMMNputVb/H+kg3TZXqcSOnDxfgdrnxHe25rLdyZyJDQ+IBSMw/CG6XZjUKIURHo6oqX331FZ9//jk///nP+eqrrygvL2f8+PEA3H333axcudLb3mAwsHr1atasWUNQUBBjx45l/vz5/Pjjj00+dlFRkTfcVC8TJkyot63b7ebhhx9m7NixDBo0yLs+NTWVqKioWm3T0tIYN24c8fHx9OnThzvvvJMhQ4YAEBUVRXJy8nmX3/3ud8DFzXoOnvE2L7zwAkeOHMHtdvPll1/ywQcfkJGRUatdVFQUdrv9vPtqLXJmpEporD9mXwO2MidZJ0sIrZqJtfLgQRJCfsO2vP0kGmFK5j6IGqptsUIIUQ+rwcqOKdrcS8tqsDap/ccff4yfnx8OhwO3282UKVNYtGgRM2bMYNKkSRgMnp+nyZMn89hjj3Hs2DF69+4NeMaM3HzzzWzZsoXt27fz2Wef8fzzz/Pmm28ybdq0Rtfg7+/P7t27a38Oa/2fY/bs2ezfv7/O2YWKioo6ZyHmzp3LjBkzePvttxk3bhx33nmnt3aDwUBcXFyja7wYL730EjNnziQ+Ph5FUejduzfTp0+vM/6m+rOWl5e3aD2NIWdGquh0CjH9zl5VY4wIx9SjB7jdDK+abyTJYkY9+YOGVQohRMMURcHH6KPJoihKk2q99tprSU5O5siRI1RUVLBmzRpsNhvr16/n1VdfxWAwYDAYiI6Oxul01vkhtVgsXH/99Tz55JNs3bqVadOmsXDhwibVoNPpiIuLq7VER0fXaTdnzhw+/vhjvvnmG2JiYmq9FxoaSkFBQa11ixYt4qeffuLmm2/m66+/ZsCAAaxfvx7wnDU592zMucuzzz7r3XdTZz0HCAsLY8OGDZSVlZGamsqhQ4fw8/OjV69etdrl5+d722tNzozUENs/mGO7szl1MJ9Rt/TEJyEB+8mThB/IxtxNT74eTpz8ml5XzNa6VCGEaNd8fX3rnCF45513iImJYcOGDbXWf/HFFyxdupTFixc3ePnsgAED6mx3qVRV5cEHH2T9+vVs3ryZnj171mkzbNgwDhw4UGd937596du3L4888giTJ09m1apV3H777d5umvOpHpNSc9bz2267DTg76/mcOXMuWL/FYiE6OhqHw8F///tf7rrrrlrv79+/n5iYGEJDQy+4r5YmYaSG6nEjmSeKsVc48U0YReG6dVTuSmTwZXHsKkwhKW8fvVQVmvivACGEEOe3cuVK7rjjjlpjMgBiY2OZN28eGzduZPTo0dx5553cf//9DB48GH9/fxITE3n++ee59dZbm3Q8VVXrHS8RHh6OTqdj9uzZrF27lg8//BB/f39v28DAQG8Xx/jx41mzZo1324qKCh577DHuuOMOevbsyalTp9i1a5f30t+mdtPMnTuX++67jxEjRjBq1ChefPHFWrOeg2fm8+joaJYsWQLAjh07OH36NEOHDuX06dMsWrQIt9vN448/XmvfW7Zs4YYbbmh0LS1JwkgNAaFWAsKsFOdUcPpIIbGjPPON2FJSGB04jV2FKSTqnNyZexjC+mlcrRBCdBxJSUns3buXFStW1HkvMDCQ6667jpUrVzJu3DgSEhL4xz/+wbFjx3A4HMTGxjJz5kzmz5/fpGMWFxfTtWvXOuszMjKIjIxk+fLlAFxzzTW13l+1apV3bMrUqVN5/PHHSUlJoV+/fuj1evLy8rj33nvJysoiNDSUX/7ylzz99NNNqq3ahWY9h7ozn1dWVrJgwQKOHz+On58fN910E2+//XatyUYrKyvZsGFDncnQtKKoahu4W90FFBcXExgYSFFRUYvewRdg89oUfvruNJddG8NVk/pyfOJEbEeOUr5oNtNsrxPudPLV4D+ijHygResQQogLqays5MSJE/Ts2bPOIErReh577DGKi4t5/fXXtS6l0ZYvX8769ev54osvLnlf5/tz2NjfbxnAeo7Y/sEAnDroGdjjU3VVTURKDgZ0ZBsMnDr5jWb1CSGEaFv+/Oc/0717d9xut9alNJrRaOTll1/WugwvCSPniO4bjKJAQWY5pQWV+FRNDW/bmcSggB4AJGbvgbZ/QkkIIUQrCAoKYv78+bW6Stq6GTNm0K9f2xlu0H6+uVZi8TUS1t1zKin9YAE+I0eComA/dowr/IYDkKSWQ2GalmUKIYQQHYaEkXpUd9WkH8zHEByMOd4zA+vwTD8AEi0WSN2qWX1CCCFERyJhpB7Vl/ieOpSP6lbxrbqqpmtKLjrgtNFA5olNGlYohBBCdBwSRuoR2SsQg1lPRYmDvDOl+CR4BrHadiXR39cz+15iZqKWJQohhBAdhoSReugNOqL7BAGQfqAAn5EjQKfDkZrGz6zDAEh0FkFJ1nn2IoQQQojGkDDSgJj4qkt8D+Wj9/fHMnAgACOyAgHPfWpIk3EjQgghxKWSMNKA6nEjZ44U4nS48K26xDcyJRcFOGkykntC5hsRQgghLpWEkQaERPniE2jC6XCTeazIO27EmbiHvlbP3RKTzmzXskQhhBBtwKZNm+jfvz8ul0vrUpqN3W6nR48eJCa2zvhICSMNUBSF2HjP2ZH0gwX4XH45GAw4Tp/mSuNgABJt2VBRcL7dCCGEOMe0adNQFAVFUTCZTMTFxbF48WKcTqe3zfjx49Hr9ezatavO9jk5OcyaNYtu3bphNpuJjIxk/Pjx/PDDD2zevNm774aWzZs3s3r16nrfqzmd+ZIlSxg5ciT+/v6Eh4dz2223kZKSUqeexx9/nAULFjR4R+FLtWzZMnr06IHFYiEhIYGdO3eet73D4WDx4sX07t0bi8XCkCFD6tyDZtGiRXU+e3zVNBbguWPwH//4R/70pz+1yGc6l4SR84ipMd+IztcXa9WdJEfkeMaNJFrMkLZDs/qEEKK9uvHGG8nIyODIkSM8+uijLFq0iL/97W+A58ZvW7duZc6cObz11lt1tv3Vr37Fnj17WLNmDYcPH+ajjz7immuuIS8vjyuuuIKMjAzvctddd3mPVb1cccUVAAQEBNRan5GRQWpqqvc43377LbNnz2b79u18+eWXOBwObrjhBsrKyrxtvv/+e44dO+a9K29zW7duHXPnzmXhwoXs3r2bIUOGMH78eLKzsxvcZsGCBbz++uu8/PLLHDhwgN/97nfcfvvt7Nmzp1a7gQMH1vrs33//fa33p06dyvfff89PP/3UIp+tJrlr73lUnxnJSS+hstSBz+gEKpKT6ZqSD4PhqMlE4YlvCOp3o8aVCiEEqKqKWlGhybEVqxVFURrdvvqMBsCsWbNYv349H330EfPmzWPVqlXccsstzJo1i9GjR/PCCy9gtVoBKCwsZMuWLWzevJmrr74agO7duzOqaj4owLtfAKvVis1mq7XOW7Oi1Lu+2rlnE1avXk14eDhJSUlcddVVALz77rtcf/31tc6o7N27l4cffpjExEQURaFPnz68/vrrjBgxotHfT7UXXniBmTNnMn36dABee+01PvnkE9566y2eeOKJerd5++23+fOf/8xNN90EeL7fr776iqVLl/Kvf/3L285gMJz38wcHBzN27Fjeffdd/vKXvzS59qaQMHIevkFmQqJ8yT9TxqmUAromJJD32uu4EpPpNaILx+15JJ36geu0LlQIIQC1ooKUy4drcux+u5NQfHwuenur1UpeXh6qqrJq1SqWLVtGfHw8cXFxvP/++9xzzz0A+Pn54efnx4YNGxg9ejRms7m5PsIFFRUVARASEuJdt2XLFqZMmVKr3dSpUxk2bBjLly9Hr9eTnJyM0WgEPGd9BgwYcN7jzJ8/n/nz52O320lKSmLevHne93Q6HePGjWPbtm0Nbm+z2ercPddqtdY583HkyBGioqKwWCyMGTOGJUuW0K1bt1ptRo0axZYtW85bb3OQMHIBsfEh5J8pI/1gPr3uGIZiNOLMyuIa/c85znckVZzmOnsZmHy1LlUIIdodVVXZtGkTn3/+OQ8++CBfffUV5eXljB8/HoC7776blStXesOIwWBg9erVzJw5k9dee43LL7+cq6++ml//+tcMHjy4SccuKirCz8+v1rorr7ySzz77rE5bt9vNww8/zNixYxlU1WUPkJqaSlRUVK22aWlpPPbYY94xGH369PG+FxUVRXJy8nnrqg47ubm5uFwuIiIiar0fERHBoUOHGtx+/PjxvPDCC1x11VX07t2bTZs28cEHH9QaYJuQkMDq1avp168fGRkZPP3001x55ZXs378ff3//WvXW7LpqKRJGLiCmfzB7v04n/WA+irkf1iFDKE9MZER2CG/5Q6LZBKd2Qa9rtC5VCNHJKVYr/XYnaXbspvj444/x8/PD4XDgdruZMmUKixYtYsaMGUyaNAmDwfPzNHnyZB577DGOHTtG7969Ac+YkZtvvpktW7awfft2PvvsM55//nnefPNNpk2b1uga/P392b17d6111gY+x+zZs9m/f3+dswsVFRV1zkLMnTuXGTNm8PbbbzNu3DjuvPNOb+0Gg4G4uLhG13gxXnrpJWbOnEl8fDyKotC7d2+mT59ea/zNhAkTvM8HDx5MQkIC3bt357333uOBBx7wvme1WikvL2/RekEGsF5QVJ8gdHqFkrxKinMr8Bk92rP+cB4AKSYjJSc2a1ihEEJ4KIqCzsdHk6Up40UArr32WpKTkzly5AgVFRWsWbMGm83G+vXrefXVVzEYDBgMBqKjo3E6nXUGslosFq6//nqefPJJtm7dyrRp01i4cGGTatDpdMTFxdVaoqOj67SbM2cOH3/8Md988w0xMTG13gsNDaWgoPZVlYsWLeKnn37i5ptv5uuvv2bAgAGsX78e8Jw1qe5qamh59tlnvfvW6/VkZdWe7TsrK+u8Yz3CwsLYsGEDZWVlpKamcujQIfz8/OjVq1eD2wQFBdG3b1+OHj1aa31+fj5hYWENbtdc5MzIBZgsBiJ7BXLmSCHpBwvolTCK3FfAtXsfsaMDSHcUsyd9C1dpXagQQrQjvr6+dc4QvPPOO8TExLBhw4Za67/44guWLl3K4sWLG7x8dsCAAXW2u1SqqvLggw+yfv16Nm/eTM+ePeu0GTZsGAcOHKizvm/fvvTt25dHHnmEyZMns2rVKm6//fYmddOYTCaGDx/Opk2buO222wBPd9GmTZuYM2fOBeu3WCxER0fjcDj473//y1133dVg29LSUo4dO+btDqu2f/9+hg0bdsFjXSoJI40Q2z+4KozkM2D6EBSzGVduLj93X8EadpJYcoKrnHYwmLQuVQgh2q2VK1dyxx131BqTARAbG8u8efPYuHEjo0eP5s477+T+++9n8ODB+Pv7k5iYyPPPP8+tt97apOOpqkpmZmad9eHh4eh0OmbPns3atWv58MMP8ff397YNDAz0dueMHz+eNWvWeLetqKjgscce44477qBnz56cOnWKXbt2eS/9bWo3zdy5c7nvvvsYMWIEo0aN4sUXX6SsrMx7dQ3AvffeS3R0NEuWLAFgx44dnD59mqFDh3L69GkWLVqE2+3m8ccf927zxz/+kYkTJ9K9e3fOnDnDwoUL0ev1TJ48udbxt2zZ0uJX0oCEkUaJ6R/Cjo9OcDqlAAxGrJcPo3zbdkbmhLImBJJMBjizB7olaF2qEEK0S0lJSezdu5cVK1bUeS8wMJDrrruOlStXMm7cOBISEvjHP/7BsWPHcDgcxMbGMnPmTObPn9+kYxYXF9O1a9c66zMyMoiMjGT58uUAXHPNNbXeX7VqlXdsytSpU3n88cdJSUmhX79+6PV68vLyuPfee8nKyiI0NJRf/vKXPP30002qrdqkSZPIycnhqaeeIjMzk6FDh7Jx48Zag1rT0tLQ6c6OuqisrGTBggUcP34cPz8/brrpJt5++22CgoK8bU6dOsXkyZPJy8sjLCyMn/3sZ2zfvr1Wl8y2bdsoKirijjvuuKjam0JRVVVt8aNcouLiYgIDAykqKiIgIKDVj+92q6x8dAv2Cie/+tNwDJ//m5wXX8Jw7c/45ejtGFSVH3reg8/VrTNTnRBCgOdH58SJE/Ts2bPOIErReh577DGKi4t5/fXXtS6lWU2aNIkhQ4ZcMOSd789hY3+/ZQBrI+h0CjH9qu7ie7DAe58adfc+ovS+OBWF5LTNGlYohBBCK3/+85/p3r07brdb61Kajd1u57LLLuORRx5pleNJGGmk2BpTw1sHDULx8cFVVMR1Dk/fX1LRUXB3nJskCSGEaJygoCDmz59fq6ukvTOZTCxYsKDBS52bW8f55lpYTH/P6ObM40U4XAo+wz2zHI7M9fSvJRqBrP1alSeEEEK0WxJGGikwzIp/Fwtul8qZI4X4JnjugxB92HN9+T6zGduJ77QsUQghhGiXJIw0kqIoxFadHak1biT5AGGKBYei8GPqJi1LFEIIIdolCSNNEBNfNW7kUD6W/v3R+fvjLinhhgrPRDiJ+Qeh7V+cJIQQQrQpEkaaIDY+BBTIP1NGeZkLn6rbQY/M84wbSdK7IfeIliUKIYQQ7Y6EkSaw+BkJi/XczfDUwXx8qseNHPHcVnqv2YRDxo0IIYQQTSJhpImqx42kHyzAt2rcCHsP0EU1UanT8dPJrzSsTgghhGh/JIw0UUz/s+NGTH37og8MRC2vYHyp506Oibn7tCxPCCFEK9u0aRP9+/fH5dJmrqnRo0fz3//+V5NjNxcJI03UtXcgeqOO8iI7BVkV+IzydNWMzPPcJyBRsUFhmpYlCiFEmzZt2jQURUFRFEwmE3FxcSxevBin0+ltM378ePR6Pbt27aqzfU5ODrNmzaJbt26YzWYiIyMZP348P/zwA5s3b/buu6Fl8+bNrF69ut73ak5nvmTJEkaOHIm/vz/h4eHcdtttpKSk1Knn8ccfZ8GCBQ3eUfhSfPfdd0ycOJGoqCgURan3zsQLFizgiSeeaNczwEoYaSKDUU9UnyCg9iW+1eNGki1mnCe/16o8IYRoF2688UYyMjI4cuQIjz76KIsWLeJvf/sb4Lnx29atW5kzZw5vvfVWnW1/9atfsWfPHtasWcPhw4f56KOPuOaaa8jLy+OKK64gIyPDu9x1113eY1UvV1xxBQABAQG11mdkZJCamuo9zrfffsvs2bPZvn07X375JQ6HgxtuuIGysjJvm++//55jx45578rb3MrKyhgyZAjLli1rsM2ECRMoKSnhs88+a5EaWoPctfcixMaHkH4gn/SD+cSP95wZUfYfJvjnegr0kHL8cwYOnaJxlUKIzkZVVZx2bf51bDDpUBSl0e2rz2gAzJo1i/Xr1/PRRx8xb948Vq1axS233MKsWbMYPXo0L7zwgnda8sLCQrZs2cLmzZu5+uqrAejevTujqs5SA979AlitVmw2W6111RRFqXd9tY0bN9Z6vXr1asLDw0lKSuKqq64C4N133+X666+vdUZl7969PPzwwyQmJqIoCn369OH1119nRNUVmE0xYcIEJkyYcN42er2em266iXfffZebb765ycdoCySMXITYAcHwAZw+Uoj+t4PQd+mCKy+P8UW9eDckjcScvQzUukghRKfjtLt546FvNTn2b166GqP54rsprFYreXl5qKrKqlWrWLZsGfHx8cTFxfH+++9zzz33AODn54efnx8bNmxg9OjRmM3m5voIF1RU5DkDHhIS4l23ZcsWpkyp/Y/PqVOnMmzYMJYvX45eryc5ORmj0Qh4zvoMGDDgvMeZP3/+Be+Ue65Ro0bx17/+tUnbtCUSRi5Clyg/rP5GKkocZJ8sxjdhFMWffsbI3FBPGHGVcF9pNviFa12qEEK0aaqqsmnTJj7//HMefPBBvvrqK8rLyxk/fjwAd999NytXrvSGEYPBwOrVq5k5cyavvfYal19+OVdffTW//vWvGTx4cJOOXVRUhJ+fX611V155Zb3dHW63m4cffpixY8cyaNAg7/rU1FSioqJqtU1LS+Oxxx4jPj4egD59+njfi4qKIjk5+bx11Qw7jRUVFUV6ejput7td3rBPwshFUHQKMfEhHNmVRfrBAvqOSqD408+IOVYKfWG3xYz75PfoBv1S61KFEJ2IwaTjNy9drdmxm+Ljjz/Gz88Ph8OB2+1mypQpLFq0iBkzZjBp0iQMBs/P0+TJk3nsscc4duwYvXv3BjxjRm6++Wa2bNnC9u3b+eyzz3j++ed58803mTZtWqNr8Pf3Z/fu3bXWNXSX2tmzZ7N//36+/772mMCKiopaXTQAc+fOZcaMGbz99tuMGzeOO++801u7wWAgLi6u0TU2ltVqxe12Y7PZWu1Ou82p/cWnNiK2+hLfGpOfKT8dIcCho1iv58jxL7QsTwjRCSmKgtGs12RpyngRgGuvvZbk5GSOHDlCRUUFa9aswWazsX79el599VUMBgMGg4Ho6GicTmedgawWi4Xrr7+eJ598kq1btzJt2jQWLlzYpBp0Oh1xcXG1lujo6Drt5syZw8cff8w333xDTExMrfdCQ0MpKCiotW7RokX89NNP3HzzzXz99dcMGDCA9evXA56zJtVdTQ0tzz77bJM+B0B+fj6+vr7tMoiAnBm5aNWTn2WfLMYdNhhDeDjO7GwmFMSwLjyTxKwk+mlcoxBCtFW+vr51zhC88847xMTE1Ll89YsvvmDp0qUsXry4wctnBwwYUO9lr5dCVVUefPBB1q9fz+bNm+nZs2edNsOGDePAgQN11vft25e+ffvyyCOPMHnyZFatWsXtt9/eYt00+/fvZ9iwYU3erq2QMHKR/IItBEf6UJBZzpkjhfgkJFD8v/8xMieMdeGZJDnymVpRCNYgrUsVQoh2YeXKldxxxx21xmQAxMbGMm/ePDZu3Mjo0aO58847uf/++xk8eDD+/v4kJiby/PPPc+uttzbpeKqqkpmZWWd9eHg4Op2O2bNns3btWj788EP8/f29bQMDA71nIMaPH8+aNWu821ZUVPDYY49xxx130LNnT06dOsWuXbu8l/42tZumtLSUo0ePel+fOHGC5ORkQkJC6Natm3f9li1buOGGG5r0+dsS6aa5BDHxnvR66mABvqOr5hs5XgpAksWMmrZds9qEEKI9SUpKYu/evfXO1xEYGMh1113HypUr8fPzIyEhgX/84x9cddVVDBo0iCeffJKZM2fyyiuvNOmYxcXFdO3atc6SnZ0NwPLlyykqKuKaa66p9f66deu8+5g6dSo//fSTdzI0vV5PXl4e9957L3379uWuu+5iwoQJPP300xf1vSQmJjJs2DDvWY+5c+cybNgwnnrqKW+b06dPs3XrVqZPn35Rx2gLFFVt+/e8Ly4uJjAwkKKiIgICArQux+vE3hw+Xb6PwDArd/02lmPjrgeDgRkPKRSbVD4Mu45eN72odZlCiA6qsrKSEydO0LNnzzqDKEXreeyxxyguLub111/X5Ph/+tOfKCgo4I033tDk+Of7c9jY3285M3IJovsGo+gUinIqqLR0wRgVBU4n43O7AJCYuVPjCoUQQrS0P//5z3Tv3l2z6djDw8P5y1/+osmxm4uEkUtgshqI7OlJep6rajxdNaOyq8JIZRbYyzWrTwghRMsLCgpi/vz5ms3v8eijjxIREaHJsZuLhJFLFFN1VU16jXEjMSc8ASTJbEJNl7MjQgghxPlIGLlEsfGe+UZOpeRjHemZb0R/OBX/Ssg2GDh1TOYbEUIIIc5HwsglCu8ZgNGix1bmpNDhi7F7N3C7uTHHE1ISz2zVuEIhREfXDq5DEB1Yc/z5kzByifR6HdF9z87G6jvK01UzMqsqjJSfBqdds/qEEB1X9QRgdrv8P0Zop7zcMzSh+maAF0MmPWsGsf1DOPljLukHC4hLSKDwP/8h5ngFjIAkkwEykiF21AX3I4QQTWEwGPDx8SEnJwej0dgub5Am2i9VVSkvLyc7O5ugoKAGZ8dtDAkjzaD6PjUZxwox3TUCAMPxUwRU6DhtNZBx9HO6ShgRQjQzRVHo2rUrJ06cIDU1VetyRCcVFBREZGTkJe1DwkgzCIrwwS/YTGmBjZwiA6bevbEfO8b1GQH8t1cJiae2MFHrIoUQHZLJZKJPnz7SVSM0YTQaL+mMSDUJI81AURRi+odwaGsG6QcL6J0wCvuxYyRkB/HfXiUklaQy0e0C3aX/BxNCiHPpdDqZgVW0a9LB2Eyqu2rSD+bjUzWINeZ4JQBJRgWyftKsNiGEEKItkzDSTGL6eSY/yztVCgM8NzQypGYQWKZy0mQk59iXWpYnhBBCtFkSRpqJT4CJLjF+AGRmuTH36wfAuDM+ACSlfaNZbUIIIURbdlFhZNmyZfTo0QOLxUJCQgI7d55/yvPCwkJmz55N165dMZvN9O3bl08//fSiCm7LYmtMDe+T4Ll6ZlRmEACJRcdAJiYSQggh6mhyGFm3bh1z585l4cKF7N69myFDhjB+/Hiys7PrbW+327n++us5efIk77//PikpKaxYsYLo6OhLLr6tqR43cqrmuJGTNgCSDG7IO6pZbUIIIURb1eSraV544QVmzpzJ9OnTAXjttdf45JNPeOutt3jiiSfqtH/rrbfIz89n69at3tnZevTocWlVt1FRcUHoDTpKC2zYuw8CRcF4KpvgEj1H/U0UHPuS4NA+WpcphBBCtClNOjNit9tJSkpi3LhxZ3eg0zFu3Di2bdtW7zYfffQRY8aMYfbs2URERDBo0CCeffZZXC5Xg8ex2WwUFxfXWtoDg0lP17hAAM6csmMZMACAn5/yXHK3++QmzWoTQggh2qomhZHc3FxcLhcRERG11kdERJCZmVnvNsePH+f999/H5XLx6aef8uSTT7J06VL+7//+r8HjLFmyhMDAQO8SGxvblDI1FRNffYlvAT4Jnq6aUZn+ACQWHtasLiGEEKKtavGradxuN+Hh4bzxxhsMHz6cSZMm8ec//5nXXnutwW3mzZtHUVGRd0lPT2/pMptN9SDW04cLsI4cCUDMSc/MiEmKHQrTNKtNCCGEaIuaNGYkNDQUvV5PVlZWrfVZWVkNzkvftWvXOtPF9u/fn8zMTOx2OyaTqc42ZrMZs9nclNLajLBYfyy+RirLHBSHDgC9HmNmPqFFeg4FGCk+9g0Bw+/TukwhhBCizWjSmRGTycTw4cPZtOns2Ae3282mTZsYM2ZMvduMHTuWo0eP4na7vesOHz5M165d6w0i7Z2iU7xdNWdOlmMZNBCAq9JNqIpC8snPtSxPCCGEaHOa3E0zd+5cVqxYwZo1azh48CCzZs2irKzMe3XNvffey7x587ztZ82aRX5+Pg899BCHDx/mk08+4dlnn2X27NnN9ynamJrzjfgmjAYgIcMzIVpi/gHN6hJCCCHaoiZf2jtp0iRycnJ46qmnyMzMZOjQoWzcuNE7qDUtLQ2d7mzGiY2N5fPPP+eRRx5h8ODBREdH89BDD/GnP/2p+T5FG1N9ZiTrZDGGO0cCb3jmG1FVktzlUJoDfmHaFimEEEK0EYqqtv1pQYuLiwkMDKSoqIiAgACty2mUfz25jaKcCm58oB/2+yeAw8GDv9OTGwRbhz+Fz2V3aV2iEEII0aIa+/st96ZpId6rao6VYR08GICxaQZcikLy8Y1aliaEEEK0KRJGWsjZcSP5+FbNN5JQddO8xJwfNatLCCGEaGskjLSQ6H5BKAoUZpWjDvTMNxJ70u4ZN+IqhsoijSsUQggh2gYJIy3E7GMkvIenfyzXEIViMmEoLCMqH/aZTVSe+F7jCoUQQoi2QcJIC6ruqjl1tATrsGEAjE7V4VAU9h37RMvShBBCiDZDwkgLiu3vucT31KF8rKNGAZBwxgpAYvYezeoSQggh2hIJIy0oomcgBrOeihIHtj4jAM+4EUVVSbLngb1c4wqFEEII7UkYaUF6g47oPkEA5LhCUaxWDCWVxOTAXrMRR/p2bQsUQggh2gAJIy3MO27kSDE+l18OwMhUhUqdjp+OyLgRIYQQQsJIC4upGjdy5kgh5pFV96k5YwEgMWuXZnUJIYQQbYWEkRYW0tUX30ATLoeb0tihQNW4EbdKYkUWOO3aFiiEEEJoTMJIC1MUhZiqrpqsykB0vr4Yyu30yIY9ZgPO07s1rlAIIYTQloSRVhBbdRffUymF+IzwXFVzeSqU63QcOvI/LUsTQgghNCdhpBVUnxnJSS9Bf/kYABJOmwFIytihWV1CCCFEWyBhpBX4BpoJifIFFQoiBgEQm+pA51ZJLD8FbpfGFQohhBDakTDSSqov8c0qtqILDERf6aBXBiQZ9biz9mtcnRBCCKEdCSOtxDvfyKFCrFXjRoalqZTodRw5/LGWpQkhhBCa6tRhpMLuYuux3FY5VlSfIHR6hZL8StTBVwAwKt0EQOJpuYOvEEKIzqvThpFKh4sZ/9zFvSt38tm+jBY/ntGsJ7JXIAD5wfEAxKQ70LtUkkpSQVVbvAYhhBCiLeq0YcSo1xHmZ8bpVnnw33taJZBUd9Vk5BnQBwejt7uIOwNJRlBzj7b48YUQQoi2qNOGEb1OYeldQ7ltaJQ3kGzc37KBpDqMnD5ciGWUZ2r4Iakq+Xo9Jw7LfCNCCCE6p04bRqBuIJmztmUDSVh3f8w+BuwVTmwDPPONjEo3AJB46tsWO64QQgjRlnXqMAKtG0h0OoXofp7ZWPN8ewMQc8qJ0amSWHy8RY4phBBCtHWdPozA2UByaysEEu+4kSwVfVgoOqebPqdVknRO1IK0FjmmEEII0ZZJGKmi1ym8UCeQZDb7cWL7e86MZB4vxjzSc4nv4JMq2QYD6Uc/bfbjCSGEEG2dhJEa6gaS3c0eSALDfAgIteB2qZT08YwbGVk1biQp9etmPZYQQgjRHkgYOYdep7D0ziEtGkhi4j1dNXmmWACizzgxOVQSCw8363GEEEKI9kDCSD0Mel2LBpLqcSNnTjkxdO2KzqXS75RKIjYozWm24wghhBDtgYSRBtQXSD7/qXkCSUy/YFAgP6MM3YgrAc+4kTNGA2eOyLgRIYQQnYuEkfOoDiS/GOIJJLPfaZ5AYvEzEt7NH4Ci7qMAGJ7u+U+RdPKrS96/EEII0Z5IGLkAg17HC3c1fyCJqeqqyVEiAIjKcGGxqSTlH7jkfQshhBDtiYSRRqgvkHxxiYEkNt5zie+Z1EoMsbHo3NA/XSVRLYPKouYoWwghhGgXJIw0UnUgmVgVSH5/iYGka+8gDEYd5cV2XMOvBWBgqkqq0UjOMemqEUII0XlIGGkCg17HP5opkOiNOqL6BAFQ2HUoACPSFACSjn3WHOUKIYQQ7YKEkSY6N5DMXnvxgaR63Ei2swsAXbPc+FaoJObta7Z6hRBCiLZOwshFqBlIHK6LDyTe+9SklmPo2RtF9YwbSXIWgaOiucsWQggh2iQJIxepOQJJlyhfrP5GnHY3FcOuAzzjRo6ajBSc2NwCVQshhBBtj4SRS1AdSG4Z3NUbSL48kNXo7RWd4p0aviB0IACXV48bOfpx8xcshBBCtEESRi6RQa/jxUlDvYHk9+8kNSmQVHfVZJcHANA1241/uUpSTnJLlCuEEEK0ORJGmsGlBJLqMJJzuhxd30EADEhTSbTng8vRYjULIYQQbYWEkWZSHUhurhFIvmpEIPELNhMc6YOqQullPwdgUKpKilFPcdq2li5bCCGE0JyEkWZk0Ot4qUYgmdXIQFJ9iW9+QB8AhqaCqijsOfJhi9YrhBBCtAUSRprZxQSS6q6azGIrKAoReSpBpSqJWUmtUbIQQgihKQkjLaCpgSS6bxA6nUJxng3XwJGA5xLfpMoscLtbq2whhBBCExJGWog3kFx2NpBsOlh/IDFZDET08lxNU9LvagAGpqkcMOopOyNnR4QQQnRsEkZakEGv46Vfnw0kv/tXw4Gker6RPJ8eAAxJBZeisPewjBsRQgjRsUkYaWGNDSTecSN5elSdnrAClS7FKokZO1q7ZCGEEKJVSRhpBQa9jhcvEEgievhjsuixlbuwDa7qqklVSaw4A6qqRdlCCCFEq5Aw0kqM5wSSWf/aXSuQ6PQ6ovsFA1DcewzgCSP7DAqVOQc1qVkIIYRoDRJGWlHNQGJ3uesEkuqumlxDNACDU1WcisKPhz7QpF4hhBCiNUgYaWXVgeSmyyK9geTrQ55AEhPvOTOSnQsuk5UuxRBWqJJ0RmZiFUII0XFJGNGAUa/jpV8P8waS373tCSRBET74BZtxu1QqhlwHeKaGTyxN07hiIYQQouVIGNFIfYHkm5Rsb1dNYewIwBNG9urd2POPa1muEEII0WIkjGioOpBMGHQ2kBQH6gHIUcMBuCxVxaYo/HRovZalCiGEEC1GwojGjHod/2/y2UCycPsxAAoKVOw+wQSVQtd8SDy1ReNKhRBCiJYhYaQNqBlIilQ32XrP/WjKBl8PeKaGTyo5oWWJQgghRIuRMNJG1AwkJw0uANKDBwKecSN7dE6cJee/+68QQgjRHkkYaUOqA0lYXCAAp8oDUfFMflauKBw89F9tCxRCCCFagISRNsao1/GXGcNxK2BRjBT6xRBYDjG5kJT2rdblCSGEEM1OwkgbZLUaia2aGv5Q9Gig6j41RUe0LEsIIYRoERJG2qhuVfON2LpeBsCgNJXdig1XeYGWZQkhhBDNTsJIG1U9+ZneGIpb0TEwVaVUUfhkyzsaVyaEEEI0LwkjbVRojB8WPyMOB5SExeNXCd2y4dP9n7A5JVvr8oQQQohmI2GkjVJ0ivfGeSX9rwY8l/hWWM7wm7eTJJAIIYToMC4qjCxbtowePXpgsVhISEhg586djdru3XffRVEUbrvttos5bKdT3VWT7x8HeAaxHrc6UJwVEkiEEEJ0GE0OI+vWrWPu3LksXLiQ3bt3M2TIEMaPH0929vl/GE+ePMkf//hHrrzyyosutrOpPjOSV2bBqbcwIF2lWNFxZ++j2J1uCSRCCCE6hCaHkRdeeIGZM2cyffp0BgwYwGuvvYaPjw9vvfVWg9u4XC6mTp3K008/Ta9evS6p4M4koIuVwHArqgqFXYfgY4OemTAgIoXxAyMkkAghhOgQmhRG7HY7SUlJjBs37uwOdDrGjRvHtm3bGtxu8eLFhIeH88ADDzTqODabjeLi4lpLZ1XdVVMcNxbw3KcmueAAL0++nBsGnA0k3x7O0bJMIYQQ4qI1KYzk5ubicrmIiIiotT4iIoLMzMx6t/n+++9ZuXIlK1asaPRxlixZQmBgoHeJjY1tSpkdSnUYybN0A6omP3MVY8TJK1POBpKZ/0yUQCKEEKJdatGraUpKSrjnnntYsWIFoaGhjd5u3rx5FBUVeZf09PQWrLJti+4bhKJASaWRSnMQ/dNV8lFIO/4lJoNOAokQQoh2r0lhJDQ0FL1eT1ZW7bvHZmVlERkZWaf9sWPHOHnyJBMnTsRgMGAwGPjnP//JRx99hMFg4NixY/Uex2w2ExAQUGvprMw+RsJ7eD5/YfRwLA7onQFJxz4F8AaS6yWQCCGEaKeaFEZMJhPDhw9n06ZN3nVut5tNmzYxZsyYOu3j4+PZt28fycnJ3uUXv/gF1157LcnJyZ26+6UpqrtqinqMAqq6anJ/9L5vMuhYdk4g+U4CiRBCiHaiyd00c+fOZcWKFaxZs4aDBw8ya9YsysrKmD59OgD33nsv8+bNA8BisTBo0KBaS1BQEP7+/gwaNAiTydS8n6aDqg4jubquqCgMTFNJsueD2+1tc24gmSGBRAghRDvR5DAyadIk/v73v/PUU08xdOhQkpOT2bhxo3dQa1paGhkZGc1eaGcW0SsAo1mPzamn1C+a+FMq2SicSfuuVjsJJEIIIdojRVVVVesiLqS4uJjAwECKioo67fiRj5ftJXVfHn0yvyD20IcsnKrn7oQb+MUNL9Rpa3e6mb12N18eyMJs0LHi3hFc1TdMg6qFEEJ0Zo39/ZZ707QTsfGerprCqGEADEp1k5S9p9621WdIxvWPwCZjSIQQQrRxEkbaCe99agjFpTN4BrHacqCBE1smg45Xp9YOJFuOSCARQgjR9kgYaSeCu/rgG2jC5VYoCuxNnzOQoUL2mcQGtzk3kMxYI4FECCFE2yNhpJ1QFMV7dqQwejhGF/Q7rZJ0eP15tzsbSMIlkAghhGiTJIy0IzFVYaQgfBBQNd9I5q4LbucJJMMlkAghhGiTJIy0IzHxwQAUuQOwG30ZlKqSVFH/PYHOVV8g+f5IbkuWK4QQQjSKhJF2xDfQTJdoX0ChIKgfvTPglEslP+dAo7Y/N5A8sGaXBBIhhBCakzDSzlR31RTGDMfghvh0ld0H/9vo7U0GHctqjCGRQCKEEEJrEkbaGe8lvsH9UIFBaSqJGduatA+zQS+BRAghRJshYaSdiYoLQmdQqHBbqbCGMfCkSmLZ6SbvpzqQXBd/NpD8cFQCiRBCiNYnYaSdMZr1dO0VCEB+cDy9siDd7qSoMLXJ+zIb9Lx699lAcv9qCSRCCCFan4SRdsg7biT6cnQq9D8Few6+d1H7kkAihBBCaxJG2qHqcSMFfr1wKzoGpqoknfrhovd3biCRLhshhBCtScJIOxTWzR+zjwGHaqDEvxsD01QSS09e0j6rA8nP48OpdEggEUII0XokjLRDOp1CTD/PBGj5wfH0zIL0SgdlpY2bAK0hZoOe5RJIhBBCtDIJI+2Ud9xI1DAA+qVD8sH3L3m/9QWSrRJIhBBCtCAJI+2U96Z55iicerPnPjXp3zbLvs8NJPdLIBFCCNGCJIy0U4FhVgJCLajoKAyM8wxiLT7ebPuvDiTX9guTQCKEEKJFSRhpx6q7avJD4umWC6lllVRUFDbb/s0GPa/dM7x2IDkmgUQIIUTzkjDSjsXGV3XVRAwBoF8a/JjyQbMe49xAMmNNIokn85v1GEIIITo3CSPtWEx8MChQauyCzRTIoDSVpNRNzX4cT5fNcK7sE0q53cW0VbtITi9s9uMIIYTonCSMtGMWXyPh3fwBzyW+A1NVEguPtMyxjHreuGcEo3uFUGpzcu/KHew/XdQixxJCCNG5SBhp52JrjBuJyof04jLs9vIWOZbVpGflfSMZ3j2Y4kon96zcQUpmSYscSwghROchYaSd8843EjoQFeiTBvuPfNRix/M1G1g1fSRDYgIpKHcw9c3tHM0ubbHjCSGE6PgkjLRzXXsFYjDpsOl9KfON8nTVnPiiRY8ZYDHyz/sTGNA1gNxSO1Pf3E5qXlmLHlMIIUTHJWGkndMbdUT1CQKqxo2kqSTlH2zx4wb6GPnXjAT6RviRVWxjyoodnCpome4hIYQQHZuEkQ7AexffkHgiCiEtvxiH09bixw3xNfHOjNH0CvPldGEFU1bsIKOoosWPK4QQomORMNIBeKeGD+6LWzHQOx0OHW/ZrppqYf5m1s4YTbcQH9Lyy5m6YgfZJZWtcmwhhBAdg4SRDiAkyhdrgAmXYqQosCeDUlUSj33aasePDLSwdmYC0UFWjueWMXXFDvJKW/7MjBBCiI5BwkgHoCgKsfHBQI35RnJ/bNUaYoJ9WDszgcgAC0eyS7ln5U4Ky+2tWoMQQoj2ScJIB3F2vpH+hJbA6ZxCXC5nq9bQvYsv78xMINTPzIGMYu57ayfFlY5WrUEIIUT7I2Gkg4ipuk9NiV83HAYrPdLhcNrmVq+jd5gfa2cmEOJrYu+pIqav2kWZrXVDkRBCiPZFwkgH4RdsJjjSBxSFgqB+DExVSTr6sSa19I3w5+0HRhFgMZCUWsADa3ZRYXdpUosQQoi2T8JIB1JzavhBqSqJWXs0q2VgVCBvP5CAn9nA9uP5/ObtRCodEkiEEELUJWGkA/GGkeD+BJXB6Yw83Kpbs3qGxAax5v6R+Jj0bDmSy+/f2Y3dqV09Qggh2iYJIx1IVN8gdDqFSmsoFZYudEtXOX56h6Y1De8ewlvTRmIx6vj6UDYP/ns3DpcEEiGEEGdJGOlATBYDEb0CgLNTwyce3qBtUcDoXl1Yce8ITAYdn/+Uxdz39uJyq1qXJYQQoo2QMNLBnO2q8cw3kpSZpHFFHlf2CWP51Msx6hX+t/cMj7//I24JJEIIIZAw0uGcvU9NP/wrFDLSs1DVtvGjf13/CF6ePAy9TuG/u0/x5w3720xtQgghtCNhpIMJ7+6PyWrAafClxD+WqHQ3qdmtOxvr+dw4qCv/mDQUnQL/3pnG0/87IIFECCE6OQkjHYxOryO6bxDguapmUKpKUsp6bYs6xy+GRPH8HUNQFFi99SRLPjskgUQIIToxCSMd0NlxI/3on66SdHq7xhXVdcfwGJ657TIA3vjuOP/48rDGFQkhhNCKhJEOqDqMFAX2xmo3kpl6WuOK6jcloRuLJg4A4P99fZRXvj6icUVCCCG0IGGkAwoMt+IXYkbVGSgM6kNkmpvTeW3zh37a2J7MvykegL9/cZgV3x3XuCIhhBCtTcJIB6QoSp1LfBNT/qtxVQ37zVW9efT6vgA88+lB1mw9qW1BQgghWpWEkQ7Ke4lvcD/i01V2p/+gcUXn9+B1fZhzbRwACz/6iX/vTNO4IiGEEK1FwkgHFRMfDECpXwwG1Z+sY23/x/3RG/rym6t6ATB//T7+m3RK44qEEEK0BgkjHZTVz0RorB/g6aoJS3WSVZyucVXnpygK8ybEc9+Y7qgqPPb+Xv6394zWZQkhhGhhEkY6MO+4kZCqqeEPfaBxRRemKAoLJw5k8qhY3Co8vC6ZjfsztS5LCCFEC5Iw0oHVHMTa97RK0slvNa6ocXQ6hWduu4xfDovG5VZ58N+7+fpQltZlCSGEaCESRjqwrnGB6I067OYg3MYIcg63n8tmdTqF5+8YzC2Du+JwqfzuX7vZciRH67KEEEK0AAkjHZjBqCcqLhDwTA0fkuogryxb46oaz6DX8Y9JQxk/MAK7083Mfyay/Xie1mUJIYRoZhJGOriY+Nrzjew+vEHbgprIqNfx8uTL+Xl8OJUON/ev3kVSar7WZQkhhGhGEkY6uOpxI4VBfYg7o7D72CaNK2o6k0HHq1Mv52dxoZTbXUx7axc/nirUuiwhhBDNRMJIBxca44fVz4jLYKHStye5B9rnDeksRj0r7h3BqJ4hlNic3LNyJwfOFGtdlhBCiGYgYaSDU3SKdwK0/OB4Ak7aKKoo1Laoi2Q16Xlr2kgu7xZEUYWDu1fu4HBWidZlCSGEuEQSRjqBmBqX+A5KU9l99H8aV3Tx/MwGVt8/isExgeSX2ZmyYgfHc0q1LksIIcQlkDDSCVSPGykJ6E6PLAvJhz/XuKJLE2Ax8s/7R9G/awC5pTamrNhBWl651mUJIYS4SBJGOgH/EAtB4VZURU9JYF9y9h/UuqRLFuRj4l8PjKJPuB+ZxZVMXrGd04UVWpclhBDiIkgY6SRqzsbqf6KCMnv779ro4mfmnZkJ9Ar15XRhBVNWbCeruFLrsoQQQjSRhJFOonrcSEFwPAPSVPacaN9dNdXC/S28MzOB2BArqXnlTFmxnZwSm9ZlCSGEaAIJI51EdL9gFAXKfSKIzg9mz4FPtC6p2XQNtLJ2xmiiAi0cyynj7jd3kF9m17osIYQQjSRhpJMwWw1E9AwAoCgonrzkfRpX1LxiQ3xYO3M0EQFmUrJKuGflDorKHVqXJYQQohEkjHQi3kt8Q+LxPVFGhbNjDfjsEerLOzNGE+pn4qczxdy7aicllRJIhBCirZMw0olUD2ItCOpH/zT4MXWztgW1gLhwP96ZMZpgHyN70wuZvmoXZTan1mUJIYQ4j4sKI8uWLaNHjx5YLBYSEhLYuXNng21XrFjBlVdeSXBwMMHBwYwbN+687UXLiegZgNGkw2HyJ7Q0muR9G7QuqUX0i/Tn7QcSCLAYSEwtYMaaRCodLq3LEkII0YAmh5F169Yxd+5cFi5cyO7duxkyZAjjx48nO7v+W9Nv3ryZyZMn880337Bt2zZiY2O54YYbOH369CUXL5pGr9cR3c8zNXxhcDy5ScnaFtSCBkUHsub+UfiZDWw7nsdv3k6SQCKEEG2Uoqqq2pQNEhISGDlyJK+88goAbreb2NhYHnzwQZ544okLbu9yuQgODuaVV17h3nvvbdQxi4uLCQwMpKioiICAgKaUK86x9+t0vn/vCMH5B8k2LuP3/0zGpDdpXVaL2XUyn/ve2km53cW4/uG8OnU4JoP0TgohRGto7O93k/6vbLfbSUpKYty4cWd3oNMxbtw4tm3b1qh9lJeX43A4CAkJabCNzWajuLi41iKaR/W4kaKgOPqmG9h36geNK2pZI3uE8OZ9IzAbdHx1MJuH3t2D0+XWuiwhhBA1NCmM5Obm4nK5iIiIqLU+IiKCzMzMRu3jT3/6E1FRUbUCzbmWLFlCYGCgd4mNjW1KmeI8giN98A0w4tYZCXT04sfkD7QuqcVd0TuUN+4dgUmv47P9mTz6n7243E06ISiEEKIFter56r/+9a+8++67rF+/HovF0mC7efPmUVRU5F3S09NbscqOTVEUYgd2ATxTw+fuStS4otZxdd8wXp16OQadwofJZ3jivz/ilkAihBBtQpPCSGhoKHq9nqysrFrrs7KyiIyMPO+2f//73/nrX//KF198weDBg8/b1mw2ExAQUGsRzScm/ux9aqzHinC4O8dcHOMGRPDy5GHodQr/STrFkx/up4lDpoQQQrSAJoURk8nE8OHD2bRpk3ed2+1m06ZNjBkzpsHtnn/+ef7yl7+wceNGRowYcfHVimZRPW6k1L8bvU/7cjBzt8YVtZ4Jl3XlhbuGoCjwzo40Fn98QAKJEEJorMndNHPnzmXFihWsWbOGgwcPMmvWLMrKypg+fToA9957L/PmzfO2f+6553jyySd566236NGjB5mZmWRmZlJa2v7vGtte+QSY6NLVCoCVfuxNXKdxRa3r1qHRPPcrz9m5VT+c5K8bD0kgEUIIDRmausGkSZPIycnhqaeeIjMzk6FDh7Jx40bvoNa0tDR0urMZZ/ny5djtdu64445a+1m4cCGLFi26tOrFRYsdGEpeRjr5wf3I2/k5/ELrilrXXSNicbjc/Hn9fl7/9jgWg55Hru+rdVlCCNEpNXmeES3IPCPNL/WnPD5+eS/mynwcFU/xm3/vQ6/Ta11Wq3vr+xMs/vgAAI+N78fsa+M0rkgIITqOFplnRHQcUX2C0CkqNksIPTPDSMndr3VJmrj/Zz15YkI8AH/7PIU3txzXuCIhhOh8JIx0UkaTnshenpSq18fz4453Na5IO7+7ujePjPN00fzfJwd5e9tJbQsSQohORsJIJ9btsjAAz7iRbR17JtYL+cN1cfz+mt4APPnhT6zblaZxRUII0XlIGOnEqi/xLQjuh+lIAW61806TrigKj43vx4yf9QTgiQ/2sX7PKY2rEkKIzkHCSCcWGuuPyejCZbASkxvL0bzDWpekKUVR+PPN/blndHdUFR59by+f/JihdVlCCNHhSRjpxHQ6hZj+oQCopnj2bXtH44q0pygKT/9iIJNGxOJW4aF39/DFT42775IQQoiLI2Gkk+t2WTjgmRo+b+sWjatpG3Q6hWd/eRm3D4vG6VaZvXY336Rka12WEEJ0WBJGOrnqcSPFAT0xHimWmUir6HUKf7tjMDdf1hWHS+V3byfxw9FcrcsSQogOScJIJxcQasXPx4Gq0xNR0JuTRSe0LqnNMOh1vPjroVw/IAKb082MNYnsPJGvdVlCCNHhSBgRdBsSBYDDGs++LTJupCajXscrU4ZxTb8wKhwupq/aye60Aq3LEkKIDkXCiKDbZZ77CuUHx5P7w2Zti2mDzAY9r909nLFxXSizu7jvrZ3sO1WkdVlCCNFhSBgRRPcLBtyU+3bFeMQm40bqYTHqWXHvCEb1CKGk0sk9b+3gYEax1mUJIUSHIGFEYPE10iXQBkBISRynitM1rqht8jEZeGv6SIZ1C6Kw3MHdb+7gaHaJ1mUJIUS7J2FEANBjpGfm0QrfePZ/92+Nq2m7/MwGVk8fxWXRgeSV2ZmyYgcncsu0LksIIdo1CSMCgNjLugJQEBxPzpavNK6mbQu0Gvnn/aOIj/Qnu8TGlBXbSc8v17osIYRotySMCAAiewWiw47dFID+mKJ1OW1esK+Jf81IIC7cj4yiSiav2M6ZwgqtyxJCiHZJwogAQG/UERHqGTfiX96XjJIzGlfU9oX6mVk7I4EeXXw4VVDBlBXbyS6u1LosIYRodySMCK9eo/sCUObXj/3fvatxNe1DeICFtTNHExNs5WReOVPe3EFuqU3rsoQQol2RMCK8YofFAlAY1IeczZs0rqb9iAqy8u+Zo+kaaOFodil3v7mDgjK71mUJIUS7IWFEeIVE+WKkFLfeBMdNWpfTrsSG+LB25mjC/c0cyizhnrd2UFTu0LosIYRoFySMCC9FUYjq6vkXvdXWl5ySTI0ral96hvqydmYCXXxN7D9dzPX/+JaPfzwjk8gJIcQFSBgRtfS+ciAAJQH9+Om7/2hcTfsTF+7POzMT6BnqS3aJjTlr93Dfql2k5slcJEII0RAJI6KWbpf3AqDEvxtZX3+jcTXtU3xkAJ89dCWPjOuLyaDju8M53PCP73h50xFsTpfW5QkhRJsjYUTU4htkxqLkgKLDneqrdTntlsWo56Fxffj84av4WVwoNqebpV8e5qaXtrDtWJ7W5QkhRJsiYUTUERPrBMDo7ENhqfxwXoqeob68/cAoXvr1UEL9zBzLKWPyiu3MfS9ZLgEWQogqEkZEHX2vGQZAUWA8+zav07ia9k9RFG4dGs2mR6/mntHdURT4YPdprlv6Lf/emYbbLQNchRCdm4QRUUf05X1BdVJpDSXz6x+0LqfDCLQa+cttg1j/+7EM6BpAUYWDeR/s447XtnIwo1jr8oQQQjMSRkQdJosBX/1pAFzp/hpX0/EMjQ3iozljeeqWAfia9OxOK+SWl7/n2U8PUmZzal2eEEK0Ogkjol6xPau6DtQ+lJTma1tMB2TQ67j/Zz3Z9Og1TBgUicut8sZ3x7n+hW/54ieZ30UI0blIGBH1GvDzkQAUBfZl39cy30hLiQy0sPzu4ayaNpKYYCtniir5zdtJzPxnIqflLsBCiE5CwoioV8SQAejc5TiNvpz5OlHrcjq8a+PD+fKRq/n9Nb0x6BS+PJDFuKXf8sZ3x3C43FqXJ4QQLUrCiKiXzqDH13gSAMeZAG2L6SSsJj2P3xjPpw9dyageIVQ4XDz76SEmvvw9SanSVSaE6LgkjIgG9ejj+ePh0vWhtFjmG2ktfSP8Wffb0fztjsEE+xg5lFnCr5ZvY94HP1JYLncDFkJ0PBJGRIMG/XwUAMUBvdj/1QZti+lkFEXhzhGxfP3oNdw1IgaAf+9M57ql3/LfpFNy8z0hRIciYUQ0KHjgUPSuPFSdgVPf7tO6nE4p2NfE83cM4b3fjqFvhB95ZXYe/c9eJq/YztHsUq3LE0KIZiFhRDRI0RvwNR8HwJ4l841oaVTPED5+8Er+dGM8FqOO7cfzmfDSdyz9IoVKh9x8TwjRvkkYEefVq58eALuhLxXFMohSSyaDjlnX9ObLR67m5/HhOFwqL399lBv+8R3fHs7RujwhhLhoEkbEeQ0bNxZUN2V+0fy48UOtyxFAbIgPK+8bwWt3DycywEJafjn3vbWT2Wt3k1VcqXV5QgjRZBJGxHn59BmO0XkKgPQthzWuRlRTFIUbB0Xy1aNXM+NnPdHrFD75MYNxS79lzdaTuOTme0KIdkTCiDg/gwlfH8+4kcq8IG1rEXX4mQ0suGUAH80Zy5DYIEpsThZ+9BO3LfuBfaeKtC5PCCEaRcKIuKBeAwwAVJj7UFGQq3E1oj4DowL5YNYV/N9tg/C3GNh3uohbl33Poo9+orjSoXV5QghxXoraDiYsKC4uJjAwkKKiIgICZDbQ1mZP+Zo3l9pRdSb62T6k3+gBBA8YiLlvXwzhYSiKonWJooacEhvPfHKADclnAAj3N/PUxAHcfFlX+W8lhGhVjf39ljAiLsxexhuzVuEwDvC8Vt2YbYX4VGRjduRj8XPSpWsAkf26EXJZL3z790Pv56ttzYIfjuayYMN+TuSWAXBV3zD+cutAuneR/zZCiNYhYUQ0q+1L72bXsWtRXJEoirXhhqobi60Ai7MQXx8nXSL8CO4eSujAboQOicPgY269ogWVDhevf3ucZZuPYne6MRt0zLk2jt9c3QuzQa91eUKIDk7CiGheO1fAp39EVSGLIPYrsZx0xVBSHo1aGYnBEYaeMNBdIKi4ivEzOQgMMREcE0iXftGExEcTGOaD3iBDmFrKidwyntywn++Pesb89A7z5f9uu4wxvbtoXJkQoiOTMCKaX0kWZOyFjOSqx71QlA5AhaJwxGDkgCGUdFs0laXdMJSG4VcZitkdhssYjltvaXjfqhsfvZ2AAIWgSD+Ce4cT0r0LgeFWAkKtElSagaqqfLT3DH/5+CC5pTYAfnl5NPNv6k+on5yxEkI0PwkjonWU5Z4NJtUhpeAkAC4g1WjgoMnEIYOJTHtX1IIIggu7EFIWhtUZBvowKi1huAznCSqo+FlVAsMsBHcPISjSn8BwK0HhPvh3sUhQaaKiCgd//zyFf+1IRVUh0GrkiQnxTBoRi04nA1yFEM1HwojQTkUBZPxYO6TkHQVABbL0eg6ZTBw0Gzli9iO/1IxfloWYgjDCSsLws4eh6MKo8AmnwhqGS9/wv9oVRcUv0EhQlD9BYT4EhvucDSqhFvR6CSoNSU4vZP4H+ziQUQzA5d2CeOb2y+jfVf6OCSGah4QR0bZUFkPWfjiTfDak5KaA6gagSKdw2GTioMlEio8fx3U+OHPsRGerdMvzJ6I4jKDKMFR9GOVVIaXcGob7fEFFB/5drASFWb0hJTBMgkpNTpebf25LZekXKZTZXeh1Cg/8rCcPXdcHX7NB6/KEEO2chBHR9tnLIOsnTzCpDik5B8HtBMCmwFGj0XMWxcePFB9/MsudhGc56ZYDsTkq0QUBBJeH4TCdDSmNCyoKAV0snoAS7kNQuJXAME9gCehiQdfJgkpmUSVP/+8nPtufCUBUoIVFvxjIDQMjNa5MCNGeSRgR7ZOjErJ/Onv25EwyZB8Alx3wjENJNxg4ZDZx0OpHil8QhxQXpjw73XLUqgVislVCygKptHq6e8q9IcUTWNx6U4Ml6HQK/l0sZ0NKjcDiH9Kxg8rXh7J46sOfOFVQAcD1AyJY9IuBRAed5yopIYRogIQR0XE47ZBzqPZVPJn7wOm5Q60K5Op1noGyVl8O+XfhkEFHlq2M6FzOhpRsz/OgMgW7KYDyGiGlwhruObPiE45babh7QqdT8A+1EOTt9qkOLD74h5g7RFCpsLt4+esjvPHdcZxuFatRzyPX92H62J4YO8DnE0K0HgkjomNzOSH38DmXGv8IjjJvkxLFMw7lkMXKocAwDpmMHHWXYy1zecNJbK5Kt2yV2Fyw2kFFwWYO9Hb1VFjDqQiIotK/K2X6QNw0PFGYTq8QEGr1jk3xDTRj8TPi42/C4m/E6mfC6m/EaNa3i2nZD2eVsGD9fnaezAcgPtKfZ24fxPDuIRpXJoRoLySMiM7H7YK8Y3XnQrEVe5s4gGMmIwfNVg4FhXPIbCVFraDcZSO0iFpnULrlqETlg94zxvacoBJOZWgPKkO6UWHuQqnTgtvduIChN+qwesOJJ6BY/U1Y/YxnX/udXW80azdTqqqqvJ90imc/PUhBueeGe5NHxfKnG+MJ8mm4q0sIIUDCiBAebjcUnqx9FU9Gsufy4+omwCmDgUNmM4eCunLIx5dDqo0cVzkGpyeQdMs+Ox6lR66OkCJXrcN4gkoQ5b4R2GPjsYf1xGENxm7wxY6ZSoeeSpuKy9H0v24Gk65WOKkOKxb/qrMufkZ8AkzeszAGU/OHl4IyO0s+O8h7iacA6OJrYv5N/fnl5dHt4iyPEEIbEkaEaIiqemaOrXkVT0YylOXUapar05FiNnMwuCspvgEcUlykOopRUbFWqnTLPRtSeuTq6J4DlgpXvYcEz9gWl8kHd2R31PBYnCGRuPzDcfgE4TAHYFOs2FUjlTaFilIHFSUOXE53kz+ewazHx9+Ixa+Bsy7nvDYYGx9edp7IZ8GGfRzOKgVgdK8Q/u+2y4gL92tynUKIjk/CiBBNoapQklH7Kp6MvVByplazckXhsMnIweAoDvkFc8gAR+yFOFQXqCohJZ5LjmNzoUuxSnipnvAyPSHFKr7FdnSN+dum02EIDUUfGYkSHo0rLBpXUAROvy44LIHYDX7YMVFR7qKyxEF5iZ3KUs+j29n0v85Gi75GODl/cLH6mXApsPL7E7y06TCVDjdGvcLvru7N7GvjsDQh2HRkqqridqo4nW6cdhcuhxunw13j0XXOazfOetfVbutyuDFa9PiFWPAPtuAXYsYv2IJ/iAWrnxFFZtAVbYyEESGaQ2l27TEoZ/ZCUVqtJg7ghNHIoaCuHAwMJcWo54izhEJnea12OrdKUCl0KYGQEpUuxdClRKVLiUJ4mZ4uJQoBxQ70rsb9ldR36YIxIgJDZCTGyAj04ZEQGoEzIBynbzB2kz82m0JFqZ2KYofnscTuPetSUWLH3chj1WSy6LH4m9Bb9ZwoqSS1rJIKRcXsZ2TiqBgu7xNaa8CultP1q6qKy+nGaXeffaz64W/oR7++kHChMOF0uHHZXTidblx2N06n23MqrBXpDTp8g8341wgofsFm/Koe/UMsmCwykZ2on8vpRtEpzX5LCAkjQrSU8vy6g2Tzj9dpVqEo5Oj1ZBlNZPsGkW3xI8tkIVuvJ0tRyVbt5DrLcXK2K0ZRVQLKIcQbVM4Gl7BSHWGlOgKLXRgdjeu+0QcGYoiMxBAZgTGi9qMhIgJ3YBh2t7EqoFSFlZLq4OKoEV7sVJY4cLsvIrxYDXUG5dZ67ecZCFv/mYH6gkD96xs649AWGIw69Ebd2UeTHr1Bh8Gkq3qs8bqqncGoQ6cDvepE53agczlQXHacqoFyp4myCoXSAhul+ZWUFdsbFX5MVoMnrIRYqgKLudajb5BZ7vXUgbhdbipKHZQX2ykvtlNR9Vh3sWErc/Lrp0bRJap5u1wljAjRmioKPXOfVIeUrJ883T41BsrWxw3k63Vk6fVkGwxkG0xkWf3JNlnINhrIViBbdVCiOs5upKr4VdQ4w1Li6RIKKYHQEggr1RNS7MZkb9wPsc7Pr96wYoyMxBDhOeuiq/p7Zyt3eruEKkvOnm0pLrSx92g+Gdll+LgVfFDwVZVWPztwPooCepMeQ60QUCMM1AwLRh16o75uiDDqMBgbbqvTq+icdnT2SnSOChRbOVSUoZaX4y4rw1VWhtu7lNd4XndxlZWBw9HwBzIYMISGYggLQxcWgaNLNPaACGyWLlQaAih3Wyi36ykrdVNaYMNW7mzElwQ+AaZaZ1Wqu4P8qwKM1d8og5Y1pLpVKssc9YaKiqpg4X1d6mjS38FfPDyU2PjmvXRfwogQbYHT7hkYW5YNpTlQmlX1vGopq1pXmg2VhQ3uplxRyNbryTboq4JL1RkXkw/ZRiNZOsjDiXf4rKpitXkCS5cST1Cp7hYKKYGwUoUuxWCtbFxgUazWs11CNbqGqsOKITISfXAwBzKKmb9+P3vTC0GFyyMDePznfejmY6l9tqXG2ZfKUjsoiudH/QIBob6QUCccVG2vr3rPYNShN+nQ6ZQ6P6KqqqLabJ4AUFpaKwg0NjS4y8pwlXvaqeXl9X+Bl0gxm9H5+qLz9cVdUYErL88zzqkxqkIL4dE4wmKxB0Zi8wmj0hhIBT6UO42UlUNZkQNXI8YcSXdQ81NVFVu5s4EzGLbagaPEgdqEM5SKAhZ/Ez4BNRZ/Ez6BnufWGustPs0/7kjCiBDtjdNWFU6qg0p2VVDJqR1gSrPBVlRncxeQp9d7uoEMem94ydbryTIayTaayNbpKFPO/pU326uCSlVXkPd5SXWQUfAvb2RgMRo9XUIREZwy+PN9ocIZYwC5PoEkjIzn3ltHERQVgaK/tEGuqtN5NgR4A8QFAkP5uSHjbHtcDV8BddH0em940Pn6oPf1q/G6ocUHna8v+nreUwy1f9xVhwNnXh7OnByc2dmeJScHh/d5Ls7sbE9oaSTVYMAd2R1HeHccQdHY/MKxmYOo0PlR4TJTVqFQXt64sTBmH0ONgNI5u4NUVcVR6arTHVJv4LiIwefVl/RXLzVDxdnFM/Fic48DaQoJI0J0ZI7Ks8GlTmjJqnEWJqfWpG8AZYpSI6wYaoWXLINnXZ5OT/UcbkanJ7CEVHUH1eweCilWCS1VCChTG3WlkKrXYwwPr32WJSICVHejz0qoNlsLfKGg+Ph4goNPVQjwqy9A+Hif1xcavOHBbG4TXRne0FJvYMnBme0JM678/Ebtz63osfmG4ozojj0kBrt/JDZLCBUGfyrcVsrteuz2RuyoHXcHOWyuWuGiothOWQPjMZo6ZsnsYzhPuDCfPYPhb2w3dx2XMCKE8HBU1OgSyj4bUqq7h7zPc8BeAoATyK15ZuWc8FK9rkLn+R+i3qUSXH2lULF6TveQ5zG4FPTN+X8bowF8rFWLD4qPFXytKL4+4GNF8fHxLFWvdb6e1/h42ihVwUKpaqvT1Z6mX8HzXFEUFJQ671W/Vqjn/Qbeq7nPmvvxrkeh6mm927bUj7Nqt58NLQ0EFmd2Nq6C84+BAnDqzdjMwdh8w7CHxmIPqO4WCvB2CzVmtuLzdQdVB5fm6g5yOlwNdJGcXVcdOBy2pp1JM1r0DXSRmGsHDn8TemP7CBhN0aJhZNmyZfztb38jMzOTIUOG8PLLLzNq1KgG2//nP//hySef5OTJk/Tp04fnnnuOm266qdHHkzAiRCuxl59nfEvtriLVUUapolSNYzF4g0utcS16A/l6HaqioHOrBJbVHrsSUvXo1kGlCSpMUGFSPM/NnteVVevOPve859K3vX81twajzojVYMXH6IPVYPU8N9R4XrW+vnXn285qsF4w7Kh2O85cTxeQw9tFlFOnu+h8oUUFHEY/Ki0h2MzBVPqE4giKwuYXTqU5iArFl0q3CW8qO48LdQfp9Mp5BnqeXewVjRjcW4PBqPOOuagTKs7pOjG2wIzIjaG6XKhOJ6rDCU5H1XOHd53qdKA6HOB0etdZBg1E79dOrqZZt24d9957L6+99hoJCQm8+OKL/Oc//yElJYXw8PA67bdu3cpVV13FkiVLuOWWW1i7di3PPfccu3fvZtCgQc36YYQQrche1ojxLVk4ynLIddsa7BrKMehxoqACNS/AUak9PMHz2vMD5WmneEbnebf1PFL1qJ49xYBa1abufhVU1FrrPM/PtlBrvFJVtdZ7HYmCgsVgORtSjLUDy4XCT83tLG4DlqIKTAVlGPKKUXPz6wQWZ3Y2rsLCemtxK3ps5kAqzVWBxRKMzdoFe0AElZYQKvX+OGjeeyPpDTqsAUZPd4i/EaufAauvHh9fPVYfHVaLgsWiYjGBQedEcbnO+XF3ojrsqE5nrR94T5uaP/qOs+1rBgLvuhrbOJy1Q0TVNjjOXed5TY11uJt+WXuP99ZhHTy4Wb/XFgsjCQkJjBw5kldeeQUAt9tNbGwsDz74IE888USd9pMmTaKsrIyPP/7Yu2706NEMHTqU1157rVk/jBCijbKVeruH1JJMfkw5yo59h/Bz5BGqFBGgd2BRHJhxYMaOGTumqucm1Y4JO7o2EAJURY9qMKPqLWCwoBpMqAYLqtGCYvCsw2gFgwkMVk9bgxmMFlS9ueq1BQxm0JtRjWZUvRmq2ql6ExitnkeDqeo9C6rehKpTPIMi3Q7KHeVUOCsod1Y9OsqpcJRRbi+lwllOuaOMCkd51XNPm+ql3FVJhbOSClclFU4bFe6WGYNTkwEFq2LAR9FjVfRY0eGj6PFzKoSUqoSUqgSWuPEvdeNf4sZa4sJS6sJU4sJY4kJXWfe/fXV3UKUlhEpzEDZziCe0VC2VpmBURYfZWYzJVYLZUYzZWYLJUYLJUYzJXlK1FGOqLEbvqACX6rlSRfs/ai1CMRrBaEQxGDxLjecYDUT/7W9Y+vdv1mM29ve7SR1udrudpKQk5s2b512n0+kYN24c27Ztq3ebbdu2MXfu3Frrxo8fz4YNGxo8js1mw1ZjkFpxcXGDbYUQ7YDZz7N06Y0CDBkIPSY4+PvnKfxrRyrqeabT8FAx4sKMHUt1YFEcWLB7AkzN5zgwK3ZvsLHUeF3dxqKcbWup2lfN98/ddzVFdaE4ysHRMpfwno9TMeJUTKAoBKtudKoTHW4U1Y2Oi5/czQ1UKgrlikKFTlf1qFCu6KjQKVQoCuU6XdWjQkXV+ur2tdaf08ZZ1e3jRKXk3PlyqvlVLZENVajH6PTMXhxcCsGlatWjneDSLEJLMgkuhYgC8K08u5UnTyg1zomd34VauXQqbp2nS9Gtx/tc1am4ar2u+b5ap/3Z16qnbQP7rNle1eE5hh7cOgVX1eLWK7j0NZ7rdLj01c8VXHqd97lb0aHqdFVnCXVVZxDdoDhQcaKiY4aaxQiaN4w0VpPCSG5uLi6Xi4iIiFrrIyIiOHToUL3bZGZm1ts+MzOzweMsWbKEp59+uimlCSHamUCrkb/cNog/XNeH/DI7Trcbp0vF6VZxutyex6rnDpeKy63idFc/9zzWbOdyqzhcdfdRVLVf73ZV73na19iuxvE8+/Csczld6Nw2dC47OrcNo9uGzm3HqNoxum11gpDlAkGo4RBVNxQZlbODJQ2qA8OFU1sdLlXBhQ4XelzocKPDia72OrdnnRsdCjrM6DGgw6dqnbetWv1c1/A+1bPrbCjYdFCpg0oF7Dqo1KnYFRW7Ajadil2n4lDc2HVuHDo3TkXFoXPh1LlxKi6cOhcunYtiHxeFfi6O6py4dfUPIj03tJgd4NQruHTg1FPjUcFZ9QPvXX+e126Fqi7B9qBmp2PTBtvelHsMuKaZ62mcNjkzzbx582qdTSkuLiY2NlbDioQQLSXM30yYv1nrMi6Ku2YQctcIMS61VqBxnBN+nC5PKCp3uymq2bbGNk6XitNh98w/46oEhw2cFZ6b8Cl6VMXzg68qBtyKzrMOHaqix63oPf8SRt9mfkQNVYtPM+xLVd04VTtOtRKnaqt6rMSh2nCGnn1dqZ4dmKqvWkyc7yzI+c6P1P9ei+xLdaOgoqieM18KbnSqC3CjU1UUXN71NdtUnyVTVHdVW9fZ/VS3xXNTT1092/eMuuw8NbesJoWR0NBQ9Ho9WVlZtdZnZWURGVn/ObbIyMgmtQcwm82Yze3zf05CiM5Dp1MwVU0oZUXuWCzExWrSRc0mk4nhw4ezadMm7zq3282mTZsYM2ZMvduMGTOmVnuAL7/8ssH2QgghhOhcmtxNM3fuXO677z5GjBjBqFGjePHFFykrK2P69OkA3HvvvURHR7NkyRIAHnroIa6++mqWLl3KzTffzLvvvktiYiJvvPFG834SIYQQQrRLTQ4jkyZNIicnh6eeeorMzEyGDh3Kxo0bvYNU09LS0OnOnnC54oorWLt2LQsWLGD+/Pn06dOHDRs2NHqOESGEEEJ0bDIdvBBCCCFaRGN/vzveRPhCCCGEaFckjAghhBBCUxJGhBBCCKEpCSNCCCGE0JSEESGEEEJoSsKIEEIIITQlYUQIIYQQmpIwIoQQQghNSRgRQgghhKaaPB28FqoniS0uLta4EiGEEEI0VvXv9oUme28XYaSkpASA2NhYjSsRQgghRFOVlJQQGBjY4Pvt4t40brebM2fO4O/vj6Iozbbf4uJiYmNjSU9Pl3veXIB8V00j31fjyXfVePJdNZ58V43Xkt+VqqqUlJQQFRVV6ya652oXZ0Z0Oh0xMTEttv+AgAD5w9pI8l01jXxfjSffVePJd9V48l01Xkt9V+c7I1JNBrAKIYQQQlMSRoQQQgihqU4dRsxmMwsXLsRsNmtdSpsn31XTyPfVePJdNZ58V40n31XjtYXvql0MYBVCCCFEx9Wpz4wIIYQQQnsSRoQQQgihKQkjQgghhNCUhBEhhBBCaKpThpHvvvuOiRMnEhUVhaIobNiwQeuS2qwlS5YwcuRI/P39CQ8P57bbbiMlJUXrstqk5cuXM3jwYO/EQWPGjOGzzz7Tuqx24a9//SuKovDwww9rXUqbtGjRIhRFqbXEx8drXVabdfr0ae6++266dOmC1WrlsssuIzExUeuy2pwePXrU+XOlKAqzZ89u9Vo6ZRgpKytjyJAhLFu2TOtS2rxvv/2W2bNns337dr788kscDgc33HADZWVlWpfW5sTExPDXv/6VpKQkEhMT+fnPf86tt97KTz/9pHVpbdquXbt4/fXXGTx4sNaltGkDBw4kIyPDu3z//fdal9QmFRQUMHbsWIxGI5999hkHDhxg6dKlBAcHa11am7Nr165af6a+/PJLAO68885Wr6VdTAff3CZMmMCECRO0LqNd2LhxY63Xq1evJjw8nKSkJK666iqNqmqbJk6cWOv1M888w/Lly9m+fTsDBw7UqKq2rbS0lKlTp7JixQr+7//+T+ty2jSDwUBkZKTWZbR5zz33HLGxsaxatcq7rmfPnhpW1HaFhYXVev3Xv/6V3r17c/XVV7d6LZ3yzIi4eEVFRQCEhIRoXEnb5nK5ePfddykrK2PMmDFal9NmzZ49m5tvvplx48ZpXUqbd+TIEaKioujVqxdTp04lLS1N65LapI8++ogRI0Zw5513Eh4ezrBhw1ixYoXWZbV5drudf/3rX9x///3NekPaxuqUZ0bExXG73Tz88MOMHTuWQYMGaV1Om7Rv3z7GjBlDZWUlfn5+rF+/ngEDBmhdVpv07rvvsnv3bnbt2qV1KW1eQkICq1evpl+/fmRkZPD0009z5ZVXsn//fvz9/bUur005fvw4y5cvZ+7cucyfP59du3bxhz/8AZPJxH333ad1eW3Whg0bKCwsZNq0aZocX8KIaLTZs2ezf/9+6as+j379+pGcnExRURHvv/8+9913H99++60EknOkp6fz0EMP8eWXX2KxWLQup82r2a08ePBgEhIS6N69O++99x4PPPCAhpW1PW63mxEjRvDss88CMGzYMPbv389rr70mYeQ8Vq5cyYQJE4iKitLk+NJNIxplzpw5fPzxx3zzzTfExMRoXU6bZTKZiIuLY/jw4SxZsoQhQ4bw0ksvaV1Wm5OUlER2djaXX345BoMBg8HAt99+y//7f/8Pg8GAy+XSusQ2LSgoiL59+3L06FGtS2lzunbtWif89+/fX7q1ziM1NZWvvvqKGTNmaFaDnBkR56WqKg8++CDr169n8+bNMhCsidxuNzabTesy2pzrrruOffv21Vo3ffp04uPj+dOf/oRer9eosvahtLSUY8eOcc8992hdSpszduzYOtMPHD58mO7du2tUUdu3atUqwsPDufnmmzWroVOGkdLS0lr/ojhx4gTJycmEhITQrVs3DStre2bPns3atWv58MMP8ff3JzMzE4DAwECsVqvG1bUt8+bNY8KECXTr1o2SkhLWrl3L5s2b+fzzz7Uurc3x9/evM+7I19eXLl26yHikevzxj39k4sSJdO/enTNnzrBw4UL0ej2TJ0/WurQ255FHHuGKK67g2Wef5a677mLnzp288cYbvPHGG1qX1ia53W5WrVrFfffdh8GgYSRQO6FvvvlGBeos9913n9altTn1fU+AumrVKq1La3Puv/9+tXv37qrJZFLDwsLU6667Tv3iiy+0LqvduPrqq9WHHnpI6zLapEmTJqldu3ZVTSaTGh0drU6aNEk9evSo1mW1Wf/73//UQYMGqWazWY2Pj1ffeOMNrUtqsz7//HMVUFNSUjStQ1FVVdUmBgkhhBBCyABWIYQQQmhMwogQQgghNCVhRAghhBCakjAihBBCCE1JGBFCCCGEpiSMCCGEEEJTEkaEEEIIoSkJI0IIIYTQlIQRIYQQQmhKwogQQgghNCVhRAghhBCakjAihBBCCE39fzDe/aiuBpbHAAAAAElFTkSuQmCC",
      "text/plain": [
       "<Figure size 640x480 with 1 Axes>"
      ]
     },
     "metadata": {},
     "output_type": "display_data"
    }
   ],
   "source": [
    "import matplotlib.pyplot as plt\n",
    "plt1 = plt.plot(index,stat)\n",
    "plt2 = plt.plot(index,stat1)\n",
    "plt3 = plt.plot(index,stat2)\n",
    "plt4 = plt.plot(index,stat4)\n",
    "plt5 = plt.plot(index,stat5)\n",
    "#plt.plot([stat,stat2,stat3],label = ['PATSTE','Graspot','PASTE2(s=0.9)'],loc='best')\n",
    "#plt.plot(index,stat3)\n",
    "plt.legend([plt1,plt2,plt3,plt4,plt5],labels=['PASTE','Graspot','PASTE2(s=0.9)','PASTE2(s=0.95)','PASTE2(s=1)'],loc='best')"
   ]
  },
  {
   "cell_type": "code",
   "execution_count": 24,
   "id": "37c09d0e",
   "metadata": {},
   "outputs": [
    {
     "data": {
      "text/plain": [
       "array([8.9677030e-01, 6.5280341e-02, 2.5846118e-02, 7.5149280e-03,\n",
       "       9.7004772e-04, 3.6182697e-03, 1.9730282e-42], dtype=float32)"
      ]
     },
     "execution_count": 24,
     "metadata": {},
     "output_type": "execute_result"
    }
   ],
   "source": [
    "stat1/sum(stat1)"
   ]
  },
  {
   "cell_type": "code",
   "execution_count": 15,
   "id": "198ec044",
   "metadata": {},
   "outputs": [
    {
     "data": {
      "text/plain": [
       "array([8.9677030e-01, 6.5280348e-02, 2.5846114e-02, 7.5149247e-03,\n",
       "       9.7004796e-04, 3.6182685e-03, 1.9730282e-42], dtype=float32)"
      ]
     },
     "execution_count": 15,
     "metadata": {},
     "output_type": "execute_result"
    }
   ],
   "source": [
    "stat1/sum(stat1)"
   ]
  },
  {
   "cell_type": "code",
   "execution_count": 17,
   "id": "42cc9622",
   "metadata": {},
   "outputs": [
    {
     "data": {
      "text/plain": [
       "0.6715652771756652"
      ]
     },
     "execution_count": 17,
     "metadata": {},
     "output_type": "execute_result"
    }
   ],
   "source": [
    "batch_entropy_mixing_score(adata_concat.obsm['Graspot'],np.array(adata_concat.obs['batch_name']))"
   ]
  },
  {
   "cell_type": "code",
   "execution_count": 18,
   "id": "726f7ed2",
   "metadata": {},
   "outputs": [
    {
     "data": {
      "text/plain": [
       "0.5223575867712498"
      ]
     },
     "execution_count": 18,
     "metadata": {},
     "output_type": "execute_result"
    }
   ],
   "source": [
    "silhouette(adata_concat.obsm['Graspot'],np.array(adata_concat.obs['batch_name']))"
   ]
  },
  {
   "cell_type": "code",
   "execution_count": 19,
   "id": "b0bd099f",
   "metadata": {},
   "outputs": [
    {
     "data": {
      "text/plain": [
       "0.9424193799495697"
      ]
     },
     "execution_count": 19,
     "metadata": {},
     "output_type": "execute_result"
    }
   ],
   "source": [
    "avg_silhouette_width_batch(adata_concat.obsm['Graspot'],np.array(adata_concat.obs['batch_name']),np.array(adata_concat.obs['Ground Truth']))"
   ]
  },
  {
   "cell_type": "code",
   "execution_count": 12,
   "id": "1e7ccf08",
   "metadata": {},
   "outputs": [
    {
     "name": "stdout",
     "output_type": "stream",
     "text": [
      "0.94904184\n"
     ]
    }
   ],
   "source": [
    "#有prior\n",
    "accuracy_ot=[]\n",
    "for iters,comb in enumerate(iter_comb):\n",
    "    i,j=comb[0],comb[1]\n",
    "    accuracy_ot.append(mapping_accuracy_ot(Batch_list[i].obs['Ground Truth'], Batch_list[j].obs['Ground Truth'], tran_list[iters].cpu().detach().numpy()))\n",
    "    print(mapping_accuracy_ot(Batch_list[i].obs['Ground Truth'], Batch_list[j].obs['Ground Truth'], tran_list[iters].cpu().detach().numpy()))"
   ]
  },
  {
   "cell_type": "code",
   "execution_count": 22,
   "id": "bd9ec956",
   "metadata": {},
   "outputs": [
    {
     "ename": "NameError",
     "evalue": "name 'pi12' is not defined",
     "output_type": "error",
     "traceback": [
      "\u001b[0;31m---------------------------------------------------------------------------\u001b[0m",
      "\u001b[0;31mNameError\u001b[0m                                 Traceback (most recent call last)",
      "Cell \u001b[0;32mIn[22], line 5\u001b[0m\n\u001b[1;32m      3\u001b[0m \u001b[38;5;28;01mfor\u001b[39;00m iters,comb \u001b[38;5;129;01min\u001b[39;00m \u001b[38;5;28menumerate\u001b[39m(iter_comb):\n\u001b[1;32m      4\u001b[0m     i,j\u001b[38;5;241m=\u001b[39mcomb[\u001b[38;5;241m0\u001b[39m],comb[\u001b[38;5;241m1\u001b[39m]\n\u001b[0;32m----> 5\u001b[0m     accuracy_ot\u001b[38;5;241m.\u001b[39mappend(mapping_accuracy_ot(Batch_list[i]\u001b[38;5;241m.\u001b[39mobs[\u001b[38;5;124m'\u001b[39m\u001b[38;5;124mGround Truth\u001b[39m\u001b[38;5;124m'\u001b[39m], Batch_list[j]\u001b[38;5;241m.\u001b[39mobs[\u001b[38;5;124m'\u001b[39m\u001b[38;5;124mGround Truth\u001b[39m\u001b[38;5;124m'\u001b[39m], \u001b[43mpi12\u001b[49m))\n\u001b[1;32m      6\u001b[0m     \u001b[38;5;28mprint\u001b[39m(mapping_accuracy_ot(Batch_list[i]\u001b[38;5;241m.\u001b[39mobs[\u001b[38;5;124m'\u001b[39m\u001b[38;5;124mGround Truth\u001b[39m\u001b[38;5;124m'\u001b[39m], Batch_list[j]\u001b[38;5;241m.\u001b[39mobs[\u001b[38;5;124m'\u001b[39m\u001b[38;5;124mGround Truth\u001b[39m\u001b[38;5;124m'\u001b[39m], pi12))\n",
      "\u001b[0;31mNameError\u001b[0m: name 'pi12' is not defined"
     ]
    }
   ],
   "source": [
    "iter_comb = [(0, 1)]\n",
    "accuracy_ot=[]\n",
    "for iters,comb in enumerate(iter_comb):\n",
    "    i,j=comb[0],comb[1]\n",
    "    accuracy_ot.append(mapping_accuracy_ot(Batch_list[i].obs['Ground Truth'], Batch_list[j].obs['Ground Truth'], pi12))\n",
    "    print(mapping_accuracy_ot(Batch_list[i].obs['Ground Truth'], Batch_list[j].obs['Ground Truth'], pi12))"
   ]
  },
  {
   "cell_type": "code",
   "execution_count": 12,
   "id": "0240f723",
   "metadata": {},
   "outputs": [
    {
     "data": {
      "text/plain": [
       "0.6503171194023193"
      ]
     },
     "execution_count": 12,
     "metadata": {},
     "output_type": "execute_result"
    }
   ],
   "source": [
    "#wu\n",
    "batch_entropy_mixing_score(adata_concat.obsm['Graspot'],np.array(adata_concat.obs['batch_name']))"
   ]
  },
  {
   "cell_type": "code",
   "execution_count": 13,
   "id": "636ba63e",
   "metadata": {},
   "outputs": [
    {
     "data": {
      "text/plain": [
       "0.6650184249645814"
      ]
     },
     "execution_count": 13,
     "metadata": {},
     "output_type": "execute_result"
    }
   ],
   "source": [
    "#you\n",
    "batch_entropy_mixing_score(adata_concat.obsm['Graspot'],np.array(adata_concat.obs['batch_name']))"
   ]
  },
  {
   "cell_type": "code",
   "execution_count": 13,
   "id": "c7a7f550",
   "metadata": {},
   "outputs": [
    {
     "data": {
      "text/plain": [
       "0.5515311239477567"
      ]
     },
     "execution_count": 13,
     "metadata": {},
     "output_type": "execute_result"
    }
   ],
   "source": [
    "batch_entropy_mixing_score(adata_concat.obsm['STAligner'],np.array(adata_concat.obs['batch_name']))"
   ]
  },
  {
   "cell_type": "code",
   "execution_count": 33,
   "id": "e2dfdc59",
   "metadata": {},
   "outputs": [],
   "source": [
    "adata_concat_1 = adata_concat[adata_concat.obs['batch_name'] == '151673_left']\n",
    "adata_concat_2 = adata_concat[adata_concat.obs['batch_name'] == '151673_right']"
   ]
  },
  {
   "cell_type": "code",
   "execution_count": 50,
   "id": "da9f8046",
   "metadata": {},
   "outputs": [
    {
     "data": {
      "text/plain": [
       "View of AnnData object with n_obs × n_vars = 2547 × 5000\n",
       "    obs: 'in_tissue', 'array_row', 'array_col', 'Ground Truth', 'slice_name', 'batch_name'\n",
       "    uns: 'edgeList'\n",
       "    obsm: 'spatial', 'STAGATE', 'STAligner'"
      ]
     },
     "execution_count": 50,
     "metadata": {},
     "output_type": "execute_result"
    }
   ],
   "source": [
    "adata_concat_1"
   ]
  },
  {
   "cell_type": "code",
   "execution_count": 19,
   "id": "70e73120",
   "metadata": {},
   "outputs": [
    {
     "data": {
      "text/plain": [
       "0.4659368246793747"
      ]
     },
     "execution_count": 19,
     "metadata": {},
     "output_type": "execute_result"
    }
   ],
   "source": [
    "silhouette(adata_concat.obsm['Graspot'],np.array(adata_concat.obs['Ground Truth']))"
   ]
  },
  {
   "cell_type": "code",
   "execution_count": 37,
   "id": "63b0db8e",
   "metadata": {},
   "outputs": [
    {
     "data": {
      "text/plain": [
       "0.581664077937603"
      ]
     },
     "execution_count": 37,
     "metadata": {},
     "output_type": "execute_result"
    }
   ],
   "source": [
    "silhouette(adata_concat_1.obsm['STAligner'],np.array(adata_concat_1.obs['Ground Truth']))"
   ]
  },
  {
   "cell_type": "code",
   "execution_count": 34,
   "id": "1a170ac8",
   "metadata": {},
   "outputs": [
    {
     "data": {
      "text/plain": [
       "0.5288703963160515"
      ]
     },
     "execution_count": 34,
     "metadata": {},
     "output_type": "execute_result"
    }
   ],
   "source": [
    "silhouette(adata_concat_1, label_key=\"Ground Truth\", embed=\"Graspot\")"
   ]
  },
  {
   "cell_type": "code",
   "execution_count": 35,
   "id": "60dbd63e",
   "metadata": {},
   "outputs": [
    {
     "data": {
      "text/plain": [
       "0.47285953909158707"
      ]
     },
     "execution_count": 35,
     "metadata": {},
     "output_type": "execute_result"
    }
   ],
   "source": [
    "silhouette(adata_concat_2, label_key=\"Ground Truth\", embed=\"Graspot\")"
   ]
  },
  {
   "cell_type": "code",
   "execution_count": 52,
   "id": "ccd12007",
   "metadata": {},
   "outputs": [
    {
     "data": {
      "text/plain": [
       "0.581664077937603"
      ]
     },
     "execution_count": 52,
     "metadata": {},
     "output_type": "execute_result"
    }
   ],
   "source": [
    "silhouette(adata_concat_1, label_key=\"Ground Truth\", embed=\"STAligner\")"
   ]
  },
  {
   "cell_type": "code",
   "execution_count": 69,
   "id": "b107a17f",
   "metadata": {},
   "outputs": [
    {
     "data": {
      "text/plain": [
       "0.5189570393413305"
      ]
     },
     "execution_count": 69,
     "metadata": {},
     "output_type": "execute_result"
    }
   ],
   "source": [
    "silhouette(adata_concat_2, label_key=\"Ground Truth\", embed=\"STAligner\")"
   ]
  },
  {
   "cell_type": "code",
   "execution_count": 38,
   "id": "d214d05b",
   "metadata": {},
   "outputs": [
    {
     "data": {
      "text/plain": [
       "0.5189570393413305"
      ]
     },
     "execution_count": 38,
     "metadata": {},
     "output_type": "execute_result"
    }
   ],
   "source": [
    "silhouette(adata_concat_2.obsm['STAligner'],np.array(adata_concat_2.obs['Ground Truth']))"
   ]
  },
  {
   "cell_type": "code",
   "execution_count": 32,
   "id": "084383e3",
   "metadata": {},
   "outputs": [
    {
     "data": {
      "text/plain": [
       "0.5371011197566986"
      ]
     },
     "execution_count": 32,
     "metadata": {},
     "output_type": "execute_result"
    }
   ],
   "source": [
    "silhouette(adata_concat.obsm['STAligner'],np.array(adata_concat.obs['Ground Truth']))"
   ]
  },
  {
   "cell_type": "code",
   "execution_count": 42,
   "id": "762d0313",
   "metadata": {},
   "outputs": [
    {
     "name": "stdout",
     "output_type": "stream",
     "text": [
      "mean silhouette per group:          silhouette_score\n",
      "group                    \n",
      "Layer_1          0.890705\n",
      "Layer_2          0.809464\n",
      "Layer_3          0.794256\n",
      "Layer_4          0.792299\n",
      "Layer_5          0.909157\n",
      "Layer_6          0.951351\n",
      "WM               0.776169\n"
     ]
    },
    {
     "data": {
      "text/plain": [
       "0.8461999810107425"
      ]
     },
     "execution_count": 42,
     "metadata": {},
     "output_type": "execute_result"
    }
   ],
   "source": [
    "silhouette_batch(adata_concat,batch_key=\"batch_name\", label_key=\"Ground Truth\", embed=\"STAligner\")"
   ]
  },
  {
   "cell_type": "code",
   "execution_count": 54,
   "id": "927d1740",
   "metadata": {},
   "outputs": [
    {
     "name": "stdout",
     "output_type": "stream",
     "text": [
      "isolated labels: no more than 1 batches per label\n",
      "unknown: 0.73067207634449\n"
     ]
    },
    {
     "data": {
      "text/plain": [
       "0.73067207634449"
      ]
     },
     "execution_count": 54,
     "metadata": {},
     "output_type": "execute_result"
    }
   ],
   "source": [
    "isolated_labels_asw(adata_concat,batch_key=\"batch_name\", label_key=\"Ground Truth\", embed=\"STAligner\")"
   ]
  },
  {
   "cell_type": "code",
   "execution_count": 65,
   "id": "f5bd2346",
   "metadata": {},
   "outputs": [
    {
     "name": "stdout",
     "output_type": "stream",
     "text": [
      "isolated labels: no more than 1 batches per label\n",
      "unknown: 0.3928920179605484\n"
     ]
    },
    {
     "data": {
      "text/plain": [
       "0.3928920179605484"
      ]
     },
     "execution_count": 65,
     "metadata": {},
     "output_type": "execute_result"
    }
   ],
   "source": [
    "isolated_labels_asw(adata_concat,batch_key=\"batch_name\", label_key=\"Ground Truth\", embed=\"Graspot\")"
   ]
  },
  {
   "cell_type": "code",
   "execution_count": 14,
   "id": "e9ba6ae1",
   "metadata": {},
   "outputs": [
    {
     "data": {
      "text/plain": [
       "0.8696803972125053"
      ]
     },
     "execution_count": 14,
     "metadata": {},
     "output_type": "execute_result"
    }
   ],
   "source": [
    "#无prior\n",
    "import sklearn\n",
    "avg_silhouette_width_batch(adata_concat.obsm['Graspot'],np.array(adata_concat.obs['batch_name']),np.array(adata_concat.obs['Ground Truth']))"
   ]
  },
  {
   "cell_type": "code",
   "execution_count": 15,
   "id": "3dcb88e8",
   "metadata": {},
   "outputs": [
    {
     "ename": "KeyError",
     "evalue": "'Graspot'",
     "output_type": "error",
     "traceback": [
      "\u001b[0;31m---------------------------------------------------------------------------\u001b[0m",
      "\u001b[0;31mKeyError\u001b[0m                                  Traceback (most recent call last)",
      "Cell \u001b[0;32mIn[15], line 3\u001b[0m\n\u001b[1;32m      1\u001b[0m \u001b[38;5;66;03m#有prior\u001b[39;00m\n\u001b[1;32m      2\u001b[0m \u001b[38;5;28;01mimport\u001b[39;00m \u001b[38;5;21;01msklearn\u001b[39;00m\n\u001b[0;32m----> 3\u001b[0m avg_silhouette_width_batch(\u001b[43madata_concat\u001b[49m\u001b[38;5;241;43m.\u001b[39;49m\u001b[43mobsm\u001b[49m\u001b[43m[\u001b[49m\u001b[38;5;124;43m'\u001b[39;49m\u001b[38;5;124;43mGraspot\u001b[39;49m\u001b[38;5;124;43m'\u001b[39;49m\u001b[43m]\u001b[49m,np\u001b[38;5;241m.\u001b[39marray(adata_concat\u001b[38;5;241m.\u001b[39mobs[\u001b[38;5;124m'\u001b[39m\u001b[38;5;124mbatch_name\u001b[39m\u001b[38;5;124m'\u001b[39m]),np\u001b[38;5;241m.\u001b[39marray(adata_concat\u001b[38;5;241m.\u001b[39mobs[\u001b[38;5;124m'\u001b[39m\u001b[38;5;124mGround Truth\u001b[39m\u001b[38;5;124m'\u001b[39m]))\n",
      "File \u001b[0;32m~/anaconda3/envs/pyg/lib/python3.8/site-packages/anndata/_core/aligned_mapping.py:178\u001b[0m, in \u001b[0;36mAlignedActualMixin.__getitem__\u001b[0;34m(self, key)\u001b[0m\n\u001b[1;32m    177\u001b[0m \u001b[38;5;28;01mdef\u001b[39;00m \u001b[38;5;21m__getitem__\u001b[39m(\u001b[38;5;28mself\u001b[39m, key: \u001b[38;5;28mstr\u001b[39m) \u001b[38;5;241m-\u001b[39m\u001b[38;5;241m>\u001b[39m V:\n\u001b[0;32m--> 178\u001b[0m     \u001b[38;5;28;01mreturn\u001b[39;00m \u001b[38;5;28;43mself\u001b[39;49m\u001b[38;5;241;43m.\u001b[39;49m\u001b[43m_data\u001b[49m\u001b[43m[\u001b[49m\u001b[43mkey\u001b[49m\u001b[43m]\u001b[49m\n",
      "\u001b[0;31mKeyError\u001b[0m: 'Graspot'"
     ]
    }
   ],
   "source": [
    "#有prior\n",
    "import sklearn\n",
    "avg_silhouette_width_batch(adata_concat.obsm['Graspot'],np.array(adata_concat.obs['batch_name']),np.array(adata_concat.obs['Ground Truth']))"
   ]
  },
  {
   "cell_type": "code",
   "execution_count": 46,
   "id": "5782810f",
   "metadata": {},
   "outputs": [
    {
     "data": {
      "text/plain": [
       "0.8654249906539917"
      ]
     },
     "execution_count": 46,
     "metadata": {},
     "output_type": "execute_result"
    }
   ],
   "source": [
    "import sklearn\n",
    "avg_silhouette_width_batch(adata_concat.obsm['STAligner'],np.array(adata_concat.obs['batch_name']),np.array(adata_concat.obs['Ground Truth']))"
   ]
  },
  {
   "cell_type": "code",
   "execution_count": 17,
   "id": "a8b9a949",
   "metadata": {},
   "outputs": [
    {
     "data": {
      "text/plain": [
       "0.8639297336339951"
      ]
     },
     "execution_count": 17,
     "metadata": {},
     "output_type": "execute_result"
    }
   ],
   "source": [
    "avg_silhouette_width_batch(adata_concat.obsm['STAGATE'],np.array(adata_concat.obs['batch_name']),np.array(adata_concat.obs['Ground Truth']))"
   ]
  },
  {
   "cell_type": "code",
   "execution_count": 19,
   "id": "deae06ab",
   "metadata": {},
   "outputs": [
    {
     "data": {
      "text/plain": [
       "0.7140927042194969"
      ]
     },
     "execution_count": 19,
     "metadata": {},
     "output_type": "execute_result"
    }
   ],
   "source": [
    "seurat_alignment_score(adata_concat.obsm['STAligner'],np.array(adata_concat.obs['batch_name']))"
   ]
  },
  {
   "cell_type": "code",
   "execution_count": 20,
   "id": "e5d0e1b4",
   "metadata": {},
   "outputs": [
    {
     "data": {
      "text/plain": [
       "0.7123740348121974"
      ]
     },
     "execution_count": 20,
     "metadata": {},
     "output_type": "execute_result"
    }
   ],
   "source": [
    "seurat_alignment_score(adata_concat.obsm['STAGATE'],np.array(adata_concat.obs['batch_name']))"
   ]
  },
  {
   "cell_type": "code",
   "execution_count": 16,
   "id": "42e096b4",
   "metadata": {},
   "outputs": [
    {
     "data": {
      "text/plain": [
       "0.9485015050386074"
      ]
     },
     "execution_count": 16,
     "metadata": {},
     "output_type": "execute_result"
    }
   ],
   "source": [
    "#无prior\n",
    "seurat_alignment_score(adata_concat.obsm['Graspot'],np.array(adata_concat.obs['batch_name']))"
   ]
  },
  {
   "cell_type": "code",
   "execution_count": 17,
   "id": "d4cdd1aa",
   "metadata": {},
   "outputs": [
    {
     "data": {
      "text/plain": [
       "0.9610056429324773"
      ]
     },
     "execution_count": 17,
     "metadata": {},
     "output_type": "execute_result"
    }
   ],
   "source": [
    "#有prior\n",
    "seurat_alignment_score(adata_concat.obsm['Graspot'],np.array(adata_concat.obs['batch_name']))"
   ]
  },
  {
   "cell_type": "code",
   "execution_count": 32,
   "id": "766eb6dc",
   "metadata": {},
   "outputs": [],
   "source": [
    "def test_alignment_score(data1_shared, data2_shared, data1_specific=None, data2_specific=None):\n",
    "\n",
    "    N = 2\n",
    "\n",
    "    if len(data1_shared) < len(data2_shared):\n",
    "        data1 = data1_shared\n",
    "        data2 = data2_shared\n",
    "    else:\n",
    "        data2 = data1_shared\n",
    "        data1 = data2_shared\n",
    "    data2 = data2[random.sample(range(len(data2)), len(data1))]\n",
    "    k = np.maximum(10, (len(data1) + len(data2))*0.01)\n",
    "    k = k.astype(np.int)\n",
    "\n",
    "    data = np.vstack((data1, data2))\n",
    "\n",
    "    bar_x1 = 0\n",
    "    for i in range(len(data1)):\n",
    "        diffMat = data1[i] - data\n",
    "        sqDiffMat = diffMat**2\n",
    "        sqDistances = sqDiffMat.sum(axis=1)\n",
    "        NearestN = np.argsort(sqDistances)[1:k+1]\n",
    "        for j in NearestN:\n",
    "            if j < len(data1):\n",
    "                bar_x1 += 1\n",
    "    bar_x1 = bar_x1 / len(data1)\n",
    "\n",
    "    bar_x2 = 0\n",
    "    for i in range(len(data2)):\n",
    "        diffMat = data2[i] - data\n",
    "        sqDiffMat = diffMat**2\n",
    "        sqDistances = sqDiffMat.sum(axis=1)\n",
    "        NearestN = np.argsort(sqDistances)[1:k+1]\n",
    "        for j in NearestN:\n",
    "            if j >= len(data1):\n",
    "                bar_x2 += 1\n",
    "    bar_x2 = bar_x2 / len(data2)\n",
    "\n",
    "    bar_x = (bar_x1 + bar_x2) / 2\n",
    "\n",
    "    score = 0\n",
    "    score += 1 - (bar_x - k/N) / (k - k/N)\n",
    "\n",
    "    data_specific = None\n",
    "    flag = 0\n",
    "    if data1_specific is not None:\n",
    "        data_specific = data1_specific\n",
    "        if data2_specific is not None:\n",
    "            data_specific = np.vstack((data_specific, data2_specific))\n",
    "            flag=1\n",
    "    else:\n",
    "        if data2_specific is not None:\n",
    "            data_specific = data2_specific\n",
    "\n",
    "    if data_specific is None:\n",
    "        return score\n",
    "    else:\n",
    "        bar_specific1 = 0\n",
    "        bar_specific2 = 0\n",
    "        data = np.vstack((data, data_specific))\n",
    "        if flag==0: # only one of data1_specific and data2_specific is not None\n",
    "            for i in range(len(data_specific)):\n",
    "                diffMat = data_specific[i] - data\n",
    "                sqDiffMat = diffMat**2\n",
    "                sqDistances = sqDiffMat.sum(axis=1)\n",
    "                NearestN = np.argsort(sqDistances)[1:k+1]\n",
    "                for j in NearestN:\n",
    "                    if j > (len(data1)+len(data2)):\n",
    "                        bar_specific1 += 1\n",
    "            bar_specific = bar_specific1\n",
    "            \n",
    "        else: # both data1_specific and data2_specific are not None\n",
    "            for i in range(len(data1_specific)):\n",
    "                diffMat = data1_specific[i] - data\n",
    "                sqDiffMat = diffMat**2\n",
    "                sqDistances = sqDiffMat.sum(axis=1)\n",
    "                NearestN = np.argsort(sqDistances)[1:k+1]\n",
    "                for j in NearestN:\n",
    "                    if j > (len(data1)+len(data2)) and j < (len(data1)+len(data2)+len(data1_specific)):\n",
    "                        bar_specific1 += 1\n",
    "       \n",
    "            for i in range(len(data2_specific)):\n",
    "                diffMat = data2_specific[i] - data\n",
    "                sqDiffMat = diffMat**2\n",
    "                sqDistances = sqDiffMat.sum(axis=1)\n",
    "                NearestN = np.argsort(sqDistances)[1:k+1]\n",
    "                for j in NearestN:\n",
    "                    if j > (len(data1)+len(data2)+len(data1_specific)):\n",
    "                        bar_specific2 += 1\n",
    "    \n",
    "            bar_specific = bar_specific1 + bar_specific2\n",
    "\n",
    "        bar_specific = bar_specific / len(data_specific)\n",
    "\n",
    "        score += (bar_specific - k/N) / (k - k/N)\n",
    "\n",
    "        return score / 2"
   ]
  },
  {
   "cell_type": "code",
   "execution_count": 20,
   "id": "0555cc41",
   "metadata": {},
   "outputs": [
    {
     "data": {
      "text/plain": [
       "0.3318129063712103"
      ]
     },
     "execution_count": 20,
     "metadata": {},
     "output_type": "execute_result"
    }
   ],
   "source": [
    "import random\n",
    "test_alignment_score(adata_1.obsm['Graspot'], adata_2.obsm['Graspot'], data1_specific=adata_specific_1.obsm['Graspot'])"
   ]
  },
  {
   "cell_type": "code",
   "execution_count": 21,
   "id": "050300c4",
   "metadata": {},
   "outputs": [
    {
     "ename": "NameError",
     "evalue": "name 'adata_specific_2' is not defined",
     "output_type": "error",
     "traceback": [
      "\u001b[0;31m---------------------------------------------------------------------------\u001b[0m",
      "\u001b[0;31mNameError\u001b[0m                                 Traceback (most recent call last)",
      "Cell \u001b[0;32mIn[21], line 2\u001b[0m\n\u001b[1;32m      1\u001b[0m \u001b[38;5;28;01mimport\u001b[39;00m \u001b[38;5;21;01mrandom\u001b[39;00m\n\u001b[0;32m----> 2\u001b[0m test_alignment_score(adata_1\u001b[38;5;241m.\u001b[39mobsm[\u001b[38;5;124m'\u001b[39m\u001b[38;5;124mGraspot\u001b[39m\u001b[38;5;124m'\u001b[39m], adata_2\u001b[38;5;241m.\u001b[39mobsm[\u001b[38;5;124m'\u001b[39m\u001b[38;5;124mGraspot\u001b[39m\u001b[38;5;124m'\u001b[39m], data1_specific\u001b[38;5;241m=\u001b[39madata_specific_1\u001b[38;5;241m.\u001b[39mobsm[\u001b[38;5;124m'\u001b[39m\u001b[38;5;124mGraspot\u001b[39m\u001b[38;5;124m'\u001b[39m], data2_specific\u001b[38;5;241m=\u001b[39m\u001b[43madata_specific_2\u001b[49m\u001b[38;5;241m.\u001b[39mobsm[\u001b[38;5;124m'\u001b[39m\u001b[38;5;124mGraspot\u001b[39m\u001b[38;5;124m'\u001b[39m])\n",
      "\u001b[0;31mNameError\u001b[0m: name 'adata_specific_2' is not defined"
     ]
    }
   ],
   "source": [
    "import random\n",
    "test_alignment_score(adata_1.obsm['Graspot'], adata_2.obsm['Graspot'], data1_specific=adata_specific_1.obsm['Graspot'], data2_specific=adata_specific_2.obsm['Graspot'])"
   ]
  },
  {
   "cell_type": "code",
   "execution_count": 23,
   "id": "5a2d8e43",
   "metadata": {},
   "outputs": [
    {
     "data": {
      "text/plain": [
       "0.2934641703016261"
      ]
     },
     "execution_count": 23,
     "metadata": {},
     "output_type": "execute_result"
    }
   ],
   "source": [
    "import random\n",
    "test_alignment_score(adata_1.obsm['STAligner'], adata_2.obsm['STAligner'], data2_specific=adata_specific_2.obsm['STAligner'])"
   ]
  },
  {
   "cell_type": "code",
   "execution_count": 39,
   "id": "8d897f15",
   "metadata": {},
   "outputs": [
    {
     "data": {
      "text/plain": [
       "0.4509616355376073"
      ]
     },
     "execution_count": 39,
     "metadata": {},
     "output_type": "execute_result"
    }
   ],
   "source": [
    "import random\n",
    "test_alignment_score(adata_1.obsm['STAligner'], adata_2.obsm['STAligner'], data1_specific=adata_specific_1.obsm['STAligner'])"
   ]
  },
  {
   "cell_type": "code",
   "execution_count": 25,
   "id": "00cf4b7d",
   "metadata": {},
   "outputs": [
    {
     "data": {
      "text/plain": [
       "0.2745408517670002"
      ]
     },
     "execution_count": 25,
     "metadata": {},
     "output_type": "execute_result"
    }
   ],
   "source": [
    "import random\n",
    "test_alignment_score(adata_1.obsm['STAligner'], adata_2.obsm['STAligner'], data1_specific=adata_specific_1.obsm['STAligner'], data2_specific=adata_specific_2.obsm['STAligner'])"
   ]
  },
  {
   "cell_type": "code",
   "execution_count": 22,
   "id": "08e77eb7",
   "metadata": {},
   "outputs": [
    {
     "data": {
      "text/plain": [
       "0.7134511189634867"
      ]
     },
     "execution_count": 22,
     "metadata": {},
     "output_type": "execute_result"
    }
   ],
   "source": [
    "import random\n",
    "test_alignment_score(adata_1.obsm['STAligner'], adata_2.obsm['STAligner'])"
   ]
  },
  {
   "cell_type": "code",
   "execution_count": 21,
   "id": "0419c73f",
   "metadata": {},
   "outputs": [
    {
     "data": {
      "text/plain": [
       "0.9488417746368276"
      ]
     },
     "execution_count": 21,
     "metadata": {},
     "output_type": "execute_result"
    }
   ],
   "source": [
    "#wu\n",
    "import random\n",
    "test_alignment_score(adata_1.obsm['Graspot'], adata_2.obsm['Graspot'])"
   ]
  },
  {
   "cell_type": "code",
   "execution_count": 22,
   "id": "bb037e1b",
   "metadata": {},
   "outputs": [
    {
     "data": {
      "text/plain": [
       "0.9613427561837455"
      ]
     },
     "execution_count": 22,
     "metadata": {},
     "output_type": "execute_result"
    }
   ],
   "source": [
    "#you\n",
    "import random\n",
    "test_alignment_score(adata_1.obsm['Graspot'], adata_2.obsm['Graspot'])"
   ]
  },
  {
   "cell_type": "code",
   "execution_count": 20,
   "id": "ef1d33b6",
   "metadata": {},
   "outputs": [
    {
     "name": "stdout",
     "output_type": "stream",
     "text": [
      "0.7616804083235179\n"
     ]
    }
   ],
   "source": [
    "#有先验信息\n",
    "accuracy_in=[]\n",
    "matching_plt=[]\n",
    "getMax_plt=[]\n",
    "for iters,comb in enumerate(iter_comb):\n",
    "    i,j=comb[0],comb[1]\n",
    "    result1 = pd.DataFrame(tran_list[iters].cpu().detach().numpy())\n",
    "    if tran_list[iters].shape[0] <= tran_list[iters].shape[1]:\n",
    "        matching_index = np.argmax(result1.to_numpy(),axis=1)\n",
    "        matching = np.array([np.arange(result1.shape[0]),matching_index])\n",
    "        getMax = np.zeros_like(tran_list[iters].cpu().detach().numpy())\n",
    "        #np.put_along_axis(getMax,tran_list[iters].cpu().detach().numpy().argmax(1)[:,None],1,axis=1)\n",
    "        for k in range(matching.shape[1]):\n",
    "            x = int(matching[:,k][0])\n",
    "            y = int(matching[:,k][1])\n",
    "            getMax[x][y] = 1        \n",
    "        matching_plt.append(matching)\n",
    "        getMax_plt.append(getMax)\n",
    "    if tran_list[iters].shape[0] > tran_list[iters].shape[1]:\n",
    "        matching_index = np.argmax(result1.to_numpy(),axis=0)\n",
    "        matching = np.array([np.arange(result1.shape[1]),matching_index])\n",
    "        getMax = np.zeros_like(tran_list[iters].cpu().detach().numpy())\n",
    "        for k in range(matching.shape[1]):\n",
    "            x = int(matching[:,k][1])\n",
    "            y = int(matching[:,k][0])\n",
    "            getMax[x][y] = 1\n",
    "        matching_plt.append(matching)\n",
    "        getMax_plt.append(getMax)\n",
    "    \n",
    "    accuracy_in.append(mapping_accuracy_in(Batch_list[i].obs['Ground Truth'], Batch_list[j].obs['Ground Truth'], getMax))\n",
    "    print(mapping_accuracy_in(Batch_list[i].obs['Ground Truth'], Batch_list[j].obs['Ground Truth'], getMax))"
   ]
  },
  {
   "cell_type": "code",
   "execution_count": 24,
   "id": "a1f863f3",
   "metadata": {},
   "outputs": [
    {
     "name": "stdout",
     "output_type": "stream",
     "text": [
      "0.6768747546132705\n"
     ]
    }
   ],
   "source": [
    "#没有先验信息\n",
    "accuracy_in=[]\n",
    "matching_plt=[]\n",
    "getMax_plt=[]\n",
    "for iters,comb in enumerate(iter_comb):\n",
    "    i,j=comb[0],comb[1]\n",
    "    result1 = pd.DataFrame(tran_list[iters].cpu().detach().numpy())\n",
    "    if tran_list[iters].shape[0] <= tran_list[iters].shape[1]:\n",
    "        matching_index = np.argmax(result1.to_numpy(),axis=1)\n",
    "        matching = np.array([np.arange(result1.shape[0]),matching_index])\n",
    "        getMax = np.zeros_like(tran_list[iters].cpu().detach().numpy())\n",
    "        #np.put_along_axis(getMax,tran_list[iters].cpu().detach().numpy().argmax(1)[:,None],1,axis=1)\n",
    "        for k in range(matching.shape[1]):\n",
    "            x = int(matching[:,k][0])\n",
    "            y = int(matching[:,k][1])\n",
    "            getMax[x][y] = 1        \n",
    "        matching_plt.append(matching)\n",
    "        getMax_plt.append(getMax)\n",
    "    if tran_list[iters].shape[0] > tran_list[iters].shape[1]:\n",
    "        matching_index = np.argmax(result1.to_numpy(),axis=0)\n",
    "        matching = np.array([np.arange(result1.shape[1]),matching_index])\n",
    "        getMax = np.zeros_like(tran_list[iters].cpu().detach().numpy())\n",
    "        for k in range(matching.shape[1]):\n",
    "            x = int(matching[:,k][1])\n",
    "            y = int(matching[:,k][0])\n",
    "            getMax[x][y] = 1\n",
    "        matching_plt.append(matching)\n",
    "        getMax_plt.append(getMax)\n",
    "    \n",
    "    accuracy_in.append(mapping_accuracy_in(Batch_list[i].obs['Ground Truth'], Batch_list[j].obs['Ground Truth'], getMax))\n",
    "    print(mapping_accuracy_in(Batch_list[i].obs['Ground Truth'], Batch_list[j].obs['Ground Truth'], getMax))"
   ]
  },
  {
   "cell_type": "code",
   "execution_count": 12,
   "id": "003863c0",
   "metadata": {},
   "outputs": [],
   "source": [
    "tran_numpy = tran_list[0].cpu().detach().numpy()\n",
    "if tran_list[iters].shape[0] <= tran_list[iters].shape[1]:\n",
    "    filter_num = np.percentile(np.max(tran_numpy,axis=1),20)\n",
    "if tran_list[iters].shape[0] > tran_list[iters].shape[1]:\n",
    "    filter_num = np.percentile(np.max(tran_numpy,axis=0),20)"
   ]
  },
  {
   "cell_type": "code",
   "execution_count": 14,
   "id": "f2a9f568",
   "metadata": {},
   "outputs": [
    {
     "name": "stdout",
     "output_type": "stream",
     "text": [
      "0.9630938358853554\n"
     ]
    }
   ],
   "source": [
    "#wu\n",
    "filter_num=0\n",
    "accuracy_in=[]\n",
    "getMax_plt=[]\n",
    "matching_plt_new=[]\n",
    "indexx=[]\n",
    "\n",
    "for iters,comb in enumerate(iter_comb):\n",
    "    i,j=comb[0],comb[1]\n",
    "    result1 = pd.DataFrame(tran_list[iters].cpu().detach().numpy())\n",
    "    if tran_list[iters].shape[0] <= tran_list[iters].shape[1]:\n",
    "        matching_index = np.argmax(result1.to_numpy(),axis=1)\n",
    "        matching = np.array([np.arange(result1.shape[0]),matching_index])\n",
    "        getMax = np.zeros_like(tran_list[iters].cpu().detach().numpy())\n",
    "        #np.put_along_axis(getMax,tran_list[iters].cpu().detach().numpy().argmax(1)[:,None],1,axis=1)\n",
    "        for k in range(matching.shape[1]):\n",
    "            x = int(matching[:,k][0])\n",
    "            y = int(matching[:,k][1])\n",
    "            if tran_list[iters][x][y] <=filter_num:\n",
    "                getMax[x][y] = 0\n",
    "            if tran_list[iters][x][y] >filter_num:\n",
    "                getMax[x][y] = 1\n",
    "                indexx.append(k)\n",
    "            #getMax[x][y] = 1\n",
    "        #matching_index_new = np.argmax(getMax,axis=1)\n",
    "        #matching_new = np.array([np.arange(len(matching_index_new)),matching_index_new])\n",
    "        #if getMax\n",
    "        matching_plt_new=matching[:,indexx]\n",
    "        getMax_plt.append(getMax)\n",
    "    if tran_list[iters].shape[0] > tran_list[iters].shape[1]:\n",
    "        matching_index = np.argmax(result1.to_numpy(),axis=0)\n",
    "        matching = np.array([np.arange(result1.shape[1]),matching_index])\n",
    "        getMax = np.zeros_like(tran_list[iters].cpu().detach().numpy())\n",
    "        for k in range(matching.shape[1]):\n",
    "            x = int(matching[:,k][1])\n",
    "            y = int(matching[:,k][0])\n",
    "            if tran_list[iters][x][y] <=filter_num:\n",
    "                getMax[x][y] = 0\n",
    "            if tran_list[iters][x][y] >filter_num:\n",
    "                getMax[x][y] = 1\n",
    "                indexx.append(k)\n",
    "            #getMax[x][y] = 1\n",
    "        #matching_index_new = np.argmax(getMax,axis=1)\n",
    "        #matching_new = np.array([np.arange(len(matching_index_new)),matching_index_new])\n",
    "        matching_plt_new=matching[:,indexx]\n",
    "        getMax_plt.append(getMax)\n",
    "    \n",
    "    accuracy_in.append(mapping_accuracy_in(Batch_list[i].obs['Ground Truth'], Batch_list[j].obs['Ground Truth'], getMax))\n",
    "    print(mapping_accuracy_in(Batch_list[i].obs['Ground Truth'], Batch_list[j].obs['Ground Truth'], getMax))"
   ]
  },
  {
   "cell_type": "code",
   "execution_count": 13,
   "id": "9beb759b",
   "metadata": {},
   "outputs": [
    {
     "ename": "NameError",
     "evalue": "name 'pi12' is not defined",
     "output_type": "error",
     "traceback": [
      "\u001b[0;31m---------------------------------------------------------------------------\u001b[0m",
      "\u001b[0;31mNameError\u001b[0m                                 Traceback (most recent call last)",
      "Cell \u001b[0;32mIn[13], line 9\u001b[0m\n\u001b[1;32m      7\u001b[0m \u001b[38;5;28;01mfor\u001b[39;00m iters,comb \u001b[38;5;129;01min\u001b[39;00m \u001b[38;5;28menumerate\u001b[39m(iter_comb):\n\u001b[1;32m      8\u001b[0m     i,j\u001b[38;5;241m=\u001b[39mcomb[\u001b[38;5;241m0\u001b[39m],comb[\u001b[38;5;241m1\u001b[39m]\n\u001b[0;32m----> 9\u001b[0m     result1 \u001b[38;5;241m=\u001b[39m pd\u001b[38;5;241m.\u001b[39mDataFrame(\u001b[43mpi12\u001b[49m)\n\u001b[1;32m     10\u001b[0m     \u001b[38;5;28;01mif\u001b[39;00m pi12\u001b[38;5;241m.\u001b[39mshape[\u001b[38;5;241m0\u001b[39m] \u001b[38;5;241m<\u001b[39m\u001b[38;5;241m=\u001b[39m pi12\u001b[38;5;241m.\u001b[39mshape[\u001b[38;5;241m1\u001b[39m]:\n\u001b[1;32m     11\u001b[0m         matching_index \u001b[38;5;241m=\u001b[39m np\u001b[38;5;241m.\u001b[39margmax(result1\u001b[38;5;241m.\u001b[39mto_numpy(),axis\u001b[38;5;241m=\u001b[39m\u001b[38;5;241m1\u001b[39m)\n",
      "\u001b[0;31mNameError\u001b[0m: name 'pi12' is not defined"
     ]
    }
   ],
   "source": [
    "filter_num=0\n",
    "accuracy_in=[]\n",
    "getMax_plt=[]\n",
    "matching_plt_new=[]\n",
    "indexx=[]\n",
    "iter_comb=[(0,1)]\n",
    "for iters,comb in enumerate(iter_comb):\n",
    "    i,j=comb[0],comb[1]\n",
    "    result1 = pd.DataFrame(pi12)\n",
    "    if pi12.shape[0] <= pi12.shape[1]:\n",
    "        matching_index = np.argmax(result1.to_numpy(),axis=1)\n",
    "        matching = np.array([np.arange(result1.shape[0]),matching_index])\n",
    "        getMax = np.zeros_like(pi12)\n",
    "        #np.put_along_axis(getMax,tran_list[iters].cpu().detach().numpy().argmax(1)[:,None],1,axis=1)\n",
    "        for k in range(matching.shape[1]):\n",
    "            x = int(matching[:,k][0])\n",
    "            y = int(matching[:,k][1])\n",
    "            if pi12[x][y] <=filter_num:\n",
    "                getMax[x][y] = 0\n",
    "            if pi12[x][y] >filter_num:\n",
    "                getMax[x][y] = 1\n",
    "                indexx.append(k)\n",
    "            #getMax[x][y] = 1\n",
    "        #matching_index_new = np.argmax(getMax,axis=1)\n",
    "        #matching_new = np.array([np.arange(len(matching_index_new)),matching_index_new])\n",
    "        matching_plt_new=matching[:,indexx]\n",
    "        getMax_plt.append(getMax)\n",
    "    if pi12.shape[0] > pi12.shape[1]:\n",
    "        matching_index = np.argmax(result1.to_numpy(),axis=0)\n",
    "        matching = np.array([np.arange(result1.shape[1]),matching_index])\n",
    "        getMax = np.zeros_like(pi12)\n",
    "        for k in range(matching.shape[1]):\n",
    "            x = int(matching[:,k][1])\n",
    "            y = int(matching[:,k][0])\n",
    "            if pi12[x][y] <=filter_num:\n",
    "                getMax[x][y] = 0\n",
    "            if pi12[x][y] >filter_num:\n",
    "                getMax[x][y] = 1\n",
    "                indexx.append(k)\n",
    "            #getMax[x][y] = 1\n",
    "        #matching_index_new = np.argmax(getMax,axis=1)\n",
    "        #matching_new = np.array([np.arange(len(matching_index_new)),matching_index_new])\n",
    "        matching_plt_new=matching[:,indexx]\n",
    "        getMax_plt.append(getMax)\n",
    "    \n",
    "    accuracy_in.append(mapping_accuracy_in(Batch_list[i].obs['Ground Truth'], Batch_list[j].obs['Ground Truth'], getMax))\n",
    "    print(mapping_accuracy_in(Batch_list[i].obs['Ground Truth'], Batch_list[j].obs['Ground Truth'], getMax))"
   ]
  },
  {
   "cell_type": "code",
   "execution_count": 14,
   "id": "e9cf4466",
   "metadata": {},
   "outputs": [],
   "source": [
    "index1=[]\n",
    "for i in range(len(a1.obsm['spatial'])):\n",
    "    if a1.obsm['spatial'][i,1]<p7:\n",
    "        index1.append(i)\n",
    "        \n",
    "index2=[]\n",
    "for i in range(len(a2.obsm['spatial'])):\n",
    "    if a2.obsm['spatial'][i,1]>p3:\n",
    "        index2.append(i)\n",
    "        \n",
    "index3=[]\n",
    "for i in range(len(matching_plt_new[0])):\n",
    "    if matching_plt_new[0][i] in index2:\n",
    "        index3.append(i)\n",
    "\n",
    "index4=[]\n",
    "for i in range(len(matching_plt_new[0])):\n",
    "    if matching_plt_new[1][i] in index1:\n",
    "        index4.append(i)"
   ]
  },
  {
   "cell_type": "code",
   "execution_count": 26,
   "id": "d0f0fa60",
   "metadata": {},
   "outputs": [],
   "source": [
    "intersection_index = list(set(index3) & set(index4))\n",
    "matching_plt_new[:,intersection_index]\n",
    "matching_plt_common = matching_plt_new[:,intersection_index]"
   ]
  },
  {
   "cell_type": "code",
   "execution_count": 22,
   "id": "27c20494",
   "metadata": {},
   "outputs": [],
   "source": [
    "iter_comb=[(0,1)]"
   ]
  },
  {
   "cell_type": "code",
   "execution_count": 24,
   "id": "439c2626",
   "metadata": {},
   "outputs": [
    {
     "name": "stdout",
     "output_type": "stream",
     "text": [
      "0.876743114347033\n"
     ]
    }
   ],
   "source": [
    "mapping_dict = {'Layer_1':1, 'Layer_2':2, 'Layer_3':3, 'Layer_4':4, 'Layer_5':5, 'Layer_6':6, 'WM':7}\n",
    "\n",
    "from sklearn.metrics.cluster import adjusted_rand_score\n",
    "for iters,comb in enumerate(iter_comb):\n",
    "    i, j = comb[0], comb[1]\n",
    "    if em1.shape[0] <= em2.shape[1]:\n",
    "        print(adjusted_rand_score(Batch_list[i].obs['Ground Truth'][matchs[0]], Batch_list[j].obs['Ground Truth'][matchs[1]]))#第一个小第二个大\n",
    "    if em1.shape[0] > em2.shape[1]:\n",
    "        print(adjusted_rand_score(Batch_list[j].obs['Ground Truth'][matchs[0]],Batch_list[i].obs['Ground Truth'][matchs[1]]))#第一个小第二个大        "
   ]
  },
  {
   "cell_type": "code",
   "execution_count": 91,
   "id": "8ef95b6a",
   "metadata": {},
   "outputs": [
    {
     "name": "stdout",
     "output_type": "stream",
     "text": [
      "0.43526014101111954\n"
     ]
    }
   ],
   "source": [
    "mapping_dict = {'Layer_1':1, 'Layer_2':2, 'Layer_3':3, 'Layer_4':4, 'Layer_5':5, 'Layer_6':6, 'WM':7}\n",
    "\n",
    "from sklearn.metrics.cluster import adjusted_rand_score\n",
    "for iters,comb in enumerate(iter_comb):\n",
    "    i, j = comb[0], comb[1]\n",
    "    if tran_list[iters].shape[0] <= tran_list[iters].shape[1]:\n",
    "        print(adjusted_rand_score(Batch_list[i].obs['Ground Truth'][matching_plt_new[0]], Batch_list[j].obs['Ground Truth'][matching_plt_new[1]]))#第一个小第二个大\n",
    "    if tran_list[iters].shape[0] > tran_list[iters].shape[1]:\n",
    "        print(adjusted_rand_score(Batch_list[j].obs['Ground Truth'][matching_plt_new[0]],Batch_list[i].obs['Ground Truth'][matching_plt_new[1]]))#第一个小第二个大        "
   ]
  },
  {
   "cell_type": "code",
   "execution_count": 39,
   "id": "529f2c61",
   "metadata": {},
   "outputs": [
    {
     "name": "stdout",
     "output_type": "stream",
     "text": [
      "0.21555941297396566\n"
     ]
    }
   ],
   "source": [
    "mapping_dict = {'Layer_1':1, 'Layer_2':2, 'Layer_3':3, 'Layer_4':4, 'Layer_5':5, 'Layer_6':6, 'WM':7}\n",
    "\n",
    "from sklearn.metrics.cluster import adjusted_rand_score\n",
    "for iters,comb in enumerate(iter_comb):\n",
    "    i, j = comb[0], comb[1]\n",
    "    if pi12.shape[0] <= pi12.shape[1]:\n",
    "        print(adjusted_rand_score(Batch_list[i].obs['Ground Truth'][matching_plt_new[0]], Batch_list[j].obs['Ground Truth'][matching_plt_new[1]]))#第一个小第二个大\n",
    "    if pi12.shape[0] > pi12.shape[1]:\n",
    "        print(adjusted_rand_score(Batch_list[j].obs['Ground Truth'][matching_plt_new[0]],Batch_list[i].obs['Ground Truth'][matching_plt_new[1]]))#第一个小第二个大        "
   ]
  },
  {
   "cell_type": "code",
   "execution_count": 22,
   "id": "0840ae91",
   "metadata": {},
   "outputs": [],
   "source": [
    "Batch_list = [b2,b1]\n",
    "section_ids = ['151674_1','151674_2']"
   ]
  },
  {
   "cell_type": "code",
   "execution_count": 41,
   "id": "b8b0115a",
   "metadata": {},
   "outputs": [
    {
     "name": "stdout",
     "output_type": "stream",
     "text": [
      "gpu is available, using gpu.\n",
      "It.  |Loss        |Relative loss|Absolute loss\n",
      "------------------------------------------------\n",
      "    0|6.313422e+00|0.000000e+00|0.000000e+00\n",
      "    1|-4.094106e+01|1.154208e+00|4.725449e+01\n",
      "    2|-4.418397e+01|7.339559e-02|3.242908e+00\n",
      "    3|-4.434838e+01|3.707316e-03|1.644135e-01\n",
      "    4|-4.435792e+01|2.149093e-04|9.532928e-03\n",
      "    5|-4.435792e+01|0.000000e+00|0.000000e+00\n",
      "Runtime: 4.931053400039673\n"
     ]
    }
   ],
   "source": [
    "adata1 = Batch_list[0]\n",
    "adata2 = Batch_list[1]\n",
    "\n",
    "import ot\n",
    "import time\n",
    "import paste as pst\n",
    "alpha = 0.1\n",
    "start = time.time()\n",
    "#pi0 = pst.match_spots_using_spatial_heuristic(adata1.obsm['spatial'], adata2.obsm['spatial'], use_ot=True)\n",
    "n1,n2=len(adata1.obsm['spatial']),len(adata2.obsm['spatial'])\n",
    "dist = scipy.spatial.distance_matrix(adata1.obsm['spatial'],adata2.obsm['spatial'])\n",
    "#dist = scipy.spatial.distance_matrix(norm_and_center_coordinates(adata1.obsm['spatial']),norm_and_center_coordinates(adata2.obsm['spatial']))\n",
    "pi0 = ot.emd(np.ones(n1)/n1, np.ones(n2)/n2, dist)\n",
    "pi12 = pst.pairwise_align(adata1, adata2, use_gpu=True, backend=ot.backend.TorchBackend(), \n",
    "                          alpha=alpha, G_init=pi0, norm=True, verbose=True)\n",
    "print('Runtime: ' + str(time.time() - start))\n",
    "run_time = str(time.time() - start)"
   ]
  },
  {
   "cell_type": "code",
   "execution_count": 14,
   "id": "eb6f8d04",
   "metadata": {},
   "outputs": [],
   "source": [
    "import anndata as ad\n",
    "adata_concat = ad.concat(Batch_list, label=\"slice_name\", keys=section_ids)\n",
    "adata_concat.obs['Ground Truth'] = adata_concat.obs['Ground Truth'].astype('category')\n",
    "adata_concat.obs[\"batch_name\"] = adata_concat.obs[\"slice_name\"].astype('category')"
   ]
  },
  {
   "cell_type": "code",
   "execution_count": 15,
   "id": "8c5978d6",
   "metadata": {},
   "outputs": [
    {
     "name": "stdout",
     "output_type": "stream",
     "text": [
      "STAligner(\n",
      "  (conv1): GATConv(5000, 512, heads=1)\n",
      "  (conv2): GATConv(512, 30, heads=1)\n",
      "  (conv3): GATConv(30, 512, heads=1)\n",
      "  (conv4): GATConv(512, 5000, heads=1)\n",
      ")\n",
      "Train with STAligner...\n"
     ]
    },
    {
     "name": "stderr",
     "output_type": "stream",
     "text": [
      "100%|█████████████████████████████████| 200/200 [00:31<00:00,  6.30it/s]\n"
     ]
    }
   ],
   "source": [
    "iter_comb = [(0, 1)]\n",
    "adata_concat, tran_list = train_Graspot_Para(adata_concat, verbose=True, knn_neigh = 100, n_epochs = 200, iter_comb = iter_comb,\n",
    "                                                        Batch_list=Batch_list, initial = False, device=used_device)"
   ]
  },
  {
   "cell_type": "code",
   "execution_count": 16,
   "id": "a1557351",
   "metadata": {},
   "outputs": [
    {
     "name": "stdout",
     "output_type": "stream",
     "text": [
      "0.6820468\n"
     ]
    }
   ],
   "source": [
    "accuracy_ot=[]\n",
    "for iters,comb in enumerate(iter_comb):\n",
    "    i,j=comb[0],comb[1]\n",
    "    accuracy_ot.append(mapping_accuracy_ot(Batch_list[i].obs['Ground Truth'], Batch_list[j].obs['Ground Truth'], tran_list[iters].cpu().detach().numpy()))\n",
    "    print(mapping_accuracy_ot(Batch_list[i].obs['Ground Truth'], Batch_list[j].obs['Ground Truth'], tran_list[iters].cpu().detach().numpy()))"
   ]
  },
  {
   "cell_type": "code",
   "execution_count": 42,
   "id": "861a8af7",
   "metadata": {},
   "outputs": [
    {
     "name": "stdout",
     "output_type": "stream",
     "text": [
      "0.41734487\n"
     ]
    }
   ],
   "source": [
    "iter_comb = [(0, 1)]\n",
    "accuracy_ot=[]\n",
    "for iters,comb in enumerate(iter_comb):\n",
    "    i,j=comb[0],comb[1]\n",
    "    accuracy_ot.append(mapping_accuracy_ot(Batch_list[i].obs['Ground Truth'], Batch_list[j].obs['Ground Truth'], pi12))\n",
    "    print(mapping_accuracy_ot(Batch_list[i].obs['Ground Truth'], Batch_list[j].obs['Ground Truth'], pi12))"
   ]
  },
  {
   "cell_type": "code",
   "execution_count": 34,
   "id": "8d8c61d1",
   "metadata": {},
   "outputs": [
    {
     "name": "stdout",
     "output_type": "stream",
     "text": [
      "0.6542201478024116\n"
     ]
    }
   ],
   "source": [
    "accuracy_in=[]\n",
    "matching_plt=[]\n",
    "getMax_plt=[]\n",
    "for iters,comb in enumerate(iter_comb):\n",
    "    i,j=comb[0],comb[1]\n",
    "    result1 = pd.DataFrame(tran_list[iters].cpu().detach().numpy())\n",
    "    if tran_list[iters].shape[0] <= tran_list[iters].shape[1]:\n",
    "        matching_index = np.argmax(result1.to_numpy(),axis=1)\n",
    "        matching = np.array([np.arange(result1.shape[0]),matching_index])\n",
    "        getMax = np.zeros_like(tran_list[iters].cpu().detach().numpy())\n",
    "        #np.put_along_axis(getMax,tran_list[iters].cpu().detach().numpy().argmax(1)[:,None],1,axis=1)\n",
    "        for k in range(matching.shape[1]):\n",
    "            x = int(matching[:,k][0])\n",
    "            y = int(matching[:,k][1])\n",
    "            getMax[x][y] = 1        \n",
    "        matching_plt.append(matching)\n",
    "        getMax_plt.append(getMax)\n",
    "    if tran_list[iters].shape[0] > tran_list[iters].shape[1]:\n",
    "        matching_index = np.argmax(result1.to_numpy(),axis=0)\n",
    "        matching = np.array([np.arange(result1.shape[1]),matching_index])\n",
    "        getMax = np.zeros_like(tran_list[iters].cpu().detach().numpy())\n",
    "        for k in range(matching.shape[1]):\n",
    "            x = int(matching[:,k][1])\n",
    "            y = int(matching[:,k][0])\n",
    "            getMax[x][y] = 1\n",
    "        matching_plt.append(matching)\n",
    "        getMax_plt.append(getMax)\n",
    "    \n",
    "    accuracy_in.append(mapping_accuracy_in(Batch_list[i].obs['Ground Truth'], Batch_list[j].obs['Ground Truth'], getMax))\n",
    "    print(mapping_accuracy_in(Batch_list[i].obs['Ground Truth'], Batch_list[j].obs['Ground Truth'], getMax))"
   ]
  },
  {
   "cell_type": "code",
   "execution_count": 35,
   "id": "25e79b83",
   "metadata": {},
   "outputs": [],
   "source": [
    "tran_numpy = tran_list[0].cpu().detach().numpy()\n",
    "if tran_list[iters].shape[0] <= tran_list[iters].shape[1]:\n",
    "    filter_num = np.percentile(np.max(tran_numpy,axis=1),20)\n",
    "if tran_list[iters].shape[0] > tran_list[iters].shape[1]:\n",
    "    filter_num = np.percentile(np.max(tran_numpy,axis=0),20)"
   ]
  },
  {
   "cell_type": "code",
   "execution_count": 18,
   "id": "bf7d8de7",
   "metadata": {},
   "outputs": [
    {
     "name": "stdout",
     "output_type": "stream",
     "text": [
      "0.7950213924542979\n"
     ]
    }
   ],
   "source": [
    "filter_num=0\n",
    "accuracy_in=[]\n",
    "getMax_plt=[]\n",
    "matching_plt_new=[]\n",
    "indexx=[]\n",
    "\n",
    "for iters,comb in enumerate(iter_comb):\n",
    "    i,j=comb[0],comb[1]\n",
    "    result1 = pd.DataFrame(tran_list[iters].cpu().detach().numpy())\n",
    "    if tran_list[iters].shape[0] <= tran_list[iters].shape[1]:\n",
    "        matching_index = np.argmax(result1.to_numpy(),axis=1)\n",
    "        matching = np.array([np.arange(result1.shape[0]),matching_index])\n",
    "        getMax = np.zeros_like(tran_list[iters].cpu().detach().numpy())\n",
    "        #np.put_along_axis(getMax,tran_list[iters].cpu().detach().numpy().argmax(1)[:,None],1,axis=1)\n",
    "        for k in range(matching.shape[1]):\n",
    "            x = int(matching[:,k][0])\n",
    "            y = int(matching[:,k][1])\n",
    "            if tran_list[iters][x][y] <=filter_num:\n",
    "                getMax[x][y] = 0\n",
    "            if tran_list[iters][x][y] >filter_num:\n",
    "                getMax[x][y] = 1\n",
    "                indexx.append(k)\n",
    "            #getMax[x][y] = 1\n",
    "        #matching_index_new = np.argmax(getMax,axis=1)\n",
    "        #matching_new = np.array([np.arange(len(matching_index_new)),matching_index_new])\n",
    "        #if getMax\n",
    "        matching_plt_new=matching[:,indexx]\n",
    "        getMax_plt.append(getMax)\n",
    "    if tran_list[iters].shape[0] > tran_list[iters].shape[1]:\n",
    "        matching_index = np.argmax(result1.to_numpy(),axis=0)\n",
    "        matching = np.array([np.arange(result1.shape[1]),matching_index])\n",
    "        getMax = np.zeros_like(tran_list[iters].cpu().detach().numpy())\n",
    "        for k in range(matching.shape[1]):\n",
    "            x = int(matching[:,k][1])\n",
    "            y = int(matching[:,k][0])\n",
    "            if tran_list[iters][x][y] <=filter_num:\n",
    "                getMax[x][y] = 0\n",
    "            if tran_list[iters][x][y] >filter_num:\n",
    "                getMax[x][y] = 1\n",
    "                indexx.append(k)\n",
    "            #getMax[x][y] = 1\n",
    "        #matching_index_new = np.argmax(getMax,axis=1)\n",
    "        #matching_new = np.array([np.arange(len(matching_index_new)),matching_index_new])\n",
    "        matching_plt_new=matching[:,indexx]\n",
    "        getMax_plt.append(getMax)\n",
    "    \n",
    "    accuracy_in.append(mapping_accuracy_in(Batch_list[i].obs['Ground Truth'], Batch_list[j].obs['Ground Truth'], getMax))\n",
    "    print(mapping_accuracy_in(Batch_list[i].obs['Ground Truth'], Batch_list[j].obs['Ground Truth'], getMax))"
   ]
  },
  {
   "cell_type": "code",
   "execution_count": 43,
   "id": "c08cd9af",
   "metadata": {},
   "outputs": [
    {
     "name": "stdout",
     "output_type": "stream",
     "text": [
      "0.4173473356670556\n"
     ]
    }
   ],
   "source": [
    "filter_num=0\n",
    "accuracy_in=[]\n",
    "getMax_plt=[]\n",
    "matching_plt_new=[]\n",
    "indexx=[]\n",
    "iter_comb=[(0,1)]\n",
    "for iters,comb in enumerate(iter_comb):\n",
    "    i,j=comb[0],comb[1]\n",
    "    result1 = pd.DataFrame(pi12)\n",
    "    if pi12.shape[0] <= pi12.shape[1]:\n",
    "        matching_index = np.argmax(result1.to_numpy(),axis=1)\n",
    "        matching = np.array([np.arange(result1.shape[0]),matching_index])\n",
    "        getMax = np.zeros_like(pi12)\n",
    "        #np.put_along_axis(getMax,tran_list[iters].cpu().detach().numpy().argmax(1)[:,None],1,axis=1)\n",
    "        for k in range(matching.shape[1]):\n",
    "            x = int(matching[:,k][0])\n",
    "            y = int(matching[:,k][1])\n",
    "            if pi12[x][y] <=filter_num:\n",
    "                getMax[x][y] = 0\n",
    "            if pi12[x][y] >filter_num:\n",
    "                getMax[x][y] = 1\n",
    "                indexx.append(k)\n",
    "            #getMax[x][y] = 1\n",
    "        #matching_index_new = np.argmax(getMax,axis=1)\n",
    "        #matching_new = np.array([np.arange(len(matching_index_new)),matching_index_new])\n",
    "        matching_plt_new=matching[:,indexx]\n",
    "        getMax_plt.append(getMax)\n",
    "    if pi12.shape[0] > pi12.shape[1]:\n",
    "        matching_index = np.argmax(result1.to_numpy(),axis=0)\n",
    "        matching = np.array([np.arange(result1.shape[1]),matching_index])\n",
    "        getMax = np.zeros_like(pi12)\n",
    "        for k in range(matching.shape[1]):\n",
    "            x = int(matching[:,k][1])\n",
    "            y = int(matching[:,k][0])\n",
    "            if pi12[x][y] <=filter_num:\n",
    "                getMax[x][y] = 0\n",
    "            if pi12[x][y] >filter_num:\n",
    "                getMax[x][y] = 1\n",
    "                indexx.append(k)\n",
    "            #getMax[x][y] = 1\n",
    "        #matching_index_new = np.argmax(getMax,axis=1)\n",
    "        #matching_new = np.array([np.arange(len(matching_index_new)),matching_index_new])\n",
    "        matching_plt_new=matching[:,indexx]\n",
    "        getMax_plt.append(getMax)\n",
    "    \n",
    "    accuracy_in.append(mapping_accuracy_in(Batch_list[i].obs['Ground Truth'], Batch_list[j].obs['Ground Truth'], getMax))\n",
    "    print(mapping_accuracy_in(Batch_list[i].obs['Ground Truth'], Batch_list[j].obs['Ground Truth'], getMax))"
   ]
  },
  {
   "cell_type": "code",
   "execution_count": 37,
   "id": "e05c8096",
   "metadata": {},
   "outputs": [],
   "source": [
    "index1=[]\n",
    "for i in range(len(b1.obsm['spatial'])):\n",
    "    if b1.obsm['spatial'][i,1]<p17:\n",
    "        index1.append(i)\n",
    "        \n",
    "index2=[]\n",
    "for i in range(len(b2.obsm['spatial'])):\n",
    "    if b2.obsm['spatial'][i,1]>p13:\n",
    "        index2.append(i)\n",
    "        \n",
    "index3=[]\n",
    "for i in range(len(matching_plt_new[0])):\n",
    "    if matching_plt_new[0][i] in index2:\n",
    "        index3.append(i)\n",
    "\n",
    "index4=[]\n",
    "for i in range(len(matching_plt_new[0])):\n",
    "    if matching_plt_new[1][i] in index1:\n",
    "        index4.append(i)"
   ]
  },
  {
   "cell_type": "code",
   "execution_count": 38,
   "id": "fad84dc5",
   "metadata": {},
   "outputs": [],
   "source": [
    "intersection_index = list(set(index3) & set(index4))\n",
    "matching_plt_new[:,intersection_index]\n",
    "matching_plt_common = matching_plt_new[:,intersection_index]"
   ]
  },
  {
   "cell_type": "code",
   "execution_count": 19,
   "id": "1379150f",
   "metadata": {},
   "outputs": [
    {
     "name": "stdout",
     "output_type": "stream",
     "text": [
      "0.673333137657477\n"
     ]
    }
   ],
   "source": [
    "mapping_dict = {'Layer_1':1, 'Layer_2':2, 'Layer_3':3, 'Layer_4':4, 'Layer_5':5, 'Layer_6':6, 'WM':7}\n",
    "\n",
    "from sklearn.metrics.cluster import adjusted_rand_score\n",
    "for iters,comb in enumerate(iter_comb):\n",
    "    i, j = comb[0], comb[1]\n",
    "    if tran_list[iters].shape[0] <= tran_list[iters].shape[1]:\n",
    "        print(adjusted_rand_score(Batch_list[i].obs['Ground Truth'][matching_plt_new[0]], Batch_list[j].obs['Ground Truth'][matching_plt_new[1]]))#第一个小第二个大\n",
    "    if tran_list[iters].shape[0] > tran_list[iters].shape[1]:\n",
    "        print(adjusted_rand_score(Batch_list[j].obs['Ground Truth'][matching_plt_new[0]],Batch_list[i].obs['Ground Truth'][matching_plt_new[1]]))#第一个小第二个大        "
   ]
  },
  {
   "cell_type": "code",
   "execution_count": 44,
   "id": "d223d50e",
   "metadata": {},
   "outputs": [
    {
     "name": "stdout",
     "output_type": "stream",
     "text": [
      "0.20151489850507046\n"
     ]
    }
   ],
   "source": [
    "mapping_dict = {'Layer_1':1, 'Layer_2':2, 'Layer_3':3, 'Layer_4':4, 'Layer_5':5, 'Layer_6':6, 'WM':7}\n",
    "\n",
    "from sklearn.metrics.cluster import adjusted_rand_score\n",
    "for iters,comb in enumerate(iter_comb):\n",
    "    i, j = comb[0], comb[1]\n",
    "    if pi12.shape[0] <= pi12.shape[1]:\n",
    "        print(adjusted_rand_score(Batch_list[i].obs['Ground Truth'][matching_plt_new[0]], Batch_list[j].obs['Ground Truth'][matching_plt_new[1]]))#第一个小第二个大\n",
    "    if pi12.shape[0] > pi12.shape[1]:\n",
    "        print(adjusted_rand_score(Batch_list[j].obs['Ground Truth'][matching_plt_new[0]],Batch_list[i].obs['Ground Truth'][matching_plt_new[1]]))#第一个小第二个大        "
   ]
  },
  {
   "cell_type": "code",
   "execution_count": 45,
   "id": "8474308a",
   "metadata": {},
   "outputs": [],
   "source": [
    "Batch_list = [c2,c1]\n",
    "section_ids = ['151675_1','151675_2']"
   ]
  },
  {
   "cell_type": "code",
   "execution_count": 46,
   "id": "ab7e4f9d",
   "metadata": {},
   "outputs": [
    {
     "name": "stdout",
     "output_type": "stream",
     "text": [
      "gpu is available, using gpu.\n",
      "It.  |Loss        |Relative loss|Absolute loss\n",
      "------------------------------------------------\n",
      "    0|7.573287e+00|0.000000e+00|0.000000e+00\n",
      "    1|-4.308524e+01|1.175775e+00|5.065853e+01\n",
      "    2|-4.791478e+01|1.007944e-01|4.829540e+00\n",
      "    3|-4.826451e+01|7.246141e-03|3.497314e-01\n",
      "    4|-4.835126e+01|1.794241e-03|8.675385e-02\n",
      "    5|-4.838519e+01|7.010470e-04|3.392029e-02\n",
      "    6|-4.838519e+01|0.000000e+00|0.000000e+00\n",
      "Runtime: 5.723285436630249\n"
     ]
    }
   ],
   "source": [
    "adata1 = Batch_list[0]\n",
    "adata2 = Batch_list[1]\n",
    "\n",
    "import ot\n",
    "import time\n",
    "import paste as pst\n",
    "alpha = 0.1\n",
    "start = time.time()\n",
    "#pi0 = pst.match_spots_using_spatial_heuristic(adata1.obsm['spatial'], adata2.obsm['spatial'], use_ot=True)\n",
    "n1,n2=len(adata1.obsm['spatial']),len(adata2.obsm['spatial'])\n",
    "dist = scipy.spatial.distance_matrix(adata1.obsm['spatial'],adata2.obsm['spatial'])\n",
    "#dist = scipy.spatial.distance_matrix(norm_and_center_coordinates(adata1.obsm['spatial']),norm_and_center_coordinates(adata2.obsm['spatial']))\n",
    "pi0 = ot.emd(np.ones(n1)/n1, np.ones(n2)/n2, dist)\n",
    "pi12 = pst.pairwise_align(adata1, adata2, use_gpu=True, backend=ot.backend.TorchBackend(), \n",
    "                          alpha=alpha, G_init=pi0, norm=True, verbose=True)\n",
    "print('Runtime: ' + str(time.time() - start))\n",
    "run_time = str(time.time() - start)"
   ]
  },
  {
   "cell_type": "code",
   "execution_count": 21,
   "id": "15efa5ae",
   "metadata": {},
   "outputs": [],
   "source": [
    "import anndata as ad\n",
    "adata_concat = ad.concat(Batch_list, label=\"slice_name\", keys=section_ids)\n",
    "adata_concat.obs['Ground Truth'] = adata_concat.obs['Ground Truth'].astype('category')\n",
    "adata_concat.obs[\"batch_name\"] = adata_concat.obs[\"slice_name\"].astype('category')"
   ]
  },
  {
   "cell_type": "code",
   "execution_count": 22,
   "id": "4768362f",
   "metadata": {},
   "outputs": [
    {
     "name": "stdout",
     "output_type": "stream",
     "text": [
      "STAligner(\n",
      "  (conv1): GATConv(5000, 512, heads=1)\n",
      "  (conv2): GATConv(512, 30, heads=1)\n",
      "  (conv3): GATConv(30, 512, heads=1)\n",
      "  (conv4): GATConv(512, 5000, heads=1)\n",
      ")\n",
      "Train with STAligner...\n"
     ]
    },
    {
     "name": "stderr",
     "output_type": "stream",
     "text": [
      "100%|█████████████████████████████████| 200/200 [00:30<00:00,  6.52it/s]\n"
     ]
    }
   ],
   "source": [
    "iter_comb = [(0, 1)]\n",
    "adata_concat, tran_list = train_Graspot_Para(adata_concat, verbose=True, knn_neigh = 100, n_epochs = 200, iter_comb = iter_comb,\n",
    "                                                        Batch_list=Batch_list, initial = False, device=used_device)"
   ]
  },
  {
   "cell_type": "code",
   "execution_count": 23,
   "id": "02c70d01",
   "metadata": {},
   "outputs": [
    {
     "name": "stdout",
     "output_type": "stream",
     "text": [
      "0.6573476\n"
     ]
    }
   ],
   "source": [
    "accuracy_ot=[]\n",
    "for iters,comb in enumerate(iter_comb):\n",
    "    i,j=comb[0],comb[1]\n",
    "    accuracy_ot.append(mapping_accuracy_ot(Batch_list[i].obs['Ground Truth'], Batch_list[j].obs['Ground Truth'], tran_list[iters].cpu().detach().numpy()))\n",
    "    print(mapping_accuracy_ot(Batch_list[i].obs['Ground Truth'], Batch_list[j].obs['Ground Truth'], tran_list[iters].cpu().detach().numpy()))"
   ]
  },
  {
   "cell_type": "code",
   "execution_count": 47,
   "id": "141c28db",
   "metadata": {},
   "outputs": [
    {
     "name": "stdout",
     "output_type": "stream",
     "text": [
      "0.3444703\n"
     ]
    }
   ],
   "source": [
    "iter_comb = [(0, 1)]\n",
    "accuracy_ot=[]\n",
    "for iters,comb in enumerate(iter_comb):\n",
    "    i,j=comb[0],comb[1]\n",
    "    accuracy_ot.append(mapping_accuracy_ot(Batch_list[i].obs['Ground Truth'], Batch_list[j].obs['Ground Truth'], pi12))\n",
    "    print(mapping_accuracy_ot(Batch_list[i].obs['Ground Truth'], Batch_list[j].obs['Ground Truth'], pi12))"
   ]
  },
  {
   "cell_type": "code",
   "execution_count": 45,
   "id": "95a7f009",
   "metadata": {},
   "outputs": [
    {
     "name": "stdout",
     "output_type": "stream",
     "text": [
      "0.6495624502784407\n"
     ]
    }
   ],
   "source": [
    "accuracy_in=[]\n",
    "matching_plt=[]\n",
    "getMax_plt=[]\n",
    "for iters,comb in enumerate(iter_comb):\n",
    "    i,j=comb[0],comb[1]\n",
    "    result1 = pd.DataFrame(tran_list[iters].cpu().detach().numpy())\n",
    "    if tran_list[iters].shape[0] <= tran_list[iters].shape[1]:\n",
    "        matching_index = np.argmax(result1.to_numpy(),axis=1)\n",
    "        matching = np.array([np.arange(result1.shape[0]),matching_index])\n",
    "        getMax = np.zeros_like(tran_list[iters].cpu().detach().numpy())\n",
    "        #np.put_along_axis(getMax,tran_list[iters].cpu().detach().numpy().argmax(1)[:,None],1,axis=1)\n",
    "        for k in range(matching.shape[1]):\n",
    "            x = int(matching[:,k][0])\n",
    "            y = int(matching[:,k][1])\n",
    "            getMax[x][y] = 1        \n",
    "        matching_plt.append(matching)\n",
    "        getMax_plt.append(getMax)\n",
    "    if tran_list[iters].shape[0] > tran_list[iters].shape[1]:\n",
    "        matching_index = np.argmax(result1.to_numpy(),axis=0)\n",
    "        matching = np.array([np.arange(result1.shape[1]),matching_index])\n",
    "        getMax = np.zeros_like(tran_list[iters].cpu().detach().numpy())\n",
    "        for k in range(matching.shape[1]):\n",
    "            x = int(matching[:,k][1])\n",
    "            y = int(matching[:,k][0])\n",
    "            getMax[x][y] = 1\n",
    "        matching_plt.append(matching)\n",
    "        getMax_plt.append(getMax)\n",
    "    \n",
    "    accuracy_in.append(mapping_accuracy_in(Batch_list[i].obs['Ground Truth'], Batch_list[j].obs['Ground Truth'], getMax))\n",
    "    print(mapping_accuracy_in(Batch_list[i].obs['Ground Truth'], Batch_list[j].obs['Ground Truth'], getMax))"
   ]
  },
  {
   "cell_type": "code",
   "execution_count": 46,
   "id": "bf58d5b7",
   "metadata": {},
   "outputs": [],
   "source": [
    "tran_numpy = tran_list[0].cpu().detach().numpy()\n",
    "if tran_list[iters].shape[0] <= tran_list[iters].shape[1]:\n",
    "    filter_num = np.percentile(np.max(tran_numpy,axis=1),20)\n",
    "if tran_list[iters].shape[0] > tran_list[iters].shape[1]:\n",
    "    filter_num = np.percentile(np.max(tran_numpy,axis=0),20)"
   ]
  },
  {
   "cell_type": "code",
   "execution_count": 24,
   "id": "86f2adc1",
   "metadata": {},
   "outputs": [
    {
     "name": "stdout",
     "output_type": "stream",
     "text": [
      "0.7764518695306285\n"
     ]
    }
   ],
   "source": [
    "filter_num=0\n",
    "accuracy_in=[]\n",
    "getMax_plt=[]\n",
    "matching_plt_new=[]\n",
    "indexx=[]\n",
    "\n",
    "for iters,comb in enumerate(iter_comb):\n",
    "    i,j=comb[0],comb[1]\n",
    "    result1 = pd.DataFrame(tran_list[iters].cpu().detach().numpy())\n",
    "    if tran_list[iters].shape[0] <= tran_list[iters].shape[1]:\n",
    "        matching_index = np.argmax(result1.to_numpy(),axis=1)\n",
    "        matching = np.array([np.arange(result1.shape[0]),matching_index])\n",
    "        getMax = np.zeros_like(tran_list[iters].cpu().detach().numpy())\n",
    "        #np.put_along_axis(getMax,tran_list[iters].cpu().detach().numpy().argmax(1)[:,None],1,axis=1)\n",
    "        for k in range(matching.shape[1]):\n",
    "            x = int(matching[:,k][0])\n",
    "            y = int(matching[:,k][1])\n",
    "            if tran_list[iters][x][y] <=filter_num:\n",
    "                getMax[x][y] = 0\n",
    "            if tran_list[iters][x][y] >filter_num:\n",
    "                getMax[x][y] = 1\n",
    "                indexx.append(k)\n",
    "            #getMax[x][y] = 1\n",
    "        #matching_index_new = np.argmax(getMax,axis=1)\n",
    "        #matching_new = np.array([np.arange(len(matching_index_new)),matching_index_new])\n",
    "        #if getMax\n",
    "        matching_plt_new=matching[:,indexx]\n",
    "        getMax_plt.append(getMax)\n",
    "    if tran_list[iters].shape[0] > tran_list[iters].shape[1]:\n",
    "        matching_index = np.argmax(result1.to_numpy(),axis=0)\n",
    "        matching = np.array([np.arange(result1.shape[1]),matching_index])\n",
    "        getMax = np.zeros_like(tran_list[iters].cpu().detach().numpy())\n",
    "        for k in range(matching.shape[1]):\n",
    "            x = int(matching[:,k][1])\n",
    "            y = int(matching[:,k][0])\n",
    "            if tran_list[iters][x][y] <=filter_num:\n",
    "                getMax[x][y] = 0\n",
    "            if tran_list[iters][x][y] >filter_num:\n",
    "                getMax[x][y] = 1\n",
    "                indexx.append(k)\n",
    "            #getMax[x][y] = 1\n",
    "        #matching_index_new = np.argmax(getMax,axis=1)\n",
    "        #matching_new = np.array([np.arange(len(matching_index_new)),matching_index_new])\n",
    "        matching_plt_new=matching[:,indexx]\n",
    "        getMax_plt.append(getMax)\n",
    "    \n",
    "    accuracy_in.append(mapping_accuracy_in(Batch_list[i].obs['Ground Truth'], Batch_list[j].obs['Ground Truth'], getMax))\n",
    "    print(mapping_accuracy_in(Batch_list[i].obs['Ground Truth'], Batch_list[j].obs['Ground Truth'], getMax))"
   ]
  },
  {
   "cell_type": "code",
   "execution_count": 48,
   "id": "5bf928c7",
   "metadata": {},
   "outputs": [
    {
     "name": "stdout",
     "output_type": "stream",
     "text": [
      "0.3444709626093874\n"
     ]
    }
   ],
   "source": [
    "filter_num=0\n",
    "accuracy_in=[]\n",
    "getMax_plt=[]\n",
    "matching_plt_new=[]\n",
    "indexx=[]\n",
    "iter_comb=[(0,1)]\n",
    "for iters,comb in enumerate(iter_comb):\n",
    "    i,j=comb[0],comb[1]\n",
    "    result1 = pd.DataFrame(pi12)\n",
    "    if pi12.shape[0] <= pi12.shape[1]:\n",
    "        matching_index = np.argmax(result1.to_numpy(),axis=1)\n",
    "        matching = np.array([np.arange(result1.shape[0]),matching_index])\n",
    "        getMax = np.zeros_like(pi12)\n",
    "        #np.put_along_axis(getMax,tran_list[iters].cpu().detach().numpy().argmax(1)[:,None],1,axis=1)\n",
    "        for k in range(matching.shape[1]):\n",
    "            x = int(matching[:,k][0])\n",
    "            y = int(matching[:,k][1])\n",
    "            if pi12[x][y] <=filter_num:\n",
    "                getMax[x][y] = 0\n",
    "            if pi12[x][y] >filter_num:\n",
    "                getMax[x][y] = 1\n",
    "                indexx.append(k)\n",
    "            #getMax[x][y] = 1\n",
    "        #matching_index_new = np.argmax(getMax,axis=1)\n",
    "        #matching_new = np.array([np.arange(len(matching_index_new)),matching_index_new])\n",
    "        matching_plt_new=matching[:,indexx]\n",
    "        getMax_plt.append(getMax)\n",
    "    if pi12.shape[0] > pi12.shape[1]:\n",
    "        matching_index = np.argmax(result1.to_numpy(),axis=0)\n",
    "        matching = np.array([np.arange(result1.shape[1]),matching_index])\n",
    "        getMax = np.zeros_like(pi12)\n",
    "        for k in range(matching.shape[1]):\n",
    "            x = int(matching[:,k][1])\n",
    "            y = int(matching[:,k][0])\n",
    "            if pi12[x][y] <=filter_num:\n",
    "                getMax[x][y] = 0\n",
    "            if pi12[x][y] >filter_num:\n",
    "                getMax[x][y] = 1\n",
    "                indexx.append(k)\n",
    "            #getMax[x][y] = 1\n",
    "        #matching_index_new = np.argmax(getMax,axis=1)\n",
    "        #matching_new = np.array([np.arange(len(matching_index_new)),matching_index_new])\n",
    "        matching_plt_new=matching[:,indexx]\n",
    "        getMax_plt.append(getMax)\n",
    "    \n",
    "    accuracy_in.append(mapping_accuracy_in(Batch_list[i].obs['Ground Truth'], Batch_list[j].obs['Ground Truth'], getMax))\n",
    "    print(mapping_accuracy_in(Batch_list[i].obs['Ground Truth'], Batch_list[j].obs['Ground Truth'], getMax))"
   ]
  },
  {
   "cell_type": "code",
   "execution_count": 48,
   "id": "b7f0ad86",
   "metadata": {},
   "outputs": [],
   "source": [
    "index1=[]\n",
    "for i in range(len(c1.obsm['spatial'])):\n",
    "    if c1.obsm['spatial'][i,1]<p27:\n",
    "        index1.append(i)\n",
    "        \n",
    "index2=[]\n",
    "for i in range(len(c2.obsm['spatial'])):\n",
    "    if c2.obsm['spatial'][i,1]>p23:\n",
    "        index2.append(i)\n",
    "        \n",
    "index3=[]\n",
    "for i in range(len(matching_plt_new[0])):\n",
    "    if matching_plt_new[0][i] in index2:\n",
    "        index3.append(i)\n",
    "\n",
    "index4=[]\n",
    "for i in range(len(matching_plt_new[0])):\n",
    "    if matching_plt_new[1][i] in index1:\n",
    "        index4.append(i)"
   ]
  },
  {
   "cell_type": "code",
   "execution_count": 49,
   "id": "7e38935f",
   "metadata": {},
   "outputs": [],
   "source": [
    "intersection_index = list(set(index3) & set(index4))\n",
    "matching_plt_new[:,intersection_index]\n",
    "matching_plt_common = matching_plt_new[:,intersection_index]"
   ]
  },
  {
   "cell_type": "code",
   "execution_count": 25,
   "id": "02212783",
   "metadata": {},
   "outputs": [
    {
     "name": "stdout",
     "output_type": "stream",
     "text": [
      "0.683329267155774\n"
     ]
    }
   ],
   "source": [
    "mapping_dict = {'Layer_1':1, 'Layer_2':2, 'Layer_3':3, 'Layer_4':4, 'Layer_5':5, 'Layer_6':6, 'WM':7}\n",
    "\n",
    "from sklearn.metrics.cluster import adjusted_rand_score\n",
    "for iters,comb in enumerate(iter_comb):\n",
    "    i, j = comb[0], comb[1]\n",
    "    if tran_list[iters].shape[0] <= tran_list[iters].shape[1]:\n",
    "        print(adjusted_rand_score(Batch_list[i].obs['Ground Truth'][matching_plt_new[0]], Batch_list[j].obs['Ground Truth'][matching_plt_new[1]]))#第一个小第二个大\n",
    "    if tran_list[iters].shape[0] > tran_list[iters].shape[1]:\n",
    "        print(adjusted_rand_score(Batch_list[j].obs['Ground Truth'][matching_plt_new[0]],Batch_list[i].obs['Ground Truth'][matching_plt_new[1]]))#第一个小第二个大        "
   ]
  },
  {
   "cell_type": "code",
   "execution_count": 49,
   "id": "27557848",
   "metadata": {},
   "outputs": [
    {
     "name": "stdout",
     "output_type": "stream",
     "text": [
      "0.14192854991672102\n"
     ]
    }
   ],
   "source": [
    "mapping_dict = {'Layer_1':1, 'Layer_2':2, 'Layer_3':3, 'Layer_4':4, 'Layer_5':5, 'Layer_6':6, 'WM':7}\n",
    "\n",
    "from sklearn.metrics.cluster import adjusted_rand_score\n",
    "for iters,comb in enumerate(iter_comb):\n",
    "    i, j = comb[0], comb[1]\n",
    "    if pi12.shape[0] <= pi12.shape[1]:\n",
    "        print(adjusted_rand_score(Batch_list[i].obs['Ground Truth'][matching_plt_new[0]], Batch_list[j].obs['Ground Truth'][matching_plt_new[1]]))#第一个小第二个大\n",
    "    if pi12.shape[0] > pi12.shape[1]:\n",
    "        print(adjusted_rand_score(Batch_list[j].obs['Ground Truth'][matching_plt_new[0]],Batch_list[i].obs['Ground Truth'][matching_plt_new[1]]))#第一个小第二个大        "
   ]
  },
  {
   "cell_type": "code",
   "execution_count": 52,
   "id": "a48ae900",
   "metadata": {},
   "outputs": [],
   "source": [
    "Batch_list = [d2,d1]\n",
    "section_ids = ['151676_1','151676_2']"
   ]
  },
  {
   "cell_type": "code",
   "execution_count": 53,
   "id": "472624ed",
   "metadata": {},
   "outputs": [
    {
     "name": "stdout",
     "output_type": "stream",
     "text": [
      "gpu is available, using gpu.\n",
      "It.  |Loss        |Relative loss|Absolute loss\n",
      "------------------------------------------------\n",
      "    0|6.422356e+00|0.000000e+00|0.000000e+00\n",
      "    1|-3.912157e+01|1.164164e+00|4.554393e+01\n",
      "    2|-4.343551e+01|9.931815e-02|4.313934e+00\n",
      "    3|-4.362966e+01|4.449932e-03|1.941490e-01\n",
      "    4|-4.362991e+01|5.683150e-06|2.479553e-04\n",
      "    5|-4.362991e+01|0.000000e+00|0.000000e+00\n",
      "Runtime: 4.370820760726929\n"
     ]
    }
   ],
   "source": [
    "adata1 = Batch_list[0]\n",
    "adata2 = Batch_list[1]\n",
    "\n",
    "import ot\n",
    "import time\n",
    "import paste as pst\n",
    "alpha = 0.1\n",
    "start = time.time()\n",
    "#pi0 = pst.match_spots_using_spatial_heuristic(adata1.obsm['spatial'], adata2.obsm['spatial'], use_ot=True)\n",
    "n1,n2=len(adata1.obsm['spatial']),len(adata2.obsm['spatial'])\n",
    "dist = scipy.spatial.distance_matrix(adata1.obsm['spatial'],adata2.obsm['spatial'])\n",
    "#dist = scipy.spatial.distance_matrix(norm_and_center_coordinates(adata1.obsm['spatial']),norm_and_center_coordinates(adata2.obsm['spatial']))\n",
    "pi0 = ot.emd(np.ones(n1)/n1, np.ones(n2)/n2, dist)\n",
    "pi12 = pst.pairwise_align(adata1, adata2, use_gpu=True, backend=ot.backend.TorchBackend(), \n",
    "                          alpha=alpha, G_init=pi0, norm=True, verbose=True)\n",
    "print('Runtime: ' + str(time.time() - start))\n",
    "run_time = str(time.time() - start)"
   ]
  },
  {
   "cell_type": "code",
   "execution_count": 27,
   "id": "73c6cb28",
   "metadata": {},
   "outputs": [],
   "source": [
    "import anndata as ad\n",
    "adata_concat = ad.concat(Batch_list, label=\"slice_name\", keys=section_ids)\n",
    "adata_concat.obs['Ground Truth'] = adata_concat.obs['Ground Truth'].astype('category')\n",
    "adata_concat.obs[\"batch_name\"] = adata_concat.obs[\"slice_name\"].astype('category')"
   ]
  },
  {
   "cell_type": "code",
   "execution_count": 28,
   "id": "d11fd422",
   "metadata": {},
   "outputs": [
    {
     "name": "stdout",
     "output_type": "stream",
     "text": [
      "STAligner(\n",
      "  (conv1): GATConv(5000, 512, heads=1)\n",
      "  (conv2): GATConv(512, 30, heads=1)\n",
      "  (conv3): GATConv(30, 512, heads=1)\n",
      "  (conv4): GATConv(512, 5000, heads=1)\n",
      ")\n",
      "Train with STAligner...\n"
     ]
    },
    {
     "name": "stderr",
     "output_type": "stream",
     "text": [
      "100%|█████████████████████████████████| 200/200 [00:28<00:00,  6.97it/s]\n"
     ]
    }
   ],
   "source": [
    "iter_comb = [(0, 1)]\n",
    "adata_concat, tran_list = train_Graspot_Para(adata_concat, verbose=True, knn_neigh = 100, n_epochs = 200, iter_comb = iter_comb,\n",
    "                                                        Batch_list=Batch_list, initial = False, device=used_device)"
   ]
  },
  {
   "cell_type": "code",
   "execution_count": 29,
   "id": "739e5dca",
   "metadata": {},
   "outputs": [
    {
     "name": "stdout",
     "output_type": "stream",
     "text": [
      "0.6661987\n"
     ]
    }
   ],
   "source": [
    "accuracy_ot=[]\n",
    "for iters,comb in enumerate(iter_comb):\n",
    "    i,j=comb[0],comb[1]\n",
    "    accuracy_ot.append(mapping_accuracy_ot(Batch_list[i].obs['Ground Truth'], Batch_list[j].obs['Ground Truth'], tran_list[iters].cpu().detach().numpy()))\n",
    "    print(mapping_accuracy_ot(Batch_list[i].obs['Ground Truth'], Batch_list[j].obs['Ground Truth'], tran_list[iters].cpu().detach().numpy()))"
   ]
  },
  {
   "cell_type": "code",
   "execution_count": 54,
   "id": "1c62898b",
   "metadata": {},
   "outputs": [
    {
     "name": "stdout",
     "output_type": "stream",
     "text": [
      "0.44384754\n"
     ]
    }
   ],
   "source": [
    "iter_comb = [(0, 1)]\n",
    "accuracy_ot=[]\n",
    "for iters,comb in enumerate(iter_comb):\n",
    "    i,j=comb[0],comb[1]\n",
    "    accuracy_ot.append(mapping_accuracy_ot(Batch_list[i].obs['Ground Truth'], Batch_list[j].obs['Ground Truth'], pi12))\n",
    "    print(mapping_accuracy_ot(Batch_list[i].obs['Ground Truth'], Batch_list[j].obs['Ground Truth'], pi12))"
   ]
  },
  {
   "cell_type": "code",
   "execution_count": 55,
   "id": "f3a9ee53",
   "metadata": {},
   "outputs": [
    {
     "name": "stdout",
     "output_type": "stream",
     "text": [
      "0.6601981833195706\n"
     ]
    }
   ],
   "source": [
    "accuracy_in=[]\n",
    "matching_plt=[]\n",
    "getMax_plt=[]\n",
    "for iters,comb in enumerate(iter_comb):\n",
    "    i,j=comb[0],comb[1]\n",
    "    result1 = pd.DataFrame(tran_list[iters].cpu().detach().numpy())\n",
    "    if tran_list[iters].shape[0] <= tran_list[iters].shape[1]:\n",
    "        matching_index = np.argmax(result1.to_numpy(),axis=1)\n",
    "        matching = np.array([np.arange(result1.shape[0]),matching_index])\n",
    "        getMax = np.zeros_like(tran_list[iters].cpu().detach().numpy())\n",
    "        #np.put_along_axis(getMax,tran_list[iters].cpu().detach().numpy().argmax(1)[:,None],1,axis=1)\n",
    "        for k in range(matching.shape[1]):\n",
    "            x = int(matching[:,k][0])\n",
    "            y = int(matching[:,k][1])\n",
    "            getMax[x][y] = 1        \n",
    "        matching_plt.append(matching)\n",
    "        getMax_plt.append(getMax)\n",
    "    if tran_list[iters].shape[0] > tran_list[iters].shape[1]:\n",
    "        matching_index = np.argmax(result1.to_numpy(),axis=0)\n",
    "        matching = np.array([np.arange(result1.shape[1]),matching_index])\n",
    "        getMax = np.zeros_like(tran_list[iters].cpu().detach().numpy())\n",
    "        for k in range(matching.shape[1]):\n",
    "            x = int(matching[:,k][1])\n",
    "            y = int(matching[:,k][0])\n",
    "            getMax[x][y] = 1\n",
    "        matching_plt.append(matching)\n",
    "        getMax_plt.append(getMax)\n",
    "    \n",
    "    accuracy_in.append(mapping_accuracy_in(Batch_list[i].obs['Ground Truth'], Batch_list[j].obs['Ground Truth'], getMax))\n",
    "    print(mapping_accuracy_in(Batch_list[i].obs['Ground Truth'], Batch_list[j].obs['Ground Truth'], getMax))"
   ]
  },
  {
   "cell_type": "code",
   "execution_count": 56,
   "id": "c93e03ba",
   "metadata": {},
   "outputs": [],
   "source": [
    "tran_numpy = tran_list[0].cpu().detach().numpy()\n",
    "if tran_list[iters].shape[0] <= tran_list[iters].shape[1]:\n",
    "    filter_num = np.percentile(np.max(tran_numpy,axis=1),20)\n",
    "if tran_list[iters].shape[0] > tran_list[iters].shape[1]:\n",
    "    filter_num = np.percentile(np.max(tran_numpy,axis=0),20)"
   ]
  },
  {
   "cell_type": "code",
   "execution_count": 30,
   "id": "0e46123a",
   "metadata": {},
   "outputs": [
    {
     "name": "stdout",
     "output_type": "stream",
     "text": [
      "0.791494632535095\n"
     ]
    }
   ],
   "source": [
    "filter_num=0\n",
    "accuracy_in=[]\n",
    "getMax_plt=[]\n",
    "matching_plt_new=[]\n",
    "indexx=[]\n",
    "\n",
    "for iters,comb in enumerate(iter_comb):\n",
    "    i,j=comb[0],comb[1]\n",
    "    result1 = pd.DataFrame(tran_list[iters].cpu().detach().numpy())\n",
    "    if tran_list[iters].shape[0] <= tran_list[iters].shape[1]:\n",
    "        matching_index = np.argmax(result1.to_numpy(),axis=1)\n",
    "        matching = np.array([np.arange(result1.shape[0]),matching_index])\n",
    "        getMax = np.zeros_like(tran_list[iters].cpu().detach().numpy())\n",
    "        #np.put_along_axis(getMax,tran_list[iters].cpu().detach().numpy().argmax(1)[:,None],1,axis=1)\n",
    "        for k in range(matching.shape[1]):\n",
    "            x = int(matching[:,k][0])\n",
    "            y = int(matching[:,k][1])\n",
    "            if tran_list[iters][x][y] <=filter_num:\n",
    "                getMax[x][y] = 0\n",
    "            if tran_list[iters][x][y] >filter_num:\n",
    "                getMax[x][y] = 1\n",
    "                indexx.append(k)\n",
    "            #getMax[x][y] = 1\n",
    "        #matching_index_new = np.argmax(getMax,axis=1)\n",
    "        #matching_new = np.array([np.arange(len(matching_index_new)),matching_index_new])\n",
    "        #if getMax\n",
    "        matching_plt_new=matching[:,indexx]\n",
    "        getMax_plt.append(getMax)\n",
    "    if tran_list[iters].shape[0] > tran_list[iters].shape[1]:\n",
    "        matching_index = np.argmax(result1.to_numpy(),axis=0)\n",
    "        matching = np.array([np.arange(result1.shape[1]),matching_index])\n",
    "        getMax = np.zeros_like(tran_list[iters].cpu().detach().numpy())\n",
    "        for k in range(matching.shape[1]):\n",
    "            x = int(matching[:,k][1])\n",
    "            y = int(matching[:,k][0])\n",
    "            if tran_list[iters][x][y] <=filter_num:\n",
    "                getMax[x][y] = 0\n",
    "            if tran_list[iters][x][y] >filter_num:\n",
    "                getMax[x][y] = 1\n",
    "                indexx.append(k)\n",
    "            #getMax[x][y] = 1\n",
    "        #matching_index_new = np.argmax(getMax,axis=1)\n",
    "        #matching_new = np.array([np.arange(len(matching_index_new)),matching_index_new])\n",
    "        matching_plt_new=matching[:,indexx]\n",
    "        getMax_plt.append(getMax)\n",
    "    \n",
    "    accuracy_in.append(mapping_accuracy_in(Batch_list[i].obs['Ground Truth'], Batch_list[j].obs['Ground Truth'], getMax))\n",
    "    print(mapping_accuracy_in(Batch_list[i].obs['Ground Truth'], Batch_list[j].obs['Ground Truth'], getMax))"
   ]
  },
  {
   "cell_type": "code",
   "execution_count": 55,
   "id": "7e978eb6",
   "metadata": {},
   "outputs": [
    {
     "name": "stdout",
     "output_type": "stream",
     "text": [
      "0.4438480594549959\n"
     ]
    }
   ],
   "source": [
    "filter_num=0\n",
    "accuracy_in=[]\n",
    "getMax_plt=[]\n",
    "matching_plt_new=[]\n",
    "indexx=[]\n",
    "iter_comb=[(0,1)]\n",
    "for iters,comb in enumerate(iter_comb):\n",
    "    i,j=comb[0],comb[1]\n",
    "    result1 = pd.DataFrame(pi12)\n",
    "    if pi12.shape[0] <= pi12.shape[1]:\n",
    "        matching_index = np.argmax(result1.to_numpy(),axis=1)\n",
    "        matching = np.array([np.arange(result1.shape[0]),matching_index])\n",
    "        getMax = np.zeros_like(pi12)\n",
    "        #np.put_along_axis(getMax,tran_list[iters].cpu().detach().numpy().argmax(1)[:,None],1,axis=1)\n",
    "        for k in range(matching.shape[1]):\n",
    "            x = int(matching[:,k][0])\n",
    "            y = int(matching[:,k][1])\n",
    "            if pi12[x][y] <=filter_num:\n",
    "                getMax[x][y] = 0\n",
    "            if pi12[x][y] >filter_num:\n",
    "                getMax[x][y] = 1\n",
    "                indexx.append(k)\n",
    "            #getMax[x][y] = 1\n",
    "        #matching_index_new = np.argmax(getMax,axis=1)\n",
    "        #matching_new = np.array([np.arange(len(matching_index_new)),matching_index_new])\n",
    "        matching_plt_new=matching[:,indexx]\n",
    "        getMax_plt.append(getMax)\n",
    "    if pi12.shape[0] > pi12.shape[1]:\n",
    "        matching_index = np.argmax(result1.to_numpy(),axis=0)\n",
    "        matching = np.array([np.arange(result1.shape[1]),matching_index])\n",
    "        getMax = np.zeros_like(pi12)\n",
    "        for k in range(matching.shape[1]):\n",
    "            x = int(matching[:,k][1])\n",
    "            y = int(matching[:,k][0])\n",
    "            if pi12[x][y] <=filter_num:\n",
    "                getMax[x][y] = 0\n",
    "            if pi12[x][y] >filter_num:\n",
    "                getMax[x][y] = 1\n",
    "                indexx.append(k)\n",
    "            #getMax[x][y] = 1\n",
    "        #matching_index_new = np.argmax(getMax,axis=1)\n",
    "        #matching_new = np.array([np.arange(len(matching_index_new)),matching_index_new])\n",
    "        matching_plt_new=matching[:,indexx]\n",
    "        getMax_plt.append(getMax)\n",
    "    \n",
    "    accuracy_in.append(mapping_accuracy_in(Batch_list[i].obs['Ground Truth'], Batch_list[j].obs['Ground Truth'], getMax))\n",
    "    print(mapping_accuracy_in(Batch_list[i].obs['Ground Truth'], Batch_list[j].obs['Ground Truth'], getMax))"
   ]
  },
  {
   "cell_type": "code",
   "execution_count": 58,
   "id": "bdb1765e",
   "metadata": {},
   "outputs": [],
   "source": [
    "index1=[]\n",
    "for i in range(len(d1.obsm['spatial'])):\n",
    "    if d1.obsm['spatial'][i,1]<p37:\n",
    "        index1.append(i)\n",
    "        \n",
    "index2=[]\n",
    "for i in range(len(d2.obsm['spatial'])):\n",
    "    if d2.obsm['spatial'][i,1]>p33:\n",
    "        index2.append(i)\n",
    "        \n",
    "index3=[]\n",
    "for i in range(len(matching_plt_new[0])):\n",
    "    if matching_plt_new[0][i] in index2:\n",
    "        index3.append(i)\n",
    "\n",
    "index4=[]\n",
    "for i in range(len(matching_plt_new[0])):\n",
    "    if matching_plt_new[1][i] in index1:\n",
    "        index4.append(i)"
   ]
  },
  {
   "cell_type": "code",
   "execution_count": 59,
   "id": "3466e2fe",
   "metadata": {},
   "outputs": [],
   "source": [
    "intersection_index = list(set(index3) & set(index4))\n",
    "matching_plt_new[:,intersection_index]\n",
    "matching_plt_common = matching_plt_new[:,intersection_index]"
   ]
  },
  {
   "cell_type": "code",
   "execution_count": 31,
   "id": "05d1504a",
   "metadata": {},
   "outputs": [
    {
     "name": "stdout",
     "output_type": "stream",
     "text": [
      "0.6702111775799833\n"
     ]
    }
   ],
   "source": [
    "mapping_dict = {'Layer_1':1, 'Layer_2':2, 'Layer_3':3, 'Layer_4':4, 'Layer_5':5, 'Layer_6':6, 'WM':7}\n",
    "\n",
    "from sklearn.metrics.cluster import adjusted_rand_score\n",
    "for iters,comb in enumerate(iter_comb):\n",
    "    i, j = comb[0], comb[1]\n",
    "    if tran_list[iters].shape[0] <= tran_list[iters].shape[1]:\n",
    "        print(adjusted_rand_score(Batch_list[i].obs['Ground Truth'][matching_plt_new[0]], Batch_list[j].obs['Ground Truth'][matching_plt_new[1]]))#第一个小第二个大\n",
    "    if tran_list[iters].shape[0] > tran_list[iters].shape[1]:\n",
    "        print(adjusted_rand_score(Batch_list[j].obs['Ground Truth'][matching_plt_new[0]],Batch_list[i].obs['Ground Truth'][matching_plt_new[1]]))#第一个小第二个大        "
   ]
  },
  {
   "cell_type": "code",
   "execution_count": 56,
   "id": "92abc772",
   "metadata": {},
   "outputs": [
    {
     "name": "stdout",
     "output_type": "stream",
     "text": [
      "0.23990103620272812\n"
     ]
    }
   ],
   "source": [
    "mapping_dict = {'Layer_1':1, 'Layer_2':2, 'Layer_3':3, 'Layer_4':4, 'Layer_5':5, 'Layer_6':6, 'WM':7}\n",
    "\n",
    "from sklearn.metrics.cluster import adjusted_rand_score\n",
    "for iters,comb in enumerate(iter_comb):\n",
    "    i, j = comb[0], comb[1]\n",
    "    if pi12.shape[0] <= pi12.shape[1]:\n",
    "        print(adjusted_rand_score(Batch_list[i].obs['Ground Truth'][matching_plt_new[0]], Batch_list[j].obs['Ground Truth'][matching_plt_new[1]]))#第一个小第二个大\n",
    "    if pi12.shape[0] > pi12.shape[1]:\n",
    "        print(adjusted_rand_score(Batch_list[j].obs['Ground Truth'][matching_plt_new[0]],Batch_list[i].obs['Ground Truth'][matching_plt_new[1]]))#第一个小第二个大        "
   ]
  },
  {
   "cell_type": "code",
   "execution_count": 25,
   "id": "b70c175c",
   "metadata": {},
   "outputs": [],
   "source": [
    "Batch_list = [b1,a2]\n",
    "section_ids = ['151674_1','151673_2']"
   ]
  },
  {
   "cell_type": "code",
   "execution_count": 23,
   "id": "8b5f36a1",
   "metadata": {},
   "outputs": [],
   "source": [
    "Batch_list = [b2,a1]\n",
    "section_ids = ['151674_1','151673_2']"
   ]
  },
  {
   "cell_type": "code",
   "execution_count": 24,
   "id": "5ae22211",
   "metadata": {},
   "outputs": [
    {
     "name": "stdout",
     "output_type": "stream",
     "text": [
      "gpu is available, using gpu.\n",
      "It.  |Loss        |Relative loss|Absolute loss\n",
      "------------------------------------------------\n",
      "    0|2.570241e+00|0.000000e+00|0.000000e+00\n",
      "    1|-1.643062e-02|1.574300e+02|2.586671e+00\n",
      "    2|-5.760882e-02|7.147899e-01|4.117820e-02\n",
      "    3|-6.995624e-02|1.765020e-01|1.234742e-02\n",
      "    4|-8.969436e-02|2.200598e-01|1.973812e-02\n",
      "    5|-1.016660e-01|1.177550e-01|1.197169e-02\n",
      "    6|-1.144337e-01|1.115728e-01|1.276769e-02\n",
      "    7|-1.177216e-01|2.792899e-02|3.287844e-03\n",
      "    8|-1.216291e-01|3.212643e-02|3.907509e-03\n",
      "    9|-1.220061e-01|3.090309e-03|3.770366e-04\n",
      "   10|-1.250361e-01|2.423261e-02|3.029950e-03\n",
      "   11|-1.288790e-01|2.981771e-02|3.842875e-03\n",
      "   12|-1.316102e-01|2.075267e-02|2.731264e-03\n",
      "   13|-1.329092e-01|9.773654e-03|1.299009e-03\n",
      "   14|-1.338021e-01|6.672900e-03|8.928478e-04\n",
      "   15|-1.340924e-01|2.164959e-03|2.903044e-04\n",
      "   16|-1.344462e-01|2.631745e-03|3.538281e-04\n",
      "   17|-1.347674e-01|2.383656e-03|3.212392e-04\n",
      "   18|-1.350337e-01|1.971869e-03|2.662688e-04\n",
      "   19|-1.353118e-01|2.055475e-03|2.781302e-04\n",
      "It.  |Loss        |Relative loss|Absolute loss\n",
      "------------------------------------------------\n",
      "   20|-1.355793e-01|1.972507e-03|2.674311e-04\n",
      "   21|-1.358341e-01|1.875671e-03|2.547801e-04\n",
      "   22|-1.363742e-01|3.960483e-03|5.401075e-04\n",
      "   23|-1.365489e-01|1.279622e-03|1.747310e-04\n",
      "   24|-1.366690e-01|8.784633e-04|1.200587e-04\n",
      "   25|-1.367488e-01|5.840652e-04|7.987022e-05\n",
      "   26|-1.367488e-01|0.000000e+00|0.000000e+00\n",
      "Runtime: 26.538443565368652\n"
     ]
    }
   ],
   "source": [
    "adata1 = Batch_list[0]\n",
    "adata2 = Batch_list[1]\n",
    "\n",
    "import ot\n",
    "import time\n",
    "import paste as pst\n",
    "alpha = 0.1\n",
    "start = time.time()\n",
    "pi0 = pst.match_spots_using_spatial_heuristic(adata1.obsm['spatial'], adata2.obsm['spatial'], use_ot=True)\n",
    "#n1,n2=len(adata1.obsm['spatial']),len(adata2.obsm['spatial'])\n",
    "#dist = scipy.spatial.distance_matrix(adata1.obsm['spatial'],adata2.obsm['spatial'])\n",
    "#dist = scipy.spatial.distance_matrix(norm_and_center_coordinates(adata1.obsm['spatial']),norm_and_center_coordinates(adata2.obsm['spatial']))\n",
    "#pi0 = ot.emd(np.ones(n1)/n1, np.ones(n2)/n2, dist)\n",
    "pi12 = pst.pairwise_align(adata1, adata2, use_gpu=True, backend=ot.backend.TorchBackend(), \n",
    "                          alpha=alpha, G_init=pi0, norm=True, verbose=True)\n",
    "print('Runtime: ' + str(time.time() - start))\n",
    "run_time = str(time.time() - start)"
   ]
  },
  {
   "cell_type": "code",
   "execution_count": 8,
   "id": "9a590404",
   "metadata": {},
   "outputs": [],
   "source": [
    "import anndata as ad\n",
    "adata_concat = ad.concat(Batch_list, label=\"slice_name\", keys=section_ids)\n",
    "adata_concat.obs['Ground Truth'] = adata_concat.obs['Ground Truth'].astype('category')\n",
    "adata_concat.obs[\"batch_name\"] = adata_concat.obs[\"slice_name\"].astype('category')"
   ]
  },
  {
   "cell_type": "code",
   "execution_count": 33,
   "id": "a2a6026a",
   "metadata": {},
   "outputs": [],
   "source": [
    "mapping_dict = {'Layer_1':1, 'Layer_2':2, 'Layer_3':3, 'Layer_4':4, 'Layer_5':5, 'Layer_6':6, 'WM':7}\n",
    "data1 = np.array(Batch_list[0].obs['Ground Truth'].map(mapping_dict))\n",
    "data2 = np.array(Batch_list[1].obs['Ground Truth'].map(mapping_dict))\n",
    "\n",
    "gamma = 0.5 \n",
    "\n",
    "DM = np.ones((len(data1), len(data2)))\n",
    "for i in range(len(data1)):\n",
    "    for j in range(len(data2)):\n",
    "        if data1[i] == data2[j]:\n",
    "            DM[i][j] = gamma"
   ]
  },
  {
   "cell_type": "code",
   "execution_count": 9,
   "id": "c3f892cf",
   "metadata": {},
   "outputs": [
    {
     "name": "stdout",
     "output_type": "stream",
     "text": [
      "STAligner(\n",
      "  (conv1): GATConv(2341, 512, heads=1)\n",
      "  (conv2): GATConv(512, 30, heads=1)\n",
      "  (conv3): GATConv(30, 512, heads=1)\n",
      "  (conv4): GATConv(512, 2341, heads=1)\n",
      ")\n",
      "Train with STAligner...\n"
     ]
    },
    {
     "name": "stderr",
     "output_type": "stream",
     "text": [
      "100%|█████████████████████████████████| 200/200 [00:28<00:00,  7.03it/s]\n"
     ]
    }
   ],
   "source": [
    "iter_comb = [(0, 1)]\n",
    "adata_concat, tran_list = train_Graspot_Para(adata_concat, verbose=True, knn_neigh = 100, n_epochs = 200, iter_comb = iter_comb,\n",
    "                                                        Batch_list=Batch_list, initial = True, Couple = None, device=used_device)"
   ]
  },
  {
   "cell_type": "code",
   "execution_count": 10,
   "id": "fd8c148b",
   "metadata": {},
   "outputs": [
    {
     "name": "stdout",
     "output_type": "stream",
     "text": [
      "0.47898805\n"
     ]
    }
   ],
   "source": [
    "accuracy_ot=[]\n",
    "for iters,comb in enumerate(iter_comb):\n",
    "    i,j=comb[0],comb[1]\n",
    "    accuracy_ot.append(mapping_accuracy_ot(Batch_list[i].obs['Ground Truth'], Batch_list[j].obs['Ground Truth'], tran_list[iters].cpu().detach().numpy()))\n",
    "    print(mapping_accuracy_ot(Batch_list[i].obs['Ground Truth'], Batch_list[j].obs['Ground Truth'], tran_list[iters].cpu().detach().numpy()))"
   ]
  },
  {
   "cell_type": "code",
   "execution_count": 15,
   "id": "de33c286",
   "metadata": {},
   "outputs": [
    {
     "name": "stdout",
     "output_type": "stream",
     "text": [
      "0.26886111\n"
     ]
    }
   ],
   "source": [
    "accuracy_ot=[]\n",
    "iter_comb = [(0, 1)]\n",
    "for iters,comb in enumerate(iter_comb):\n",
    "    i,j=comb[0],comb[1]\n",
    "    accuracy_ot.append(mapping_accuracy_ot(Batch_list[i].obs['Ground Truth'], Batch_list[j].obs['Ground Truth'], pi12))\n",
    "    print(mapping_accuracy_ot(Batch_list[i].obs['Ground Truth'], Batch_list[j].obs['Ground Truth'], pi12))"
   ]
  },
  {
   "cell_type": "code",
   "execution_count": 57,
   "id": "99d5f486",
   "metadata": {},
   "outputs": [
    {
     "name": "stdout",
     "output_type": "stream",
     "text": [
      "0.4817432273262662\n"
     ]
    }
   ],
   "source": [
    "accuracy_in=[]\n",
    "matching_plt=[]\n",
    "getMax_plt=[]\n",
    "for iters,comb in enumerate(iter_comb):\n",
    "    i,j=comb[0],comb[1]\n",
    "    result1 = pd.DataFrame(tran_list[iters].cpu().detach().numpy())\n",
    "    if tran_list[iters].shape[0] <= tran_list[iters].shape[1]:\n",
    "        matching_index = np.argmax(result1.to_numpy(),axis=1)\n",
    "        matching = np.array([np.arange(result1.shape[0]),matching_index])\n",
    "        getMax = np.zeros_like(tran_list[iters].cpu().detach().numpy())\n",
    "        #np.put_along_axis(getMax,tran_list[iters].cpu().detach().numpy().argmax(1)[:,None],1,axis=1)\n",
    "        for k in range(matching.shape[1]):\n",
    "            x = int(matching[:,k][0])\n",
    "            y = int(matching[:,k][1])\n",
    "            getMax[x][y] = 1        \n",
    "        matching_plt.append(matching)\n",
    "        getMax_plt.append(getMax)\n",
    "    if tran_list[iters].shape[0] > tran_list[iters].shape[1]:\n",
    "        matching_index = np.argmax(result1.to_numpy(),axis=0)\n",
    "        matching = np.array([np.arange(result1.shape[1]),matching_index])\n",
    "        getMax = np.zeros_like(tran_list[iters].cpu().detach().numpy())\n",
    "        for k in range(matching.shape[1]):\n",
    "            x = int(matching[:,k][1])\n",
    "            y = int(matching[:,k][0])\n",
    "            getMax[x][y] = 1\n",
    "        matching_plt.append(matching)\n",
    "        getMax_plt.append(getMax)\n",
    "    \n",
    "    accuracy_in.append(mapping_accuracy_in(Batch_list[i].obs['Ground Truth'], Batch_list[j].obs['Ground Truth'], getMax))\n",
    "    print(mapping_accuracy_in(Batch_list[i].obs['Ground Truth'], Batch_list[j].obs['Ground Truth'], getMax))"
   ]
  },
  {
   "cell_type": "code",
   "execution_count": 11,
   "id": "dc043ace",
   "metadata": {},
   "outputs": [],
   "source": [
    "tran_numpy = tran_list[0].cpu().detach().numpy()\n",
    "if tran_list[iters].shape[0] <= tran_list[iters].shape[1]:\n",
    "    filter_num = np.percentile(np.max(tran_numpy,axis=1),20)\n",
    "if tran_list[iters].shape[0] > tran_list[iters].shape[1]:\n",
    "    filter_num = np.percentile(np.max(tran_numpy,axis=0),20)"
   ]
  },
  {
   "cell_type": "code",
   "execution_count": 11,
   "id": "c4f093b9",
   "metadata": {},
   "outputs": [
    {
     "name": "stdout",
     "output_type": "stream",
     "text": [
      "0.4817432273262662\n"
     ]
    }
   ],
   "source": [
    "filter_num=0\n",
    "accuracy_in=[]\n",
    "getMax_plt=[]\n",
    "matching_plt_new=[]\n",
    "indexx=[]\n",
    "\n",
    "for iters,comb in enumerate(iter_comb):\n",
    "    i,j=comb[0],comb[1]\n",
    "    result1 = pd.DataFrame(tran_list[iters].cpu().detach().numpy())\n",
    "    if tran_list[iters].shape[0] <= tran_list[iters].shape[1]:\n",
    "        matching_index = np.argmax(result1.to_numpy(),axis=1)\n",
    "        matching = np.array([np.arange(result1.shape[0]),matching_index])\n",
    "        getMax = np.zeros_like(tran_list[iters].cpu().detach().numpy())\n",
    "        #np.put_along_axis(getMax,tran_list[iters].cpu().detach().numpy().argmax(1)[:,None],1,axis=1)\n",
    "        for k in range(matching.shape[1]):\n",
    "            x = int(matching[:,k][0])\n",
    "            y = int(matching[:,k][1])\n",
    "            if tran_list[iters][x][y] <=filter_num:\n",
    "                getMax[x][y] = 0\n",
    "            if tran_list[iters][x][y] >filter_num:\n",
    "                getMax[x][y] = 1\n",
    "                indexx.append(k)\n",
    "            #getMax[x][y] = 1\n",
    "        #matching_index_new = np.argmax(getMax,axis=1)\n",
    "        #matching_new = np.array([np.arange(len(matching_index_new)),matching_index_new])\n",
    "        #if getMax\n",
    "        matching_plt_new=matching[:,indexx]\n",
    "        getMax_plt.append(getMax)\n",
    "    if tran_list[iters].shape[0] > tran_list[iters].shape[1]:\n",
    "        matching_index = np.argmax(result1.to_numpy(),axis=0)\n",
    "        matching = np.array([np.arange(result1.shape[1]),matching_index])\n",
    "        getMax = np.zeros_like(tran_list[iters].cpu().detach().numpy())\n",
    "        for k in range(matching.shape[1]):\n",
    "            x = int(matching[:,k][1])\n",
    "            y = int(matching[:,k][0])\n",
    "            if tran_list[iters][x][y] <=filter_num:\n",
    "                getMax[x][y] = 0\n",
    "            if tran_list[iters][x][y] >filter_num:\n",
    "                getMax[x][y] = 1\n",
    "                indexx.append(k)\n",
    "            #getMax[x][y] = 1\n",
    "        #matching_index_new = np.argmax(getMax,axis=1)\n",
    "        #matching_new = np.array([np.arange(len(matching_index_new)),matching_index_new])\n",
    "        matching_plt_new=matching[:,indexx]\n",
    "        getMax_plt.append(getMax)\n",
    "    \n",
    "    accuracy_in.append(mapping_accuracy_in(Batch_list[i].obs['Ground Truth'], Batch_list[j].obs['Ground Truth'], getMax))\n",
    "    print(mapping_accuracy_in(Batch_list[i].obs['Ground Truth'], Batch_list[j].obs['Ground Truth'], getMax))"
   ]
  },
  {
   "cell_type": "code",
   "execution_count": 16,
   "id": "c92fbc6c",
   "metadata": {},
   "outputs": [],
   "source": [
    "pi12_numpy = pi12\n",
    "if pi12.shape[0] <= pi12.shape[1]:\n",
    "    filter_num = np.percentile(np.max(pi12_numpy,axis=1),20)\n",
    "if pi12.shape[0] > pi12.shape[1]:\n",
    "    filter_num = np.percentile(np.max(pi12_numpy,axis=0),20)"
   ]
  },
  {
   "cell_type": "code",
   "execution_count": 25,
   "id": "3c650bb8",
   "metadata": {},
   "outputs": [
    {
     "name": "stdout",
     "output_type": "stream",
     "text": [
      "0.2689438555162937\n"
     ]
    }
   ],
   "source": [
    "filter_num=0\n",
    "accuracy_in=[]\n",
    "getMax_plt=[]\n",
    "matching_plt_new=[]\n",
    "indexx=[]\n",
    "iter_comb=[(0,1)]\n",
    "for iters,comb in enumerate(iter_comb):\n",
    "    i,j=comb[0],comb[1]\n",
    "    result1 = pd.DataFrame(pi12)\n",
    "    if pi12.shape[0] <= pi12.shape[1]:\n",
    "        matching_index = np.argmax(result1.to_numpy(),axis=1)\n",
    "        matching = np.array([np.arange(result1.shape[0]),matching_index])\n",
    "        getMax = np.zeros_like(pi12)\n",
    "        #np.put_along_axis(getMax,tran_list[iters].cpu().detach().numpy().argmax(1)[:,None],1,axis=1)\n",
    "        for k in range(matching.shape[1]):\n",
    "            x = int(matching[:,k][0])\n",
    "            y = int(matching[:,k][1])\n",
    "            if pi12[x][y] <=filter_num:\n",
    "                getMax[x][y] = 0\n",
    "            if pi12[x][y] >filter_num:\n",
    "                getMax[x][y] = 1\n",
    "                indexx.append(k)\n",
    "            #getMax[x][y] = 1\n",
    "        #matching_index_new = np.argmax(getMax,axis=1)\n",
    "        #matching_new = np.array([np.arange(len(matching_index_new)),matching_index_new])\n",
    "        matching_plt_new=matching[:,indexx]\n",
    "        getMax_plt.append(getMax)\n",
    "    if pi12.shape[0] > pi12.shape[1]:\n",
    "        matching_index = np.argmax(result1.to_numpy(),axis=0)\n",
    "        matching = np.array([np.arange(result1.shape[1]),matching_index])\n",
    "        getMax = np.zeros_like(pi12)\n",
    "        for k in range(matching.shape[1]):\n",
    "            x = int(matching[:,k][1])\n",
    "            y = int(matching[:,k][0])\n",
    "            if pi12[x][y] <=filter_num:\n",
    "                getMax[x][y] = 0\n",
    "            if pi12[x][y] >filter_num:\n",
    "                getMax[x][y] = 1\n",
    "                indexx.append(k)\n",
    "            #getMax[x][y] = 1\n",
    "        #matching_index_new = np.argmax(getMax,axis=1)\n",
    "        #matching_new = np.array([np.arange(len(matching_index_new)),matching_index_new])\n",
    "        matching_plt_new=matching[:,indexx]\n",
    "        getMax_plt.append(getMax)\n",
    "    \n",
    "    accuracy_in.append(mapping_accuracy_in(Batch_list[i].obs['Ground Truth'], Batch_list[j].obs['Ground Truth'], getMax))\n",
    "    print(mapping_accuracy_in(Batch_list[i].obs['Ground Truth'], Batch_list[j].obs['Ground Truth'], getMax))"
   ]
  },
  {
   "cell_type": "code",
   "execution_count": 17,
   "id": "a503fa63",
   "metadata": {},
   "outputs": [],
   "source": [
    "index1=[]\n",
    "for i in range(len(b2.obsm['spatial'])):\n",
    "    if b2.obsm['spatial'][i,1]>p3:\n",
    "        index1.append(i)\n",
    "\n",
    "index2=[]\n",
    "for i in range(len(a1.obsm['spatial'])):\n",
    "    if a1.obsm['spatial'][i,0]<p17:\n",
    "        index2.append(i)\n",
    "        \n",
    "index3=[]\n",
    "for i in range(len(matching_plt_new[0])):\n",
    "    if matching_plt_new[0][i] in index2:\n",
    "        index3.append(i)\n",
    "\n",
    "index4=[]\n",
    "for i in range(len(matching_plt_new[0])):\n",
    "    if matching_plt_new[1][i] in index1:\n",
    "        index4.append(i)"
   ]
  },
  {
   "cell_type": "code",
   "execution_count": 26,
   "id": "30e34892",
   "metadata": {},
   "outputs": [],
   "source": [
    "index1=[]\n",
    "for i in range(len(b2.obsm['spatial'])):\n",
    "    if b2.obsm['spatial'][i,1]>p3:\n",
    "        index1.append(i)\n",
    "\n",
    "index2=[]\n",
    "for i in range(len(a1.obsm['spatial'])):\n",
    "    if a1.obsm['spatial'][i,1]<p17:\n",
    "        index2.append(i)\n",
    "        \n",
    "index3=[]\n",
    "for i in range(len(matching_plt_new[0])):\n",
    "    if matching_plt_new[0][i] in index2:\n",
    "        index3.append(i)\n",
    "\n",
    "index4=[]\n",
    "for i in range(len(matching_plt_new[0])):\n",
    "    if matching_plt_new[1][i] in index1:\n",
    "        index4.append(i)"
   ]
  },
  {
   "cell_type": "code",
   "execution_count": 27,
   "id": "0355f1ee",
   "metadata": {},
   "outputs": [],
   "source": [
    "intersection_index = list(set(index3) & set(index4))\n",
    "matching_plt_new[:,intersection_index]\n",
    "matching_plt_common = matching_plt_new[:,intersection_index]"
   ]
  },
  {
   "cell_type": "code",
   "execution_count": 51,
   "id": "9ff30657",
   "metadata": {},
   "outputs": [],
   "source": [
    "E = [i for i in range(0, 500)]\n",
    "matching_plt_common = matching_plt_common[:,E]"
   ]
  },
  {
   "cell_type": "code",
   "execution_count": 12,
   "id": "db5ae86e",
   "metadata": {},
   "outputs": [
    {
     "name": "stdout",
     "output_type": "stream",
     "text": [
      "0.2667422013861485\n"
     ]
    }
   ],
   "source": [
    "mapping_dict = {'Layer_1':1, 'Layer_2':2, 'Layer_3':3, 'Layer_4':4, 'Layer_5':5, 'Layer_6':6, 'WM':7}\n",
    "\n",
    "from sklearn.metrics.cluster import adjusted_rand_score\n",
    "for iters,comb in enumerate(iter_comb):\n",
    "    i, j = comb[0], comb[1]\n",
    "    if tran_list[iters].shape[0] <= tran_list[iters].shape[1]:\n",
    "        print(adjusted_rand_score(Batch_list[i].obs['Ground Truth'][matching_plt_new[0]], Batch_list[j].obs['Ground Truth'][matching_plt_new[1]]))#第一个小第二个大\n",
    "    if tran_list[iters].shape[0] > tran_list[iters].shape[1]:\n",
    "        print(adjusted_rand_score(Batch_list[j].obs['Ground Truth'][matching_plt_new[0]], Batch_list[i].obs['Ground Truth'][matching_plt_new[1]]))#第一个小第二个大        "
   ]
  },
  {
   "cell_type": "code",
   "execution_count": 19,
   "id": "29a67666",
   "metadata": {},
   "outputs": [
    {
     "name": "stdout",
     "output_type": "stream",
     "text": [
      "0.11275441297376251\n"
     ]
    }
   ],
   "source": [
    "mapping_dict = {'Layer_1':1, 'Layer_2':2, 'Layer_3':3, 'Layer_4':4, 'Layer_5':5, 'Layer_6':6, 'WM':7}\n",
    "\n",
    "from sklearn.metrics.cluster import adjusted_rand_score\n",
    "for iters,comb in enumerate(iter_comb):\n",
    "    i, j = comb[0], comb[1]\n",
    "    if pi12.shape[0] <= pi12.shape[1]:\n",
    "        print(adjusted_rand_score(Batch_list[i].obs['Ground Truth'][matching_plt_new[0]], Batch_list[j].obs['Ground Truth'][matching_plt_new[1]]))#第一个小第二个大\n",
    "    if pi12.shape[0] > pi12.shape[1]:\n",
    "        print(adjusted_rand_score(Batch_list[j].obs['Ground Truth'][matching_plt_new[0]], Batch_list[i].obs['Ground Truth'][matching_plt_new[1]]))#第一个小第二个大        "
   ]
  },
  {
   "cell_type": "code",
   "execution_count": 28,
   "id": "49f776b8",
   "metadata": {},
   "outputs": [
    {
     "name": "stdout",
     "output_type": "stream",
     "text": [
      "0.18975416852074584\n"
     ]
    }
   ],
   "source": [
    "mapping_dict = {'Layer_1':1, 'Layer_2':2, 'Layer_3':3, 'Layer_4':4, 'Layer_5':5, 'Layer_6':6, 'WM':7}\n",
    "\n",
    "from sklearn.metrics.cluster import adjusted_rand_score\n",
    "for iters,comb in enumerate(iter_comb):\n",
    "    i, j = comb[0], comb[1]\n",
    "    if pi12.shape[0] <= pi12.shape[1]:\n",
    "        print(adjusted_rand_score(Batch_list[i].obs['Ground Truth'][matching_plt_common[0]], Batch_list[j].obs['Ground Truth'][matching_plt_common[1]]))#第一个小第二个大\n",
    "    if pi12.shape[0] > pi12.shape[1]:\n",
    "        print(adjusted_rand_score(Batch_list[j].obs['Ground Truth'][matching_plt_common[0]], Batch_list[i].obs['Ground Truth'][matching_plt_common[1]]))#第一个小第二个大        "
   ]
  },
  {
   "cell_type": "code",
   "execution_count": 16,
   "id": "22866e9c",
   "metadata": {},
   "outputs": [],
   "source": [
    "Batch_list = [c1,b2]\n",
    "section_ids = ['151674_2','151675_1']"
   ]
  },
  {
   "cell_type": "code",
   "execution_count": 17,
   "id": "b95a03ce",
   "metadata": {},
   "outputs": [
    {
     "name": "stdout",
     "output_type": "stream",
     "text": [
      "gpu is available, using gpu.\n",
      "It.  |Loss        |Relative loss|Absolute loss\n",
      "------------------------------------------------\n",
      "    0|2.684423e+00|0.000000e+00|0.000000e+00\n",
      "    1|-8.299859e-01|4.234300e+00|3.514409e+00\n",
      "    2|-9.044380e-01|8.231864e-02|7.445210e-02\n",
      "    3|-9.558103e-01|5.374743e-02|5.137235e-02\n",
      "    4|-9.917838e-01|3.627151e-02|3.597349e-02\n",
      "    5|-1.017027e+00|2.482083e-02|2.524346e-02\n",
      "    6|-1.032482e+00|1.496810e-02|1.545429e-02\n",
      "    7|-1.041324e+00|8.492017e-03|8.842945e-03\n",
      "    8|-1.046637e+00|5.075500e-03|5.312204e-03\n",
      "    9|-1.047723e+00|1.036758e-03|1.086235e-03\n",
      "   10|-1.050647e+00|2.783128e-03|2.924085e-03\n",
      "   11|-1.051581e+00|8.885307e-04|9.343624e-04\n",
      "   12|-1.051919e+00|3.211645e-04|3.378391e-04\n",
      "   13|-1.051963e+00|4.147542e-05|4.363060e-05\n",
      "   14|-1.052835e+00|8.281420e-04|8.718967e-04\n",
      "   15|-1.053190e+00|3.370763e-04|3.550053e-04\n",
      "   16|-1.053725e+00|5.081857e-04|5.354881e-04\n",
      "   17|-1.054022e+00|2.815045e-04|2.967119e-04\n",
      "   18|-1.055000e+00|9.266690e-04|9.776354e-04\n",
      "   19|-1.055550e+00|5.215371e-04|5.505085e-04\n",
      "It.  |Loss        |Relative loss|Absolute loss\n",
      "------------------------------------------------\n",
      "   20|-1.055678e+00|1.216170e-04|1.283884e-04\n",
      "   21|-1.055678e+00|0.000000e+00|0.000000e+00\n",
      "Runtime: 22.861587285995483\n"
     ]
    }
   ],
   "source": [
    "adata1 = Batch_list[0]\n",
    "adata2 = Batch_list[1]\n",
    "\n",
    "import ot\n",
    "import time\n",
    "import paste as pst\n",
    "alpha = 0.1\n",
    "start = time.time()\n",
    "pi0 = pst.match_spots_using_spatial_heuristic(adata1.obsm['spatial'], adata2.obsm['spatial'], use_ot=True)\n",
    "#n1,n2=len(adata1.obsm['spatial']),len(adata2.obsm['spatial'])\n",
    "#dist = scipy.spatial.distance_matrix(adata1.obsm['spatial'],adata2.obsm['spatial'])\n",
    "#dist = scipy.spatial.distance_matrix(norm_and_center_coordinates(adata1.obsm['spatial']),norm_and_center_coordinates(adata2.obsm['spatial']))\n",
    "#pi0 = ot.emd(np.ones(n1)/n1, np.ones(n2)/n2, dist)\n",
    "pi12 = pst.pairwise_align(adata1, adata2, use_gpu=True, backend=ot.backend.TorchBackend(), \n",
    "                          alpha=alpha, G_init=pi0, norm=True, verbose=True)\n",
    "print('Runtime: ' + str(time.time() - start))\n",
    "run_time = str(time.time() - start)"
   ]
  },
  {
   "cell_type": "code",
   "execution_count": 14,
   "id": "3a48c033",
   "metadata": {},
   "outputs": [],
   "source": [
    "import anndata as ad\n",
    "adata_concat = ad.concat(Batch_list, label=\"slice_name\", keys=section_ids)\n",
    "adata_concat.obs['Ground Truth'] = adata_concat.obs['Ground Truth'].astype('category')\n",
    "adata_concat.obs[\"batch_name\"] = adata_concat.obs[\"slice_name\"].astype('category')"
   ]
  },
  {
   "cell_type": "code",
   "execution_count": 15,
   "id": "b3a58de3",
   "metadata": {},
   "outputs": [
    {
     "name": "stdout",
     "output_type": "stream",
     "text": [
      "STAligner(\n",
      "  (conv1): GATConv(2273, 512, heads=1)\n",
      "  (conv2): GATConv(512, 30, heads=1)\n",
      "  (conv3): GATConv(30, 512, heads=1)\n",
      "  (conv4): GATConv(512, 2273, heads=1)\n",
      ")\n",
      "Train with STAligner...\n"
     ]
    },
    {
     "name": "stderr",
     "output_type": "stream",
     "text": [
      "100%|█████████████████████████████████| 200/200 [00:27<00:00,  7.27it/s]\n"
     ]
    }
   ],
   "source": [
    "iter_comb = [(0, 1)]\n",
    "adata_concat, tran_list = train_Graspot_Para(adata_concat, verbose=True, knn_neigh = 100, n_epochs = 200, iter_comb = iter_comb,\n",
    "                                                        Batch_list=Batch_list, initial = True, device=used_device)"
   ]
  },
  {
   "cell_type": "code",
   "execution_count": 16,
   "id": "22f9a608",
   "metadata": {},
   "outputs": [
    {
     "name": "stdout",
     "output_type": "stream",
     "text": [
      "0.37995365\n"
     ]
    }
   ],
   "source": [
    "accuracy_ot=[]\n",
    "for iters,comb in enumerate(iter_comb):\n",
    "    i,j=comb[0],comb[1]\n",
    "    accuracy_ot.append(mapping_accuracy_ot(Batch_list[i].obs['Ground Truth'], Batch_list[j].obs['Ground Truth'], tran_list[iters].cpu().detach().numpy()))\n",
    "    print(mapping_accuracy_ot(Batch_list[i].obs['Ground Truth'], Batch_list[j].obs['Ground Truth'], tran_list[iters].cpu().detach().numpy()))"
   ]
  },
  {
   "cell_type": "code",
   "execution_count": 18,
   "id": "c5dd6303",
   "metadata": {},
   "outputs": [
    {
     "name": "stdout",
     "output_type": "stream",
     "text": [
      "0.25781518\n"
     ]
    }
   ],
   "source": [
    "accuracy_ot=[]\n",
    "iter_comb = [(0, 1)]\n",
    "for iters,comb in enumerate(iter_comb):\n",
    "    i,j=comb[0],comb[1]\n",
    "    accuracy_ot.append(mapping_accuracy_ot(Batch_list[i].obs['Ground Truth'], Batch_list[j].obs['Ground Truth'], pi12))\n",
    "    print(mapping_accuracy_ot(Batch_list[i].obs['Ground Truth'], Batch_list[j].obs['Ground Truth'], pi12))"
   ]
  },
  {
   "cell_type": "code",
   "execution_count": 44,
   "id": "0d2072f0",
   "metadata": {},
   "outputs": [
    {
     "name": "stdout",
     "output_type": "stream",
     "text": [
      "0.5027844073190135\n"
     ]
    }
   ],
   "source": [
    "accuracy_in=[]\n",
    "matching_plt=[]\n",
    "getMax_plt=[]\n",
    "for iters,comb in enumerate(iter_comb):\n",
    "    i,j=comb[0],comb[1]\n",
    "    result1 = pd.DataFrame(tran_list[iters].cpu().detach().numpy())\n",
    "    if tran_list[iters].shape[0] <= tran_list[iters].shape[1]:\n",
    "        matching_index = np.argmax(result1.to_numpy(),axis=1)\n",
    "        matching = np.array([np.arange(result1.shape[0]),matching_index])\n",
    "        getMax = np.zeros_like(tran_list[iters].cpu().detach().numpy())\n",
    "        #np.put_along_axis(getMax,tran_list[iters].cpu().detach().numpy().argmax(1)[:,None],1,axis=1)\n",
    "        for k in range(matching.shape[1]):\n",
    "            x = int(matching[:,k][0])\n",
    "            y = int(matching[:,k][1])\n",
    "            getMax[x][y] = 1        \n",
    "        matching_plt.append(matching)\n",
    "        getMax_plt.append(getMax)\n",
    "    if tran_list[iters].shape[0] > tran_list[iters].shape[1]:\n",
    "        matching_index = np.argmax(result1.to_numpy(),axis=0)\n",
    "        matching = np.array([np.arange(result1.shape[1]),matching_index])\n",
    "        getMax = np.zeros_like(tran_list[iters].cpu().detach().numpy())\n",
    "        for k in range(matching.shape[1]):\n",
    "            x = int(matching[:,k][1])\n",
    "            y = int(matching[:,k][0])\n",
    "            getMax[x][y] = 1\n",
    "        matching_plt.append(matching)\n",
    "        getMax_plt.append(getMax)\n",
    "    \n",
    "    accuracy_in.append(mapping_accuracy_in(Batch_list[i].obs['Ground Truth'], Batch_list[j].obs['Ground Truth'], getMax))\n",
    "    print(mapping_accuracy_in(Batch_list[i].obs['Ground Truth'], Batch_list[j].obs['Ground Truth'], getMax))"
   ]
  },
  {
   "cell_type": "code",
   "execution_count": 37,
   "id": "ecde618c",
   "metadata": {},
   "outputs": [],
   "source": [
    "tran_numpy = tran_list[0].cpu().detach().numpy()\n",
    "if tran_list[iters].shape[0] <= tran_list[iters].shape[1]:\n",
    "    filter_num = np.percentile(np.max(tran_numpy,axis=1),20)\n",
    "if tran_list[iters].shape[0] > tran_list[iters].shape[1]:\n",
    "    filter_num = np.percentile(np.max(tran_numpy,axis=0),20)"
   ]
  },
  {
   "cell_type": "code",
   "execution_count": 19,
   "id": "0f58e254",
   "metadata": {},
   "outputs": [
    {
     "name": "stdout",
     "output_type": "stream",
     "text": [
      "0.5027844073190135\n"
     ]
    }
   ],
   "source": [
    "filter_num=0\n",
    "accuracy_in=[]\n",
    "getMax_plt=[]\n",
    "matching_plt_new=[]\n",
    "indexx=[]\n",
    "\n",
    "for iters,comb in enumerate(iter_comb):\n",
    "    i,j=comb[0],comb[1]\n",
    "    result1 = pd.DataFrame(tran_list[iters].cpu().detach().numpy())\n",
    "    if tran_list[iters].shape[0] <= tran_list[iters].shape[1]:\n",
    "        matching_index = np.argmax(result1.to_numpy(),axis=1)\n",
    "        matching = np.array([np.arange(result1.shape[0]),matching_index])\n",
    "        getMax = np.zeros_like(tran_list[iters].cpu().detach().numpy())\n",
    "        #np.put_along_axis(getMax,tran_list[iters].cpu().detach().numpy().argmax(1)[:,None],1,axis=1)\n",
    "        for k in range(matching.shape[1]):\n",
    "            x = int(matching[:,k][0])\n",
    "            y = int(matching[:,k][1])\n",
    "            if tran_list[iters][x][y] <=filter_num:\n",
    "                getMax[x][y] = 0\n",
    "            if tran_list[iters][x][y] >filter_num:\n",
    "                getMax[x][y] = 1\n",
    "                indexx.append(k)\n",
    "            #getMax[x][y] = 1\n",
    "        #matching_index_new = np.argmax(getMax,axis=1)\n",
    "        #matching_new = np.array([np.arange(len(matching_index_new)),matching_index_new])\n",
    "        #if getMax\n",
    "        matching_plt_new=matching[:,indexx]\n",
    "        getMax_plt.append(getMax)\n",
    "    if tran_list[iters].shape[0] > tran_list[iters].shape[1]:\n",
    "        matching_index = np.argmax(result1.to_numpy(),axis=0)\n",
    "        matching = np.array([np.arange(result1.shape[1]),matching_index])\n",
    "        getMax = np.zeros_like(tran_list[iters].cpu().detach().numpy())\n",
    "        for k in range(matching.shape[1]):\n",
    "            x = int(matching[:,k][1])\n",
    "            y = int(matching[:,k][0])\n",
    "            if tran_list[iters][x][y] <=filter_num:\n",
    "                getMax[x][y] = 0\n",
    "            if tran_list[iters][x][y] >filter_num:\n",
    "                getMax[x][y] = 1\n",
    "                indexx.append(k)\n",
    "            #getMax[x][y] = 1\n",
    "        #matching_index_new = np.argmax(getMax,axis=1)\n",
    "        #matching_new = np.array([np.arange(len(matching_index_new)),matching_index_new])\n",
    "        matching_plt_new=matching[:,indexx]\n",
    "        getMax_plt.append(getMax)\n",
    "    \n",
    "    accuracy_in.append(mapping_accuracy_in(Batch_list[i].obs['Ground Truth'], Batch_list[j].obs['Ground Truth'], getMax))\n",
    "    print(mapping_accuracy_in(Batch_list[i].obs['Ground Truth'], Batch_list[j].obs['Ground Truth'], getMax))"
   ]
  },
  {
   "cell_type": "code",
   "execution_count": 25,
   "id": "3564fbb9",
   "metadata": {},
   "outputs": [],
   "source": [
    "pi12_numpy = pi12\n",
    "if pi12.shape[0] <= pi12.shape[1]:\n",
    "    filter_num = np.percentile(np.max(pi12_numpy,axis=1),20)\n",
    "if pi12.shape[0] > pi12.shape[1]:\n",
    "    filter_num = np.percentile(np.max(pi12_numpy,axis=0),20)"
   ]
  },
  {
   "cell_type": "code",
   "execution_count": 19,
   "id": "d8f158d9",
   "metadata": {},
   "outputs": [
    {
     "name": "stdout",
     "output_type": "stream",
     "text": [
      "0.25855210819411295\n"
     ]
    }
   ],
   "source": [
    "filter_num=0\n",
    "accuracy_in=[]\n",
    "getMax_plt=[]\n",
    "matching_plt_new=[]\n",
    "indexx=[]\n",
    "iter_comb=[(0,1)]\n",
    "for iters,comb in enumerate(iter_comb):\n",
    "    i,j=comb[0],comb[1]\n",
    "    result1 = pd.DataFrame(pi12)\n",
    "    if pi12.shape[0] <= pi12.shape[1]:\n",
    "        matching_index = np.argmax(result1.to_numpy(),axis=1)\n",
    "        matching = np.array([np.arange(result1.shape[0]),matching_index])\n",
    "        getMax = np.zeros_like(pi12)\n",
    "        #np.put_along_axis(getMax,tran_list[iters].cpu().detach().numpy().argmax(1)[:,None],1,axis=1)\n",
    "        for k in range(matching.shape[1]):\n",
    "            x = int(matching[:,k][0])\n",
    "            y = int(matching[:,k][1])\n",
    "            if pi12[x][y] <=filter_num:\n",
    "                getMax[x][y] = 0\n",
    "            if pi12[x][y] >filter_num:\n",
    "                getMax[x][y] = 1\n",
    "                indexx.append(k)\n",
    "            #getMax[x][y] = 1\n",
    "        #matching_index_new = np.argmax(getMax,axis=1)\n",
    "        #matching_new = np.array([np.arange(len(matching_index_new)),matching_index_new])\n",
    "        #if getMax\n",
    "        matching_plt_new=matching[:,indexx]\n",
    "        getMax_plt.append(getMax)\n",
    "    if pi12.shape[0] > pi12.shape[1]:\n",
    "        matching_index = np.argmax(result1.to_numpy(),axis=0)\n",
    "        matching = np.array([np.arange(result1.shape[1]),matching_index])\n",
    "        getMax = np.zeros_like(pi12)\n",
    "        for k in range(matching.shape[1]):\n",
    "            x = int(matching[:,k][1])\n",
    "            y = int(matching[:,k][0])\n",
    "            if pi12[x][y] <=filter_num:\n",
    "                getMax[x][y] = 0\n",
    "            if pi12[x][y] >filter_num:\n",
    "                getMax[x][y] = 1\n",
    "                indexx.append(k)\n",
    "            #getMax[x][y] = 1\n",
    "        #matching_index_new = np.argmax(getMax,axis=1)\n",
    "        #matching_new = np.array([np.arange(len(matching_index_new)),matching_index_new])\n",
    "        matching_plt_new=matching[:,indexx]\n",
    "        getMax_plt.append(getMax)\n",
    "    \n",
    "    accuracy_in.append(mapping_accuracy_in(Batch_list[i].obs['Ground Truth'], Batch_list[j].obs['Ground Truth'], getMax))\n",
    "    print(mapping_accuracy_in(Batch_list[i].obs['Ground Truth'], Batch_list[j].obs['Ground Truth'], getMax))"
   ]
  },
  {
   "cell_type": "code",
   "execution_count": 22,
   "id": "b52d1d11",
   "metadata": {},
   "outputs": [],
   "source": [
    "index1=[]\n",
    "for i in range(len(c1.obsm['spatial'])):\n",
    "    if c1.obsm['spatial'][i,1]<p17:\n",
    "        index1.append(i)\n",
    "        \n",
    "index2=[]\n",
    "for i in range(len(b2.obsm['spatial'])):\n",
    "    if b2.obsm['spatial'][i,1]>p23:\n",
    "        index2.append(i)\n",
    "        \n",
    "index3=[]\n",
    "for i in range(len(matching_plt_new[0])):\n",
    "    if matching_plt_new[0][i] in index1:\n",
    "        index3.append(i)\n",
    "\n",
    "index4=[]\n",
    "for i in range(len(matching_plt_new[0])):\n",
    "    if matching_plt_new[1][i] in index2:\n",
    "        index4.append(i)"
   ]
  },
  {
   "cell_type": "code",
   "execution_count": 23,
   "id": "2a98bc9c",
   "metadata": {},
   "outputs": [],
   "source": [
    "intersection_index = list(set(index3) & set(index4))\n",
    "matching_plt_new[:,intersection_index]\n",
    "matching_plt_common = matching_plt_new[:,intersection_index]"
   ]
  },
  {
   "cell_type": "code",
   "execution_count": 58,
   "id": "9480081a",
   "metadata": {},
   "outputs": [],
   "source": [
    "E = [i for i in range(0, 200)]\n",
    "matching_plt_comp = matching_plt_common[:,E]"
   ]
  },
  {
   "cell_type": "code",
   "execution_count": 20,
   "id": "0411965c",
   "metadata": {},
   "outputs": [
    {
     "name": "stdout",
     "output_type": "stream",
     "text": [
      "0.36548636770448767\n"
     ]
    }
   ],
   "source": [
    "mapping_dict = {'Layer_1':1, 'Layer_2':2, 'Layer_3':3, 'Layer_4':4, 'Layer_5':5, 'Layer_6':6, 'WM':7}\n",
    "\n",
    "from sklearn.metrics.cluster import adjusted_rand_score\n",
    "for iters,comb in enumerate(iter_comb):\n",
    "    i, j = comb[0], comb[1]\n",
    "    if tran_list[iters].shape[0] <= tran_list[iters].shape[1]:\n",
    "        print(adjusted_rand_score(Batch_list[i].obs['Ground Truth'][matching_plt_new[0]], Batch_list[j].obs['Ground Truth'][matching_plt_new[1]]))#第一个小第二个大\n",
    "    if tran_list[iters].shape[0] > tran_list[iters].shape[1]:\n",
    "        print(adjusted_rand_score(Batch_list[j].obs['Ground Truth'][matching_plt_new[0]], Batch_list[i].obs['Ground Truth'][matching_plt_new[1]]))#第一个小第二个大        "
   ]
  },
  {
   "cell_type": "code",
   "execution_count": 20,
   "id": "c2fb0018",
   "metadata": {},
   "outputs": [
    {
     "name": "stdout",
     "output_type": "stream",
     "text": [
      "0.11635449329855425\n"
     ]
    }
   ],
   "source": [
    "mapping_dict = {'Layer_1':1, 'Layer_2':2, 'Layer_3':3, 'Layer_4':4, 'Layer_5':5, 'Layer_6':6, 'WM':7}\n",
    "\n",
    "from sklearn.metrics.cluster import adjusted_rand_score\n",
    "for iters,comb in enumerate(iter_comb):\n",
    "    i, j = comb[0], comb[1]\n",
    "    if pi12.shape[0] <= pi12.shape[1]:\n",
    "        print(adjusted_rand_score(Batch_list[i].obs['Ground Truth'][matching_plt_new[0]], Batch_list[j].obs['Ground Truth'][matching_plt_new[1]]))#第一个小第二个大\n",
    "    if pi12.shape[0] > pi12.shape[1]:\n",
    "        print(adjusted_rand_score(Batch_list[j].obs['Ground Truth'][matching_plt_new[0]], Batch_list[i].obs['Ground Truth'][matching_plt_new[1]]))#第一个小第二个大        "
   ]
  },
  {
   "cell_type": "code",
   "execution_count": 24,
   "id": "7be30ea8",
   "metadata": {},
   "outputs": [
    {
     "name": "stdout",
     "output_type": "stream",
     "text": [
      "-0.1171088746569076\n"
     ]
    }
   ],
   "source": [
    "mapping_dict = {'Layer_1':1, 'Layer_2':2, 'Layer_3':3, 'Layer_4':4, 'Layer_5':5, 'Layer_6':6, 'WM':7}\n",
    "\n",
    "from sklearn.metrics.cluster import adjusted_rand_score\n",
    "for iters,comb in enumerate(iter_comb):\n",
    "    i, j = comb[0], comb[1]\n",
    "    if tran_list[iters].shape[0] <= tran_list[iters].shape[1]:\n",
    "        print(adjusted_rand_score(Batch_list[i].obs['Ground Truth'][matching_plt_common[0]], Batch_list[j].obs['Ground Truth'][matching_plt_common[1]]))#第一个小第二个大\n",
    "    if tran_list[iters].shape[0] > tran_list[iters].shape[1]:\n",
    "        print(adjusted_rand_score(Batch_list[j].obs['Ground Truth'][matching_plt_common[0]], Batch_list[i].obs['Ground Truth'][matching_plt_common[1]]))#第一个小第二个大        "
   ]
  },
  {
   "cell_type": "code",
   "execution_count": 21,
   "id": "ecc14806",
   "metadata": {},
   "outputs": [],
   "source": [
    "Batch_list = [d2,c1]\n",
    "section_ids = ['151675_1','151676_2']"
   ]
  },
  {
   "cell_type": "code",
   "execution_count": 22,
   "id": "09b29247",
   "metadata": {},
   "outputs": [
    {
     "name": "stdout",
     "output_type": "stream",
     "text": [
      "gpu is available, using gpu.\n",
      "It.  |Loss        |Relative loss|Absolute loss\n",
      "------------------------------------------------\n",
      "    0|2.638609e+00|0.000000e+00|0.000000e+00\n",
      "    1|1.320148e+00|9.987228e-01|1.318462e+00\n",
      "    2|1.190261e+00|1.091243e-01|1.298864e-01\n",
      "    3|1.111350e+00|7.100514e-02|7.891154e-02\n",
      "    4|1.057694e+00|5.072875e-02|5.365551e-02\n",
      "    5|1.025065e+00|3.183164e-02|3.262949e-02\n",
      "    6|1.012407e+00|1.250264e-02|1.265776e-02\n",
      "    7|1.002914e+00|9.464932e-03|9.492517e-03\n",
      "    8|9.998234e-01|3.091583e-03|3.091037e-03\n",
      "    9|9.992449e-01|5.789002e-04|5.784631e-04\n",
      "   10|9.992449e-01|0.000000e+00|0.000000e+00\n",
      "Runtime: 10.832725286483765\n"
     ]
    }
   ],
   "source": [
    "adata1 = Batch_list[0]\n",
    "adata2 = Batch_list[1]\n",
    "\n",
    "import ot\n",
    "import time\n",
    "import paste as pst\n",
    "alpha = 0.1\n",
    "start = time.time()\n",
    "pi0 = pst.match_spots_using_spatial_heuristic(adata1.obsm['spatial'], adata2.obsm['spatial'], use_ot=True)\n",
    "#n1,n2=len(adata1.obsm['spatial']),len(adata2.obsm['spatial'])\n",
    "#dist = scipy.spatial.distance_matrix(adata1.obsm['spatial'],adata2.obsm['spatial'])\n",
    "#dist = scipy.spatial.distance_matrix(norm_and_center_coordinates(adata1.obsm['spatial']),norm_and_center_coordinates(adata2.obsm['spatial']))\n",
    "#pi0 = ot.emd(np.ones(n1)/n1, np.ones(n2)/n2, dist)\n",
    "pi12 = pst.pairwise_align(adata1, adata2, use_gpu=True, backend=ot.backend.TorchBackend(), \n",
    "                          alpha=alpha, G_init=pi0, norm=True, verbose=True)\n",
    "print('Runtime: ' + str(time.time() - start))\n",
    "run_time = str(time.time() - start)"
   ]
  },
  {
   "cell_type": "code",
   "execution_count": 22,
   "id": "10404135",
   "metadata": {},
   "outputs": [],
   "source": [
    "import anndata as ad\n",
    "adata_concat = ad.concat(Batch_list, label=\"slice_name\", keys=section_ids)\n",
    "adata_concat.obs['Ground Truth'] = adata_concat.obs['Ground Truth'].astype('category')\n",
    "adata_concat.obs[\"batch_name\"] = adata_concat.obs[\"slice_name\"].astype('category')"
   ]
  },
  {
   "cell_type": "code",
   "execution_count": 23,
   "id": "83e5c636",
   "metadata": {},
   "outputs": [
    {
     "name": "stdout",
     "output_type": "stream",
     "text": [
      "STAligner(\n",
      "  (conv1): GATConv(2296, 512, heads=1)\n",
      "  (conv2): GATConv(512, 30, heads=1)\n",
      "  (conv3): GATConv(30, 512, heads=1)\n",
      "  (conv4): GATConv(512, 2296, heads=1)\n",
      ")\n",
      "Train with STAligner...\n"
     ]
    },
    {
     "name": "stderr",
     "output_type": "stream",
     "text": [
      "100%|█████████████████████████████████| 200/200 [00:26<00:00,  7.67it/s]\n"
     ]
    }
   ],
   "source": [
    "iter_comb = [(0, 1)]\n",
    "adata_concat, tran_list = train_Graspot_Para(adata_concat, verbose=True, knn_neigh = 100, n_epochs = 200, iter_comb = iter_comb,\n",
    "                                                        Batch_list=Batch_list, initial = True, device=used_device)"
   ]
  },
  {
   "cell_type": "code",
   "execution_count": 24,
   "id": "e079ddae",
   "metadata": {},
   "outputs": [
    {
     "name": "stdout",
     "output_type": "stream",
     "text": [
      "0.3736109\n"
     ]
    }
   ],
   "source": [
    "accuracy_ot=[]\n",
    "for iters,comb in enumerate(iter_comb):\n",
    "    i,j=comb[0],comb[1]\n",
    "    accuracy_ot.append(mapping_accuracy_ot(Batch_list[i].obs['Ground Truth'], Batch_list[j].obs['Ground Truth'], tran_list[iters].cpu().detach().numpy()))\n",
    "    print(mapping_accuracy_ot(Batch_list[i].obs['Ground Truth'], Batch_list[j].obs['Ground Truth'], tran_list[iters].cpu().detach().numpy()))"
   ]
  },
  {
   "cell_type": "code",
   "execution_count": 23,
   "id": "14aa453d",
   "metadata": {},
   "outputs": [
    {
     "name": "stdout",
     "output_type": "stream",
     "text": [
      "0.25050873\n"
     ]
    }
   ],
   "source": [
    "accuracy_ot=[]\n",
    "iter_comb = [(0, 1)]\n",
    "for iters,comb in enumerate(iter_comb):\n",
    "    i,j=comb[0],comb[1]\n",
    "    accuracy_ot.append(mapping_accuracy_ot(Batch_list[i].obs['Ground Truth'], Batch_list[j].obs['Ground Truth'], pi12))\n",
    "    print(mapping_accuracy_ot(Batch_list[i].obs['Ground Truth'], Batch_list[j].obs['Ground Truth'],pi12))"
   ]
  },
  {
   "cell_type": "code",
   "execution_count": 96,
   "id": "7df9ae8e",
   "metadata": {},
   "outputs": [
    {
     "name": "stdout",
     "output_type": "stream",
     "text": [
      "0.29933938893476464\n"
     ]
    }
   ],
   "source": [
    "accuracy_in=[]\n",
    "matching_plt=[]\n",
    "getMax_plt=[]\n",
    "for iters,comb in enumerate(iter_comb):\n",
    "    i,j=comb[0],comb[1]\n",
    "    result1 = pd.DataFrame(tran_list[iters].cpu().detach().numpy())\n",
    "    if tran_list[iters].shape[0] <= tran_list[iters].shape[1]:\n",
    "        matching_index = np.argmax(result1.to_numpy(),axis=1)\n",
    "        matching = np.array([np.arange(result1.shape[0]),matching_index])\n",
    "        getMax = np.zeros_like(tran_list[iters].cpu().detach().numpy())\n",
    "        #np.put_along_axis(getMax,tran_list[iters].cpu().detach().numpy().argmax(1)[:,None],1,axis=1)\n",
    "        for k in range(matching.shape[1]):\n",
    "            x = int(matching[:,k][0])\n",
    "            y = int(matching[:,k][1])\n",
    "            getMax[x][y] = 1        \n",
    "        matching_plt.append(matching)\n",
    "        getMax_plt.append(getMax)\n",
    "    if tran_list[iters].shape[0] > tran_list[iters].shape[1]:\n",
    "        matching_index = np.argmax(result1.to_numpy(),axis=0)\n",
    "        matching = np.array([np.arange(result1.shape[1]),matching_index])\n",
    "        getMax = np.zeros_like(tran_list[iters].cpu().detach().numpy())\n",
    "        for k in range(matching.shape[1]):\n",
    "            x = int(matching[:,k][1])\n",
    "            y = int(matching[:,k][0])\n",
    "            getMax[x][y] = 1\n",
    "        matching_plt.append(matching)\n",
    "        getMax_plt.append(getMax)\n",
    "    \n",
    "    accuracy_in.append(mapping_accuracy_in(Batch_list[i].obs['Ground Truth'], Batch_list[j].obs['Ground Truth'], getMax))\n",
    "    print(mapping_accuracy_in(Batch_list[i].obs['Ground Truth'], Batch_list[j].obs['Ground Truth'], getMax))"
   ]
  },
  {
   "cell_type": "code",
   "execution_count": 46,
   "id": "c6a23c33",
   "metadata": {},
   "outputs": [],
   "source": [
    "tran_numpy = tran_list[0].cpu().detach().numpy()\n",
    "if tran_list[iters].shape[0] <= tran_list[iters].shape[1]:\n",
    "    filter_num = np.percentile(np.max(tran_numpy,axis=1),20)\n",
    "if tran_list[iters].shape[0] > tran_list[iters].shape[1]:\n",
    "    filter_num = np.percentile(np.max(tran_numpy,axis=0),20)"
   ]
  },
  {
   "cell_type": "code",
   "execution_count": 27,
   "id": "2df9bc0f",
   "metadata": {},
   "outputs": [
    {
     "name": "stdout",
     "output_type": "stream",
     "text": [
      "0.29933938893476464\n"
     ]
    }
   ],
   "source": [
    "filter_num=0\n",
    "accuracy_in=[]\n",
    "getMax_plt=[]\n",
    "matching_plt_new=[]\n",
    "indexx=[]\n",
    "\n",
    "for iters,comb in enumerate(iter_comb):\n",
    "    i,j=comb[0],comb[1]\n",
    "    result1 = pd.DataFrame(tran_list[iters].cpu().detach().numpy())\n",
    "    if tran_list[iters].shape[0] <= tran_list[iters].shape[1]:\n",
    "        matching_index = np.argmax(result1.to_numpy(),axis=1)\n",
    "        matching = np.array([np.arange(result1.shape[0]),matching_index])\n",
    "        getMax = np.zeros_like(tran_list[iters].cpu().detach().numpy())\n",
    "        #np.put_along_axis(getMax,tran_list[iters].cpu().detach().numpy().argmax(1)[:,None],1,axis=1)\n",
    "        for k in range(matching.shape[1]):\n",
    "            x = int(matching[:,k][0])\n",
    "            y = int(matching[:,k][1])\n",
    "            if tran_list[iters][x][y] <=filter_num:\n",
    "                getMax[x][y] = 0\n",
    "            if tran_list[iters][x][y] >filter_num:\n",
    "                getMax[x][y] = 1\n",
    "                indexx.append(k)\n",
    "            #getMax[x][y] = 1\n",
    "        #matching_index_new = np.argmax(getMax,axis=1)\n",
    "        #matching_new = np.array([np.arange(len(matching_index_new)),matching_index_new])\n",
    "        #if getMax\n",
    "        matching_plt_new=matching[:,indexx]\n",
    "        getMax_plt.append(getMax)\n",
    "    if tran_list[iters].shape[0] > tran_list[iters].shape[1]:\n",
    "        matching_index = np.argmax(result1.to_numpy(),axis=0)\n",
    "        matching = np.array([np.arange(result1.shape[1]),matching_index])\n",
    "        getMax = np.zeros_like(tran_list[iters].cpu().detach().numpy())\n",
    "        for k in range(matching.shape[1]):\n",
    "            x = int(matching[:,k][1])\n",
    "            y = int(matching[:,k][0])\n",
    "            if tran_list[iters][x][y] <=filter_num:\n",
    "                getMax[x][y] = 0\n",
    "            if tran_list[iters][x][y] >filter_num:\n",
    "                getMax[x][y] = 1\n",
    "                indexx.append(k)\n",
    "            #getMax[x][y] = 1\n",
    "        #matching_index_new = np.argmax(getMax,axis=1)\n",
    "        #matching_new = np.array([np.arange(len(matching_index_new)),matching_index_new])\n",
    "        matching_plt_new=matching[:,indexx]\n",
    "        getMax_plt.append(getMax)\n",
    "    \n",
    "    accuracy_in.append(mapping_accuracy_in(Batch_list[i].obs['Ground Truth'], Batch_list[j].obs['Ground Truth'], getMax))\n",
    "    print(mapping_accuracy_in(Batch_list[i].obs['Ground Truth'], Batch_list[j].obs['Ground Truth'], getMax))"
   ]
  },
  {
   "cell_type": "code",
   "execution_count": 28,
   "id": "b4823330",
   "metadata": {},
   "outputs": [],
   "source": [
    "pi12_numpy = pi12\n",
    "if pi12.shape[0] <= pi12.shape[1]:\n",
    "    filter_num = np.percentile(np.max(pi12_numpy,axis=1),20)\n",
    "if pi12.shape[0] > pi12.shape[1]:\n",
    "    filter_num = np.percentile(np.max(pi12_numpy,axis=0),20)"
   ]
  },
  {
   "cell_type": "code",
   "execution_count": 24,
   "id": "6f897fd7",
   "metadata": {},
   "outputs": [
    {
     "name": "stdout",
     "output_type": "stream",
     "text": [
      "0.2506193228736581\n"
     ]
    }
   ],
   "source": [
    "filter_num=0\n",
    "accuracy_in=[]\n",
    "getMax_plt=[]\n",
    "matching_plt_new=[]\n",
    "indexx=[]\n",
    "iter_comb=[(0,1)]\n",
    "for iters,comb in enumerate(iter_comb):\n",
    "    i,j=comb[0],comb[1]\n",
    "    result1 = pd.DataFrame(pi12)\n",
    "    if pi12.shape[0] <= pi12.shape[1]:\n",
    "        matching_index = np.argmax(result1.to_numpy(),axis=1)\n",
    "        matching = np.array([np.arange(result1.shape[0]),matching_index])\n",
    "        getMax = np.zeros_like(pi12)\n",
    "        #np.put_along_axis(getMax,tran_list[iters].cpu().detach().numpy().argmax(1)[:,None],1,axis=1)\n",
    "        for k in range(matching.shape[1]):\n",
    "            x = int(matching[:,k][0])\n",
    "            y = int(matching[:,k][1])\n",
    "            if pi12[x][y] <=filter_num:\n",
    "                getMax[x][y] = 0\n",
    "            if pi12[x][y] >filter_num:\n",
    "                getMax[x][y] = 1\n",
    "                indexx.append(k)\n",
    "            #getMax[x][y] = 1\n",
    "        #matching_index_new = np.argmax(getMax,axis=1)\n",
    "        #matching_new = np.array([np.arange(len(matching_index_new)),matching_index_new])\n",
    "        #if getMax\n",
    "        matching_plt_new=matching[:,indexx]\n",
    "        getMax_plt.append(getMax)\n",
    "    if pi12.shape[0] > pi12.shape[1]:\n",
    "        matching_index = np.argmax(result1.to_numpy(),axis=0)\n",
    "        matching = np.array([np.arange(result1.shape[1]),matching_index])\n",
    "        getMax = np.zeros_like(pi12)\n",
    "        for k in range(matching.shape[1]):\n",
    "            x = int(matching[:,k][1])\n",
    "            y = int(matching[:,k][0])\n",
    "            if pi12[x][y] <=filter_num:\n",
    "                getMax[x][y] = 0\n",
    "            if pi12[x][y] >filter_num:\n",
    "                getMax[x][y] = 1\n",
    "                indexx.append(k)\n",
    "            #getMax[x][y] = 1\n",
    "        #matching_index_new = np.argmax(getMax,axis=1)\n",
    "        #matching_new = np.array([np.arange(len(matching_index_new)),matching_index_new])\n",
    "        matching_plt_new=matching[:,indexx]\n",
    "        getMax_plt.append(getMax)\n",
    "    \n",
    "    accuracy_in.append(mapping_accuracy_in(Batch_list[i].obs['Ground Truth'], Batch_list[j].obs['Ground Truth'], getMax))\n",
    "    print(mapping_accuracy_in(Batch_list[i].obs['Ground Truth'], Batch_list[j].obs['Ground Truth'], getMax))"
   ]
  },
  {
   "cell_type": "code",
   "execution_count": 48,
   "id": "434df55a",
   "metadata": {},
   "outputs": [],
   "source": [
    "index1=[]\n",
    "for i in range(len(d2.obsm['spatial'])):\n",
    "    if d2.obsm['spatial'][i,1]>p23:\n",
    "        index1.append(i)\n",
    "        \n",
    "index2=[]\n",
    "for i in range(len(c1.obsm['spatial'])):\n",
    "    if c1.obsm['spatial'][i,1]<p37:\n",
    "        index2.append(i)\n",
    "        \n",
    "index3=[]\n",
    "for i in range(len(matching_plt_new[0])):\n",
    "    if matching_plt_new[0][i] in index1:\n",
    "        index3.append(i)\n",
    "\n",
    "index4=[]\n",
    "for i in range(len(matching_plt_new[0])):\n",
    "    if matching_plt_new[1][i] in index2:\n",
    "        index4.append(i)"
   ]
  },
  {
   "cell_type": "code",
   "execution_count": 58,
   "id": "37916ff2",
   "metadata": {},
   "outputs": [],
   "source": [
    "intersection_index = list(set(index3) & set(index4))\n",
    "matching_plt_common = matching_plt_new[:,intersection_index]"
   ]
  },
  {
   "cell_type": "code",
   "execution_count": 143,
   "id": "cde5870c",
   "metadata": {},
   "outputs": [],
   "source": [
    "E = [i for i in range(0, 200)]\n",
    "matching_plt_comp = matching_plt_common[:,E]"
   ]
  },
  {
   "cell_type": "code",
   "execution_count": 28,
   "id": "2109de8c",
   "metadata": {},
   "outputs": [
    {
     "name": "stdout",
     "output_type": "stream",
     "text": [
      "0.06334391306153919\n"
     ]
    }
   ],
   "source": [
    "mapping_dict = {'Layer_1':1, 'Layer_2':2, 'Layer_3':3, 'Layer_4':4, 'Layer_5':5, 'Layer_6':6, 'WM':7}\n",
    "\n",
    "from sklearn.metrics.cluster import adjusted_rand_score\n",
    "for iters,comb in enumerate(iter_comb):\n",
    "    i, j = comb[0], comb[1]\n",
    "    if tran_list[iters].shape[0] <= tran_list[iters].shape[1]:\n",
    "        print(adjusted_rand_score(Batch_list[i].obs['Ground Truth'][matching_plt_new[0]], Batch_list[j].obs['Ground Truth'][matching_plt_new[1]]))#第一个小第二个大\n",
    "    if tran_list[iters].shape[0] > tran_list[iters].shape[1]:\n",
    "        print(adjusted_rand_score(Batch_list[j].obs['Ground Truth'][matching_plt_new[0]], Batch_list[i].obs['Ground Truth'][matching_plt_new[1]]))#第一个小第二个大        "
   ]
  },
  {
   "cell_type": "code",
   "execution_count": 68,
   "id": "26e35553",
   "metadata": {},
   "outputs": [
    {
     "name": "stdout",
     "output_type": "stream",
     "text": [
      "0.5050505050505051\n"
     ]
    }
   ],
   "source": [
    "mapping_dict = {'Layer_1':1, 'Layer_2':2, 'Layer_3':3, 'Layer_4':4, 'Layer_5':5, 'Layer_6':6, 'WM':7}\n",
    "\n",
    "from sklearn.metrics.cluster import adjusted_rand_score\n",
    "for iters,comb in enumerate(iter_comb):\n",
    "    i, j = comb[0], comb[1]\n",
    "    if tran_list[iters].shape[0] <= tran_list[iters].shape[1]:\n",
    "        print(adjusted_rand_score(Batch_list[i].obs['Ground Truth'][matching_plt_common[0]], Batch_list[j].obs['Ground Truth'][matching_plt_common[1]]))#第一个小第二个大\n",
    "    if tran_list[iters].shape[0] > tran_list[iters].shape[1]:\n",
    "        print(adjusted_rand_score(Batch_list[j].obs['Ground Truth'][matching_plt_common[0]], Batch_list[i].obs['Ground Truth'][matching_plt_common[1]]))#第一个小第二个大        "
   ]
  },
  {
   "cell_type": "code",
   "execution_count": 25,
   "id": "9d579795",
   "metadata": {},
   "outputs": [
    {
     "name": "stdout",
     "output_type": "stream",
     "text": [
      "0.12337398031121077\n"
     ]
    }
   ],
   "source": [
    "mapping_dict = {'Layer_1':1, 'Layer_2':2, 'Layer_3':3, 'Layer_4':4, 'Layer_5':5, 'Layer_6':6, 'WM':7}\n",
    "\n",
    "from sklearn.metrics.cluster import adjusted_rand_score\n",
    "for iters,comb in enumerate(iter_comb):\n",
    "    i, j = comb[0], comb[1]\n",
    "    if pi12.shape[0] <= pi12.shape[1]:\n",
    "        print(adjusted_rand_score(Batch_list[i].obs['Ground Truth'][matching_plt_new[0]], Batch_list[j].obs['Ground Truth'][matching_plt_new[1]]))#第一个小第二个大\n",
    "    if pi12.shape[0] > pi12.shape[1]:\n",
    "        print(adjusted_rand_score(Batch_list[j].obs['Ground Truth'][matching_plt_new[0]], Batch_list[i].obs['Ground Truth'][matching_plt_new[1]]))#第一个小第二个大        "
   ]
  },
  {
   "cell_type": "code",
   "execution_count": 36,
   "id": "d7617beb",
   "metadata": {},
   "outputs": [
    {
     "name": "stdout",
     "output_type": "stream",
     "text": [
      "0.10068842720253667\n"
     ]
    }
   ],
   "source": [
    "mapping_dict = {'Layer_1':1, 'Layer_2':2, 'Layer_3':3, 'Layer_4':4, 'Layer_5':5, 'Layer_6':6, 'WM':7}\n",
    "\n",
    "from sklearn.metrics.cluster import adjusted_rand_score\n",
    "for iters,comb in enumerate(iter_comb):\n",
    "    i, j = comb[0], comb[1]\n",
    "    if tran_list[iters].shape[0] <= tran_list[iters].shape[1]:\n",
    "        print(adjusted_rand_score(Batch_list[i].obs['Ground Truth'][matching_plt_new[0]], Batch_list[j].obs['Ground Truth'][matching_plt_new[1]]))#第一个小第二个大\n",
    "    if tran_list[iters].shape[0] > tran_list[iters].shape[1]:\n",
    "        print(adjusted_rand_score(Batch_list[j].obs['Ground Truth'][matching_plt_new[0]], Batch_list[i].obs['Ground Truth'][matching_plt_new[1]]))#第一个小第二个大        "
   ]
  },
  {
   "cell_type": "code",
   "execution_count": 21,
   "id": "79c42bf4",
   "metadata": {},
   "outputs": [],
   "source": [
    "from typing import List, Mapping, Optional, Union\n",
    "from anndata import AnnData\n",
    "from sklearn.metrics.pairwise import euclidean_distances\n",
    "class match_3D_multi():\n",
    "    r\"\"\"\n",
    "    Plot the mapping result between 2 datasets\n",
    "    \n",
    "    Parameters\n",
    "    ---------\n",
    "    dataset_A\n",
    "        pandas dataframe which contain ['index','x','y'], reference dataset\n",
    "    dataset_B\n",
    "        pandas dataframe which contain ['index','x','y'], target dataset\n",
    "    matching\n",
    "        matching results\n",
    "    meta\n",
    "        dataframe colname of meta, such as celltype\n",
    "    expr\n",
    "        dataframe colname of gene expr\n",
    "    subsample_size\n",
    "        subsample size of matches\n",
    "    reliability\n",
    "        match score (cosine similarity score)\n",
    "    scale_coordinate\n",
    "        if scale coordinate via (:math:`data - np.min(data)) / (np.max(data) - np.min(data))`)\n",
    "    rotate\n",
    "        how to rotate the slides (force scale_coordinate), such as ['x','y'], means dataset0 rotate on x axes\n",
    "        and dataset1 rotate on y axes\n",
    "    change_xy\n",
    "        exchange x and y on dataset_B\n",
    "    subset\n",
    "        index of query cells to be plotted\n",
    "\n",
    "    Note\n",
    "    ----------\n",
    "    dataset_A and dataset_B can in different length\n",
    "        \n",
    "    \"\"\"\n",
    "    def __init__(self,dataset_A:pd.DataFrame,\n",
    "                dataset_B:pd.DataFrame,\n",
    "                matching:np.ndarray,\n",
    "                meta:Optional[str]=None,\n",
    "                expr:Optional[str]=None,\n",
    "                subsample_size:Optional[int]=300,\n",
    "                reliability:Optional[np.ndarray]=None,\n",
    "                scale_coordinate:Optional[bool]=True,\n",
    "                rotate:Optional[List[str]]=None,\n",
    "                exchange_xy:Optional[bool]=False,\n",
    "                subset: Optional[List[int]]=None\n",
    "        ) -> None:\n",
    "        self.dataset_A = dataset_A.copy()\n",
    "        self.dataset_B = dataset_B.copy()\n",
    "        self.meta = meta\n",
    "        self.matching= matching\n",
    "        self.conf = reliability\n",
    "        self.subset = subset # index of query cells to be plotted\n",
    "        scale_coordinate = True if rotate != None else scale_coordinate\n",
    "        \n",
    "        assert all(item in dataset_A.columns.values for item in ['index','x','y'])\n",
    "        assert all(item in dataset_B.columns.values for item in ['index','x','y'])\n",
    "        \n",
    "        if meta:\n",
    "            set1 = list(set(self.dataset_A[meta]))\n",
    "            set2 = list(set(self.dataset_B[meta]))\n",
    "            self.celltypes = set1 + [x for x in set2 if x not in set1]\n",
    "            self.celltypes.sort() # make sure celltypes are in the same order\n",
    "            overlap = [x for x in set2 if x in set1]\n",
    "            print(f\"dataset1: {len(set1)} cell types; dataset2: {len(set2)} cell types; \\n\\\n",
    "                    Total :{len(self.celltypes)} celltypes; Overlap: {len(overlap)} cell types \\n\\\n",
    "                    Not overlap :[{[y for y in (set1+set2) if y not in overlap]}]\"\n",
    "                    )\n",
    "        self.expr = expr if expr else False\n",
    "            \n",
    "        if scale_coordinate:\n",
    "            for i, dataset in enumerate([self.dataset_A, self.dataset_B]):\n",
    "                for axis in ['x','y']:\n",
    "                    dataset[axis] = (dataset[axis] - np.min(dataset[axis])) / (np.max(dataset[axis])- np.min(dataset[axis]))\n",
    "                    if rotate == None:\n",
    "                        pass\n",
    "                    elif axis in rotate[i]:\n",
    "                        dataset[axis] = 1 - dataset[axis]\n",
    "        if exchange_xy:\n",
    "            self.dataset_B[['x','y']] = self.dataset_B[['y','x']]\n",
    "\n",
    "        if not subset is None:\n",
    "            matching = matching[:,subset]\n",
    "        subsample_size = subsample_size if matching.shape[1] > subsample_size else matching.shape[1]\n",
    "        print(f'Subsample {subsample_size} cell pairs from {matching.shape[1]}')\n",
    "        self.matching = matching[:,np.random.choice(matching.shape[1],subsample_size, replace=False)]\n",
    "            \n",
    "        self.datasets = [self.dataset_A, self.dataset_B]\n",
    "    \n",
    "    def draw_3D(self,\n",
    "                size: Optional[List[int]]=[10,10],\n",
    "                conf_cutoff: Optional[float]=0,\n",
    "                point_size: Optional[List[int]]=[0.1,0.1],\n",
    "                line_width: Optional[float]=0.3,\n",
    "                line_color:Optional[str]='grey',\n",
    "                line_alpha: Optional[float]=0.7,\n",
    "                hide_axis: Optional[bool]=False,\n",
    "                show_error: Optional[bool]=True,\n",
    "                show_celltype: Optional[bool]=False,\n",
    "                cmap: Optional[bool]='Reds',\n",
    "                save:Optional[str]=None\n",
    "        ) -> None:\n",
    "        r\"\"\"\n",
    "        Draw 3D picture of two datasets\n",
    "        \n",
    "        Parameters:\n",
    "        ----------\n",
    "        size\n",
    "            plt figure size\n",
    "        conf_cutoff\n",
    "            confidence cutoff of mapping to be plotted\n",
    "        point_size\n",
    "            point size of every dataset\n",
    "        line_width\n",
    "            pair line width\n",
    "        line_color\n",
    "            pair line color\n",
    "        line_alpha\n",
    "            pair line alpha\n",
    "        hide_axis\n",
    "            if hide axis\n",
    "        show_error\n",
    "            if show error celltype mapping with different color\n",
    "        cmap\n",
    "            color map when vis expr\n",
    "        save\n",
    "            save file path\n",
    "        \"\"\"\n",
    "        self.conf_cutoff = conf_cutoff\n",
    "        show_error = show_error if self.meta else False\n",
    "        fig = plt.figure(figsize=(size[0],size[1]))\n",
    "        ax = fig.add_subplot(111, projection='3d')\n",
    "        # color by meta\n",
    "        if self.meta:\n",
    "            color = get_color(len(self.celltypes))\n",
    "            c_map = {}\n",
    "            for i, celltype in enumerate(self.celltypes):\n",
    "                c_map[celltype] = color[i]\n",
    "            if self.expr:\n",
    "                c_map = cmap\n",
    "                # expr_concat = pd.concat(self.datasets)[self.expr].to_numpy()\n",
    "                # norm = plt.Normalize(expr_concat.min(), expr_concat.max())\n",
    "            for i, dataset in enumerate(self.datasets):\n",
    "                if self.expr:\n",
    "                    norm = plt.Normalize(dataset[self.expr].to_numpy().min(), dataset[self.expr].to_numpy().max())\n",
    "                for cell_type in self.celltypes:\n",
    "                    slice = dataset[dataset[self.meta] == cell_type]\n",
    "                    xs = slice['x']\n",
    "                    ys = slice['y']\n",
    "                    zs = i\n",
    "                    if self.expr:\n",
    "                        ax.scatter(xs, ys, zs, s=point_size[i], c=slice[self.expr], cmap=c_map, norm=norm)\n",
    "                    else:\n",
    "                        ax.scatter(xs, ys, zs, s=point_size[i], c=c_map[cell_type])\n",
    "        # plot points without meta\n",
    "        else:\n",
    "            for i, dataset in enumerate(self.datasets):\n",
    "                xs = dataset['x']\n",
    "                ys = dataset['y']\n",
    "                zs = i\n",
    "                ax.scatter(xs,ys,zs,s=point_size[i])\n",
    "        # plot line\n",
    "        self.c_map = c_map\n",
    "        self.draw_lines(ax, show_error, show_celltype, line_color, line_width, line_alpha)\n",
    "        if hide_axis:\n",
    "            plt.axis('off')\n",
    "        if save != None:\n",
    "            plt.savefig(save)\n",
    "        plt.show()\n",
    "        \n",
    "    def draw_3D1(self,\n",
    "                size: Optional[List[int]]=[10,10],\n",
    "                conf_cutoff: Optional[float]=0,\n",
    "                point_size: Optional[List[int]]=[0.1,0.1],\n",
    "                line_width: Optional[float]=0.3,\n",
    "                line_color:Optional[str]='grey',\n",
    "                line_alpha: Optional[float]=0.7,\n",
    "                hide_axis: Optional[bool]=False,\n",
    "                show_error: Optional[bool]=True,\n",
    "                show_celltype: Optional[bool]=False,\n",
    "                cmap: Optional[bool]='Reds',\n",
    "                save:Optional[str]=None\n",
    "        ) -> None:\n",
    "        r\"\"\"\n",
    "        Draw 3D picture of two datasets\n",
    "        \n",
    "        Parameters:\n",
    "        ----------\n",
    "        size\n",
    "            plt figure size\n",
    "        conf_cutoff\n",
    "            confidence cutoff of mapping to be plotted\n",
    "        point_size\n",
    "            point size of every dataset\n",
    "        line_width\n",
    "            pair line width\n",
    "        line_color\n",
    "            pair line color\n",
    "        line_alpha\n",
    "            pair line alpha\n",
    "        hide_axis\n",
    "            if hide axis\n",
    "        show_error\n",
    "            if show error celltype mapping with different color\n",
    "        cmap\n",
    "            color map when vis expr\n",
    "        save\n",
    "            save file path\n",
    "        \"\"\"\n",
    "        self.conf_cutoff = conf_cutoff\n",
    "        show_error = show_error if self.meta else False\n",
    "        fig = plt.figure(figsize=(size[0],size[1]))\n",
    "        ax = fig.add_subplot(111, projection='3d')\n",
    "        # color by meta\n",
    "        if self.meta:\n",
    "            color = get_color(len(self.celltypes))\n",
    "            c_map = {}\n",
    "            for i, celltype in enumerate(self.celltypes):\n",
    "                c_map[celltype] = color[i]\n",
    "            if self.expr:\n",
    "                c_map = cmap\n",
    "                # expr_concat = pd.concat(self.datasets)[self.expr].to_numpy()\n",
    "                # norm = plt.Normalize(expr_concat.min(), expr_concat.max())\n",
    "            for i, dataset in enumerate(self.datasets):\n",
    "                if self.expr:\n",
    "                    norm = plt.Normalize(dataset[self.expr].to_numpy().min(), dataset[self.expr].to_numpy().max())\n",
    "                for cell_type in self.celltypes:\n",
    "                    slice = dataset[dataset[self.meta] == cell_type]\n",
    "                    xs = slice['x']\n",
    "                    ys = slice['y']\n",
    "                    zs = i\n",
    "                    if self.expr:\n",
    "                        ax.scatter(xs, ys, zs, s=point_size[i], c=slice[self.expr], cmap=c_map, norm=norm)\n",
    "                    else:\n",
    "                        ax.scatter(xs, ys, zs, s=point_size[i], c=c_map[cell_type])\n",
    "        # plot points without meta\n",
    "        else:\n",
    "            for i, dataset in enumerate(self.datasets):\n",
    "                xs = dataset['x']\n",
    "                ys = dataset['y']\n",
    "                zs = i\n",
    "                ax.scatter(xs,ys,zs,s=point_size[i])\n",
    "        # plot line\n",
    "        self.c_map = c_map\n",
    "        self.draw_lines1(ax, show_error, show_celltype, line_color, line_width, line_alpha)\n",
    "        if hide_axis:\n",
    "            plt.axis('off')\n",
    "        if save != None:\n",
    "            plt.savefig(save)\n",
    "        plt.show()    \n",
    "\n",
    "        \n",
    "    def draw_lines(self, ax, show_error, show_celltype, default_color, line_width=0.3, line_alpha=0.7) -> None:\n",
    "        r\"\"\"\n",
    "        Draw lines between paired cells in two datasets\n",
    "        \"\"\"\n",
    "        for i in range(self.matching.shape[1]):\n",
    "            if not self.conf is None and self.conf[i] < self.conf_cutoff:\n",
    "                continue\n",
    "            pair = self.matching[:,i]\n",
    "            default_color = default_color\n",
    "            if self.meta != None:\n",
    "                celltype1 = self.dataset_A.loc[self.dataset_A['index']==pair[1], self.meta].astype(str).values[0]\n",
    "                celltype2 = self.dataset_B.loc[self.dataset_B['index']==pair[0], self.meta].astype(str).values[0]\n",
    "                if show_error:\n",
    "                    if celltype1 == celltype2:\n",
    "                        #color = '#ade8f4' # blue\n",
    "                        color =  '#DDEFFF'\n",
    "                    else:\n",
    "                        color = '#ffafcc'  # red\n",
    "                if show_celltype:\n",
    "                    if celltype1 == celltype2:\n",
    "                        color = self.c_map[celltype1]\n",
    "                    else:\n",
    "                        color = '#696969' # celltype1 error match color\n",
    "            point0 = np.append(self.dataset_A[self.dataset_A['index']==pair[1]][['x','y']], 0)\n",
    "            point1 = np.append(self.dataset_B[self.dataset_B['index']==pair[0]][['x','y']], 1)\n",
    "\n",
    "            coord = np.row_stack((point0, point1))\n",
    "            color = color if show_error or show_celltype else default_color\n",
    "            ax.plot(coord[:,0], coord[:,1], coord[:,2], color=color, linestyle=\"dashed\", linewidth=line_width, alpha=line_alpha)\n",
    "    \n",
    "    \n",
    "    def draw_lines1(self, ax, show_error, show_celltype, default_color, line_width=0.3, line_alpha=0.7) -> None:\n",
    "        r\"\"\"\n",
    "        Draw lines between paired cells in two datasets\n",
    "        \"\"\"\n",
    "        for i in range(self.matching.shape[1]):\n",
    "            if not self.conf is None and self.conf[i] < self.conf_cutoff:\n",
    "                continue\n",
    "            pair = self.matching[:,i]\n",
    "            default_color = default_color\n",
    "            if self.meta != None:\n",
    "                celltype1 = self.dataset_A.loc[self.dataset_A['index']==pair[1], self.meta].astype(str).values[0]\n",
    "                celltype2 = self.dataset_B.loc[self.dataset_B['index']==pair[0], self.meta].astype(str).values[0]\n",
    "                if show_error:\n",
    "                    if celltype1 == celltype2:\n",
    "                        color = '#A6B3BF' # blue\n",
    "                        #color =  '#DDEFFF'\n",
    "                    else:\n",
    "                        #color = '#ffafcc'  # red\n",
    "                        color = '#A6B3BF'\n",
    "                if show_celltype:\n",
    "                    if celltype1 == celltype2:\n",
    "                        color = self.c_map[celltype1]\n",
    "                    else:\n",
    "                        color = '#696969' # celltype1 error match color\n",
    "            point0 = np.append(self.dataset_A[self.dataset_A['index']==pair[1]][['x','y']], 0)\n",
    "            point1 = np.append(self.dataset_B[self.dataset_B['index']==pair[0]][['x','y']], 1)\n",
    "\n",
    "            coord = np.row_stack((point0, point1))\n",
    "            color = color if show_error or show_celltype else default_color\n",
    "            ax.plot(coord[:,0], coord[:,1], coord[:,2], color=color, linestyle=\"dashed\", linewidth=line_width, alpha=line_alpha)"
   ]
  },
  {
   "cell_type": "code",
   "execution_count": 22,
   "id": "2f68df53",
   "metadata": {},
   "outputs": [],
   "source": [
    "r\"\"\"\n",
    "Set the color palette for plotting.\n",
    "\n",
    "Reference\n",
    "---------\n",
    "https://github.com/scverse/scanpy/blob/master/scanpy/plotting/palettes.py\n",
    "\"\"\"\n",
    "\n",
    "from matplotlib import cm, colors\n",
    "\n",
    "# Colorblindness adjusted vega_10\n",
    "# See https://github.com/scverse/scanpy/issues/387\n",
    "vega_10 = list(map(colors.to_hex, cm.tab10.colors))\n",
    "vega_10_scanpy = vega_10.copy()\n",
    "vega_10_scanpy[2] = '#279e68'  # green\n",
    "vega_10_scanpy[4] = '#aa40fc'  # purple\n",
    "vega_10_scanpy[8] = '#b5bd61'  # kakhi\n",
    "\n",
    "# default matplotlib 2.0 palette\n",
    "# see 'category20' on https://github.com/vega/vega/wiki/Scales#scale-range-literals\n",
    "vega_20 = list(map(colors.to_hex, cm.tab20.colors))\n",
    "\n",
    "# reorderd, some removed, some added\n",
    "vega_20_scanpy = [\n",
    "    # dark without grey:\n",
    "    *vega_20[0:14:2],\n",
    "    *vega_20[16::2],\n",
    "    # light without grey:\n",
    "    *vega_20[1:15:2],\n",
    "    *vega_20[17::2],\n",
    "    # manual additions:\n",
    "    '#ad494a',\n",
    "    '#8c6d31',\n",
    "]\n",
    "vega_20_scanpy[2] = vega_10_scanpy[2]\n",
    "vega_20_scanpy[4] = vega_10_scanpy[4]\n",
    "vega_20_scanpy[7] = vega_10_scanpy[8]  # kakhi shifted by missing grey\n",
    "# TODO: also replace pale colors if necessary\n",
    "\n",
    "# https://graphicdesign.stackexchange.com/questions/3682/where-can-i-find-a-large-palette-set-of-contrasting-colors-for-coloring-many-d\n",
    "# update 1\n",
    "# orig reference http://epub.wu.ac.at/1692/1/document.pdf\n",
    "zeileis_28 = [\n",
    "    \"#023fa5\",\n",
    "    \"#7d87b9\",\n",
    "    \"#bec1d4\",\n",
    "    \"#d6bcc0\",\n",
    "    \"#bb7784\",\n",
    "    \"#8e063b\",\n",
    "    \"#4a6fe3\",\n",
    "    \"#8595e1\",\n",
    "    \"#b5bbe3\",\n",
    "    \"#e6afb9\",\n",
    "    \"#e07b91\",\n",
    "    \"#d33f6a\",\n",
    "    \"#11c638\",\n",
    "    \"#8dd593\",\n",
    "    \"#c6dec7\",\n",
    "    \"#ead3c6\",\n",
    "    \"#f0b98d\",\n",
    "    \"#ef9708\",\n",
    "    \"#0fcfc0\",\n",
    "    \"#9cded6\",\n",
    "    \"#d5eae7\",\n",
    "    \"#f3e1eb\",\n",
    "    \"#f6c4e1\",\n",
    "    \"#f79cd4\",\n",
    "    # these last ones were added:\n",
    "    '#7f7f7f',\n",
    "    \"#c7c7c7\",\n",
    "    \"#1CE6FF\",\n",
    "    \"#336600\",\n",
    "]\n",
    "\n",
    "\n",
    "# from http://godsnotwheregodsnot.blogspot.de/2012/09/color-distribution-methodology.html\n",
    "godsnot_102 = [\n",
    "    # \"#000000\",  # remove the black, as often, we have black colored annotation\n",
    "    \"#FFFF00\",\n",
    "    \"#1CE6FF\",\n",
    "    \"#FF34FF\",\n",
    "    \"#FF4A46\",\n",
    "    \"#008941\",\n",
    "    \"#006FA6\",\n",
    "    \"#A30059\",\n",
    "    \"#FFDBE5\",\n",
    "    \"#7A4900\",\n",
    "    \"#0000A6\",\n",
    "    \"#63FFAC\",\n",
    "    \"#B79762\",\n",
    "    \"#004D43\",\n",
    "    \"#8FB0FF\",\n",
    "    \"#997D87\",\n",
    "    \"#5A0007\",\n",
    "    \"#809693\",\n",
    "    \"#6A3A4C\",\n",
    "    \"#1B4400\",\n",
    "    \"#4FC601\",\n",
    "    \"#3B5DFF\",\n",
    "    \"#4A3B53\",\n",
    "    \"#FF2F80\",\n",
    "    \"#61615A\",\n",
    "    \"#BA0900\",\n",
    "    \"#6B7900\",\n",
    "    \"#00C2A0\",\n",
    "    \"#FFAA92\",\n",
    "    \"#FF90C9\",\n",
    "    \"#B903AA\",\n",
    "    \"#D16100\",\n",
    "    \"#DDEFFF\",\n",
    "    \"#000035\",\n",
    "    \"#7B4F4B\",\n",
    "    \"#A1C299\",\n",
    "    \"#300018\",\n",
    "    \"#0AA6D8\",\n",
    "    \"#013349\",\n",
    "    \"#00846F\",\n",
    "    \"#372101\",\n",
    "    \"#FFB500\",\n",
    "    \"#C2FFED\",\n",
    "    \"#A079BF\",\n",
    "    \"#CC0744\",\n",
    "    \"#C0B9B2\",\n",
    "    \"#C2FF99\",\n",
    "    \"#001E09\",\n",
    "    \"#00489C\",\n",
    "    \"#6F0062\",\n",
    "    \"#0CBD66\",\n",
    "    \"#EEC3FF\",\n",
    "    \"#456D75\",\n",
    "    \"#B77B68\",\n",
    "    \"#7A87A1\",\n",
    "    \"#788D66\",\n",
    "    \"#885578\",\n",
    "    \"#FAD09F\",\n",
    "    \"#FF8A9A\",\n",
    "    \"#D157A0\",\n",
    "    \"#BEC459\",\n",
    "    \"#456648\",\n",
    "    \"#0086ED\",\n",
    "    \"#886F4C\",\n",
    "    \"#34362D\",\n",
    "    \"#B4A8BD\",\n",
    "    \"#00A6AA\",\n",
    "    \"#452C2C\",\n",
    "    \"#636375\",\n",
    "    \"#A3C8C9\",\n",
    "    \"#FF913F\",\n",
    "    \"#938A81\",\n",
    "    \"#575329\",\n",
    "    \"#00FECF\",\n",
    "    \"#B05B6F\",\n",
    "    \"#8CD0FF\",\n",
    "    \"#3B9700\",\n",
    "    \"#04F757\",\n",
    "    \"#C8A1A1\",\n",
    "    \"#1E6E00\",\n",
    "    \"#7900D7\",\n",
    "    \"#A77500\",\n",
    "    \"#6367A9\",\n",
    "    \"#A05837\",\n",
    "    \"#6B002C\",\n",
    "    \"#772600\",\n",
    "    \"#D790FF\",\n",
    "    \"#9B9700\",\n",
    "    \"#549E79\",\n",
    "    \"#FFF69F\",\n",
    "    \"#201625\",\n",
    "    \"#72418F\",\n",
    "    \"#BC23FF\",\n",
    "    \"#99ADC0\",\n",
    "    \"#3A2465\",\n",
    "    \"#922329\",\n",
    "    \"#5B4534\",\n",
    "    \"#FDE8DC\",\n",
    "    \"#404E55\",\n",
    "    \"#0089A3\",\n",
    "    \"#CB7E98\",\n",
    "    \"#A4E804\",\n",
    "    \"#324E72\",\n",
    "]"
   ]
  },
  {
   "cell_type": "code",
   "execution_count": 23,
   "id": "f92a8bf0",
   "metadata": {},
   "outputs": [],
   "source": [
    "def get_color(n=1, cmap:str='scanpy', seed:int=0):\n",
    "    r\"\"\"\n",
    "    Get color \n",
    "    \n",
    "    Parameters\n",
    "    ---------\n",
    "    n\n",
    "        number of colors you want\n",
    "    cmap\n",
    "        color map (use same with scanpy)\n",
    "    seed\n",
    "        random seed to duplicate\n",
    "    \"\"\"\n",
    "    if cmap == 'scanpy' and n <= 10:\n",
    "        step = 10 // n\n",
    "        return vega_10_scanpy[::step][:n]\n",
    "    elif cmap == 'scanpy' and n <= 20 :\n",
    "        step = 20 // n\n",
    "        return vega_20_scanpy[::step][:n]\n",
    "    elif cmap == 'scanpy' and n <= 28:\n",
    "        step = 28 // n\n",
    "        return zeileis_28[::step][:n]\n",
    "    elif cmap == 'scanpy' and n <= 102:\n",
    "        step = 102 // n\n",
    "        return godsnot_102[::step][:n]\n",
    "    else:\n",
    "        print('WARNING: Using random color')\n",
    "        random.seed(seed)\n",
    "        if n==1:\n",
    "            return \"#\"+''.join([random.choice('0123456789ABCDEF') for j in range(6)])\n",
    "        elif n>1 :\n",
    "            return [\"#\"+''.join([random.choice('0123456789ABCDEF') for j in range(6)]) for i in range(n)]"
   ]
  },
  {
   "cell_type": "code",
   "execution_count": 24,
   "id": "6733f8a1",
   "metadata": {},
   "outputs": [],
   "source": [
    "adata = adata_concat\n",
    "\n",
    "Batch_list_r = Batch_list\n",
    "for it in range(len(section_ids)):\n",
    "    Batch_list_r[it].obsm['Graspot'] = adata[adata.obs['batch_name'] == section_ids[it]].obsm['Graspot']"
   ]
  },
  {
   "cell_type": "code",
   "execution_count": 20,
   "id": "1f95430d",
   "metadata": {},
   "outputs": [
    {
     "name": "stdout",
     "output_type": "stream",
     "text": [
      "dataset1: 7 cell types; dataset2: 7 cell types; \n",
      "                    Total :8 celltypes; Overlap: 6 cell types \n",
      "                    Not overlap :[['unknown', 'Layer_1']]\n",
      "Subsample 150 cell pairs from 2547\n"
     ]
    },
    {
     "data": {
      "image/png": "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